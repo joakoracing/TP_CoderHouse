{
 "cells": [
  {
   "attachments": {},
   "cell_type": "markdown",
   "id": "8393bcc3",
   "metadata": {},
   "source": [
    "TRABAJO PRACTICO PARA LA PLATAFORMA DE CODERHOUSE, EN EL QUE UTILIZO UN SET DE DATOS DE SINIESTROS VEHICULARES DE UNA CIUDAD PARA SACAR CONCLUSIONES, BASADAS EN GRÁFICOS Y PREDICCIONES, LOGRADAS CON LAS TÉCNICAS APRENDIDAS A LO LARGO DEL CURSO. \n",
    "\n",
    "EL LENGUAJE DE PROGRAMACIÓN UTILIZADO ES PYTHON Y LA LIBRERIA EN LA QUE SE BASA EL TRABAJO ES PANDAS."
   ]
  },
  {
   "attachments": {},
   "cell_type": "markdown",
   "id": "4e78b6a3",
   "metadata": {},
   "source": [
    "COMIENZA CARGA DE DATOS\n",
    "\n",
    "Cargo en primer lugar las librerias que usaré, luego cargo el set de datos elegido; este contiene datos de siniestros de tránsito en la Ciudad de Buenos Aires, entre los años 2015 y 2018. "
   ]
  },
  {
   "cell_type": "code",
   "execution_count": 1,
   "id": "0a5d3ee3",
   "metadata": {},
   "outputs": [],
   "source": [
    "import numpy as np\n",
    "import pandas as pd\n",
    "import scipy.sparse as sp\n",
    "from datetime import datetime\n",
    "\n",
    "import matplotlib.pyplot as plt\n",
    "import matplotlib.dates as mdates\n",
    "import matplotlib as mpl\n",
    "import seaborn as sns\n",
    "\n",
    "import xgboost as xgb\n",
    "from sklearn.ensemble import RandomForestClassifier\n",
    "from sklearn.linear_model import LinearRegression\n",
    "from sklearn.tree import DecisionTreeClassifier\n",
    "from sklearn.svm import SVC\n",
    "from sklearn.decomposition import PCA\n",
    "\n",
    "from sklearn.model_selection import train_test_split\n",
    "from sklearn.preprocessing import OneHotEncoder\n",
    "from sklearn.preprocessing import MinMaxScaler\n",
    "from sklearn.preprocessing import LabelEncoder\n",
    "from sklearn.metrics import precision_score, accuracy_score, f1_score\n",
    "\n",
    "from sklearn.model_selection import cross_val_score\n",
    "from sklearn.model_selection import GridSearchCV"
   ]
  },
  {
   "cell_type": "code",
   "execution_count": 2,
   "id": "56a62ec3",
   "metadata": {},
   "outputs": [
    {
     "name": "stderr",
     "output_type": "stream",
     "text": [
      "C:\\Users\\Seguridad\\AppData\\Local\\Temp\\ipykernel_16580\\1239150759.py:2: DtypeWarning: Columns (9) have mixed types. Specify dtype option on import or set low_memory=False.\n",
      "  sin_df = pd.read_csv(siniestros)\n"
     ]
    }
   ],
   "source": [
    "siniestros = 'victimas-siniestros.csv'\n",
    "sin_df = pd.read_csv(siniestros)"
   ]
  },
  {
   "attachments": {},
   "cell_type": "markdown",
   "id": "c6cc7c57",
   "metadata": {},
   "source": [
    "COMIENZA EL PROCESO DE EXPLORACIÓN Y LIMPIEZA DEL DATASET"
   ]
  },
  {
   "cell_type": "code",
   "execution_count": 3,
   "id": "47a39ca8",
   "metadata": {},
   "outputs": [
    {
     "data": {
      "text/html": [
       "<div>\n",
       "<style scoped>\n",
       "    .dataframe tbody tr th:only-of-type {\n",
       "        vertical-align: middle;\n",
       "    }\n",
       "\n",
       "    .dataframe tbody tr th {\n",
       "        vertical-align: top;\n",
       "    }\n",
       "\n",
       "    .dataframe thead th {\n",
       "        text-align: right;\n",
       "    }\n",
       "</style>\n",
       "<table border=\"1\" class=\"dataframe\">\n",
       "  <thead>\n",
       "    <tr style=\"text-align: right;\">\n",
       "      <th></th>\n",
       "      <th>causa</th>\n",
       "      <th>rol</th>\n",
       "      <th>tipo</th>\n",
       "      <th>sexo</th>\n",
       "      <th>edad</th>\n",
       "      <th>mes</th>\n",
       "      <th>periodo</th>\n",
       "      <th>fecha</th>\n",
       "      <th>hora</th>\n",
       "      <th>lugar_hecho</th>\n",
       "      <th>...</th>\n",
       "      <th>semestre</th>\n",
       "      <th>x</th>\n",
       "      <th>y</th>\n",
       "      <th>geom</th>\n",
       "      <th>cantidad_victimas</th>\n",
       "      <th>comuna</th>\n",
       "      <th>geom_3857</th>\n",
       "      <th>tipo_colision1</th>\n",
       "      <th>participantes_victimas</th>\n",
       "      <th>participantes_acusados</th>\n",
       "    </tr>\n",
       "  </thead>\n",
       "  <tbody>\n",
       "    <tr>\n",
       "      <th>15961</th>\n",
       "      <td>lesiones</td>\n",
       "      <td>conductor</td>\n",
       "      <td>moto</td>\n",
       "      <td>masculino</td>\n",
       "      <td>31.0</td>\n",
       "      <td>2.0</td>\n",
       "      <td>2018</td>\n",
       "      <td>2/16/2018</td>\n",
       "      <td>8:35:00</td>\n",
       "      <td>NaN</td>\n",
       "      <td>...</td>\n",
       "      <td>1</td>\n",
       "      <td>-58.400887</td>\n",
       "      <td>-34.619733</td>\n",
       "      <td>0101000020E610000017C62A4550334DC0086AEA69534F...</td>\n",
       "      <td>1</td>\n",
       "      <td>3.0</td>\n",
       "      <td>0101000020110F000022014141C9CC58C1BCE5E1DBE15F...</td>\n",
       "      <td>motovehiculo - vehiculo</td>\n",
       "      <td>moto</td>\n",
       "      <td>automovil</td>\n",
       "    </tr>\n",
       "    <tr>\n",
       "      <th>9434</th>\n",
       "      <td>lesiones</td>\n",
       "      <td>conductor</td>\n",
       "      <td>automovil</td>\n",
       "      <td>femenino</td>\n",
       "      <td>60.0</td>\n",
       "      <td>7.0</td>\n",
       "      <td>2015</td>\n",
       "      <td>7/13/2015</td>\n",
       "      <td>14:50:00</td>\n",
       "      <td>11 de septiembre y ruiz huidobro</td>\n",
       "      <td>...</td>\n",
       "      <td>2</td>\n",
       "      <td>-58.464692</td>\n",
       "      <td>-34.541136</td>\n",
       "      <td>0101000020E6100000CD3FB80A7B3B4DC0A2F6B6F44345...</td>\n",
       "      <td>1</td>\n",
       "      <td>13.0</td>\n",
       "      <td>0101000020110F0000B5F3ACF2B8D358C101D2EF77204B...</td>\n",
       "      <td>vehiculo - vehiculo</td>\n",
       "      <td>automovil</td>\n",
       "      <td>camion</td>\n",
       "    </tr>\n",
       "    <tr>\n",
       "      <th>16598</th>\n",
       "      <td>homicidio</td>\n",
       "      <td>peaton</td>\n",
       "      <td>peaton</td>\n",
       "      <td>masculino</td>\n",
       "      <td>NaN</td>\n",
       "      <td>5.0</td>\n",
       "      <td>2015</td>\n",
       "      <td>5/14/2015</td>\n",
       "      <td>7:00:00</td>\n",
       "      <td>av juan de garay 1227</td>\n",
       "      <td>...</td>\n",
       "      <td>1</td>\n",
       "      <td>-58.383171</td>\n",
       "      <td>-34.626880</td>\n",
       "      <td>0101000020E61000008131B4BF0B314DC0A136569D3D50...</td>\n",
       "      <td>1</td>\n",
       "      <td>1.0</td>\n",
       "      <td>0101000020110F0000A4FCCA37DCCA58C1831BE948C561...</td>\n",
       "      <td>peaton - vehiculo</td>\n",
       "      <td>peaton</td>\n",
       "      <td>automovil</td>\n",
       "    </tr>\n",
       "  </tbody>\n",
       "</table>\n",
       "<p>3 rows × 29 columns</p>\n",
       "</div>"
      ],
      "text/plain": [
       "           causa        rol       tipo       sexo  edad  mes  periodo  \\\n",
       "15961   lesiones  conductor       moto  masculino  31.0  2.0     2018   \n",
       "9434    lesiones  conductor  automovil   femenino  60.0  7.0     2015   \n",
       "16598  homicidio     peaton     peaton  masculino   NaN  5.0     2015   \n",
       "\n",
       "           fecha      hora                       lugar_hecho  ... semestre  \\\n",
       "15961  2/16/2018   8:35:00                               NaN  ...        1   \n",
       "9434   7/13/2015  14:50:00  11 de septiembre y ruiz huidobro  ...        2   \n",
       "16598  5/14/2015   7:00:00             av juan de garay 1227  ...        1   \n",
       "\n",
       "               x          y  \\\n",
       "15961 -58.400887 -34.619733   \n",
       "9434  -58.464692 -34.541136   \n",
       "16598 -58.383171 -34.626880   \n",
       "\n",
       "                                                    geom  cantidad_victimas  \\\n",
       "15961  0101000020E610000017C62A4550334DC0086AEA69534F...                  1   \n",
       "9434   0101000020E6100000CD3FB80A7B3B4DC0A2F6B6F44345...                  1   \n",
       "16598  0101000020E61000008131B4BF0B314DC0A136569D3D50...                  1   \n",
       "\n",
       "      comuna                                          geom_3857  \\\n",
       "15961    3.0  0101000020110F000022014141C9CC58C1BCE5E1DBE15F...   \n",
       "9434    13.0  0101000020110F0000B5F3ACF2B8D358C101D2EF77204B...   \n",
       "16598    1.0  0101000020110F0000A4FCCA37DCCA58C1831BE948C561...   \n",
       "\n",
       "                tipo_colision1 participantes_victimas  participantes_acusados  \n",
       "15961  motovehiculo - vehiculo                   moto               automovil  \n",
       "9434       vehiculo - vehiculo              automovil                  camion  \n",
       "16598        peaton - vehiculo                 peaton               automovil  \n",
       "\n",
       "[3 rows x 29 columns]"
      ]
     },
     "execution_count": 3,
     "metadata": {},
     "output_type": "execute_result"
    }
   ],
   "source": [
    "sin_df.sample(3)"
   ]
  },
  {
   "cell_type": "code",
   "execution_count": 4,
   "id": "b4ddd29f",
   "metadata": {},
   "outputs": [
    {
     "name": "stdout",
     "output_type": "stream",
     "text": [
      "<class 'pandas.core.frame.DataFrame'>\n",
      "RangeIndex: 33234 entries, 0 to 33233\n",
      "Data columns (total 29 columns):\n",
      " #   Column                        Non-Null Count  Dtype  \n",
      "---  ------                        --------------  -----  \n",
      " 0   causa                         33234 non-null  object \n",
      " 1   rol                           32899 non-null  object \n",
      " 2   tipo                          32134 non-null  object \n",
      " 3   sexo                          33037 non-null  object \n",
      " 4   edad                          32675 non-null  float64\n",
      " 5   mes                           33197 non-null  float64\n",
      " 6   periodo                       33234 non-null  int64  \n",
      " 7   fecha                         33173 non-null  object \n",
      " 8   hora                          33217 non-null  object \n",
      " 9   lugar_hecho                   29518 non-null  object \n",
      " 10  direccion_normalizada         32469 non-null  object \n",
      " 11  tipo_calle                    33234 non-null  object \n",
      " 12  direccion_normalizada_arcgis  32462 non-null  object \n",
      " 13  calle1                        32469 non-null  object \n",
      " 14  altura                        7111 non-null   float64\n",
      " 15  calle2                        24987 non-null  object \n",
      " 16  codigo_calle                  23944 non-null  float64\n",
      " 17  codigo_cruce                  20709 non-null  float64\n",
      " 18  geocodificacion               32139 non-null  object \n",
      " 19  semestre                      33234 non-null  int64  \n",
      " 20  x                             32139 non-null  float64\n",
      " 21  y                             32139 non-null  float64\n",
      " 22  geom                          32139 non-null  object \n",
      " 23  cantidad_victimas             33234 non-null  int64  \n",
      " 24  comuna                        32136 non-null  float64\n",
      " 25  geom_3857                     32139 non-null  object \n",
      " 26  tipo_colision1                31891 non-null  object \n",
      " 27  participantes_victimas        32103 non-null  object \n",
      " 28  participantes_acusados        32557 non-null  object \n",
      "dtypes: float64(8), int64(3), object(18)\n",
      "memory usage: 7.4+ MB\n"
     ]
    }
   ],
   "source": [
    "sin_df.info()"
   ]
  },
  {
   "attachments": {},
   "cell_type": "markdown",
   "id": "11d38026",
   "metadata": {},
   "source": [
    "EN PRIMERA INSTANCIA DE LA EXPLORACION, VOY A ESTABLECER UN OBJETIVO GENERAL:\n",
    "\n",
    "QUIERO MINIMIZAR LA CANTIDAD DE ACCIDENTES DE AUTOS, MOTOS Y BICICLETAS (en este ejemplo me contrataría gobierno de la Ciudad de Buenos Aires). PARA ESTO HABRIA QUE TOMAR MEDIDAS DE TODO TIPO, COMO CONTROLES POLICIALES, CARTELES PREVENTIVOS, ARREGLOS DE CALLE, CAMARAS-MULTA, ETC.\n",
    "\n",
    "ES IMPORTANTE, EN ESTE PUNTO, IDENTIFICAR QUE VARIABLE PUEDO PREDECIR (O QUE VARIABLE PUEDO CREAR PARA PREDECIR) TENIENDO EN CUENTA LA INFORMACIÓN QUE TENGO DISPONIBLE PARA ESTE FIN. ME GUSTARÍA PODER PREDECIR EL TIPO DE CHOQUE POR EJEMPLO, PERO CON LA INFORMACIÓN DISPONIBLE NO ES POSIBLE OBTENER BUENOS RESULTADOS EN ESTE ESTUDIO. \n",
    "\n",
    "TENDIENDO EN CUENTA ESTO, VOY A ENCARAR EL ESTUDIO CON EL SIGUIENTE NORTE: \n",
    "\n",
    "- VOY A PREDECIR EL TIPO DE CALLE EN EL QUE SE PRODUCE UN ACCIDENTE, ESTE PUEDE SER 'calle', 'avenida' o 'autopista'. ES UN DATO IMPORTANTE PARA LA PLANIFICACIÓN DE CIERTAS MEDIDAS, COMO POR EJEMPLO CARTELES PREVENTIVOS EN LAS AVENIDAS, CONTROLES EN AUTOPISTAS, ETC.\n",
    "\n",
    "- VOY A CREAR UNA COLUMNA QUE SEA SI EL SINIESTRO ES DE DIA O DE NOCHE, PARA LUEGO PREDECIR CUANDO SUCEDE CIERTO TIPO DE SINIESTRO, SE PUEDE UTILIZAR PARA LA TOMA DE DECISIONES SOBRE CUANDO PONER UN CONTROL POLICIAL EN ALGUNA CALLE (por ejemplo, si en palermo hay muchos choques a la noche, el control policial podría ponerlo en ese rango horario para que los autos bajen la velocidad).\n",
    "\n",
    "- VOY A CREAR UNA COLUMNA LLAMADA 'finde' E INTENTARÉ PREDECIR SU VALOR, HABIENDO ELIMINADO LAS COLUMNAS QUE TENGAN INFORMACIÓN SOBRE LA FECHA. ESTO ES IMPORTANTE EN EL CASO QUE HAYA CIERTAS CALLES QUE SEAN MAS PELIGROSAS EN EL FIN DE SEMANA. \n",
    "\n",
    "\n",
    "FINALMENTE, COMPARARÉ LOS MODELOS UTILIZADOS PARA PREDECIR EL TIPO DE CALLE EN EL QUE SE PRODUJO EL SINIESTRO Y ELEGIRÉ EL QUE MEJOR RESULTADO DÉ.\n",
    "\n",
    "-------------------------------------------------------------------------------------------------------------------------------"
   ]
  },
  {
   "attachments": {},
   "cell_type": "markdown",
   "id": "338edc03",
   "metadata": {},
   "source": [
    "CON ESTE OBJETIVO EN MENTE, VOY A ELEGIR QUE COLUMNAS SON LAS QUE MAS INFORMACION PUEDEN APORTAR Y CUALES SON LAS QUE TIENEN INFORMACION REDUNDANTE.\n",
    "\n",
    "EN UNA PRIMERA IMPRESION, ASUMO QUE LAS COLUMNAS MAS IMPORTANTES SON:\n",
    "\n",
    "- causa\n",
    "- rol\n",
    "- tipo\n",
    "- sexo\n",
    "- edad\n",
    "- fecha\n",
    "- hora\n",
    "- tipo_calle\n",
    "- calle1\n",
    "- calle2\n",
    "- x\n",
    "- y\n",
    "- cantidad_victimas\n",
    "- comuna\n",
    "- participantes_victimas\n",
    "- participantes_acusados\n",
    "\n",
    "EL RESTO DE COLUMAS CONTIENEN INFORMACION QUE APARECE EN ESTAS COLUMNAS SELECCIONADAS, PERO EN OTRO FORMATO.\n",
    "\n",
    "PROCEDO A QUEDARME SOLO CON LAS COLUMNAS ELEGIDAS, REVISO LOS DATOS NULOS Y LOS ESTUDIO EN UN GRAFICO PARA BUSCAR PATRONES EN ELLOS."
   ]
  },
  {
   "cell_type": "code",
   "execution_count": 5,
   "id": "a40136ac",
   "metadata": {},
   "outputs": [
    {
     "data": {
      "text/plain": [
       "causa                        0\n",
       "rol                        335\n",
       "tipo                      1100\n",
       "sexo                       197\n",
       "edad                       559\n",
       "fecha                       61\n",
       "hora                        17\n",
       "tipo_calle                   0\n",
       "calle1                     765\n",
       "calle2                    8247\n",
       "x                         1095\n",
       "y                         1095\n",
       "cantidad_victimas            0\n",
       "comuna                    1098\n",
       "tipo_colision1            1343\n",
       "participantes_acusados     677\n",
       "participantes_victimas    1131\n",
       "dtype: int64"
      ]
     },
     "execution_count": 5,
     "metadata": {},
     "output_type": "execute_result"
    }
   ],
   "source": [
    "sin_df = sin_df[['causa','rol','tipo','sexo','edad','fecha','hora','tipo_calle','calle1','calle2','x','y','cantidad_victimas','comuna','tipo_colision1','participantes_acusados','participantes_victimas']]\n",
    "sin_df.isnull().sum()"
   ]
  },
  {
   "cell_type": "code",
   "execution_count": 6,
   "id": "6dae06a6",
   "metadata": {},
   "outputs": [
    {
     "data": {
      "text/plain": [
       "<AxesSubplot:>"
      ]
     },
     "execution_count": 6,
     "metadata": {},
     "output_type": "execute_result"
    },
    {
     "data": {
      "image/png": "[encoded data removed]",
      "text/plain": [
       "<Figure size 640x480 with 2 Axes>"
      ]
     },
     "metadata": {},
     "output_type": "display_data"
    }
   ],
   "source": [
    "sns.heatmap(sin_df[['causa','rol','tipo','sexo','edad','fecha','hora','tipo_calle','calle1','calle2','x','y','cantidad_victimas','comuna','tipo_colision1','participantes_acusados','participantes_victimas']].isnull())"
   ]
  },
  {
   "attachments": {},
   "cell_type": "markdown",
   "id": "349e06dd",
   "metadata": {},
   "source": [
    "BORRO LAS FILAS QUE TIENEN EL CAMPO FECHA Y HORA VACIOS, PORQUE SON MUY POCOS DATOS QUE PIERDO."
   ]
  },
  {
   "cell_type": "code",
   "execution_count": 7,
   "id": "ab2f4da8",
   "metadata": {},
   "outputs": [
    {
     "data": {
      "text/plain": [
       "fecha    0\n",
       "hora     0\n",
       "dtype: int64"
      ]
     },
     "execution_count": 7,
     "metadata": {},
     "output_type": "execute_result"
    }
   ],
   "source": [
    "sin_df.dropna(subset=['fecha','hora'],inplace=True)\n",
    "sin_df[['fecha','hora']].isnull().sum()"
   ]
  },
  {
   "attachments": {},
   "cell_type": "markdown",
   "id": "10e15e6a",
   "metadata": {},
   "source": [
    "AHORA VOY A RELLENAR LOS CAMPOS CON VALOR NULO"
   ]
  },
  {
   "cell_type": "code",
   "execution_count": 8,
   "id": "dd08aa37",
   "metadata": {},
   "outputs": [],
   "source": [
    "sin_df['rol'].fillna('sin_data',inplace=True)\n",
    "sin_df['sexo'].fillna('sin_data',inplace=True)\n",
    "sin_df['calle1'].fillna('sin_data',inplace=True)\n",
    "sin_df['calle2'].fillna('sin_data',inplace=True)\n",
    "sin_df['x'].fillna(-1,inplace=True)\n",
    "sin_df['y'].fillna(-1,inplace=True)\n",
    "sin_df['edad'].fillna(sin_df.edad.mean(),inplace=True)\n",
    "sin_df['comuna'].fillna(0,inplace=True)"
   ]
  },
  {
   "cell_type": "code",
   "execution_count": 9,
   "id": "89b1f082",
   "metadata": {},
   "outputs": [],
   "source": [
    "sin_df['tipo'].fillna('sin_data',inplace=True)\n",
    "sin_df['tipo_colision1'].fillna('sin_data',inplace=True)\n",
    "sin_df['participantes_acusados'].fillna('sin_data',inplace=True)\n",
    "sin_df['participantes_victimas'].fillna('sin_data',inplace=True)"
   ]
  },
  {
   "attachments": {},
   "cell_type": "markdown",
   "metadata": {},
   "source": [
    "AHORA VOY A SIMPLIFICAR LAS COLUMNAS 'tipo' Y 'tipo_colision1' PARA QUE SEAN UTILIZABLES POR UN ALGORITMO."
   ]
  },
  {
   "cell_type": "code",
   "execution_count": 10,
   "id": "85da58d5",
   "metadata": {},
   "outputs": [],
   "source": [
    "def simplificar_tipocol(tipo):\n",
    "\n",
    "    if '-' in tipo:\n",
    "        ac, vi = tipo.split('-')\n",
    "    else:\n",
    "        return tipo\n",
    "    \n",
    "    if tipo == 'vehiculo - motovehiculo' or tipo == 'motovehiculo - vehiculo':\n",
    "        return 'motovehiculo - vehiculo'\n",
    "    elif 'peaton' in tipo:\n",
    "        return 'peaton - vehiculo'\n",
    "    elif 'bicicleta' in tipo:\n",
    "        return 'bicicleta - vehiculo'\n",
    "    elif tipo == 'traccion a sangre - vehiculo' or tipo == 'motovehiculo - traccion a sangre' or tipo == 'motovehiculo - tren' or tipo == 'subte - vehiculo':\n",
    "        return 'sin_data'\n",
    "    else:\n",
    "        return tipo\n",
    "\n",
    "def simplificar_tipo(tipo):\n",
    "    \n",
    "    if tipo == 'auto pfa / movil / gendarmeria / metropolitana / moto movil' or tipo == 'vehiculo oficial':\n",
    "        st = 'fuerza seguridad'\n",
    "    elif tipo == 'transporte de cargas / grua' or tipo == 'utilitario':\n",
    "        st = 'camion'\n",
    "    elif tipo == 'transporte escolar' or tipo == 'omnibus / minibus':\n",
    "        st = 'transporte_publico'\n",
    "    elif tipo == 'ambulancia':\n",
    "        st = 'camion'\n",
    "    elif tipo == 'traccion a sangre' or tipo == 'autobomba' or tipo == 'patineta' or tipo == 'cuatriciclo' or tipo == 'tren / subte' or tipo == 'tren / subte / tranvia' or tipo == 'vehiculo rural' or tipo == 'otros':\n",
    "        st = 'sin_data'\n",
    "    else:\n",
    "        return tipo\n",
    "    return st"
   ]
  },
  {
   "cell_type": "code",
   "execution_count": 11,
   "id": "59eac8c3",
   "metadata": {
    "scrolled": true
   },
   "outputs": [],
   "source": [
    "sin_df['tipo'] = sin_df['tipo'].apply(simplificar_tipo)#.astype('|S80')\n",
    "\n",
    "sin_df['tipo_colision1'] = sin_df['tipo_colision1'].apply(simplificar_tipocol)#.astype('|S80')"
   ]
  },
  {
   "cell_type": "code",
   "execution_count": 12,
   "id": "bccc006b",
   "metadata": {},
   "outputs": [],
   "source": [
    "def simplificar_acusado(ac):    \n",
    "    if ('moto' in ac):\n",
    "        return 'motovehiculo'\n",
    "    elif ('auto' in ac):\n",
    "        return 'automovil'\n",
    "    elif (('rural' in ac) | ('camion' in ac) | ('utilitario' in ac)):\n",
    "        return 'camion'\n",
    "    elif ('peaton' in ac) | ('patineta' in ac):\n",
    "        return 'peaton'\n",
    "    elif ('bici' in ac):\n",
    "        return 'peaton'\n",
    "    elif (('taxi' in ac) | ('remis' in ac) | ('bus' in ac) | ('publico' in ac)):\n",
    "        return 'transporte_publico'\n",
    "    elif (('transporte' in ac) | ('ambulancia' in ac) | ('fuerza' in ac) | ('tren' in ac) | ('tranvia' in ac) | ('oficial' in ac)):\n",
    "        return 'transporte_publico'\n",
    "    else:\n",
    "        return 'sin_data'"
   ]
  },
  {
   "cell_type": "code",
   "execution_count": 13,
   "id": "82c9e86a",
   "metadata": {},
   "outputs": [
    {
     "data": {
      "text/plain": [
       "automovil             19132\n",
       "transporte_publico     6374\n",
       "motovehiculo           3733\n",
       "camion                 2880\n",
       "sin_data                759\n",
       "peaton                  284\n",
       "Name: participantes_acusados, dtype: int64"
      ]
     },
     "execution_count": 13,
     "metadata": {},
     "output_type": "execute_result"
    }
   ],
   "source": [
    "sin_df.participantes_acusados = sin_df.participantes_acusados.apply(simplificar_acusado)\n",
    "sin_df.participantes_acusados.value_counts()"
   ]
  },
  {
   "attachments": {},
   "cell_type": "markdown",
   "id": "eb417d14",
   "metadata": {},
   "source": [
    "DEBERIA RELLENAR LOS NULOS DE 'tipo' CON INFORMACION DE OTRAS COLUMNAS PARA MEJORAR LA CALIDAD DE LA INFORMACION"
   ]
  },
  {
   "cell_type": "code",
   "execution_count": 14,
   "id": "5d72ad92",
   "metadata": {},
   "outputs": [],
   "source": [
    "#sin_df.loc[sin_df.tipo == 'sin_data','tipo'] = (sin_df.participantes_acusados)\n",
    "\n",
    "#sin_df.loc[sin_df.participantes_acusados == 'sin_data','participantes_acusados'] = (sin_df.tipo)\n",
    "\n",
    "#sin_df.loc[sin_df.tipo_colision1 == 'sin_data','tipo_colision1'] = (sin_df.participantes_acusados + ' - ' +sin_df.participantes_victimas)"
   ]
  },
  {
   "attachments": {},
   "cell_type": "markdown",
   "id": "12ace9db",
   "metadata": {},
   "source": [
    "CATEGORIZO LA COLUMNA \"rol\", QUE ME PARECE UN DATO IMPORTANTE"
   ]
  },
  {
   "cell_type": "code",
   "execution_count": 15,
   "id": "4cede0dd",
   "metadata": {},
   "outputs": [],
   "source": [
    "def simplificar_rol(rol):\n",
    "    \n",
    "    if 'peaton' in rol:\n",
    "        return 'peaton'\n",
    "    elif 'ciclista' in rol:\n",
    "        return 'ciclista'\n",
    "    elif 'pasajero' in rol:\n",
    "        return 'pasajero'\n",
    "    else:\n",
    "        return rol"
   ]
  },
  {
   "cell_type": "code",
   "execution_count": 16,
   "id": "87d4cdee",
   "metadata": {},
   "outputs": [
    {
     "data": {
      "text/plain": [
       "conductor    17606\n",
       "peaton        7842\n",
       "pasajero      5493\n",
       "ciclista      1889\n",
       "sin_data       332\n",
       "Name: rol, dtype: int64"
      ]
     },
     "execution_count": 16,
     "metadata": {},
     "output_type": "execute_result"
    }
   ],
   "source": [
    "sin_df['rol'] = sin_df['rol'].apply(simplificar_rol)\n",
    "sin_df.rol.value_counts()"
   ]
  },
  {
   "attachments": {},
   "cell_type": "markdown",
   "id": "69d6bd05",
   "metadata": {},
   "source": [
    "EN LOS SIGUIENTES CASILLEROS VOY A LIMPIAR Y NORMALIZAR COLUMNAS (Lo puedo hacer luego con label encoder, pero decido hacerlo manual en este paso para tener control del valor que le asigno a cada dato)"
   ]
  },
  {
   "cell_type": "code",
   "execution_count": 17,
   "id": "0e3563ac",
   "metadata": {},
   "outputs": [
    {
     "data": {
      "text/plain": [
       "tipo_calle\n",
       "1    21355\n",
       "2    11659\n",
       "0      148\n",
       "dtype: int64"
      ]
     },
     "execution_count": 17,
     "metadata": {},
     "output_type": "execute_result"
    }
   ],
   "source": [
    "def normalizar_causa(causa):\n",
    "    if causa == 'lesiones':\n",
    "        return 0\n",
    "    elif causa == 'homicidio':\n",
    "        return 1\n",
    "    else:\n",
    "        return -1\n",
    "\n",
    "\n",
    "def normalizar_sexo(sexo):\n",
    "    if sexo == 'masculino':\n",
    "        return 0\n",
    "    elif sexo == 'femenino':\n",
    "        return 1\n",
    "    else:\n",
    "        return -1\n",
    "    \n",
    "def normalizar_tipo_calle(calle):\n",
    "    if calle == 'autopista':\n",
    "        return 0\n",
    "    elif calle == 'avenida':\n",
    "        return 1\n",
    "    elif calle == 'calle':\n",
    "        return 2\n",
    "    else:\n",
    "        return -1\n",
    "    \n",
    "sin_df['sexo'] = sin_df['sexo'].apply(normalizar_sexo)\n",
    "sin_df['causa'] = sin_df['causa'].apply(normalizar_causa)\n",
    "sin_df['tipo_calle'] = sin_df['tipo_calle'].apply(normalizar_tipo_calle)\n",
    "sin_df.value_counts('tipo_calle')\n",
    "\n",
    "# masculino -> 0\n",
    "# femenino -> 1\n",
    "# sin data -> -1\n",
    "\n",
    "# lesiones -> 0\n",
    "# muerte -> 1"
   ]
  },
  {
   "cell_type": "code",
   "execution_count": 18,
   "id": "997ac435",
   "metadata": {},
   "outputs": [
    {
     "data": {
      "text/plain": [
       "rango_edad\n",
       "2    19208\n",
       "3     7427\n",
       "4     3595\n",
       "1     2932\n",
       "dtype: int64"
      ]
     },
     "execution_count": 18,
     "metadata": {},
     "output_type": "execute_result"
    }
   ],
   "source": [
    "def edades(edad):\n",
    "    rango = 0\n",
    "    \n",
    "    if (edad<20):\n",
    "        rango=1\n",
    "    elif (edad<40):\n",
    "        rango=2\n",
    "    elif (edad<60):\n",
    "        rango=3\n",
    "    else:\n",
    "        rango=4\n",
    "    return rango\n",
    "\n",
    "sin_df['rango_edad'] = sin_df['edad'].apply(edades)\n",
    "sin_df.value_counts('rango_edad')"
   ]
  },
  {
   "attachments": {},
   "cell_type": "markdown",
   "id": "f32e6f66",
   "metadata": {},
   "source": [
    "LE DOY UN FORMATO DESEADO A LA HORA Y FECHA"
   ]
  },
  {
   "cell_type": "code",
   "execution_count": 19,
   "id": "97b12590",
   "metadata": {},
   "outputs": [
    {
     "data": {
      "text/plain": [
       "hora\n",
       "18    2215\n",
       "13    2186\n",
       "14    2115\n",
       "17    2106\n",
       "12    2029\n",
       "dtype: int64"
      ]
     },
     "execution_count": 19,
     "metadata": {},
     "output_type": "execute_result"
    }
   ],
   "source": [
    "def extraer_hora(hora):\n",
    "    return hora.hour\n",
    "\n",
    "sin_df['hora'] = pd.to_datetime(sin_df['hora']).apply(extraer_hora)\n",
    "sin_df['hora'] = sin_df['hora'].astype(int)\n",
    "sin_df.value_counts('hora').head()"
   ]
  },
  {
   "cell_type": "code",
   "execution_count": 20,
   "id": "04f6c269",
   "metadata": {},
   "outputs": [],
   "source": [
    "def crear_fecha(fecha):\n",
    "\n",
    "    if \"/\" in fecha:\n",
    "        fecha = fecha.split(\"/\")\n",
    "        fecha[0] = int(fecha[0])\n",
    "        fecha[1] = int(fecha[1])\n",
    "        fecha[2] = int(fecha[2])\n",
    "        aux = fecha[1]\n",
    "        fecha[1] = fecha[0]\n",
    "        fecha[0] = aux\n",
    "        return fecha\n",
    "    \n",
    "    elif \"-\" in fecha:\n",
    "        fecha = fecha.split(\"-\")\n",
    "        fecha[0] = int(fecha[0])\n",
    "        fecha[1] = int(fecha[1])\n",
    "        fecha[2] = int(fecha[2])\n",
    "        fecha[2] = 2000 + fecha[2]\n",
    "        return fecha\n",
    "\n",
    "\n",
    "def dia(d):\n",
    "    return d[0]\n",
    "\n",
    "def mes(d):\n",
    "    return d[1]\n",
    "\n",
    "def anio(d):\n",
    "    return d[2]"
   ]
  },
  {
   "cell_type": "code",
   "execution_count": 21,
   "id": "2f30f74a",
   "metadata": {},
   "outputs": [
    {
     "data": {
      "text/plain": [
       "2    13977\n",
       "1    13411\n",
       "0     5774\n",
       "Name: rango_horario, dtype: int64"
      ]
     },
     "execution_count": 21,
     "metadata": {},
     "output_type": "execute_result"
    }
   ],
   "source": [
    "sin_df['rango_horario'] = sin_df.hora.apply(lambda x: \n",
    "                                            0 if (x < 5)\n",
    "                                            else 1 if (x < 14)\n",
    "                                            else 2 if (x < 21)\n",
    "                                            else 0)\n",
    "\n",
    "sin_df.rango_horario.value_counts()\n",
    "\n",
    "# 0 -> Noche y Madrugada\n",
    "# 1 -> Mañana\n",
    "# 2 -> Tarde"
   ]
  },
  {
   "cell_type": "code",
   "execution_count": 22,
   "id": "b0743427",
   "metadata": {},
   "outputs": [],
   "source": [
    "#sin_df = sin_df.dropna(subset='fecha')\n",
    "sin_df['fecha_norm'] = sin_df['fecha'].apply(crear_fecha)\n",
    "\n",
    "sin_df['d'] = sin_df['fecha_norm'].apply(dia)\n",
    "sin_df['m'] = sin_df['fecha_norm'].apply(mes)\n",
    "sin_df['a'] = sin_df['fecha_norm'].apply(anio)"
   ]
  },
  {
   "cell_type": "code",
   "execution_count": 23,
   "id": "eed28a14",
   "metadata": {},
   "outputs": [
    {
     "name": "stdout",
     "output_type": "stream",
     "text": [
      "<class 'pandas.core.frame.DataFrame'>\n",
      "Int64Index: 33162 entries, 0 to 33232\n",
      "Data columns (total 23 columns):\n",
      " #   Column                  Non-Null Count  Dtype  \n",
      "---  ------                  --------------  -----  \n",
      " 0   causa                   33162 non-null  int32  \n",
      " 1   rol                     33162 non-null  object \n",
      " 2   tipo                    33162 non-null  object \n",
      " 3   sexo                    33162 non-null  int32  \n",
      " 4   edad                    33162 non-null  int32  \n",
      " 5   fecha                   33162 non-null  object \n",
      " 6   tipo_calle              33162 non-null  int32  \n",
      " 7   calle1                  33162 non-null  object \n",
      " 8   calle2                  33162 non-null  object \n",
      " 9   x                       33162 non-null  float64\n",
      " 10  y                       33162 non-null  float64\n",
      " 11  cantidad_victimas       33162 non-null  int32  \n",
      " 12  comuna                  33162 non-null  int32  \n",
      " 13  tipo_colision1          33162 non-null  object \n",
      " 14  participantes_acusados  33162 non-null  object \n",
      " 15  participantes_victimas  33162 non-null  object \n",
      " 16  rango_edad              33162 non-null  int32  \n",
      " 17  rango_horario           33162 non-null  int32  \n",
      " 18  fecha_norm              33162 non-null  object \n",
      " 19  d                       33162 non-null  int32  \n",
      " 20  m                       33162 non-null  int32  \n",
      " 21  a                       33162 non-null  int32  \n",
      " 22  h                       33162 non-null  int32  \n",
      "dtypes: float64(2), int32(12), object(9)\n",
      "memory usage: 4.6+ MB\n"
     ]
    }
   ],
   "source": [
    "sin_df['causa'] = sin_df['causa'].astype(int)\n",
    "sin_df['sexo'] = sin_df['sexo'].astype(int)\n",
    "sin_df['edad'] = sin_df['edad'].astype(int)\n",
    "sin_df['tipo_calle'] = sin_df['tipo_calle'].astype(int)\n",
    "sin_df['cantidad_victimas'] = sin_df['cantidad_victimas'].astype(int)\n",
    "sin_df['comuna'] = sin_df['comuna'].astype(int)\n",
    "sin_df['rango_edad'] = sin_df['rango_edad'].astype(int)\n",
    "sin_df['rango_horario'] = sin_df['rango_horario'].astype(int)\n",
    "sin_df['d'] = sin_df['d'].astype(int)\n",
    "sin_df['m'] = sin_df['m'].astype(int)\n",
    "sin_df['a'] = sin_df['a'].astype(int)\n",
    "sin_df['h'] = sin_df['hora']\n",
    "sin_df.drop(columns='hora',inplace=True)\n",
    " \n",
    "sin_df.info()\n"
   ]
  },
  {
   "attachments": {},
   "cell_type": "markdown",
   "id": "ce40d9ad",
   "metadata": {},
   "source": [
    "FINALIZA EL PROCESO DE LIMPIEZA\n",
    "\n",
    "-------------------------------------------------------------------------------------------------------------------------"
   ]
  },
  {
   "attachments": {},
   "cell_type": "markdown",
   "id": "508f5e79",
   "metadata": {},
   "source": [
    "COMIENZA AGREGACIÓN DE DATOS"
   ]
  },
  {
   "attachments": {},
   "cell_type": "markdown",
   "id": "0c3f61a1",
   "metadata": {},
   "source": [
    "UTILIZARE UN SET DE DATOS OBTENIDO DE LA PAGINA DE LA NASA, CON INFORMACIÓN DEL CLIMA EN CABA POR HORA (entre 2015 y 2018), PARA COMBINAR CON MI DATASET UTILIZANDO LA FUNCIÓN MERGE"
   ]
  },
  {
   "cell_type": "code",
   "execution_count": 24,
   "id": "a49014c7",
   "metadata": {},
   "outputs": [],
   "source": [
    "clima = 'clima_caba.csv'\n",
    "clima_df = pd.read_csv(clima)\n",
    "clima_df.rename(columns={'viento;;;;;;':'viento'}, inplace=True)\n",
    "\n",
    "#NO SE PORQUE AGREGA LA COLUMNA VIENTO CON ESE NOMBRE, PARA NO PERDER TIEMPO LA CORRIJO MANUALMENTE"
   ]
  },
  {
   "cell_type": "code",
   "execution_count": 25,
   "id": "baf14945",
   "metadata": {},
   "outputs": [
    {
     "data": {
      "text/html": [
       "<div>\n",
       "<style scoped>\n",
       "    .dataframe tbody tr th:only-of-type {\n",
       "        vertical-align: middle;\n",
       "    }\n",
       "\n",
       "    .dataframe tbody tr th {\n",
       "        vertical-align: top;\n",
       "    }\n",
       "\n",
       "    .dataframe thead th {\n",
       "        text-align: right;\n",
       "    }\n",
       "</style>\n",
       "<table border=\"1\" class=\"dataframe\">\n",
       "  <thead>\n",
       "    <tr style=\"text-align: right;\">\n",
       "      <th></th>\n",
       "      <th>causa</th>\n",
       "      <th>rol</th>\n",
       "      <th>tipo</th>\n",
       "      <th>sexo</th>\n",
       "      <th>edad</th>\n",
       "      <th>fecha</th>\n",
       "      <th>tipo_calle</th>\n",
       "      <th>calle1</th>\n",
       "      <th>calle2</th>\n",
       "      <th>x</th>\n",
       "      <th>...</th>\n",
       "      <th>rango_horario</th>\n",
       "      <th>fecha_norm</th>\n",
       "      <th>d</th>\n",
       "      <th>m</th>\n",
       "      <th>a</th>\n",
       "      <th>h</th>\n",
       "      <th>temp</th>\n",
       "      <th>hum</th>\n",
       "      <th>precip</th>\n",
       "      <th>viento</th>\n",
       "    </tr>\n",
       "  </thead>\n",
       "  <tbody>\n",
       "    <tr>\n",
       "      <th>19523</th>\n",
       "      <td>0</td>\n",
       "      <td>ciclista</td>\n",
       "      <td>bicicleta</td>\n",
       "      <td>0</td>\n",
       "      <td>6</td>\n",
       "      <td>2/13/2016</td>\n",
       "      <td>2</td>\n",
       "      <td>rondeau</td>\n",
       "      <td>sin_data</td>\n",
       "      <td>-58.414462</td>\n",
       "      <td>...</td>\n",
       "      <td>2</td>\n",
       "      <td>[13, 2, 2016]</td>\n",
       "      <td>13</td>\n",
       "      <td>2</td>\n",
       "      <td>2016</td>\n",
       "      <td>20</td>\n",
       "      <td>26.05</td>\n",
       "      <td>67.00</td>\n",
       "      <td>0.00</td>\n",
       "      <td>6.90</td>\n",
       "    </tr>\n",
       "    <tr>\n",
       "      <th>19784</th>\n",
       "      <td>0</td>\n",
       "      <td>pasajero</td>\n",
       "      <td>transporte publico</td>\n",
       "      <td>1</td>\n",
       "      <td>85</td>\n",
       "      <td>3/21/2016</td>\n",
       "      <td>1</td>\n",
       "      <td>scalabrini ortiz, raul av.</td>\n",
       "      <td>camargo</td>\n",
       "      <td>-58.439957</td>\n",
       "      <td>...</td>\n",
       "      <td>1</td>\n",
       "      <td>[21, 3, 2016]</td>\n",
       "      <td>21</td>\n",
       "      <td>3</td>\n",
       "      <td>2016</td>\n",
       "      <td>9</td>\n",
       "      <td>19.84</td>\n",
       "      <td>71.69</td>\n",
       "      <td>0.05</td>\n",
       "      <td>4.17</td>\n",
       "    </tr>\n",
       "    <tr>\n",
       "      <th>6806</th>\n",
       "      <td>0</td>\n",
       "      <td>conductor</td>\n",
       "      <td>moto</td>\n",
       "      <td>0</td>\n",
       "      <td>41</td>\n",
       "      <td>11-08-17</td>\n",
       "      <td>1</td>\n",
       "      <td>varela av.</td>\n",
       "      <td>primera junta</td>\n",
       "      <td>-58.458553</td>\n",
       "      <td>...</td>\n",
       "      <td>2</td>\n",
       "      <td>[11, 8, 2017]</td>\n",
       "      <td>11</td>\n",
       "      <td>8</td>\n",
       "      <td>2017</td>\n",
       "      <td>19</td>\n",
       "      <td>16.36</td>\n",
       "      <td>96.56</td>\n",
       "      <td>0.24</td>\n",
       "      <td>4.23</td>\n",
       "    </tr>\n",
       "  </tbody>\n",
       "</table>\n",
       "<p>3 rows × 27 columns</p>\n",
       "</div>"
      ],
      "text/plain": [
       "       causa        rol                tipo  sexo  edad      fecha  \\\n",
       "19523      0   ciclista           bicicleta     0     6  2/13/2016   \n",
       "19784      0   pasajero  transporte publico     1    85  3/21/2016   \n",
       "6806       0  conductor                moto     0    41   11-08-17   \n",
       "\n",
       "       tipo_calle                      calle1         calle2          x  ...  \\\n",
       "19523           2                     rondeau       sin_data -58.414462  ...   \n",
       "19784           1  scalabrini ortiz, raul av.        camargo -58.439957  ...   \n",
       "6806            1                  varela av.  primera junta -58.458553  ...   \n",
       "\n",
       "       rango_horario     fecha_norm   d  m     a   h   temp    hum precip  \\\n",
       "19523              2  [13, 2, 2016]  13  2  2016  20  26.05  67.00   0.00   \n",
       "19784              1  [21, 3, 2016]  21  3  2016   9  19.84  71.69   0.05   \n",
       "6806               2  [11, 8, 2017]  11  8  2017  19  16.36  96.56   0.24   \n",
       "\n",
       "       viento  \n",
       "19523    6.90  \n",
       "19784    4.17  \n",
       "6806     4.23  \n",
       "\n",
       "[3 rows x 27 columns]"
      ]
     },
     "execution_count": 25,
     "metadata": {},
     "output_type": "execute_result"
    }
   ],
   "source": [
    "sin_df = sin_df.merge(clima_df,how='left',left_on=['d','m','a','h'],right_on=['d','m','a','h'])\n",
    "sin_df.sample(3)"
   ]
  },
  {
   "cell_type": "code",
   "execution_count": 26,
   "id": "1097ce3b",
   "metadata": {},
   "outputs": [
    {
     "data": {
      "text/plain": [
       "<AxesSubplot:>"
      ]
     },
     "execution_count": 26,
     "metadata": {},
     "output_type": "execute_result"
    },
    {
     "data": {
      "image/png": "[encoded data removed]",
      "text/plain": [
       "<Figure size 640x480 with 1 Axes>"
      ]
     },
     "metadata": {},
     "output_type": "display_data"
    }
   ],
   "source": [
    "sns.boxplot(sin_df[['temp','hum','viento']])"
   ]
  },
  {
   "attachments": {},
   "cell_type": "markdown",
   "id": "c360c440",
   "metadata": {},
   "source": [
    "Veo que en este caso los outliers no cambiaran en gran medida la normalización."
   ]
  },
  {
   "attachments": {},
   "cell_type": "markdown",
   "id": "a82a38be",
   "metadata": {},
   "source": [
    "Voy a categorizar las columnas viento y precip para que sean utilizables por los diferentes clasificadores, para eso reviso la distibución de la variable."
   ]
  },
  {
   "cell_type": "code",
   "execution_count": 27,
   "id": "6629e32a",
   "metadata": {},
   "outputs": [
    {
     "data": {
      "text/plain": [
       "0        9.80\n",
       "1        4.15\n",
       "2        8.10\n",
       "3        7.27\n",
       "4        3.19\n",
       "         ... \n",
       "33157    6.56\n",
       "33158    9.06\n",
       "33159    9.23\n",
       "33160    9.23\n",
       "33161    8.93\n",
       "Name: viento, Length: 33162, dtype: float64"
      ]
     },
     "execution_count": 27,
     "metadata": {},
     "output_type": "execute_result"
    }
   ],
   "source": [
    "sin_df.viento"
   ]
  },
  {
   "cell_type": "code",
   "execution_count": 28,
   "id": "59e9ad10",
   "metadata": {},
   "outputs": [
    {
     "data": {
      "text/plain": [
       "<AxesSubplot:ylabel='Frequency'>"
      ]
     },
     "execution_count": 28,
     "metadata": {},
     "output_type": "execute_result"
    },
    {
     "data": {
      "image/png": "[encoded data removed]",
      "text/plain": [
       "<Figure size 640x480 with 1 Axes>"
      ]
     },
     "metadata": {},
     "output_type": "display_data"
    }
   ],
   "source": [
    "sin_df.viento.plot(kind='hist')"
   ]
  },
  {
   "cell_type": "code",
   "execution_count": 29,
   "id": "5631464d",
   "metadata": {},
   "outputs": [
    {
     "data": {
      "text/plain": [
       "1    15352\n",
       "0     9329\n",
       "2     8481\n",
       "Name: viento, dtype: int64"
      ]
     },
     "execution_count": 29,
     "metadata": {},
     "output_type": "execute_result"
    }
   ],
   "source": [
    "vmod_mask = (sin_df.loc[(sin_df.viento >= 3.7) & (sin_df.viento <= 7)]).index\n",
    "vmin_mask = (sin_df.loc[(sin_df.viento < 3.7)]).index\n",
    "vmax_mask = (sin_df.loc[(sin_df.viento > 7)]).index\n",
    "\n",
    "\n",
    "sin_df.loc[vmin_mask, 'viento'] = 0\n",
    "sin_df.loc[vmod_mask, 'viento'] = 1\n",
    "sin_df.loc[vmax_mask, 'viento'] = 2\n",
    "\n",
    "sin_df.viento = sin_df.viento.astype(int)\n",
    "\n",
    "sin_df.viento.value_counts()"
   ]
  },
  {
   "cell_type": "code",
   "execution_count": 30,
   "id": "f4f7d69e",
   "metadata": {},
   "outputs": [
    {
     "data": {
      "text/plain": [
       "1    29798\n",
       "0     3364\n",
       "Name: precip, dtype: int64"
      ]
     },
     "execution_count": 30,
     "metadata": {},
     "output_type": "execute_result"
    }
   ],
   "source": [
    "p_mask = (sin_df.loc[(sin_df.precip >= 0.1)]).index\n",
    "no_p_mask = (sin_df.loc[(sin_df.precip < 0.1)]).index\n",
    "\n",
    "sin_df.loc[p_mask, 'precip'] = 0\n",
    "sin_df.loc[no_p_mask, 'precip'] = 1\n",
    "\n",
    "sin_df.precip = sin_df.precip.astype(int)\n",
    "\n",
    "sin_df.precip.value_counts()"
   ]
  },
  {
   "attachments": {},
   "cell_type": "markdown",
   "id": "6d596509",
   "metadata": {},
   "source": [
    "CREO UNA VARIABLE QUE CONTENGA INFORMACION DEL VIENTO Y LAS PRECIPITACIONES, esta indicaría la dificultad de manejo por condiciones climaticas"
   ]
  },
  {
   "cell_type": "code",
   "execution_count": 31,
   "id": "0eaee5c9",
   "metadata": {},
   "outputs": [],
   "source": [
    "sin_df['dif_clima'] = sin_df['viento'] + (2*sin_df['precip'])"
   ]
  },
  {
   "attachments": {},
   "cell_type": "markdown",
   "id": "77118cc2",
   "metadata": {},
   "source": [
    "AHORA VOY A CREAR UNA COLUMNA QUE CONTENGA EL NOMBRE DEL DIA EN EL QUE SUCEDIÓ EL SINIESTRO"
   ]
  },
  {
   "cell_type": "code",
   "execution_count": 32,
   "id": "82fc39eb",
   "metadata": {},
   "outputs": [
    {
     "data": {
      "text/html": [
       "<div>\n",
       "<style scoped>\n",
       "    .dataframe tbody tr th:only-of-type {\n",
       "        vertical-align: middle;\n",
       "    }\n",
       "\n",
       "    .dataframe tbody tr th {\n",
       "        vertical-align: top;\n",
       "    }\n",
       "\n",
       "    .dataframe thead th {\n",
       "        text-align: right;\n",
       "    }\n",
       "</style>\n",
       "<table border=\"1\" class=\"dataframe\">\n",
       "  <thead>\n",
       "    <tr style=\"text-align: right;\">\n",
       "      <th></th>\n",
       "      <th>a</th>\n",
       "      <th>m</th>\n",
       "      <th>d</th>\n",
       "      <th>fecha</th>\n",
       "      <th>nom_dia</th>\n",
       "    </tr>\n",
       "  </thead>\n",
       "  <tbody>\n",
       "    <tr>\n",
       "      <th>688</th>\n",
       "      <td>2015</td>\n",
       "      <td>6</td>\n",
       "      <td>12</td>\n",
       "      <td>2015-06-12</td>\n",
       "      <td>Friday</td>\n",
       "    </tr>\n",
       "    <tr>\n",
       "      <th>3254</th>\n",
       "      <td>2016</td>\n",
       "      <td>4</td>\n",
       "      <td>21</td>\n",
       "      <td>2016-04-21</td>\n",
       "      <td>Thursday</td>\n",
       "    </tr>\n",
       "    <tr>\n",
       "      <th>5290</th>\n",
       "      <td>2017</td>\n",
       "      <td>2</td>\n",
       "      <td>17</td>\n",
       "      <td>2017-02-17</td>\n",
       "      <td>Friday</td>\n",
       "    </tr>\n",
       "  </tbody>\n",
       "</table>\n",
       "</div>"
      ],
      "text/plain": [
       "         a  m   d      fecha   nom_dia\n",
       "688   2015  6  12 2015-06-12    Friday\n",
       "3254  2016  4  21 2016-04-21  Thursday\n",
       "5290  2017  2  17 2017-02-17    Friday"
      ]
     },
     "execution_count": 32,
     "metadata": {},
     "output_type": "execute_result"
    }
   ],
   "source": [
    "sin_df['fecha_norm'] = sin_df['d'].astype(str) + '-' + sin_df['m'].astype(str) + '-' + sin_df['a'].astype(str)\n",
    "sin_df['fecha'] = pd.to_datetime(sin_df['fecha_norm'],format='%d-%m-%Y', errors='coerce')\n",
    "\n",
    "sin_df['nom_dia'] = sin_df['fecha'].dt.strftime('%A')\n",
    "\n",
    "sin_df[['a','m','d','fecha','nom_dia']].sample(3)"
   ]
  },
  {
   "attachments": {},
   "cell_type": "markdown",
   "id": "eaea6743",
   "metadata": {},
   "source": [
    "CREARÉ OTRA COLUMNA QUE DIGA SI ES FIN DE SEMANA O NO"
   ]
  },
  {
   "cell_type": "code",
   "execution_count": 33,
   "id": "5df46ec1",
   "metadata": {},
   "outputs": [
    {
     "data": {
      "text/html": [
       "<div>\n",
       "<style scoped>\n",
       "    .dataframe tbody tr th:only-of-type {\n",
       "        vertical-align: middle;\n",
       "    }\n",
       "\n",
       "    .dataframe tbody tr th {\n",
       "        vertical-align: top;\n",
       "    }\n",
       "\n",
       "    .dataframe thead th {\n",
       "        text-align: right;\n",
       "    }\n",
       "</style>\n",
       "<table border=\"1\" class=\"dataframe\">\n",
       "  <thead>\n",
       "    <tr style=\"text-align: right;\">\n",
       "      <th></th>\n",
       "      <th>fecha</th>\n",
       "      <th>nom_dia</th>\n",
       "      <th>finde</th>\n",
       "    </tr>\n",
       "  </thead>\n",
       "  <tbody>\n",
       "    <tr>\n",
       "      <th>9703</th>\n",
       "      <td>2015-09-16</td>\n",
       "      <td>Wednesday</td>\n",
       "      <td>0</td>\n",
       "    </tr>\n",
       "    <tr>\n",
       "      <th>11988</th>\n",
       "      <td>2016-06-30</td>\n",
       "      <td>Thursday</td>\n",
       "      <td>0</td>\n",
       "    </tr>\n",
       "    <tr>\n",
       "      <th>15500</th>\n",
       "      <td>2017-10-15</td>\n",
       "      <td>Sunday</td>\n",
       "      <td>1</td>\n",
       "    </tr>\n",
       "    <tr>\n",
       "      <th>2140</th>\n",
       "      <td>2015-03-24</td>\n",
       "      <td>Tuesday</td>\n",
       "      <td>0</td>\n",
       "    </tr>\n",
       "    <tr>\n",
       "      <th>8967</th>\n",
       "      <td>2015-08-07</td>\n",
       "      <td>Friday</td>\n",
       "      <td>0</td>\n",
       "    </tr>\n",
       "    <tr>\n",
       "      <th>3584</th>\n",
       "      <td>2016-04-06</td>\n",
       "      <td>Wednesday</td>\n",
       "      <td>0</td>\n",
       "    </tr>\n",
       "    <tr>\n",
       "      <th>15714</th>\n",
       "      <td>2018-08-01</td>\n",
       "      <td>Wednesday</td>\n",
       "      <td>0</td>\n",
       "    </tr>\n",
       "    <tr>\n",
       "      <th>3266</th>\n",
       "      <td>2016-04-22</td>\n",
       "      <td>Friday</td>\n",
       "      <td>0</td>\n",
       "    </tr>\n",
       "    <tr>\n",
       "      <th>11271</th>\n",
       "      <td>2016-03-19</td>\n",
       "      <td>Saturday</td>\n",
       "      <td>1</td>\n",
       "    </tr>\n",
       "    <tr>\n",
       "      <th>8708</th>\n",
       "      <td>2015-05-01</td>\n",
       "      <td>Friday</td>\n",
       "      <td>0</td>\n",
       "    </tr>\n",
       "  </tbody>\n",
       "</table>\n",
       "</div>"
      ],
      "text/plain": [
       "           fecha    nom_dia  finde\n",
       "9703  2015-09-16  Wednesday      0\n",
       "11988 2016-06-30   Thursday      0\n",
       "15500 2017-10-15     Sunday      1\n",
       "2140  2015-03-24    Tuesday      0\n",
       "8967  2015-08-07     Friday      0\n",
       "3584  2016-04-06  Wednesday      0\n",
       "15714 2018-08-01  Wednesday      0\n",
       "3266  2016-04-22     Friday      0\n",
       "11271 2016-03-19   Saturday      1\n",
       "8708  2015-05-01     Friday      0"
      ]
     },
     "execution_count": 33,
     "metadata": {},
     "output_type": "execute_result"
    }
   ],
   "source": [
    "mask = (sin_df.loc[(sin_df.nom_dia == 'Sunday') | (sin_df.nom_dia == 'Saturday')]).index\n",
    "sin_df.loc[mask, 'finde'] = 1\n",
    "sin_df.loc[sin_df.finde!=1, 'finde'] = 0\n",
    "sin_df.finde = sin_df.finde.astype(int)\n",
    "sin_df[['fecha','nom_dia','finde']].sample(10)"
   ]
  },
  {
   "attachments": {},
   "cell_type": "markdown",
   "id": "161156d4",
   "metadata": {},
   "source": [
    "UTILIZANDO UN SET DE DATOS OBTENIDO MEDIANTE CHAT-GPT QUE CONTIENE LOS DIAS FERIADOS, AGREGARÉ ESTE DETALLE AL DATASET EN UNA COLUMNA APARTE"
   ]
  },
  {
   "cell_type": "code",
   "execution_count": 34,
   "id": "3e85b3e6",
   "metadata": {},
   "outputs": [],
   "source": [
    "feriados = 'feriados.csv'\n",
    "fer_df = pd.read_csv(feriados)\n",
    "fer_df.columns = ['d','m','a','feriado']\n",
    "fer_df.feriado = 1"
   ]
  },
  {
   "cell_type": "code",
   "execution_count": 35,
   "id": "106d9aa1",
   "metadata": {},
   "outputs": [],
   "source": [
    "sin_df = sin_df.merge(fer_df,how='left',left_on=['d','m','a'],right_on=['d','m','a'])"
   ]
  },
  {
   "cell_type": "code",
   "execution_count": 36,
   "id": "a0e55f49",
   "metadata": {},
   "outputs": [
    {
     "data": {
      "text/plain": [
       "0    32337\n",
       "1      825\n",
       "Name: feriado, dtype: int64"
      ]
     },
     "execution_count": 36,
     "metadata": {},
     "output_type": "execute_result"
    }
   ],
   "source": [
    "sin_df.feriado.fillna(0, inplace=True)\n",
    "sin_df.feriado = sin_df.feriado.astype(int)\n",
    "sin_df.feriado.value_counts()"
   ]
  },
  {
   "attachments": {},
   "cell_type": "markdown",
   "id": "251d9d83",
   "metadata": {},
   "source": [
    "CORROBORÉ QUE SE HAYAN AGREGADO CORRECTAMENTE LOS FERIADOS. También agregare al fin de semana los dias viernes pasadas las 19hs. "
   ]
  },
  {
   "cell_type": "code",
   "execution_count": 37,
   "id": "fefb40f8",
   "metadata": {},
   "outputs": [],
   "source": [
    "#AGREGO LOS VIERNES A LA TARDE A MI COLUMNA 'finde'\n",
    "\n",
    "#v_mask = (sin_df.loc[(sin_df.nom_dia == 'Friday') & (sin_df.h > 18)]).index\n",
    "#sin_df.loc[v_mask, 'finde'] = 1"
   ]
  },
  {
   "cell_type": "code",
   "execution_count": 38,
   "id": "4b881ba2",
   "metadata": {},
   "outputs": [
    {
     "name": "stdout",
     "output_type": "stream",
     "text": [
      "<class 'pandas.core.frame.DataFrame'>\n",
      "Int64Index: 33162 entries, 0 to 33161\n",
      "Data columns (total 31 columns):\n",
      " #   Column                  Non-Null Count  Dtype         \n",
      "---  ------                  --------------  -----         \n",
      " 0   causa                   33162 non-null  int32         \n",
      " 1   rol                     33162 non-null  object        \n",
      " 2   tipo                    33162 non-null  object        \n",
      " 3   sexo                    33162 non-null  int32         \n",
      " 4   edad                    33162 non-null  int32         \n",
      " 5   fecha                   33162 non-null  datetime64[ns]\n",
      " 6   tipo_calle              33162 non-null  int32         \n",
      " 7   calle1                  33162 non-null  object        \n",
      " 8   calle2                  33162 non-null  object        \n",
      " 9   x                       33162 non-null  float64       \n",
      " 10  y                       33162 non-null  float64       \n",
      " 11  cantidad_victimas       33162 non-null  int32         \n",
      " 12  comuna                  33162 non-null  int32         \n",
      " 13  tipo_colision1          33162 non-null  object        \n",
      " 14  participantes_acusados  33162 non-null  object        \n",
      " 15  participantes_victimas  33162 non-null  object        \n",
      " 16  rango_edad              33162 non-null  int32         \n",
      " 17  rango_horario           33162 non-null  int32         \n",
      " 18  fecha_norm              33162 non-null  object        \n",
      " 19  d                       33162 non-null  int32         \n",
      " 20  m                       33162 non-null  int32         \n",
      " 21  a                       33162 non-null  int32         \n",
      " 22  h                       33162 non-null  int32         \n",
      " 23  temp                    33162 non-null  float64       \n",
      " 24  hum                     33162 non-null  float64       \n",
      " 25  precip                  33162 non-null  int32         \n",
      " 26  viento                  33162 non-null  int32         \n",
      " 27  dif_clima               33162 non-null  int32         \n",
      " 28  nom_dia                 33162 non-null  object        \n",
      " 29  finde                   33162 non-null  int32         \n",
      " 30  feriado                 33162 non-null  int32         \n",
      "dtypes: datetime64[ns](1), float64(4), int32(17), object(9)\n",
      "memory usage: 5.9+ MB\n"
     ]
    }
   ],
   "source": [
    "sin_df.info()"
   ]
  },
  {
   "attachments": {},
   "cell_type": "markdown",
   "id": "fa434bfc",
   "metadata": {},
   "source": [
    "FIN DE LA AGREGACIÓN DE DATOS\n",
    "\n",
    "--------------------------------------------------------------------------------------------------------------------------"
   ]
  },
  {
   "attachments": {},
   "cell_type": "markdown",
   "id": "07e68719",
   "metadata": {},
   "source": [
    "COMIENZA PROCESO DE PREDICCIÓN"
   ]
  },
  {
   "attachments": {},
   "cell_type": "markdown",
   "id": "731a6b50",
   "metadata": {},
   "source": [
    "Primero voy a predecir una variable importante desde mi punto de vista, el tipo de calle en el que se produce un siniestro, dadas las columnas elegidas como variable independiente, para el caso: \n",
    "\n",
    "['causa','tipo','rol','comuna','tipo_colision1','d','m','h','participantes_acusados','dif_clima','rango_edad','finde']\n",
    "\n",
    "Obviamente me gustaria utilizar las columnas 'x' e 'y' pero estas aportan datos geograficos que pueden hacer inducir al algoritmo el tipo de calle por repetición (puede causar overfitting)"
   ]
  },
  {
   "cell_type": "code",
   "execution_count": 39,
   "id": "28d129bb",
   "metadata": {},
   "outputs": [
    {
     "name": "stdout",
     "output_type": "stream",
     "text": [
      "<class 'pandas.core.frame.DataFrame'>\n",
      "Int64Index: 33162 entries, 0 to 33161\n",
      "Data columns (total 14 columns):\n",
      " #   Column                  Non-Null Count  Dtype \n",
      "---  ------                  --------------  ----- \n",
      " 0   causa                   33162 non-null  int32 \n",
      " 1   tipo                    33162 non-null  object\n",
      " 2   rol                     33162 non-null  object\n",
      " 3   comuna                  33162 non-null  int32 \n",
      " 4   tipo_colision1          33162 non-null  object\n",
      " 5   d                       33162 non-null  int32 \n",
      " 6   m                       33162 non-null  int32 \n",
      " 7   h                       33162 non-null  int32 \n",
      " 8   participantes_acusados  33162 non-null  object\n",
      " 9   participantes_victimas  33162 non-null  object\n",
      " 10  dif_clima               33162 non-null  int32 \n",
      " 11  edad                    33162 non-null  int32 \n",
      " 12  cantidad_victimas       33162 non-null  int32 \n",
      " 13  nom_dia                 33162 non-null  object\n",
      "dtypes: int32(8), object(6)\n",
      "memory usage: 2.8+ MB\n"
     ]
    }
   ],
   "source": [
    "X = sin_df[['causa','tipo','rol','comuna','tipo_colision1','d','m','h','participantes_acusados','participantes_victimas','dif_clima','edad','cantidad_victimas','nom_dia']]\n",
    "y = sin_df['tipo_calle']\n",
    "\n",
    "X.info()"
   ]
  },
  {
   "cell_type": "code",
   "execution_count": 40,
   "id": "72984be3",
   "metadata": {},
   "outputs": [
    {
     "name": "stdout",
     "output_type": "stream",
     "text": [
      "<class 'pandas.core.frame.DataFrame'>\n",
      "Int64Index: 33162 entries, 0 to 33161\n",
      "Data columns (total 14 columns):\n",
      " #   Column                  Non-Null Count  Dtype\n",
      "---  ------                  --------------  -----\n",
      " 0   causa                   33162 non-null  int32\n",
      " 1   tipo                    33162 non-null  int32\n",
      " 2   rol                     33162 non-null  int32\n",
      " 3   comuna                  33162 non-null  int32\n",
      " 4   tipo_colision1          33162 non-null  int32\n",
      " 5   d                       33162 non-null  int32\n",
      " 6   m                       33162 non-null  int32\n",
      " 7   h                       33162 non-null  int32\n",
      " 8   participantes_acusados  33162 non-null  int32\n",
      " 9   participantes_victimas  33162 non-null  int32\n",
      " 10  dif_clima               33162 non-null  int32\n",
      " 11  edad                    33162 non-null  int32\n",
      " 12  cantidad_victimas       33162 non-null  int32\n",
      " 13  nom_dia                 33162 non-null  int32\n",
      "dtypes: int32(14)\n",
      "memory usage: 2.0 MB\n"
     ]
    },
    {
     "name": "stderr",
     "output_type": "stream",
     "text": [
      "C:\\Users\\Seguridad\\AppData\\Local\\Temp\\ipykernel_16580\\3726546931.py:3: SettingWithCopyWarning: \n",
      "A value is trying to be set on a copy of a slice from a DataFrame.\n",
      "Try using .loc[row_indexer,col_indexer] = value instead\n",
      "\n",
      "See the caveats in the documentation: https://pandas.pydata.org/pandas-docs/stable/user_guide/indexing.html#returning-a-view-versus-a-copy\n",
      "  X.rol = le.transform(X.rol)\n",
      "C:\\Users\\Seguridad\\AppData\\Local\\Temp\\ipykernel_16580\\3726546931.py:6: SettingWithCopyWarning: \n",
      "A value is trying to be set on a copy of a slice from a DataFrame.\n",
      "Try using .loc[row_indexer,col_indexer] = value instead\n",
      "\n",
      "See the caveats in the documentation: https://pandas.pydata.org/pandas-docs/stable/user_guide/indexing.html#returning-a-view-versus-a-copy\n",
      "  X.tipo_colision1 = le.transform(X.tipo_colision1)\n",
      "C:\\Users\\Seguridad\\AppData\\Local\\Temp\\ipykernel_16580\\3726546931.py:9: SettingWithCopyWarning: \n",
      "A value is trying to be set on a copy of a slice from a DataFrame.\n",
      "Try using .loc[row_indexer,col_indexer] = value instead\n",
      "\n",
      "See the caveats in the documentation: https://pandas.pydata.org/pandas-docs/stable/user_guide/indexing.html#returning-a-view-versus-a-copy\n",
      "  X.participantes_acusados = le.transform(X.participantes_acusados)\n",
      "C:\\Users\\Seguridad\\AppData\\Local\\Temp\\ipykernel_16580\\3726546931.py:12: SettingWithCopyWarning: \n",
      "A value is trying to be set on a copy of a slice from a DataFrame.\n",
      "Try using .loc[row_indexer,col_indexer] = value instead\n",
      "\n",
      "See the caveats in the documentation: https://pandas.pydata.org/pandas-docs/stable/user_guide/indexing.html#returning-a-view-versus-a-copy\n",
      "  X.participantes_victimas = le.transform(X.participantes_victimas)\n",
      "C:\\Users\\Seguridad\\AppData\\Local\\Temp\\ipykernel_16580\\3726546931.py:15: SettingWithCopyWarning: \n",
      "A value is trying to be set on a copy of a slice from a DataFrame.\n",
      "Try using .loc[row_indexer,col_indexer] = value instead\n",
      "\n",
      "See the caveats in the documentation: https://pandas.pydata.org/pandas-docs/stable/user_guide/indexing.html#returning-a-view-versus-a-copy\n",
      "  X.tipo = le.transform(X.tipo)\n",
      "C:\\Users\\Seguridad\\AppData\\Local\\Temp\\ipykernel_16580\\3726546931.py:18: SettingWithCopyWarning: \n",
      "A value is trying to be set on a copy of a slice from a DataFrame.\n",
      "Try using .loc[row_indexer,col_indexer] = value instead\n",
      "\n",
      "See the caveats in the documentation: https://pandas.pydata.org/pandas-docs/stable/user_guide/indexing.html#returning-a-view-versus-a-copy\n",
      "  X.nom_dia = le.transform(X.nom_dia)\n"
     ]
    }
   ],
   "source": [
    "le = LabelEncoder()\n",
    "le.fit(X.rol)\n",
    "X.rol = le.transform(X.rol)\n",
    "\n",
    "le.fit(X.tipo_colision1)\n",
    "X.tipo_colision1 = le.transform(X.tipo_colision1)\n",
    "\n",
    "le.fit(X.participantes_acusados)\n",
    "X.participantes_acusados = le.transform(X.participantes_acusados)\n",
    "\n",
    "le.fit(X.participantes_victimas)\n",
    "X.participantes_victimas = le.transform(X.participantes_victimas)\n",
    "\n",
    "le.fit(X.tipo)\n",
    "X.tipo = le.transform(X.tipo)\n",
    "\n",
    "le.fit(X.nom_dia)\n",
    "X.nom_dia = le.transform(X.nom_dia)\n",
    "\n",
    "X.info()"
   ]
  },
  {
   "cell_type": "code",
   "execution_count": 41,
   "id": "12e9ff0b",
   "metadata": {},
   "outputs": [],
   "source": [
    "X_train, X_test, y_train, y_test = train_test_split(\n",
    "                                        X,\n",
    "                                        y.values.reshape(-1,1),\n",
    "                                        train_size   = 0.7,\n",
    "                                        random_state = 1234,\n",
    "                                        shuffle      = True\n",
    "                                    )"
   ]
  },
  {
   "cell_type": "code",
   "execution_count": 42,
   "id": "978f8b66",
   "metadata": {},
   "outputs": [
    {
     "name": "stderr",
     "output_type": "stream",
     "text": [
      "C:\\Users\\Seguridad\\AppData\\Local\\Temp\\ipykernel_16580\\1174985466.py:2: DataConversionWarning: A column-vector y was passed when a 1d array was expected. Please change the shape of y to (n_samples,), for example using ravel().\n",
      "  modelo_rf.fit(X_train, y_train)\n"
     ]
    },
    {
     "name": "stdout",
     "output_type": "stream",
     "text": [
      "% de aciertos sobre el set de entrenamiento: 70.06418817042174\n",
      "% de aciertos sobre el set de evaluación: 66.86099105437732\n"
     ]
    }
   ],
   "source": [
    "modelo_rf = RandomForestClassifier(n_estimators=1000, max_depth=10, random_state=42)\n",
    "modelo_rf.fit(X_train, y_train)\n",
    "\n",
    "y_train_pred = modelo_rf.predict(X_train)\n",
    "y_test_pred = modelo_rf.predict(X_test)\n",
    "\n",
    "train_accuracy = accuracy_score(y_train, y_train_pred)\n",
    "print('% de aciertos sobre el set de entrenamiento:',train_accuracy*100)\n",
    "\n",
    "test_accuracy = accuracy_score(y_test, y_test_pred)\n",
    "print('% de aciertos sobre el set de evaluación:',test_accuracy*100)"
   ]
  },
  {
   "attachments": {},
   "cell_type": "markdown",
   "id": "8e44e85e",
   "metadata": {},
   "source": [
    "Es un buen resultado, voy a compararlo con otro algoritmo, utilizando las mismas variables X e y "
   ]
  },
  {
   "cell_type": "code",
   "execution_count": 43,
   "id": "1d806579",
   "metadata": {},
   "outputs": [
    {
     "name": "stderr",
     "output_type": "stream",
     "text": [
      "c:\\ProgramData\\Miniconda3\\lib\\site-packages\\sklearn\\preprocessing\\_label.py:115: DataConversionWarning: A column-vector y was passed when a 1d array was expected. Please change the shape of y to (n_samples, ), for example using ravel().\n",
      "  y = column_or_1d(y, warn=True)\n"
     ]
    },
    {
     "name": "stdout",
     "output_type": "stream",
     "text": [
      "% de aciertos sobre el set de entrenamiento: 69.83155990177917\n",
      "% de aciertos sobre el set de evaluación: 67.09217006734345\n"
     ]
    }
   ],
   "source": [
    "le = LabelEncoder()\n",
    "\n",
    "y_train = le.fit_transform(y_train)\n",
    "y_test = le.fit_transform(y_test)\n",
    "\n",
    "modelo_xgb = xgb.XGBClassifier(learning_rate=0.1, n_estimators=100, max_depth=6, random_state=42)\n",
    "modelo_xgb.fit(X_train, y_train)\n",
    "\n",
    "y_train_pred = modelo_xgb.predict(X_train)\n",
    "y_test_pred = modelo_xgb.predict(X_test)\n",
    "\n",
    "train_accuracy = accuracy_score(y_train, y_train_pred)\n",
    "print('% de aciertos sobre el set de entrenamiento:',train_accuracy*100)\n",
    "\n",
    "test_accuracy = accuracy_score(y_test, y_test_pred)\n",
    "print('% de aciertos sobre el set de evaluación:',test_accuracy*100)"
   ]
  },
  {
   "cell_type": "code",
   "execution_count": 45,
   "id": "fb419522",
   "metadata": {},
   "outputs": [
    {
     "data": {
      "text/html": [
       "<div>\n",
       "<style scoped>\n",
       "    .dataframe tbody tr th:only-of-type {\n",
       "        vertical-align: middle;\n",
       "    }\n",
       "\n",
       "    .dataframe tbody tr th {\n",
       "        vertical-align: top;\n",
       "    }\n",
       "\n",
       "    .dataframe thead th {\n",
       "        text-align: right;\n",
       "    }\n",
       "</style>\n",
       "<table border=\"1\" class=\"dataframe\">\n",
       "  <thead>\n",
       "    <tr style=\"text-align: right;\">\n",
       "      <th></th>\n",
       "      <th>feature</th>\n",
       "      <th>imp</th>\n",
       "    </tr>\n",
       "  </thead>\n",
       "  <tbody>\n",
       "    <tr>\n",
       "      <th>3</th>\n",
       "      <td>comuna</td>\n",
       "      <td>0.262123</td>\n",
       "    </tr>\n",
       "    <tr>\n",
       "      <th>11</th>\n",
       "      <td>edad</td>\n",
       "      <td>0.115070</td>\n",
       "    </tr>\n",
       "    <tr>\n",
       "      <th>7</th>\n",
       "      <td>h</td>\n",
       "      <td>0.099918</td>\n",
       "    </tr>\n",
       "    <tr>\n",
       "      <th>5</th>\n",
       "      <td>d</td>\n",
       "      <td>0.081790</td>\n",
       "    </tr>\n",
       "    <tr>\n",
       "      <th>6</th>\n",
       "      <td>m</td>\n",
       "      <td>0.065086</td>\n",
       "    </tr>\n",
       "    <tr>\n",
       "      <th>9</th>\n",
       "      <td>participantes_victimas</td>\n",
       "      <td>0.058280</td>\n",
       "    </tr>\n",
       "    <tr>\n",
       "      <th>8</th>\n",
       "      <td>participantes_acusados</td>\n",
       "      <td>0.053704</td>\n",
       "    </tr>\n",
       "    <tr>\n",
       "      <th>1</th>\n",
       "      <td>tipo</td>\n",
       "      <td>0.052262</td>\n",
       "    </tr>\n",
       "    <tr>\n",
       "      <th>4</th>\n",
       "      <td>tipo_colision1</td>\n",
       "      <td>0.051558</td>\n",
       "    </tr>\n",
       "    <tr>\n",
       "      <th>13</th>\n",
       "      <td>nom_dia</td>\n",
       "      <td>0.048278</td>\n",
       "    </tr>\n",
       "    <tr>\n",
       "      <th>10</th>\n",
       "      <td>dif_clima</td>\n",
       "      <td>0.037083</td>\n",
       "    </tr>\n",
       "    <tr>\n",
       "      <th>2</th>\n",
       "      <td>rol</td>\n",
       "      <td>0.034572</td>\n",
       "    </tr>\n",
       "    <tr>\n",
       "      <th>12</th>\n",
       "      <td>cantidad_victimas</td>\n",
       "      <td>0.034131</td>\n",
       "    </tr>\n",
       "    <tr>\n",
       "      <th>0</th>\n",
       "      <td>causa</td>\n",
       "      <td>0.006145</td>\n",
       "    </tr>\n",
       "  </tbody>\n",
       "</table>\n",
       "</div>"
      ],
      "text/plain": [
       "                   feature       imp\n",
       "3                   comuna  0.262123\n",
       "11                    edad  0.115070\n",
       "7                        h  0.099918\n",
       "5                        d  0.081790\n",
       "6                        m  0.065086\n",
       "9   participantes_victimas  0.058280\n",
       "8   participantes_acusados  0.053704\n",
       "1                     tipo  0.052262\n",
       "4           tipo_colision1  0.051558\n",
       "13                 nom_dia  0.048278\n",
       "10               dif_clima  0.037083\n",
       "2                      rol  0.034572\n",
       "12       cantidad_victimas  0.034131\n",
       "0                    causa  0.006145"
      ]
     },
     "execution_count": 45,
     "metadata": {},
     "output_type": "execute_result"
    }
   ],
   "source": [
    "importancia = pd.DataFrame()\n",
    "importancia['feature'] = pd.Series(X.columns)\n",
    "importancia['imp'] = modelo_rf.feature_importances_\n",
    "importancia.sort_values(by='imp', ascending=False)"
   ]
  },
  {
   "cell_type": "code",
   "execution_count": 46,
   "id": "b19315c8",
   "metadata": {},
   "outputs": [
    {
     "data": {
      "text/html": [
       "<div>\n",
       "<style scoped>\n",
       "    .dataframe tbody tr th:only-of-type {\n",
       "        vertical-align: middle;\n",
       "    }\n",
       "\n",
       "    .dataframe tbody tr th {\n",
       "        vertical-align: top;\n",
       "    }\n",
       "\n",
       "    .dataframe thead th {\n",
       "        text-align: right;\n",
       "    }\n",
       "</style>\n",
       "<table border=\"1\" class=\"dataframe\">\n",
       "  <thead>\n",
       "    <tr style=\"text-align: right;\">\n",
       "      <th></th>\n",
       "      <th>feature</th>\n",
       "      <th>imp</th>\n",
       "    </tr>\n",
       "  </thead>\n",
       "  <tbody>\n",
       "    <tr>\n",
       "      <th>3</th>\n",
       "      <td>comuna</td>\n",
       "      <td>0.165149</td>\n",
       "    </tr>\n",
       "    <tr>\n",
       "      <th>1</th>\n",
       "      <td>tipo</td>\n",
       "      <td>0.126160</td>\n",
       "    </tr>\n",
       "    <tr>\n",
       "      <th>0</th>\n",
       "      <td>causa</td>\n",
       "      <td>0.096152</td>\n",
       "    </tr>\n",
       "    <tr>\n",
       "      <th>8</th>\n",
       "      <td>participantes_acusados</td>\n",
       "      <td>0.080303</td>\n",
       "    </tr>\n",
       "    <tr>\n",
       "      <th>4</th>\n",
       "      <td>tipo_colision1</td>\n",
       "      <td>0.069261</td>\n",
       "    </tr>\n",
       "    <tr>\n",
       "      <th>12</th>\n",
       "      <td>cantidad_victimas</td>\n",
       "      <td>0.065734</td>\n",
       "    </tr>\n",
       "    <tr>\n",
       "      <th>9</th>\n",
       "      <td>participantes_victimas</td>\n",
       "      <td>0.063116</td>\n",
       "    </tr>\n",
       "    <tr>\n",
       "      <th>7</th>\n",
       "      <td>h</td>\n",
       "      <td>0.059413</td>\n",
       "    </tr>\n",
       "    <tr>\n",
       "      <th>11</th>\n",
       "      <td>edad</td>\n",
       "      <td>0.051460</td>\n",
       "    </tr>\n",
       "    <tr>\n",
       "      <th>2</th>\n",
       "      <td>rol</td>\n",
       "      <td>0.050739</td>\n",
       "    </tr>\n",
       "    <tr>\n",
       "      <th>10</th>\n",
       "      <td>dif_clima</td>\n",
       "      <td>0.047769</td>\n",
       "    </tr>\n",
       "    <tr>\n",
       "      <th>6</th>\n",
       "      <td>m</td>\n",
       "      <td>0.044685</td>\n",
       "    </tr>\n",
       "    <tr>\n",
       "      <th>5</th>\n",
       "      <td>d</td>\n",
       "      <td>0.043533</td>\n",
       "    </tr>\n",
       "    <tr>\n",
       "      <th>13</th>\n",
       "      <td>nom_dia</td>\n",
       "      <td>0.036525</td>\n",
       "    </tr>\n",
       "  </tbody>\n",
       "</table>\n",
       "</div>"
      ],
      "text/plain": [
       "                   feature       imp\n",
       "3                   comuna  0.165149\n",
       "1                     tipo  0.126160\n",
       "0                    causa  0.096152\n",
       "8   participantes_acusados  0.080303\n",
       "4           tipo_colision1  0.069261\n",
       "12       cantidad_victimas  0.065734\n",
       "9   participantes_victimas  0.063116\n",
       "7                        h  0.059413\n",
       "11                    edad  0.051460\n",
       "2                      rol  0.050739\n",
       "10               dif_clima  0.047769\n",
       "6                        m  0.044685\n",
       "5                        d  0.043533\n",
       "13                 nom_dia  0.036525"
      ]
     },
     "execution_count": 46,
     "metadata": {},
     "output_type": "execute_result"
    }
   ],
   "source": [
    "importancia = pd.DataFrame()\n",
    "importancia['feature'] = pd.Series(X.columns)\n",
    "importancia['imp'] = modelo_xgb.feature_importances_\n",
    "importancia.sort_values(by='imp', ascending=False)"
   ]
  },
  {
   "attachments": {},
   "cell_type": "markdown",
   "id": "a786e449",
   "metadata": {},
   "source": [
    "NO PUEDO SACAR NINGUNA CONCLUSIÓN DEL FEATURE IMPORTENCE, YA QUE UN ALGORITMO CLASIFICA COMO POCO IMPORTANTES A LOS FEATURES QUE EL OTRO CLASIFICA COMO IMPORTANTES"
   ]
  },
  {
   "attachments": {},
   "cell_type": "markdown",
   "id": "c16c5f16",
   "metadata": {},
   "source": [
    "EL MEJOR MODELO HASTA AHORA FUE EL CLASIFICADOR DE RANDOM FOREST (por poca diferencia). AJUSTARÉ LOS PARAMETROS Y VOLVERE A HACER LAS PRUEBAS PARA DEFINIR EL MEJOR MODELO PARA LA PREDICCIÓN DEL TIPO DE CALLE"
   ]
  },
  {
   "cell_type": "code",
   "execution_count": 49,
   "id": "6b4b1e96",
   "metadata": {},
   "outputs": [
    {
     "name": "stdout",
     "output_type": "stream",
     "text": [
      "Mejores parametros XGboost:  {'learning_rate': 0.1, 'max_depth': 6, 'n_estimators': 100}\n"
     ]
    }
   ],
   "source": [
    "parameters = {\n",
    "    'max_depth': [2, 3, 6],\n",
    "    'learning_rate': [0.1, 0.01, 0.001],\n",
    "    'n_estimators': [300, 500, 100, 900],\n",
    "}\n",
    "\n",
    "grid_search = GridSearchCV(estimator=modelo_xgb, param_grid=parameters, scoring='accuracy', cv=5)\n",
    "grid_search.fit(X_train, y_train)\n",
    "\n",
    "# Obtengo los mejores hiperparámetros\n",
    "best_params_xgb = grid_search.best_params_\n",
    "\n",
    "print(\"Mejores parametros XGboost: \", best_params_xgb)"
   ]
  },
  {
   "cell_type": "code",
   "execution_count": 50,
   "id": "607816bd",
   "metadata": {},
   "outputs": [
    {
     "name": "stdout",
     "output_type": "stream",
     "text": [
      "Mejores parametros random forest:  {'max_depth': 10, 'n_estimators': 1000}\n"
     ]
    }
   ],
   "source": [
    "parameters = {\n",
    "    'max_depth': [2, 5, 6, 10],\n",
    "    'n_estimators': [300, 500, 100, 1000],\n",
    "}\n",
    "\n",
    "grid_search = GridSearchCV(estimator=modelo_rf, param_grid=parameters, scoring='accuracy', cv=5)\n",
    "grid_search.fit(X_train, y_train)\n",
    "\n",
    "# Obtengo los mejores hiperparámetros\n",
    "best_params_rf = grid_search.best_params_\n",
    "\n",
    "print(\"Mejores parametros random forest: \", best_params_rf)"
   ]
  },
  {
   "attachments": {},
   "cell_type": "markdown",
   "id": "b6ab4177",
   "metadata": {},
   "source": [
    "EN CONCLUSIÓN, EL MEJOR MODELO PARA LA PREDICCIÓN DEL TIPO DE CALLE ES EL UTILIZADO CON RANDOM FOREST, QUE NOS DA UN ACCURACY DE 70,1% UTILIZANDO LOS PARAMETROS IDEALES."
   ]
  },
  {
   "attachments": {},
   "cell_type": "markdown",
   "id": "dcbaac79",
   "metadata": {},
   "source": [
    "VEO QUE HAY VALORES QUE TIENEN QUE VER CON OTRAS COLUMAS (como el horario y la dificultad climatica), ESTO PUEDO 'RESUMIRLO' Y REDUCIR LA CANTIDAD DE COLUMNAS, PERDIENDO LA MENOR CANTIDAD DE INFORMACIÓN POSIBLE, UTILIZANDO LA FUNCIÓN PCA. \n",
    "\n",
    "DEBAJO UN EJEMPLO DE COMO LO UTILIZARÍA, PASANDOLE 4 COLUMNAS AL METODO Y OBTENIENDO COMO RESULTADO DOS COLUMNAS (definido por parametro en la primer linea de código) QUE SE PODRÍAN ADJUNTAR A MI SET DE DATOS PARA PRESCINDIR DE LAS 4 COLUMNAS INICIALES."
   ]
  },
  {
   "cell_type": "code",
   "execution_count": 51,
   "id": "833bb589",
   "metadata": {},
   "outputs": [
    {
     "name": "stdout",
     "output_type": "stream",
     "text": [
      "   Componente 1  Componente 2\n",
      "0     -1.304466     -5.574353\n",
      "1      9.888449     10.278750\n",
      "2     11.818363      5.283789\n",
      "3    -12.286959     -4.461130\n",
      "4    -11.095522     12.548656\n"
     ]
    }
   ],
   "source": [
    "pca = PCA(n_components=2)\n",
    "componentes_principales = pca.fit_transform(X[['dif_clima','h','nom_dia','d']])\n",
    "\n",
    "df_componentes = pd.DataFrame(componentes_principales, columns=['Componente 1', 'Componente 2'])\n",
    "print(df_componentes.head())"
   ]
  },
  {
   "attachments": {},
   "cell_type": "markdown",
   "id": "53680a29",
   "metadata": {},
   "source": [
    "CONCLUIDO ESTE ESTUDIO, VOY A INTENTAR PREDECIR SI UN SINIESTRO SE DIO DE DIA O DE NOCHE, VA A SER UNA PREDICCIÓN BINARIA EN LA CUAL PODRÉ OBTENER LOS VALORES DE PRECISION, EXACTITUD Y F1 SCORE. PARA ESTO PRIMERO CREARÉ ESTA COLUMNA ('de_dia') Y LUEGO ELIMINARE DE MIS VARIABLES LA HORA, QUE ES UNA TRANSFORMACIÓN DE LA COLUMNA QUE SE BUSCA PREDECIR."
   ]
  },
  {
   "cell_type": "code",
   "execution_count": 52,
   "id": "eb183820",
   "metadata": {},
   "outputs": [
    {
     "data": {
      "text/html": [
       "<div>\n",
       "<style scoped>\n",
       "    .dataframe tbody tr th:only-of-type {\n",
       "        vertical-align: middle;\n",
       "    }\n",
       "\n",
       "    .dataframe tbody tr th {\n",
       "        vertical-align: top;\n",
       "    }\n",
       "\n",
       "    .dataframe thead th {\n",
       "        text-align: right;\n",
       "    }\n",
       "</style>\n",
       "<table border=\"1\" class=\"dataframe\">\n",
       "  <thead>\n",
       "    <tr style=\"text-align: right;\">\n",
       "      <th></th>\n",
       "      <th>causa</th>\n",
       "      <th>rol</th>\n",
       "      <th>tipo</th>\n",
       "      <th>sexo</th>\n",
       "      <th>edad</th>\n",
       "      <th>fecha</th>\n",
       "      <th>tipo_calle</th>\n",
       "      <th>calle1</th>\n",
       "      <th>calle2</th>\n",
       "      <th>x</th>\n",
       "      <th>...</th>\n",
       "      <th>h</th>\n",
       "      <th>temp</th>\n",
       "      <th>hum</th>\n",
       "      <th>precip</th>\n",
       "      <th>viento</th>\n",
       "      <th>dif_clima</th>\n",
       "      <th>nom_dia</th>\n",
       "      <th>finde</th>\n",
       "      <th>feriado</th>\n",
       "      <th>de_dia</th>\n",
       "    </tr>\n",
       "  </thead>\n",
       "  <tbody>\n",
       "    <tr>\n",
       "      <th>0</th>\n",
       "      <td>1</td>\n",
       "      <td>conductor</td>\n",
       "      <td>moto</td>\n",
       "      <td>-1</td>\n",
       "      <td>36</td>\n",
       "      <td>2015-02-14</td>\n",
       "      <td>2</td>\n",
       "      <td>cafayate</td>\n",
       "      <td>garcia grande de zequeira, severo</td>\n",
       "      <td>-58.508658</td>\n",
       "      <td>...</td>\n",
       "      <td>19</td>\n",
       "      <td>21.67</td>\n",
       "      <td>74.75</td>\n",
       "      <td>1</td>\n",
       "      <td>2</td>\n",
       "      <td>4</td>\n",
       "      <td>Saturday</td>\n",
       "      <td>1</td>\n",
       "      <td>0</td>\n",
       "      <td>1</td>\n",
       "    </tr>\n",
       "    <tr>\n",
       "      <th>1</th>\n",
       "      <td>1</td>\n",
       "      <td>sin_data</td>\n",
       "      <td>sin_data</td>\n",
       "      <td>-1</td>\n",
       "      <td>36</td>\n",
       "      <td>2015-02-25</td>\n",
       "      <td>1</td>\n",
       "      <td>lugones, leopoldo av.</td>\n",
       "      <td>udaondo, guillermo av.</td>\n",
       "      <td>-58.447680</td>\n",
       "      <td>...</td>\n",
       "      <td>3</td>\n",
       "      <td>24.75</td>\n",
       "      <td>81.62</td>\n",
       "      <td>1</td>\n",
       "      <td>1</td>\n",
       "      <td>3</td>\n",
       "      <td>Wednesday</td>\n",
       "      <td>0</td>\n",
       "      <td>0</td>\n",
       "      <td>0</td>\n",
       "    </tr>\n",
       "    <tr>\n",
       "      <th>2</th>\n",
       "      <td>1</td>\n",
       "      <td>peaton</td>\n",
       "      <td>peaton</td>\n",
       "      <td>1</td>\n",
       "      <td>36</td>\n",
       "      <td>2015-02-27</td>\n",
       "      <td>1</td>\n",
       "      <td>jujuy av.</td>\n",
       "      <td>independencia av.</td>\n",
       "      <td>-58.403516</td>\n",
       "      <td>...</td>\n",
       "      <td>8</td>\n",
       "      <td>23.23</td>\n",
       "      <td>61.00</td>\n",
       "      <td>1</td>\n",
       "      <td>2</td>\n",
       "      <td>4</td>\n",
       "      <td>Friday</td>\n",
       "      <td>0</td>\n",
       "      <td>0</td>\n",
       "      <td>1</td>\n",
       "    </tr>\n",
       "    <tr>\n",
       "      <th>3</th>\n",
       "      <td>1</td>\n",
       "      <td>sin_data</td>\n",
       "      <td>sin_data</td>\n",
       "      <td>-1</td>\n",
       "      <td>36</td>\n",
       "      <td>2015-02-03</td>\n",
       "      <td>2</td>\n",
       "      <td>lavalle</td>\n",
       "      <td>sin_data</td>\n",
       "      <td>-58.391329</td>\n",
       "      <td>...</td>\n",
       "      <td>18</td>\n",
       "      <td>26.34</td>\n",
       "      <td>70.81</td>\n",
       "      <td>1</td>\n",
       "      <td>2</td>\n",
       "      <td>4</td>\n",
       "      <td>Tuesday</td>\n",
       "      <td>0</td>\n",
       "      <td>0</td>\n",
       "      <td>1</td>\n",
       "    </tr>\n",
       "    <tr>\n",
       "      <th>4</th>\n",
       "      <td>1</td>\n",
       "      <td>pasajero</td>\n",
       "      <td>camion</td>\n",
       "      <td>0</td>\n",
       "      <td>36</td>\n",
       "      <td>2015-09-04</td>\n",
       "      <td>1</td>\n",
       "      <td>carril, salvador maria del av.</td>\n",
       "      <td>sin_data</td>\n",
       "      <td>-58.492895</td>\n",
       "      <td>...</td>\n",
       "      <td>1</td>\n",
       "      <td>12.23</td>\n",
       "      <td>68.62</td>\n",
       "      <td>1</td>\n",
       "      <td>0</td>\n",
       "      <td>2</td>\n",
       "      <td>Friday</td>\n",
       "      <td>0</td>\n",
       "      <td>0</td>\n",
       "      <td>0</td>\n",
       "    </tr>\n",
       "  </tbody>\n",
       "</table>\n",
       "<p>5 rows × 32 columns</p>\n",
       "</div>"
      ],
      "text/plain": [
       "   causa        rol      tipo  sexo  edad      fecha  tipo_calle  \\\n",
       "0      1  conductor      moto    -1    36 2015-02-14           2   \n",
       "1      1   sin_data  sin_data    -1    36 2015-02-25           1   \n",
       "2      1     peaton    peaton     1    36 2015-02-27           1   \n",
       "3      1   sin_data  sin_data    -1    36 2015-02-03           2   \n",
       "4      1   pasajero    camion     0    36 2015-09-04           1   \n",
       "\n",
       "                           calle1                             calle2  \\\n",
       "0                        cafayate  garcia grande de zequeira, severo   \n",
       "1           lugones, leopoldo av.             udaondo, guillermo av.   \n",
       "2                       jujuy av.                  independencia av.   \n",
       "3                         lavalle                           sin_data   \n",
       "4  carril, salvador maria del av.                           sin_data   \n",
       "\n",
       "           x  ...   h   temp    hum precip viento dif_clima    nom_dia  finde  \\\n",
       "0 -58.508658  ...  19  21.67  74.75      1      2         4   Saturday      1   \n",
       "1 -58.447680  ...   3  24.75  81.62      1      1         3  Wednesday      0   \n",
       "2 -58.403516  ...   8  23.23  61.00      1      2         4     Friday      0   \n",
       "3 -58.391329  ...  18  26.34  70.81      1      2         4    Tuesday      0   \n",
       "4 -58.492895  ...   1  12.23  68.62      1      0         2     Friday      0   \n",
       "\n",
       "  feriado  de_dia  \n",
       "0       0       1  \n",
       "1       0       0  \n",
       "2       0       1  \n",
       "3       0       1  \n",
       "4       0       0  \n",
       "\n",
       "[5 rows x 32 columns]"
      ]
     },
     "execution_count": 52,
     "metadata": {},
     "output_type": "execute_result"
    }
   ],
   "source": [
    "sin_df.loc[(sin_df.h>5) & (sin_df.h<=19), 'de_dia'] = 1\n",
    "sin_df.loc[(sin_df.de_dia != 1), 'de_dia'] = 0\n",
    "sin_df.de_dia = sin_df.de_dia.astype(int)\n",
    "sin_df.head()"
   ]
  },
  {
   "cell_type": "code",
   "execution_count": 53,
   "id": "2164e569",
   "metadata": {},
   "outputs": [
    {
     "name": "stdout",
     "output_type": "stream",
     "text": [
      "<class 'pandas.core.frame.DataFrame'>\n",
      "Int64Index: 33162 entries, 0 to 33161\n",
      "Data columns (total 11 columns):\n",
      " #   Column          Non-Null Count  Dtype  \n",
      "---  ------          --------------  -----  \n",
      " 0   causa           33162 non-null  int32  \n",
      " 1   tipo            33162 non-null  object \n",
      " 2   rol             33162 non-null  object \n",
      " 3   tipo_colision1  33162 non-null  object \n",
      " 4   m               33162 non-null  int32  \n",
      " 5   dif_clima       33162 non-null  int32  \n",
      " 6   edad            33162 non-null  int32  \n",
      " 7   nom_dia         33162 non-null  object \n",
      " 8   x               33162 non-null  float64\n",
      " 9   y               33162 non-null  float64\n",
      " 10  sexo            33162 non-null  int32  \n",
      "dtypes: float64(2), int32(5), object(4)\n",
      "memory usage: 2.4+ MB\n"
     ]
    }
   ],
   "source": [
    "X = sin_df[['causa','tipo','rol','tipo_colision1','m','dif_clima','edad','nom_dia','x','y','sexo']]\n",
    "y = sin_df['de_dia']\n",
    "\n",
    "X.info()"
   ]
  },
  {
   "cell_type": "code",
   "execution_count": 54,
   "id": "677d783c",
   "metadata": {},
   "outputs": [
    {
     "name": "stdout",
     "output_type": "stream",
     "text": [
      "<class 'pandas.core.frame.DataFrame'>\n",
      "Int64Index: 33162 entries, 0 to 33161\n",
      "Data columns (total 11 columns):\n",
      " #   Column          Non-Null Count  Dtype  \n",
      "---  ------          --------------  -----  \n",
      " 0   causa           33162 non-null  int32  \n",
      " 1   tipo            33162 non-null  int32  \n",
      " 2   rol             33162 non-null  int32  \n",
      " 3   tipo_colision1  33162 non-null  int32  \n",
      " 4   m               33162 non-null  int32  \n",
      " 5   dif_clima       33162 non-null  int32  \n",
      " 6   edad            33162 non-null  int32  \n",
      " 7   nom_dia         33162 non-null  int32  \n",
      " 8   x               33162 non-null  float64\n",
      " 9   y               33162 non-null  float64\n",
      " 10  sexo            33162 non-null  int32  \n",
      "dtypes: float64(2), int32(9)\n",
      "memory usage: 1.9 MB\n"
     ]
    },
    {
     "name": "stderr",
     "output_type": "stream",
     "text": [
      "C:\\Users\\Seguridad\\AppData\\Local\\Temp\\ipykernel_16580\\1491776502.py:3: SettingWithCopyWarning: \n",
      "A value is trying to be set on a copy of a slice from a DataFrame.\n",
      "Try using .loc[row_indexer,col_indexer] = value instead\n",
      "\n",
      "See the caveats in the documentation: https://pandas.pydata.org/pandas-docs/stable/user_guide/indexing.html#returning-a-view-versus-a-copy\n",
      "  X.rol = le.transform(X.rol)\n",
      "C:\\Users\\Seguridad\\AppData\\Local\\Temp\\ipykernel_16580\\1491776502.py:6: SettingWithCopyWarning: \n",
      "A value is trying to be set on a copy of a slice from a DataFrame.\n",
      "Try using .loc[row_indexer,col_indexer] = value instead\n",
      "\n",
      "See the caveats in the documentation: https://pandas.pydata.org/pandas-docs/stable/user_guide/indexing.html#returning-a-view-versus-a-copy\n",
      "  X.tipo_colision1 = le.transform(X.tipo_colision1)\n",
      "C:\\Users\\Seguridad\\AppData\\Local\\Temp\\ipykernel_16580\\1491776502.py:9: SettingWithCopyWarning: \n",
      "A value is trying to be set on a copy of a slice from a DataFrame.\n",
      "Try using .loc[row_indexer,col_indexer] = value instead\n",
      "\n",
      "See the caveats in the documentation: https://pandas.pydata.org/pandas-docs/stable/user_guide/indexing.html#returning-a-view-versus-a-copy\n",
      "  X.tipo = le.transform(X.tipo)\n",
      "C:\\Users\\Seguridad\\AppData\\Local\\Temp\\ipykernel_16580\\1491776502.py:12: SettingWithCopyWarning: \n",
      "A value is trying to be set on a copy of a slice from a DataFrame.\n",
      "Try using .loc[row_indexer,col_indexer] = value instead\n",
      "\n",
      "See the caveats in the documentation: https://pandas.pydata.org/pandas-docs/stable/user_guide/indexing.html#returning-a-view-versus-a-copy\n",
      "  X.nom_dia = le.transform(X.nom_dia)\n"
     ]
    }
   ],
   "source": [
    "le = LabelEncoder()\n",
    "le.fit(X.rol)\n",
    "X.rol = le.transform(X.rol)\n",
    "\n",
    "le.fit(X.tipo_colision1)\n",
    "X.tipo_colision1 = le.transform(X.tipo_colision1)\n",
    "\n",
    "le.fit(X.tipo)\n",
    "X.tipo = le.transform(X.tipo)\n",
    "\n",
    "le.fit(X.nom_dia)\n",
    "X.nom_dia = le.transform(X.nom_dia)\n",
    "\n",
    "X.info()"
   ]
  },
  {
   "cell_type": "code",
   "execution_count": 55,
   "id": "bc9b3092",
   "metadata": {},
   "outputs": [],
   "source": [
    "X_train, X_test, y_train, y_test = train_test_split(\n",
    "                                        X,\n",
    "                                        y.values.reshape(-1,1),\n",
    "                                        train_size   = 0.7,\n",
    "                                        random_state = 1234,\n",
    "                                        shuffle      = True\n",
    "                                    )"
   ]
  },
  {
   "cell_type": "code",
   "execution_count": 56,
   "id": "bd2d152c",
   "metadata": {},
   "outputs": [
    {
     "name": "stderr",
     "output_type": "stream",
     "text": [
      "c:\\ProgramData\\Miniconda3\\lib\\site-packages\\sklearn\\preprocessing\\_label.py:115: DataConversionWarning: A column-vector y was passed when a 1d array was expected. Please change the shape of y to (n_samples, ), for example using ravel().\n",
      "  y = column_or_1d(y, warn=True)\n"
     ]
    },
    {
     "name": "stdout",
     "output_type": "stream",
     "text": [
      "% de aciertos sobre el set de entrenamiento: 76.08667556972387\n",
      "% de aciertos sobre el set de evaluación: 76.3996381545884\n"
     ]
    }
   ],
   "source": [
    "le = LabelEncoder()\n",
    "\n",
    "y_train = le.fit_transform(y_train)\n",
    "y_test = le.fit_transform(y_test)\n",
    "\n",
    "modelo_xgb = xgb.XGBClassifier(learning_rate=0.01, n_estimators=100, max_depth=3, random_state=42)\n",
    "modelo_xgb.fit(X_train, y_train)\n",
    "\n",
    "y_train_pred = modelo_xgb.predict(X_train)\n",
    "y_test_pred = modelo_xgb.predict(X_test)\n",
    "\n",
    "train_accuracy = accuracy_score(y_train, y_train_pred)\n",
    "print('% de aciertos sobre el set de entrenamiento:',train_accuracy*100)\n",
    "\n",
    "test_accuracy = accuracy_score(y_test, y_test_pred)\n",
    "print('% de aciertos sobre el set de evaluación:',test_accuracy*100)"
   ]
  },
  {
   "cell_type": "code",
   "execution_count": 57,
   "id": "83268c47",
   "metadata": {},
   "outputs": [
    {
     "data": {
      "text/html": [
       "<div>\n",
       "<style scoped>\n",
       "    .dataframe tbody tr th:only-of-type {\n",
       "        vertical-align: middle;\n",
       "    }\n",
       "\n",
       "    .dataframe tbody tr th {\n",
       "        vertical-align: top;\n",
       "    }\n",
       "\n",
       "    .dataframe thead th {\n",
       "        text-align: right;\n",
       "    }\n",
       "</style>\n",
       "<table border=\"1\" class=\"dataframe\">\n",
       "  <thead>\n",
       "    <tr style=\"text-align: right;\">\n",
       "      <th></th>\n",
       "      <th>feature</th>\n",
       "      <th>imp</th>\n",
       "    </tr>\n",
       "  </thead>\n",
       "  <tbody>\n",
       "    <tr>\n",
       "      <th>5</th>\n",
       "      <td>dif_clima</td>\n",
       "      <td>0.440498</td>\n",
       "    </tr>\n",
       "    <tr>\n",
       "      <th>6</th>\n",
       "      <td>edad</td>\n",
       "      <td>0.122095</td>\n",
       "    </tr>\n",
       "    <tr>\n",
       "      <th>7</th>\n",
       "      <td>nom_dia</td>\n",
       "      <td>0.116612</td>\n",
       "    </tr>\n",
       "    <tr>\n",
       "      <th>1</th>\n",
       "      <td>tipo</td>\n",
       "      <td>0.055141</td>\n",
       "    </tr>\n",
       "    <tr>\n",
       "      <th>10</th>\n",
       "      <td>sexo</td>\n",
       "      <td>0.054048</td>\n",
       "    </tr>\n",
       "    <tr>\n",
       "      <th>3</th>\n",
       "      <td>tipo_colision1</td>\n",
       "      <td>0.039690</td>\n",
       "    </tr>\n",
       "    <tr>\n",
       "      <th>0</th>\n",
       "      <td>causa</td>\n",
       "      <td>0.039643</td>\n",
       "    </tr>\n",
       "    <tr>\n",
       "      <th>4</th>\n",
       "      <td>m</td>\n",
       "      <td>0.038995</td>\n",
       "    </tr>\n",
       "    <tr>\n",
       "      <th>2</th>\n",
       "      <td>rol</td>\n",
       "      <td>0.037053</td>\n",
       "    </tr>\n",
       "    <tr>\n",
       "      <th>9</th>\n",
       "      <td>y</td>\n",
       "      <td>0.029036</td>\n",
       "    </tr>\n",
       "    <tr>\n",
       "      <th>8</th>\n",
       "      <td>x</td>\n",
       "      <td>0.027190</td>\n",
       "    </tr>\n",
       "  </tbody>\n",
       "</table>\n",
       "</div>"
      ],
      "text/plain": [
       "           feature       imp\n",
       "5        dif_clima  0.440498\n",
       "6             edad  0.122095\n",
       "7          nom_dia  0.116612\n",
       "1             tipo  0.055141\n",
       "10            sexo  0.054048\n",
       "3   tipo_colision1  0.039690\n",
       "0            causa  0.039643\n",
       "4                m  0.038995\n",
       "2              rol  0.037053\n",
       "9                y  0.029036\n",
       "8                x  0.027190"
      ]
     },
     "execution_count": 57,
     "metadata": {},
     "output_type": "execute_result"
    }
   ],
   "source": [
    "importancia = pd.DataFrame()\n",
    "importancia['feature'] = pd.Series(X.columns)\n",
    "importancia['imp'] = modelo_xgb.feature_importances_\n",
    "importancia.sort_values(by='imp', ascending=False)"
   ]
  },
  {
   "attachments": {},
   "cell_type": "markdown",
   "id": "708f3af3",
   "metadata": {},
   "source": [
    "REVISO LAS METRICAS"
   ]
  },
  {
   "cell_type": "code",
   "execution_count": 58,
   "id": "a077ecfd",
   "metadata": {},
   "outputs": [
    {
     "name": "stdout",
     "output_type": "stream",
     "text": [
      "Precisión: 0.381998190772942\n",
      "Exactitud: 0.763996381545884\n",
      "Puntuación F1: 0.4331054131054131\n"
     ]
    },
    {
     "name": "stderr",
     "output_type": "stream",
     "text": [
      "c:\\ProgramData\\Miniconda3\\lib\\site-packages\\sklearn\\metrics\\_classification.py:1334: UndefinedMetricWarning: Precision is ill-defined and being set to 0.0 in labels with no predicted samples. Use `zero_division` parameter to control this behavior.\n",
      "  _warn_prf(average, modifier, msg_start, len(result))\n"
     ]
    }
   ],
   "source": [
    "from sklearn.metrics import precision_score, accuracy_score, f1_score\n",
    "\n",
    "precision = precision_score(y_test, y_test_pred, average='macro')\n",
    "\n",
    "accuracy = accuracy_score(y_test, y_test_pred)\n",
    "\n",
    "f1 = f1_score(y_test, y_test_pred, average='macro')\n",
    "\n",
    "print(\"Precisión:\", precision)\n",
    "print(\"Exactitud:\", accuracy)\n",
    "print(\"Puntuación F1:\", f1)"
   ]
  },
  {
   "attachments": {},
   "cell_type": "markdown",
   "id": "057ec150",
   "metadata": {},
   "source": [
    "HAGO CROSS VALIDATION"
   ]
  },
  {
   "cell_type": "code",
   "execution_count": 59,
   "id": "51bc9c39",
   "metadata": {},
   "outputs": [
    {
     "name": "stdout",
     "output_type": "stream",
     "text": [
      "Accuracy por fold:  [0.76093043 0.76093043 0.76071505 0.76087893 0.76087893]\n",
      "Exactitud promedio:  0.7608667567461982\n"
     ]
    }
   ],
   "source": [
    "# Realizo la validación cruzada\n",
    "scores = cross_val_score(modelo_xgb, X_train, y_train, cv=5, scoring='accuracy')\n",
    "\n",
    "print(\"Accuracy por fold: \", scores)\n",
    "print(\"Exactitud promedio: \", scores.mean())"
   ]
  },
  {
   "attachments": {},
   "cell_type": "markdown",
   "id": "7ad35ce5",
   "metadata": {},
   "source": [
    "OBTUVE BUENAS METRICAS, AHORA INTENTARÉ MEJORAR LA EXACTITUD CON UN GRID SEARCH"
   ]
  },
  {
   "cell_type": "code",
   "execution_count": 60,
   "id": "5428ee0e",
   "metadata": {},
   "outputs": [
    {
     "name": "stdout",
     "output_type": "stream",
     "text": [
      "Exactitud en el conjunto de prueba:  0.767011759975877\n"
     ]
    }
   ],
   "source": [
    "# Defino los hiperparámetros y los rangos a explorar\n",
    "parameters = {\n",
    "    'max_depth': [2, 3, 6],\n",
    "    'learning_rate': [0.1, 0.01, 0.001],\n",
    "    'n_estimators': [300, 500, 100, 900],\n",
    "}\n",
    "\n",
    "grid_search = GridSearchCV(estimator=modelo_xgb, param_grid=parameters, scoring='accuracy', cv=5)\n",
    "grid_search.fit(X_train, y_train)\n",
    "\n",
    "# Obtengo los mejores hiperparámetros\n",
    "best_params = grid_search.best_params_\n",
    "best_model = grid_search.best_estimator_\n",
    "\n",
    "# Evaluo el modelo con los mejores hiperparámetros en el conjunto de prueba\n",
    "y_pred = best_model.predict(X_test)\n",
    "accuracy = accuracy_score(y_test, y_pred)\n",
    "print(\"Exactitud en el conjunto de prueba: \", accuracy)"
   ]
  },
  {
   "cell_type": "code",
   "execution_count": 61,
   "id": "fcf8a36d",
   "metadata": {},
   "outputs": [
    {
     "data": {
      "text/plain": [
       "{'learning_rate': 0.1, 'max_depth': 6, 'n_estimators': 100}"
      ]
     },
     "execution_count": 61,
     "metadata": {},
     "output_type": "execute_result"
    }
   ],
   "source": [
    "best_params"
   ]
  },
  {
   "attachments": {},
   "cell_type": "markdown",
   "id": "e626ab29",
   "metadata": {},
   "source": [
    "PRUEBO LO MISMO CON RANDOM FOREST"
   ]
  },
  {
   "cell_type": "code",
   "execution_count": 62,
   "id": "fd314391",
   "metadata": {},
   "outputs": [
    {
     "name": "stdout",
     "output_type": "stream",
     "text": [
      "% de aciertos sobre el set de entrenamiento: 76.59931934691767\n",
      "% de aciertos sobre el set de evaluación: 76.42979193888833\n"
     ]
    }
   ],
   "source": [
    "modelo_rf = RandomForestClassifier(n_estimators=300, max_depth=10, random_state=42)\n",
    "modelo_rf.fit(X_train, y_train)\n",
    "\n",
    "y_train_pred = modelo_rf.predict(X_train)\n",
    "y_test_pred = modelo_rf.predict(X_test)\n",
    "\n",
    "train_accuracy = accuracy_score(y_train, y_train_pred)\n",
    "print('% de aciertos sobre el set de entrenamiento:',train_accuracy*100)\n",
    "\n",
    "test_accuracy = accuracy_score(y_test, y_test_pred)\n",
    "print('% de aciertos sobre el set de evaluación:',test_accuracy*100)"
   ]
  },
  {
   "cell_type": "code",
   "execution_count": 63,
   "id": "f8b78ee9",
   "metadata": {},
   "outputs": [
    {
     "name": "stdout",
     "output_type": "stream",
     "text": [
      "Exactitud en el conjunto de prueba:  0.7642979193888833\n"
     ]
    }
   ],
   "source": [
    "parameters = {\n",
    "    'max_depth': [2, 5, 6, 10],\n",
    "    'n_estimators': [300, 500, 100, 1000],\n",
    "}\n",
    "\n",
    "grid_search = GridSearchCV(estimator=modelo_rf, param_grid=parameters, scoring='accuracy', cv=5)\n",
    "grid_search.fit(X_train, y_train)\n",
    "\n",
    "# Obtengo los mejores hiperparámetros\n",
    "best_params = grid_search.best_params_\n",
    "best_model = grid_search.best_estimator_\n",
    "\n",
    "# Evaluo el modelo con los mejores hiperparámetros en el conjunto de prueba\n",
    "y_pred = best_model.predict(X_test)\n",
    "accuracy = accuracy_score(y_test, y_pred)\n",
    "print(\"Exactitud en el conjunto de prueba: \", accuracy)"
   ]
  },
  {
   "cell_type": "code",
   "execution_count": 64,
   "id": "241c81d3",
   "metadata": {},
   "outputs": [
    {
     "data": {
      "text/plain": [
       "{'max_depth': 10, 'n_estimators': 100}"
      ]
     },
     "execution_count": 64,
     "metadata": {},
     "output_type": "execute_result"
    }
   ],
   "source": [
    "best_params"
   ]
  },
  {
   "cell_type": "code",
   "execution_count": 65,
   "id": "be5858c8",
   "metadata": {},
   "outputs": [
    {
     "data": {
      "text/html": [
       "<div>\n",
       "<style scoped>\n",
       "    .dataframe tbody tr th:only-of-type {\n",
       "        vertical-align: middle;\n",
       "    }\n",
       "\n",
       "    .dataframe tbody tr th {\n",
       "        vertical-align: top;\n",
       "    }\n",
       "\n",
       "    .dataframe thead th {\n",
       "        text-align: right;\n",
       "    }\n",
       "</style>\n",
       "<table border=\"1\" class=\"dataframe\">\n",
       "  <thead>\n",
       "    <tr style=\"text-align: right;\">\n",
       "      <th></th>\n",
       "      <th>feature</th>\n",
       "      <th>imp</th>\n",
       "    </tr>\n",
       "  </thead>\n",
       "  <tbody>\n",
       "    <tr>\n",
       "      <th>6</th>\n",
       "      <td>edad</td>\n",
       "      <td>0.173149</td>\n",
       "    </tr>\n",
       "    <tr>\n",
       "      <th>8</th>\n",
       "      <td>x</td>\n",
       "      <td>0.171096</td>\n",
       "    </tr>\n",
       "    <tr>\n",
       "      <th>9</th>\n",
       "      <td>y</td>\n",
       "      <td>0.166469</td>\n",
       "    </tr>\n",
       "    <tr>\n",
       "      <th>5</th>\n",
       "      <td>dif_clima</td>\n",
       "      <td>0.134561</td>\n",
       "    </tr>\n",
       "    <tr>\n",
       "      <th>4</th>\n",
       "      <td>m</td>\n",
       "      <td>0.087870</td>\n",
       "    </tr>\n",
       "    <tr>\n",
       "      <th>7</th>\n",
       "      <td>nom_dia</td>\n",
       "      <td>0.086522</td>\n",
       "    </tr>\n",
       "    <tr>\n",
       "      <th>1</th>\n",
       "      <td>tipo</td>\n",
       "      <td>0.053211</td>\n",
       "    </tr>\n",
       "    <tr>\n",
       "      <th>3</th>\n",
       "      <td>tipo_colision1</td>\n",
       "      <td>0.047641</td>\n",
       "    </tr>\n",
       "    <tr>\n",
       "      <th>2</th>\n",
       "      <td>rol</td>\n",
       "      <td>0.037782</td>\n",
       "    </tr>\n",
       "    <tr>\n",
       "      <th>10</th>\n",
       "      <td>sexo</td>\n",
       "      <td>0.023935</td>\n",
       "    </tr>\n",
       "    <tr>\n",
       "      <th>0</th>\n",
       "      <td>causa</td>\n",
       "      <td>0.017764</td>\n",
       "    </tr>\n",
       "  </tbody>\n",
       "</table>\n",
       "</div>"
      ],
      "text/plain": [
       "           feature       imp\n",
       "6             edad  0.173149\n",
       "8                x  0.171096\n",
       "9                y  0.166469\n",
       "5        dif_clima  0.134561\n",
       "4                m  0.087870\n",
       "7          nom_dia  0.086522\n",
       "1             tipo  0.053211\n",
       "3   tipo_colision1  0.047641\n",
       "2              rol  0.037782\n",
       "10            sexo  0.023935\n",
       "0            causa  0.017764"
      ]
     },
     "execution_count": 65,
     "metadata": {},
     "output_type": "execute_result"
    }
   ],
   "source": [
    "importancia = pd.DataFrame()\n",
    "importancia['feature'] = pd.Series(X.columns)\n",
    "importancia['imp'] = modelo_rf.feature_importances_\n",
    "importancia.sort_values(by='imp', ascending=False)"
   ]
  },
  {
   "attachments": {},
   "cell_type": "markdown",
   "id": "823bd609",
   "metadata": {},
   "source": [
    "POR ÚLTIMO, VOY A PREDECIR UNA VARIABLE CREADA LLAMADA \"finde\", QUE CONTIENE INFORMACIÓN SOBRE SI EL SINIESTRO SE DIO EN UN FIN DE SEMANA O NO.\n",
    "\n",
    "Para esto voy a quitar las columnas \"nom_dia\" y \"d\", que podrían aportar información que haga overfittear al modelo."
   ]
  },
  {
   "cell_type": "code",
   "execution_count": 66,
   "id": "be0d89a1",
   "metadata": {},
   "outputs": [
    {
     "data": {
      "text/plain": [
       "0    24787\n",
       "1     8375\n",
       "Name: finde, dtype: int64"
      ]
     },
     "execution_count": 66,
     "metadata": {},
     "output_type": "execute_result"
    }
   ],
   "source": [
    "sin_df.finde.value_counts()"
   ]
  },
  {
   "cell_type": "code",
   "execution_count": 67,
   "id": "35ecb150",
   "metadata": {},
   "outputs": [],
   "source": [
    "X = sin_df[['causa','tipo','rol','rango_edad','comuna','tipo_colision1','m','h','participantes_acusados','participantes_victimas','dif_clima','cantidad_victimas','x','y','tipo_calle']]\n",
    "y = sin_df['finde']"
   ]
  },
  {
   "cell_type": "code",
   "execution_count": 68,
   "id": "c2ea831f",
   "metadata": {},
   "outputs": [
    {
     "name": "stdout",
     "output_type": "stream",
     "text": [
      "<class 'pandas.core.frame.DataFrame'>\n",
      "Int64Index: 33162 entries, 0 to 33161\n",
      "Data columns (total 15 columns):\n",
      " #   Column                  Non-Null Count  Dtype  \n",
      "---  ------                  --------------  -----  \n",
      " 0   causa                   33162 non-null  int32  \n",
      " 1   tipo                    33162 non-null  int32  \n",
      " 2   rol                     33162 non-null  int32  \n",
      " 3   rango_edad              33162 non-null  int32  \n",
      " 4   comuna                  33162 non-null  int32  \n",
      " 5   tipo_colision1          33162 non-null  int32  \n",
      " 6   m                       33162 non-null  int32  \n",
      " 7   h                       33162 non-null  int32  \n",
      " 8   participantes_acusados  33162 non-null  int32  \n",
      " 9   participantes_victimas  33162 non-null  int32  \n",
      " 10  dif_clima               33162 non-null  int32  \n",
      " 11  cantidad_victimas       33162 non-null  int32  \n",
      " 12  x                       33162 non-null  float64\n",
      " 13  y                       33162 non-null  float64\n",
      " 14  tipo_calle              33162 non-null  int32  \n",
      "dtypes: float64(2), int32(13)\n",
      "memory usage: 2.4 MB\n"
     ]
    },
    {
     "name": "stderr",
     "output_type": "stream",
     "text": [
      "C:\\Users\\Seguridad\\AppData\\Local\\Temp\\ipykernel_16580\\796146892.py:3: SettingWithCopyWarning: \n",
      "A value is trying to be set on a copy of a slice from a DataFrame.\n",
      "Try using .loc[row_indexer,col_indexer] = value instead\n",
      "\n",
      "See the caveats in the documentation: https://pandas.pydata.org/pandas-docs/stable/user_guide/indexing.html#returning-a-view-versus-a-copy\n",
      "  X.rol = le.transform(X.rol)\n",
      "C:\\Users\\Seguridad\\AppData\\Local\\Temp\\ipykernel_16580\\796146892.py:6: SettingWithCopyWarning: \n",
      "A value is trying to be set on a copy of a slice from a DataFrame.\n",
      "Try using .loc[row_indexer,col_indexer] = value instead\n",
      "\n",
      "See the caveats in the documentation: https://pandas.pydata.org/pandas-docs/stable/user_guide/indexing.html#returning-a-view-versus-a-copy\n",
      "  X.tipo_colision1 = le.transform(X.tipo_colision1)\n",
      "C:\\Users\\Seguridad\\AppData\\Local\\Temp\\ipykernel_16580\\796146892.py:9: SettingWithCopyWarning: \n",
      "A value is trying to be set on a copy of a slice from a DataFrame.\n",
      "Try using .loc[row_indexer,col_indexer] = value instead\n",
      "\n",
      "See the caveats in the documentation: https://pandas.pydata.org/pandas-docs/stable/user_guide/indexing.html#returning-a-view-versus-a-copy\n",
      "  X.participantes_acusados = le.transform(X.participantes_acusados)\n",
      "C:\\Users\\Seguridad\\AppData\\Local\\Temp\\ipykernel_16580\\796146892.py:12: SettingWithCopyWarning: \n",
      "A value is trying to be set on a copy of a slice from a DataFrame.\n",
      "Try using .loc[row_indexer,col_indexer] = value instead\n",
      "\n",
      "See the caveats in the documentation: https://pandas.pydata.org/pandas-docs/stable/user_guide/indexing.html#returning-a-view-versus-a-copy\n",
      "  X.participantes_victimas = le.transform(X.participantes_victimas)\n",
      "C:\\Users\\Seguridad\\AppData\\Local\\Temp\\ipykernel_16580\\796146892.py:15: SettingWithCopyWarning: \n",
      "A value is trying to be set on a copy of a slice from a DataFrame.\n",
      "Try using .loc[row_indexer,col_indexer] = value instead\n",
      "\n",
      "See the caveats in the documentation: https://pandas.pydata.org/pandas-docs/stable/user_guide/indexing.html#returning-a-view-versus-a-copy\n",
      "  X.tipo = le.transform(X.tipo)\n"
     ]
    }
   ],
   "source": [
    "le = LabelEncoder()\n",
    "le.fit(X.rol)\n",
    "X.rol = le.transform(X.rol)\n",
    "\n",
    "le.fit(X.tipo_colision1)\n",
    "X.tipo_colision1 = le.transform(X.tipo_colision1)\n",
    "\n",
    "le.fit(X.participantes_acusados)\n",
    "X.participantes_acusados = le.transform(X.participantes_acusados)\n",
    "\n",
    "le.fit(X.participantes_victimas)\n",
    "X.participantes_victimas = le.transform(X.participantes_victimas)\n",
    "\n",
    "le.fit(X.tipo)\n",
    "X.tipo = le.transform(X.tipo)\n",
    "\n",
    "X.info()"
   ]
  },
  {
   "cell_type": "code",
   "execution_count": 69,
   "id": "205e4069",
   "metadata": {},
   "outputs": [],
   "source": [
    "X_train, X_test, y_train, y_test = train_test_split(\n",
    "                                        X,\n",
    "                                        y.values.reshape(-1,1),\n",
    "                                        train_size   = 0.7,\n",
    "                                        random_state = 1234,\n",
    "                                        shuffle      = True\n",
    "                                    )"
   ]
  },
  {
   "cell_type": "code",
   "execution_count": 70,
   "id": "cdf43571",
   "metadata": {},
   "outputs": [
    {
     "name": "stderr",
     "output_type": "stream",
     "text": [
      "C:\\Users\\Seguridad\\AppData\\Local\\Temp\\ipykernel_16580\\1174985466.py:2: DataConversionWarning: A column-vector y was passed when a 1d array was expected. Please change the shape of y to (n_samples,), for example using ravel().\n",
      "  modelo_rf.fit(X_train, y_train)\n"
     ]
    },
    {
     "name": "stdout",
     "output_type": "stream",
     "text": [
      "% de aciertos sobre el set de entrenamiento: 76.77594451385\n",
      "% de aciertos sobre el set de evaluación: 74.60046235802594\n"
     ]
    }
   ],
   "source": [
    "modelo_rf = RandomForestClassifier(n_estimators=1000, max_depth=10, random_state=42)\n",
    "modelo_rf.fit(X_train, y_train)\n",
    "\n",
    "y_train_pred = modelo_rf.predict(X_train)\n",
    "y_test_pred = modelo_rf.predict(X_test)\n",
    "\n",
    "train_accuracy = accuracy_score(y_train, y_train_pred)\n",
    "print('% de aciertos sobre el set de entrenamiento:',train_accuracy*100)\n",
    "\n",
    "test_accuracy = accuracy_score(y_test, y_test_pred)\n",
    "print('% de aciertos sobre el set de evaluación:',test_accuracy*100)"
   ]
  },
  {
   "cell_type": "code",
   "execution_count": 71,
   "id": "edf33ec4",
   "metadata": {},
   "outputs": [
    {
     "name": "stderr",
     "output_type": "stream",
     "text": [
      "c:\\ProgramData\\Miniconda3\\lib\\site-packages\\sklearn\\preprocessing\\_label.py:115: DataConversionWarning: A column-vector y was passed when a 1d array was expected. Please change the shape of y to (n_samples, ), for example using ravel().\n",
      "  y = column_or_1d(y, warn=True)\n"
     ]
    },
    {
     "name": "stdout",
     "output_type": "stream",
     "text": [
      "% de aciertos sobre el set de entrenamiento: 76.81471589195709\n",
      "% de aciertos sobre el set de evaluación: 74.62056488089254\n"
     ]
    }
   ],
   "source": [
    "le = LabelEncoder()\n",
    "\n",
    "y_train = le.fit_transform(y_train)\n",
    "y_test = le.fit_transform(y_test)\n",
    "\n",
    "modelo_xgb = xgb.XGBClassifier(learning_rate=0.1, n_estimators=100, max_depth=5, random_state=42)\n",
    "modelo_xgb.fit(X_train, y_train)\n",
    "\n",
    "y_train_pred = modelo_xgb.predict(X_train)\n",
    "y_test_pred = modelo_xgb.predict(X_test)\n",
    "\n",
    "train_accuracy = accuracy_score(y_train, y_train_pred)\n",
    "print('% de aciertos sobre el set de entrenamiento:',train_accuracy*100)\n",
    "\n",
    "test_accuracy = accuracy_score(y_test, y_test_pred)\n",
    "print('% de aciertos sobre el set de evaluación:',test_accuracy*100)"
   ]
  },
  {
   "cell_type": "code",
   "execution_count": 72,
   "id": "30ec1081",
   "metadata": {},
   "outputs": [
    {
     "name": "stdout",
     "output_type": "stream",
     "text": [
      "Exactitud en el conjunto de prueba:  0.7502261533822495\n"
     ]
    }
   ],
   "source": [
    "parameters = {\n",
    "    'max_depth': [2, 5, 6, 10],\n",
    "    'n_estimators': [300, 500, 100, 1000],\n",
    "    'learning_rate': [0.1, 0.3, 0.8, 1]\n",
    "}\n",
    "\n",
    "grid_search = GridSearchCV(estimator=modelo_xgb, param_grid=parameters, scoring='accuracy', cv=5)\n",
    "grid_search.fit(X_train, y_train)\n",
    "\n",
    "# Obtengo los mejores hiperparámetros\n",
    "best_params = grid_search.best_params_\n",
    "best_model = grid_search.best_estimator_\n",
    "\n",
    "# Evaluo el modelo con los mejores hiperparámetros en el conjunto de prueba\n",
    "y_pred = best_model.predict(X_test)\n",
    "accuracy = accuracy_score(y_test, y_pred)\n",
    "print(\"Exactitud en el conjunto de prueba: \", accuracy)"
   ]
  },
  {
   "attachments": {},
   "cell_type": "markdown",
   "id": "dcc428b1",
   "metadata": {},
   "source": [
    "PARA LAS PREDICCIONES DE 'finde' y 'de_dia', LOS RESULTADOS DE XGB Y RANDOM FOREST SON SIMILARES, PERO ELEGIRÉ EL MODELO QUE UTILIZA XGBOOST."
   ]
  },
  {
   "attachments": {},
   "cell_type": "markdown",
   "id": "73cd0173",
   "metadata": {},
   "source": []
  }
 ],
 "metadata": {
  "kernelspec": {
   "display_name": "Python 3",
   "language": "python",
   "name": "python3"
  },
  "language_info": {
   "codemirror_mode": {
    "name": "ipython",
    "version": 3
   },
   "file_extension": ".py",
   "mimetype": "text/x-python",
   "name": "python",
   "nbconvert_exporter": "python",
   "pygments_lexer": "ipython3",
   "version": "3.9.12"
  }
 },
 "nbformat": 4,
 "nbformat_minor": 5
}
