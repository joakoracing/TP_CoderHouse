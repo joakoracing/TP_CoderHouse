{
 "cells": [
  {
   "attachments": {},
   "cell_type": "markdown",
   "id": "4e78b6a3",
   "metadata": {},
   "source": [
    "COMIENZA CARGA DE DATOS\n",
    "\n",
    "Cargo en primer lugar las librerias que usaré, luego cargo el set de datos elegido; este contiene datos de siniestros de tránsito en la Ciudad de Buenos Aires, entre los años 2015 y 2018. "
   ]
  },
  {
   "cell_type": "code",
   "execution_count": 1,
   "id": "0a5d3ee3",
   "metadata": {},
   "outputs": [],
   "source": [
    "import numpy as np\n",
    "import pandas as pd\n",
    "import scipy.sparse as sp\n",
    "import matplotlib.pyplot as plt\n",
    "import matplotlib.dates as mdates\n",
    "import matplotlib as mpl\n",
    "import seaborn as sns\n",
    "\n",
    "from sklearn.linear_model import LinearRegression\n",
    "from sklearn.model_selection import train_test_split\n",
    "from sklearn.preprocessing import OneHotEncoder\n",
    "from sklearn.tree import DecisionTreeClassifier\n",
    "from sklearn.preprocessing import MinMaxScaler\n",
    "from sklearn.svm import SVC\n",
    "from sklearn.metrics import accuracy_score"
   ]
  },
  {
   "cell_type": "code",
   "execution_count": 2,
   "id": "56a62ec3",
   "metadata": {},
   "outputs": [
    {
     "name": "stderr",
     "output_type": "stream",
     "text": [
      "C:\\Users\\Seguridad\\AppData\\Local\\Temp\\ipykernel_10540\\1239150759.py:2: DtypeWarning: Columns (9) have mixed types. Specify dtype option on import or set low_memory=False.\n",
      "  sin_df = pd.read_csv(siniestros)\n"
     ]
    }
   ],
   "source": [
    "siniestros = 'victimas-siniestros.csv'\n",
    "sin_df = pd.read_csv(siniestros)"
   ]
  },
  {
   "attachments": {},
   "cell_type": "markdown",
   "id": "c6cc7c57",
   "metadata": {},
   "source": [
    "COMIENZA EL PROCESO DE LIMPIEZA DEL DATASET"
   ]
  },
  {
   "cell_type": "code",
   "execution_count": 3,
   "id": "47a39ca8",
   "metadata": {},
   "outputs": [
    {
     "data": {
      "text/html": [
       "<div>\n",
       "<style scoped>\n",
       "    .dataframe tbody tr th:only-of-type {\n",
       "        vertical-align: middle;\n",
       "    }\n",
       "\n",
       "    .dataframe tbody tr th {\n",
       "        vertical-align: top;\n",
       "    }\n",
       "\n",
       "    .dataframe thead th {\n",
       "        text-align: right;\n",
       "    }\n",
       "</style>\n",
       "<table border=\"1\" class=\"dataframe\">\n",
       "  <thead>\n",
       "    <tr style=\"text-align: right;\">\n",
       "      <th></th>\n",
       "      <th>causa</th>\n",
       "      <th>rol</th>\n",
       "      <th>tipo</th>\n",
       "      <th>sexo</th>\n",
       "      <th>edad</th>\n",
       "      <th>mes</th>\n",
       "      <th>periodo</th>\n",
       "      <th>fecha</th>\n",
       "      <th>hora</th>\n",
       "      <th>lugar_hecho</th>\n",
       "      <th>...</th>\n",
       "      <th>semestre</th>\n",
       "      <th>x</th>\n",
       "      <th>y</th>\n",
       "      <th>geom</th>\n",
       "      <th>cantidad_victimas</th>\n",
       "      <th>comuna</th>\n",
       "      <th>geom_3857</th>\n",
       "      <th>tipo_colision1</th>\n",
       "      <th>participantes_victimas</th>\n",
       "      <th>participantes_acusados</th>\n",
       "    </tr>\n",
       "  </thead>\n",
       "  <tbody>\n",
       "    <tr>\n",
       "      <th>0</th>\n",
       "      <td>homicidio</td>\n",
       "      <td>conductor</td>\n",
       "      <td>moto</td>\n",
       "      <td>NaN</td>\n",
       "      <td>NaN</td>\n",
       "      <td>2.0</td>\n",
       "      <td>2015</td>\n",
       "      <td>2/14/2015</td>\n",
       "      <td>19:00:00</td>\n",
       "      <td>cafayate y severo garcia grande de zequeira</td>\n",
       "      <td>...</td>\n",
       "      <td>1</td>\n",
       "      <td>-58.508658</td>\n",
       "      <td>-34.653489</td>\n",
       "      <td>0101000020E610000057E042B51B414DC008419885A553...</td>\n",
       "      <td>1</td>\n",
       "      <td>9.0</td>\n",
       "      <td>0101000020110F0000DE9B958180D858C1EC802966CD68...</td>\n",
       "      <td>motovehiculo - vehiculo</td>\n",
       "      <td>moto</td>\n",
       "      <td>automovil</td>\n",
       "    </tr>\n",
       "    <tr>\n",
       "      <th>1</th>\n",
       "      <td>homicidio</td>\n",
       "      <td>NaN</td>\n",
       "      <td>NaN</td>\n",
       "      <td>NaN</td>\n",
       "      <td>NaN</td>\n",
       "      <td>2.0</td>\n",
       "      <td>2015</td>\n",
       "      <td>2/25/2015</td>\n",
       "      <td>3:00:00</td>\n",
       "      <td>lugones, leopoldo av. y udaondo, guillermo av.</td>\n",
       "      <td>...</td>\n",
       "      <td>1</td>\n",
       "      <td>-58.447680</td>\n",
       "      <td>-34.543513</td>\n",
       "      <td>0101000020E6100000CC4C4C904D394DC0FAF382D99145...</td>\n",
       "      <td>1</td>\n",
       "      <td>13.0</td>\n",
       "      <td>0101000020110F0000BFBC457BDFD158C1E1DDA818C14B...</td>\n",
       "      <td>NaN</td>\n",
       "      <td>NaN</td>\n",
       "      <td>NaN</td>\n",
       "    </tr>\n",
       "    <tr>\n",
       "      <th>2</th>\n",
       "      <td>homicidio</td>\n",
       "      <td>peaton</td>\n",
       "      <td>peaton</td>\n",
       "      <td>femenino</td>\n",
       "      <td>NaN</td>\n",
       "      <td>2.0</td>\n",
       "      <td>2015</td>\n",
       "      <td>2/27/2015</td>\n",
       "      <td>8:00:00</td>\n",
       "      <td>avda jujuy y avda independencia</td>\n",
       "      <td>...</td>\n",
       "      <td>1</td>\n",
       "      <td>-58.403516</td>\n",
       "      <td>-34.618839</td>\n",
       "      <td>0101000020E6100000FBC35B67A6334DC03F854E1F364F...</td>\n",
       "      <td>1</td>\n",
       "      <td>3.0</td>\n",
       "      <td>0101000020110F0000F8067D6812CD58C189755F66A55F...</td>\n",
       "      <td>peaton - vehiculo</td>\n",
       "      <td>peaton</td>\n",
       "      <td>\"transporte publico\"</td>\n",
       "    </tr>\n",
       "  </tbody>\n",
       "</table>\n",
       "<p>3 rows × 29 columns</p>\n",
       "</div>"
      ],
      "text/plain": [
       "       causa        rol    tipo      sexo  edad  mes  periodo      fecha  \\\n",
       "0  homicidio  conductor    moto       NaN   NaN  2.0     2015  2/14/2015   \n",
       "1  homicidio        NaN     NaN       NaN   NaN  2.0     2015  2/25/2015   \n",
       "2  homicidio     peaton  peaton  femenino   NaN  2.0     2015  2/27/2015   \n",
       "\n",
       "       hora                                     lugar_hecho  ... semestre  \\\n",
       "0  19:00:00     cafayate y severo garcia grande de zequeira  ...        1   \n",
       "1   3:00:00  lugones, leopoldo av. y udaondo, guillermo av.  ...        1   \n",
       "2   8:00:00                 avda jujuy y avda independencia  ...        1   \n",
       "\n",
       "           x          y                                               geom  \\\n",
       "0 -58.508658 -34.653489  0101000020E610000057E042B51B414DC008419885A553...   \n",
       "1 -58.447680 -34.543513  0101000020E6100000CC4C4C904D394DC0FAF382D99145...   \n",
       "2 -58.403516 -34.618839  0101000020E6100000FBC35B67A6334DC03F854E1F364F...   \n",
       "\n",
       "   cantidad_victimas comuna  \\\n",
       "0                  1    9.0   \n",
       "1                  1   13.0   \n",
       "2                  1    3.0   \n",
       "\n",
       "                                           geom_3857           tipo_colision1  \\\n",
       "0  0101000020110F0000DE9B958180D858C1EC802966CD68...  motovehiculo - vehiculo   \n",
       "1  0101000020110F0000BFBC457BDFD158C1E1DDA818C14B...                      NaN   \n",
       "2  0101000020110F0000F8067D6812CD58C189755F66A55F...        peaton - vehiculo   \n",
       "\n",
       "  participantes_victimas  participantes_acusados  \n",
       "0                   moto               automovil  \n",
       "1                    NaN                     NaN  \n",
       "2                 peaton    \"transporte publico\"  \n",
       "\n",
       "[3 rows x 29 columns]"
      ]
     },
     "execution_count": 3,
     "metadata": {},
     "output_type": "execute_result"
    }
   ],
   "source": [
    "sin_df.head(3)"
   ]
  },
  {
   "cell_type": "code",
   "execution_count": 4,
   "id": "b4ddd29f",
   "metadata": {},
   "outputs": [
    {
     "name": "stdout",
     "output_type": "stream",
     "text": [
      "<class 'pandas.core.frame.DataFrame'>\n",
      "RangeIndex: 33234 entries, 0 to 33233\n",
      "Data columns (total 29 columns):\n",
      " #   Column                        Non-Null Count  Dtype  \n",
      "---  ------                        --------------  -----  \n",
      " 0   causa                         33234 non-null  object \n",
      " 1   rol                           32899 non-null  object \n",
      " 2   tipo                          32134 non-null  object \n",
      " 3   sexo                          33037 non-null  object \n",
      " 4   edad                          32675 non-null  float64\n",
      " 5   mes                           33197 non-null  float64\n",
      " 6   periodo                       33234 non-null  int64  \n",
      " 7   fecha                         33173 non-null  object \n",
      " 8   hora                          33217 non-null  object \n",
      " 9   lugar_hecho                   29518 non-null  object \n",
      " 10  direccion_normalizada         32469 non-null  object \n",
      " 11  tipo_calle                    33234 non-null  object \n",
      " 12  direccion_normalizada_arcgis  32462 non-null  object \n",
      " 13  calle1                        32469 non-null  object \n",
      " 14  altura                        7111 non-null   float64\n",
      " 15  calle2                        24987 non-null  object \n",
      " 16  codigo_calle                  23944 non-null  float64\n",
      " 17  codigo_cruce                  20709 non-null  float64\n",
      " 18  geocodificacion               32139 non-null  object \n",
      " 19  semestre                      33234 non-null  int64  \n",
      " 20  x                             32139 non-null  float64\n",
      " 21  y                             32139 non-null  float64\n",
      " 22  geom                          32139 non-null  object \n",
      " 23  cantidad_victimas             33234 non-null  int64  \n",
      " 24  comuna                        32136 non-null  float64\n",
      " 25  geom_3857                     32139 non-null  object \n",
      " 26  tipo_colision1                31891 non-null  object \n",
      " 27  participantes_victimas        32103 non-null  object \n",
      " 28  participantes_acusados        32557 non-null  object \n",
      "dtypes: float64(8), int64(3), object(18)\n",
      "memory usage: 7.4+ MB\n"
     ]
    }
   ],
   "source": [
    "sin_df.info()"
   ]
  },
  {
   "attachments": {},
   "cell_type": "markdown",
   "id": "11d38026",
   "metadata": {},
   "source": [
    "EN PRIMERA INSTANCIA DE LA EXPLORACION, VOY A ESTABLECER UN OBJETIVO GENERAL:\n",
    "\n",
    "- QUIERO MINIMIZAR LA CANTIDAD DE ACCIDENTES DE AUTOS, MOTOS Y BICICLETAS (en este ejemplo me contrataría gobierno de la Ciudad de Buenos Aires). PARA ESTO HABRIA QUE TOMAR MEDIDAS DE TODO TIPO, COMO CONTROLES POLICIALES, CARTELES PREVENTIVOS, ARREGLOS DE CALLE, CAMARAS-MULTA, ETC.\n",
    "\n",
    "-------------------------------------------------------------------------------------------------------------------------------"
   ]
  },
  {
   "attachments": {},
   "cell_type": "markdown",
   "id": "338edc03",
   "metadata": {},
   "source": [
    "CON ESTE OBJETIVO EN MENTE, VOY A ELEGIR QUE COLUMNAS SON LAS QUE MAS INFORMACION PUEDEN APORTAR Y CUALES SON LAS QUE TIENEN INFORMACION REDUNDANTE.\n",
    "\n",
    "EN UNA PRIMERA IMPRESION, ASUMO QUE LAS COLUMNAS MAS IMPORTANTES SON:\n",
    "\n",
    "- causa\n",
    "- rol\n",
    "- tipo\n",
    "- sexo\n",
    "- edad\n",
    "- fecha\n",
    "- hora\n",
    "- tipo_calle\n",
    "- calle1\n",
    "- calle2\n",
    "- x\n",
    "- y\n",
    "- cantidad_victimas\n",
    "- comuna\n",
    "- participantes_victimas\n",
    "- participantes_acusados\n",
    "\n",
    "EL RESTO DE COLUMAS CONTIENEN INFORMACION QUE APARECE EN ESTAS COLUMNAS SELECCIONADAS, PERO EN OTRO FORMATO.\n",
    "\n",
    "PROCEDO A QUEDARME SOLO CON LAS COLUMNAS ELEGIDAS Y REVISO LOS DATOS NULOS"
   ]
  },
  {
   "cell_type": "code",
   "execution_count": 5,
   "id": "a40136ac",
   "metadata": {},
   "outputs": [
    {
     "data": {
      "text/plain": [
       "causa                        0\n",
       "rol                        335\n",
       "tipo                      1100\n",
       "sexo                       197\n",
       "edad                       559\n",
       "fecha                       61\n",
       "hora                        17\n",
       "tipo_calle                   0\n",
       "calle1                     765\n",
       "calle2                    8247\n",
       "x                         1095\n",
       "y                         1095\n",
       "cantidad_victimas            0\n",
       "comuna                    1098\n",
       "tipo_colision1            1343\n",
       "participantes_acusados     677\n",
       "participantes_victimas    1131\n",
       "dtype: int64"
      ]
     },
     "execution_count": 5,
     "metadata": {},
     "output_type": "execute_result"
    }
   ],
   "source": [
    "sin_df = sin_df[['causa','rol','tipo','sexo','edad','fecha','hora','tipo_calle','calle1','calle2','x','y','cantidad_victimas','comuna','tipo_colision1','participantes_acusados','participantes_victimas']]\n",
    "sin_df.isnull().sum()"
   ]
  },
  {
   "attachments": {},
   "cell_type": "markdown",
   "id": "349e06dd",
   "metadata": {},
   "source": [
    "BORRO LAS FILAS QUE TIENEN EL CAMPO FECHA Y HORA VACIOS, PORQUE SON MUY POCOS DATOS QUE PIERDO."
   ]
  },
  {
   "cell_type": "code",
   "execution_count": 6,
   "id": "ab2f4da8",
   "metadata": {},
   "outputs": [
    {
     "data": {
      "text/plain": [
       "fecha    0\n",
       "hora     0\n",
       "dtype: int64"
      ]
     },
     "execution_count": 6,
     "metadata": {},
     "output_type": "execute_result"
    }
   ],
   "source": [
    "sin_df.dropna(subset=['fecha','hora'],inplace=True)\n",
    "sin_df[['fecha','hora']].isnull().sum()"
   ]
  },
  {
   "attachments": {},
   "cell_type": "markdown",
   "id": "532afa34",
   "metadata": {},
   "source": [
    "AHORA VOY A SIMPLIFICAR LAS COLUMNAS 'tipo' Y 'tipo_colision1' PARA QUE SEAN UTILIZABLES."
   ]
  },
  {
   "cell_type": "code",
   "execution_count": 7,
   "id": "85da58d5",
   "metadata": {},
   "outputs": [],
   "source": [
    "sin_df['tipo_colision1'].fillna('sin_data',inplace=True)\n",
    "sin_df['tipo'].fillna('sin_data',inplace=True)\n",
    "\n",
    "def simplificar_tipocol(tipo):\n",
    "\n",
    "    if '-' in tipo:\n",
    "        ac, vi = tipo.split('-')\n",
    "    else:\n",
    "        return tipo\n",
    "    \n",
    "    if tipo == 'vehiculo - motovehiculo' or tipo == 'motovehiculo - vehiculo':\n",
    "        return 'motovehiculo - vehiculo'\n",
    "    elif tipo == 'vehiculo - peaton' or tipo == 'peaton - vehiculo':\n",
    "        return 'peaton - vehiculo'\n",
    "    elif tipo == 'vehiculo - bicicleta' or tipo == 'bicicleta - vehiculo':\n",
    "        return 'bicicleta - vehiculo'\n",
    "    elif tipo == 'traccion a sangre - vehiculo' or tipo == 'motovehiculo - traccion a sangre' or tipo == 'motovehiculo - tren' or tipo == 'subte - vehiculo':\n",
    "        return 'sin_data'\n",
    "    elif 'bicicleta' in tipo:\n",
    "        return 'bicicleta'\n",
    "    elif 'peaton' in tipo:\n",
    "        return 'peaton'\n",
    "    else:\n",
    "        return tipo\n",
    "\n",
    "def simplificar_tipo(tipo):\n",
    "    \n",
    "    if tipo == 'auto pfa / movil / gendarmeria / metropolitana / moto movil' or tipo == 'vehiculo oficial':\n",
    "        st = 'fuerza seguridad'\n",
    "    elif tipo == 'transporte de cargas / grua' or tipo == 'utilitario':\n",
    "        st = 'camion'\n",
    "    elif tipo == 'transporte escolar' or tipo == 'omnibus / minibus':\n",
    "        st = 'transporte publico'\n",
    "    elif tipo == 'ambulancia':\n",
    "        st = 'camioneta'\n",
    "    elif tipo == 'traccion a sangre' or tipo == 'autobomba' or tipo == 'patineta' or tipo == 'cuatriciclo' or tipo == 'tren / subte' or tipo == 'tren / subte / tranvia' or tipo == 'vehiculo rural' or tipo == 'otros':\n",
    "        st = 'sin_data'\n",
    "    else:\n",
    "        return tipo\n",
    "    return st"
   ]
  },
  {
   "cell_type": "code",
   "execution_count": 8,
   "id": "59eac8c3",
   "metadata": {
    "scrolled": true
   },
   "outputs": [
    {
     "data": {
      "text/html": [
       "<div>\n",
       "<style scoped>\n",
       "    .dataframe tbody tr th:only-of-type {\n",
       "        vertical-align: middle;\n",
       "    }\n",
       "\n",
       "    .dataframe tbody tr th {\n",
       "        vertical-align: top;\n",
       "    }\n",
       "\n",
       "    .dataframe thead th {\n",
       "        text-align: right;\n",
       "    }\n",
       "</style>\n",
       "<table border=\"1\" class=\"dataframe\">\n",
       "  <thead>\n",
       "    <tr style=\"text-align: right;\">\n",
       "      <th></th>\n",
       "      <th>tipo</th>\n",
       "      <th>tipo_colision1</th>\n",
       "    </tr>\n",
       "  </thead>\n",
       "  <tbody>\n",
       "    <tr>\n",
       "      <th>count</th>\n",
       "      <td>33162</td>\n",
       "      <td>33162</td>\n",
       "    </tr>\n",
       "    <tr>\n",
       "      <th>unique</th>\n",
       "      <td>10</td>\n",
       "      <td>9</td>\n",
       "    </tr>\n",
       "    <tr>\n",
       "      <th>top</th>\n",
       "      <td>moto</td>\n",
       "      <td>motovehiculo - vehiculo</td>\n",
       "    </tr>\n",
       "    <tr>\n",
       "      <th>freq</th>\n",
       "      <td>12989</td>\n",
       "      <td>11378</td>\n",
       "    </tr>\n",
       "  </tbody>\n",
       "</table>\n",
       "</div>"
      ],
      "text/plain": [
       "         tipo           tipo_colision1\n",
       "count   33162                    33162\n",
       "unique     10                        9\n",
       "top      moto  motovehiculo - vehiculo\n",
       "freq    12989                    11378"
      ]
     },
     "execution_count": 8,
     "metadata": {},
     "output_type": "execute_result"
    }
   ],
   "source": [
    "sin_df['tipo'] = sin_df['tipo'].apply(simplificar_tipo)#.astype('|S80')\n",
    "\n",
    "sin_df['tipo_colision1'] = sin_df['tipo_colision1'].apply(simplificar_tipocol)#.astype('|S80')\n",
    "\n",
    "sin_df[['tipo','tipo_colision1']].describe()"
   ]
  },
  {
   "attachments": {},
   "cell_type": "markdown",
   "id": "eb417d14",
   "metadata": {},
   "source": [
    "DEBERIA RELLENAR LOS NULOS DE 'tipo' CON INFORMACION DE OTRAS COLUMNAS PARA MEJORAR LA CALIDAD DE LA INFORMACION"
   ]
  },
  {
   "attachments": {},
   "cell_type": "markdown",
   "id": "10e15e6a",
   "metadata": {},
   "source": [
    "AHORA VOY A RELLENAR LOS CAMPOS CON VALOR NULO"
   ]
  },
  {
   "cell_type": "code",
   "execution_count": 9,
   "id": "82a15e75",
   "metadata": {},
   "outputs": [],
   "source": [
    "sin_df['comuna'].fillna(0,inplace=True)\n",
    "sin_df['comuna'] = sin_df['comuna'].astype(int)"
   ]
  },
  {
   "cell_type": "code",
   "execution_count": 10,
   "id": "dd08aa37",
   "metadata": {},
   "outputs": [],
   "source": [
    "sin_df['rol'].fillna('sin_data',inplace=True)\n",
    "sin_df['sexo'].fillna('sin_data',inplace=True)\n",
    "sin_df['calle1'].fillna('sin_data',inplace=True)\n",
    "sin_df['calle2'].fillna('sin_data',inplace=True)\n",
    "sin_df['participantes_acusados'].fillna('sin_data',inplace=True)\n",
    "sin_df['participantes_victimas'].fillna('sin_data',inplace=True)\n",
    "sin_df['x'].fillna(-1,inplace=True)\n",
    "sin_df['y'].fillna(-1,inplace=True)\n",
    "sin_df['edad'].fillna(sin_df.edad.mean(),inplace=True)"
   ]
  },
  {
   "attachments": {},
   "cell_type": "markdown",
   "id": "69d6bd05",
   "metadata": {},
   "source": [
    "EN LOS SIGUIENTES CASILLEROS VOY A LIMPIAR Y NORMALIZAR COLUMNAS"
   ]
  },
  {
   "cell_type": "code",
   "execution_count": 11,
   "id": "0e3563ac",
   "metadata": {},
   "outputs": [
    {
     "data": {
      "text/plain": [
       "tipo_calle\n",
       "2    21355\n",
       "3    11659\n",
       "1      148\n",
       "dtype: int64"
      ]
     },
     "execution_count": 11,
     "metadata": {},
     "output_type": "execute_result"
    }
   ],
   "source": [
    "def normalizar_causa(causa):\n",
    "    if causa == 'lesiones':\n",
    "        return 1\n",
    "    elif causa == 'homicidio':\n",
    "        return 2\n",
    "    else:\n",
    "        return 0\n",
    "\n",
    "\n",
    "def normalizar_sexo(sexo):\n",
    "    if sexo == 'masculino':\n",
    "        return 1\n",
    "    elif sexo == 'femenino':\n",
    "        return 2\n",
    "    else:\n",
    "        return 0\n",
    "    \n",
    "def normalizar_tipo_calle(calle):\n",
    "    if calle == 'autopista':\n",
    "        return 1\n",
    "    elif calle == 'avenida':\n",
    "        return 2\n",
    "    elif calle == 'calle':\n",
    "        return 3\n",
    "    else:\n",
    "        return 0\n",
    "    \n",
    "sin_df['sexo'] = sin_df['sexo'].apply(normalizar_sexo)\n",
    "sin_df['causa'] = sin_df['causa'].apply(normalizar_causa)\n",
    "sin_df['tipo_calle'] = sin_df['tipo_calle'].apply(normalizar_tipo_calle)\n",
    "sin_df.value_counts('tipo_calle')\n",
    "\n",
    "# masculino -> 1\n",
    "# femenino -> 2\n",
    "# sin data -> 0\n",
    "\n",
    "# lesiones -> 1\n",
    "# muerte -> 2"
   ]
  },
  {
   "cell_type": "code",
   "execution_count": 12,
   "id": "997ac435",
   "metadata": {},
   "outputs": [
    {
     "data": {
      "text/plain": [
       "rango_edad\n",
       "2    10208\n",
       "3     9000\n",
       "4     4662\n",
       "1     2932\n",
       "5     2765\n",
       "6     1916\n",
       "7     1679\n",
       "dtype: int64"
      ]
     },
     "execution_count": 12,
     "metadata": {},
     "output_type": "execute_result"
    }
   ],
   "source": [
    "def edades(edad):\n",
    "    rango = 0\n",
    "    \n",
    "    if (edad<20):\n",
    "        rango=1\n",
    "    elif (edad<30):\n",
    "        rango=2\n",
    "    elif (edad<40):\n",
    "        rango=3\n",
    "    elif (edad<50):\n",
    "        rango=4\n",
    "    elif (edad<60):\n",
    "        rango=5\n",
    "    elif (edad<70):\n",
    "        rango=6\n",
    "    else:\n",
    "        rango=7\n",
    "    return rango\n",
    "\n",
    "sin_df['rango_edad'] = sin_df['edad'].apply(edades)\n",
    "sin_df.value_counts('rango_edad')"
   ]
  },
  {
   "attachments": {},
   "cell_type": "markdown",
   "id": "f32e6f66",
   "metadata": {},
   "source": [
    "LE DOY UN FORMATO DESEADO A LA HORA Y FECHA"
   ]
  },
  {
   "cell_type": "code",
   "execution_count": 13,
   "id": "97b12590",
   "metadata": {},
   "outputs": [
    {
     "data": {
      "text/plain": [
       "hora\n",
       "18    2215\n",
       "13    2186\n",
       "14    2115\n",
       "17    2106\n",
       "12    2029\n",
       "dtype: int64"
      ]
     },
     "execution_count": 13,
     "metadata": {},
     "output_type": "execute_result"
    }
   ],
   "source": [
    "def extraer_hora(hora):\n",
    "    return hora.hour\n",
    "\n",
    "sin_df['hora'] = pd.to_datetime(sin_df['hora']).apply(extraer_hora)\n",
    "sin_df['hora'] = sin_df['hora'].astype(int)\n",
    "sin_df.value_counts('hora').head()"
   ]
  },
  {
   "cell_type": "code",
   "execution_count": 14,
   "id": "04f6c269",
   "metadata": {},
   "outputs": [],
   "source": [
    "def crear_fecha(fecha):\n",
    "\n",
    "    if \"/\" in fecha:\n",
    "        fecha = fecha.split(\"/\")\n",
    "        fecha[0] = int(fecha[0])\n",
    "        fecha[1] = int(fecha[1])\n",
    "        fecha[2] = int(fecha[2])\n",
    "        aux = fecha[1]\n",
    "        fecha[1] = fecha[0]\n",
    "        fecha[0] = aux\n",
    "        return fecha\n",
    "    \n",
    "    elif \"-\" in fecha:\n",
    "        fecha = fecha.split(\"-\")\n",
    "        fecha[0] = int(fecha[0])\n",
    "        fecha[1] = int(fecha[1])\n",
    "        fecha[2] = int(fecha[2])\n",
    "        fecha[2] = 2000 + fecha[2]\n",
    "        return fecha\n",
    "\n",
    "\n",
    "def dia(d):\n",
    "    return d[0]\n",
    "\n",
    "def mes(d):\n",
    "    return d[1]\n",
    "\n",
    "def anio(d):\n",
    "    return d[2]"
   ]
  },
  {
   "cell_type": "code",
   "execution_count": 15,
   "id": "b0743427",
   "metadata": {},
   "outputs": [
    {
     "name": "stdout",
     "output_type": "stream",
     "text": [
      "<class 'pandas.core.frame.DataFrame'>\n",
      "Int64Index: 33162 entries, 0 to 33232\n",
      "Data columns (total 22 columns):\n",
      " #   Column                  Non-Null Count  Dtype  \n",
      "---  ------                  --------------  -----  \n",
      " 0   causa                   33162 non-null  int64  \n",
      " 1   rol                     33162 non-null  object \n",
      " 2   tipo                    33162 non-null  object \n",
      " 3   sexo                    33162 non-null  int64  \n",
      " 4   edad                    33162 non-null  float64\n",
      " 5   fecha                   33162 non-null  object \n",
      " 6   hora                    33162 non-null  int32  \n",
      " 7   tipo_calle              33162 non-null  int64  \n",
      " 8   calle1                  33162 non-null  object \n",
      " 9   calle2                  33162 non-null  object \n",
      " 10  x                       33162 non-null  float64\n",
      " 11  y                       33162 non-null  float64\n",
      " 12  cantidad_victimas       33162 non-null  int64  \n",
      " 13  comuna                  33162 non-null  int32  \n",
      " 14  tipo_colision1          33162 non-null  object \n",
      " 15  participantes_acusados  33162 non-null  object \n",
      " 16  participantes_victimas  33162 non-null  object \n",
      " 17  rango_edad              33162 non-null  int64  \n",
      " 18  fecha_norm              33162 non-null  object \n",
      " 19  d                       33162 non-null  int64  \n",
      " 20  m                       33162 non-null  int64  \n",
      " 21  a                       33162 non-null  int64  \n",
      "dtypes: float64(3), int32(2), int64(8), object(9)\n",
      "memory usage: 5.6+ MB\n"
     ]
    }
   ],
   "source": [
    "#sin_df = sin_df.dropna(subset='fecha')\n",
    "sin_df['fecha_norm'] = sin_df['fecha'].apply(crear_fecha)\n",
    "\n",
    "sin_df['d'] = sin_df['fecha_norm'].apply(dia)\n",
    "sin_df['m'] = sin_df['fecha_norm'].apply(mes)\n",
    "sin_df['a'] = sin_df['fecha_norm'].apply(anio)\n",
    "\n",
    "sin_df.info()"
   ]
  },
  {
   "attachments": {},
   "cell_type": "markdown",
   "id": "ce40d9ad",
   "metadata": {},
   "source": [
    "FINALIZA EL PROCESO DE LIMPIEZA"
   ]
  },
  {
   "attachments": {},
   "cell_type": "markdown",
   "id": "508f5e79",
   "metadata": {},
   "source": [
    "AGREGO DATOS DEL CLIMA DE CABA PARA SINIESTRO (utilizando como clave la fecha y hora del mismo)\n",
    "\n"
   ]
  },
  {
   "cell_type": "code",
   "execution_count": 16,
   "id": "a49014c7",
   "metadata": {},
   "outputs": [],
   "source": [
    "clima = 'clima_caba.csv'\n",
    "clima_df = pd.read_csv(clima)\n",
    "clima_df.rename(columns={'viento;;;;;;':'viento'}, inplace=True)\n",
    "\n",
    "#NO SE PORQUE AGREGA LA COLUMNA VIENTO CON ESE NOMBRE, PARA NO PERDER TIEMPO LA CORRIJO MANUALMENTE"
   ]
  },
  {
   "cell_type": "code",
   "execution_count": 17,
   "id": "baf14945",
   "metadata": {},
   "outputs": [
    {
     "data": {
      "text/html": [
       "<div>\n",
       "<style scoped>\n",
       "    .dataframe tbody tr th:only-of-type {\n",
       "        vertical-align: middle;\n",
       "    }\n",
       "\n",
       "    .dataframe tbody tr th {\n",
       "        vertical-align: top;\n",
       "    }\n",
       "\n",
       "    .dataframe thead th {\n",
       "        text-align: right;\n",
       "    }\n",
       "</style>\n",
       "<table border=\"1\" class=\"dataframe\">\n",
       "  <thead>\n",
       "    <tr style=\"text-align: right;\">\n",
       "      <th></th>\n",
       "      <th>causa</th>\n",
       "      <th>rol</th>\n",
       "      <th>tipo</th>\n",
       "      <th>sexo</th>\n",
       "      <th>edad</th>\n",
       "      <th>fecha</th>\n",
       "      <th>hora</th>\n",
       "      <th>tipo_calle</th>\n",
       "      <th>calle1</th>\n",
       "      <th>calle2</th>\n",
       "      <th>...</th>\n",
       "      <th>rango_edad</th>\n",
       "      <th>fecha_norm</th>\n",
       "      <th>d</th>\n",
       "      <th>m</th>\n",
       "      <th>a</th>\n",
       "      <th>h</th>\n",
       "      <th>temp</th>\n",
       "      <th>hum</th>\n",
       "      <th>precip</th>\n",
       "      <th>viento</th>\n",
       "    </tr>\n",
       "  </thead>\n",
       "  <tbody>\n",
       "    <tr>\n",
       "      <th>0</th>\n",
       "      <td>2</td>\n",
       "      <td>conductor</td>\n",
       "      <td>moto</td>\n",
       "      <td>0</td>\n",
       "      <td>36.410089</td>\n",
       "      <td>2/14/2015</td>\n",
       "      <td>19</td>\n",
       "      <td>3</td>\n",
       "      <td>cafayate</td>\n",
       "      <td>garcia grande de zequeira, severo</td>\n",
       "      <td>...</td>\n",
       "      <td>3</td>\n",
       "      <td>[14, 2, 2015]</td>\n",
       "      <td>14</td>\n",
       "      <td>2</td>\n",
       "      <td>2015</td>\n",
       "      <td>19</td>\n",
       "      <td>21.67</td>\n",
       "      <td>74.75</td>\n",
       "      <td>0.0</td>\n",
       "      <td>9.80</td>\n",
       "    </tr>\n",
       "    <tr>\n",
       "      <th>1</th>\n",
       "      <td>2</td>\n",
       "      <td>sin_data</td>\n",
       "      <td>sin_data</td>\n",
       "      <td>0</td>\n",
       "      <td>36.410089</td>\n",
       "      <td>2/25/2015</td>\n",
       "      <td>3</td>\n",
       "      <td>2</td>\n",
       "      <td>lugones, leopoldo av.</td>\n",
       "      <td>udaondo, guillermo av.</td>\n",
       "      <td>...</td>\n",
       "      <td>3</td>\n",
       "      <td>[25, 2, 2015]</td>\n",
       "      <td>25</td>\n",
       "      <td>2</td>\n",
       "      <td>2015</td>\n",
       "      <td>3</td>\n",
       "      <td>24.75</td>\n",
       "      <td>81.62</td>\n",
       "      <td>0.0</td>\n",
       "      <td>4.15</td>\n",
       "    </tr>\n",
       "    <tr>\n",
       "      <th>2</th>\n",
       "      <td>2</td>\n",
       "      <td>peaton</td>\n",
       "      <td>peaton</td>\n",
       "      <td>2</td>\n",
       "      <td>36.410089</td>\n",
       "      <td>2/27/2015</td>\n",
       "      <td>8</td>\n",
       "      <td>2</td>\n",
       "      <td>jujuy av.</td>\n",
       "      <td>independencia av.</td>\n",
       "      <td>...</td>\n",
       "      <td>3</td>\n",
       "      <td>[27, 2, 2015]</td>\n",
       "      <td>27</td>\n",
       "      <td>2</td>\n",
       "      <td>2015</td>\n",
       "      <td>8</td>\n",
       "      <td>23.23</td>\n",
       "      <td>61.00</td>\n",
       "      <td>0.0</td>\n",
       "      <td>8.10</td>\n",
       "    </tr>\n",
       "    <tr>\n",
       "      <th>3</th>\n",
       "      <td>2</td>\n",
       "      <td>sin_data</td>\n",
       "      <td>sin_data</td>\n",
       "      <td>0</td>\n",
       "      <td>36.410089</td>\n",
       "      <td>03-02-15</td>\n",
       "      <td>18</td>\n",
       "      <td>3</td>\n",
       "      <td>lavalle</td>\n",
       "      <td>sin_data</td>\n",
       "      <td>...</td>\n",
       "      <td>3</td>\n",
       "      <td>[3, 2, 2015]</td>\n",
       "      <td>3</td>\n",
       "      <td>2</td>\n",
       "      <td>2015</td>\n",
       "      <td>18</td>\n",
       "      <td>26.34</td>\n",
       "      <td>70.81</td>\n",
       "      <td>0.0</td>\n",
       "      <td>7.27</td>\n",
       "    </tr>\n",
       "    <tr>\n",
       "      <th>4</th>\n",
       "      <td>2</td>\n",
       "      <td>pasajero</td>\n",
       "      <td>camion</td>\n",
       "      <td>1</td>\n",
       "      <td>36.410089</td>\n",
       "      <td>04-09-15</td>\n",
       "      <td>1</td>\n",
       "      <td>2</td>\n",
       "      <td>carril, salvador maria del av.</td>\n",
       "      <td>sin_data</td>\n",
       "      <td>...</td>\n",
       "      <td>3</td>\n",
       "      <td>[4, 9, 2015]</td>\n",
       "      <td>4</td>\n",
       "      <td>9</td>\n",
       "      <td>2015</td>\n",
       "      <td>1</td>\n",
       "      <td>12.23</td>\n",
       "      <td>68.62</td>\n",
       "      <td>0.0</td>\n",
       "      <td>3.19</td>\n",
       "    </tr>\n",
       "  </tbody>\n",
       "</table>\n",
       "<p>5 rows × 27 columns</p>\n",
       "</div>"
      ],
      "text/plain": [
       "   causa        rol      tipo  sexo       edad      fecha  hora  tipo_calle  \\\n",
       "0      2  conductor      moto     0  36.410089  2/14/2015    19           3   \n",
       "1      2   sin_data  sin_data     0  36.410089  2/25/2015     3           2   \n",
       "2      2     peaton    peaton     2  36.410089  2/27/2015     8           2   \n",
       "3      2   sin_data  sin_data     0  36.410089   03-02-15    18           3   \n",
       "4      2   pasajero    camion     1  36.410089   04-09-15     1           2   \n",
       "\n",
       "                           calle1                             calle2  ...  \\\n",
       "0                        cafayate  garcia grande de zequeira, severo  ...   \n",
       "1           lugones, leopoldo av.             udaondo, guillermo av.  ...   \n",
       "2                       jujuy av.                  independencia av.  ...   \n",
       "3                         lavalle                           sin_data  ...   \n",
       "4  carril, salvador maria del av.                           sin_data  ...   \n",
       "\n",
       "   rango_edad     fecha_norm   d  m     a   h   temp    hum precip  viento  \n",
       "0           3  [14, 2, 2015]  14  2  2015  19  21.67  74.75    0.0    9.80  \n",
       "1           3  [25, 2, 2015]  25  2  2015   3  24.75  81.62    0.0    4.15  \n",
       "2           3  [27, 2, 2015]  27  2  2015   8  23.23  61.00    0.0    8.10  \n",
       "3           3   [3, 2, 2015]   3  2  2015  18  26.34  70.81    0.0    7.27  \n",
       "4           3   [4, 9, 2015]   4  9  2015   1  12.23  68.62    0.0    3.19  \n",
       "\n",
       "[5 rows x 27 columns]"
      ]
     },
     "execution_count": 17,
     "metadata": {},
     "output_type": "execute_result"
    }
   ],
   "source": [
    "sin_df = sin_df.merge(clima_df,how='left',left_on=['d','m','a','hora'],right_on=['d','m','a','h'])\n",
    "sin_df.head()"
   ]
  },
  {
   "cell_type": "code",
   "execution_count": 18,
   "id": "1097ce3b",
   "metadata": {},
   "outputs": [
    {
     "data": {
      "text/plain": [
       "<AxesSubplot:>"
      ]
     },
     "execution_count": 18,
     "metadata": {},
     "output_type": "execute_result"
    },
    {
     "data": {
      "image/png": "[encoded data removed]",
      "text/plain": [
       "<Figure size 640x480 with 1 Axes>"
      ]
     },
     "metadata": {},
     "output_type": "display_data"
    }
   ],
   "source": [
    "sns.boxplot(sin_df[['temp','hum','viento']])"
   ]
  },
  {
   "attachments": {},
   "cell_type": "markdown",
   "id": "c360c440",
   "metadata": {},
   "source": [
    "Veo que en este caso los outliers no cambiaran en gran medida la normalización."
   ]
  },
  {
   "cell_type": "code",
   "execution_count": 19,
   "id": "ecfe278b",
   "metadata": {},
   "outputs": [
    {
     "data": {
      "text/plain": [
       "25746    40.06\n",
       "2810     30.38\n",
       "2811     30.38\n",
       "7756     26.07\n",
       "32681    26.07\n",
       "1523     24.33\n",
       "18192    24.33\n",
       "26497    24.33\n",
       "17399    21.76\n",
       "156      20.40\n",
       "17412    18.91\n",
       "7012     16.31\n",
       "31819    16.31\n",
       "6947     16.14\n",
       "31706    16.14\n",
       "10820    15.29\n",
       "10819    15.29\n",
       "10818    15.29\n",
       "10821    15.29\n",
       "31094    14.71\n",
       "9370     11.57\n",
       "17821    11.57\n",
       "2391     10.67\n",
       "15303    10.62\n",
       "14959    10.62\n",
       "12359    10.51\n",
       "4191     10.51\n",
       "14596    10.33\n",
       "21195     9.44\n",
       "29443     9.44\n",
       "Name: precip, dtype: float64"
      ]
     },
     "execution_count": 19,
     "metadata": {},
     "output_type": "execute_result"
    }
   ],
   "source": [
    "# SE QUE TENGO OUTLIERS EN ESTE FEATURE, HAGO UNA ELIMINACION MANUAL DE ESTOS\n",
    "\n",
    "sin_df.precip.sort_values(ascending=False).head(30)"
   ]
  },
  {
   "cell_type": "code",
   "execution_count": 20,
   "id": "8faa7a73",
   "metadata": {},
   "outputs": [],
   "source": [
    "#ELIMINO OUTLIERS DE PRECIPITACION PARA QUE NO INTERFIERA EN LA NORMALIZACION DEL FEATURE, CONSIDERO OUTLIERS A LOS VALORES MAYORES A 12\n",
    "sin_df = sin_df.loc[sin_df.precip < 12]\n"
   ]
  },
  {
   "cell_type": "code",
   "execution_count": 21,
   "id": "163b6ba1",
   "metadata": {},
   "outputs": [],
   "source": [
    "#ESCALO TODOS LOS VALORES DE CLIMA OBTENIDOS ENTRE 0 y 1\n",
    "scaler = MinMaxScaler()\n",
    "scaled_df = scaler.fit_transform(sin_df[['temp','hum','viento','precip']])\n",
    "sin_df[['temp','hum','viento','precip']] = scaled_df"
   ]
  },
  {
   "attachments": {},
   "cell_type": "markdown",
   "id": "74bbee5b",
   "metadata": {},
   "source": [
    "EN OTRAS ENTREGAS PUDE EXTRAER INFORMACIÓN DEL SET DE DATOS QUE APUNTABA A ENCONTRAR LOS PUNTOS CLAVE EN LOS QUE SE DABA LA MAYOR CANTIDAD DE SINIESTROS DE CADA TIPO (las calles, comunas y coordenadas mas peligrosas para cada tipo de vehiculo), ESTOS DESCUBRIMIENTOS SON LOS INSIGHTS QUE ME PARECIERON IMPORTANTES EN VISTA A PROPONER MEDIDAS QUE AYUDEN A BAJAR LA CANTIDAD DE ACCIDENTES. \n",
    "\n",
    "EN ESTA ENTREGA ME CENTRARÉ EN LA PREDICCIÓN; PARA ESTO VOY A ENTRENAR UN MODELO DE MACHINE LEARNING, HABIENDO HECHO LA SELECCIÓN DE FEATURES QUE CREA NECESARIO PARA EL CASO."
   ]
  },
  {
   "attachments": {},
   "cell_type": "markdown",
   "id": "e99c11b9",
   "metadata": {},
   "source": [
    "PARA EL PRIMER ESTUDIO, UTILIZARE COMO VARIABLE DEPENDIENTE EL HORARIO, LAS VARIABLES INDEPENDIENTES SERÁN 'tipo','sexo','tipo_calle','comuna','tipo_colision1','d','precip','rango_edad'.\n",
    "\n",
    "Comienzo con este estudio porque me parece el valor mas útil a predecir dados los features disponibles, ya que esto podría ser de utilidad para entes que regulen y prevengan accidentes de transito. "
   ]
  },
  {
   "cell_type": "code",
   "execution_count": 23,
   "id": "40e79392",
   "metadata": {},
   "outputs": [],
   "source": [
    "X = sin_df[['tipo','sexo','tipo_calle','comuna','tipo_colision1','d','precip','viento','rango_edad']]\n",
    "y = sin_df['h']\n",
    "#CON DATOS DE CLIMA"
   ]
  },
  {
   "cell_type": "code",
   "execution_count": 24,
   "id": "6b2b8dc6",
   "metadata": {},
   "outputs": [
    {
     "data": {
      "text/plain": [
       "Index(['sexo', 'tipo_calle', 'comuna', 'd', 'precip', 'viento', 'rango_edad',\n",
       "       'tipo_automovil', 'tipo_bicicleta', 'tipo_camion', 'tipo_camioneta',\n",
       "       'tipo_fuerza seguridad', 'tipo_moto', 'tipo_peaton', 'tipo_sin_data',\n",
       "       'tipo_taxi/remis', 'tipo_transporte publico',\n",
       "       'tipo_colision1_bicicleta', 'tipo_colision1_bicicleta - vehiculo',\n",
       "       'tipo_colision1_motovehiculo - motovehiculo',\n",
       "       'tipo_colision1_motovehiculo - vehiculo', 'tipo_colision1_multiple',\n",
       "       'tipo_colision1_peaton', 'tipo_colision1_peaton - vehiculo',\n",
       "       'tipo_colision1_sin_data', 'tipo_colision1_vehiculo - vehiculo'],\n",
       "      dtype='object')"
      ]
     },
     "execution_count": 24,
     "metadata": {},
     "output_type": "execute_result"
    }
   ],
   "source": [
    "X = pd.get_dummies(X)\n",
    "X.columns"
   ]
  },
  {
   "cell_type": "code",
   "execution_count": 25,
   "id": "e99c2d3d",
   "metadata": {},
   "outputs": [],
   "source": [
    "X_train, X_test, y_train, y_test = train_test_split(\n",
    "                                        X,\n",
    "                                        y.values.reshape(-1,1),\n",
    "                                        train_size   = 0.7,\n",
    "                                        random_state = 1234,\n",
    "                                        shuffle      = True\n",
    "                                    )"
   ]
  },
  {
   "cell_type": "code",
   "execution_count": 55,
   "id": "ebe60896",
   "metadata": {},
   "outputs": [
    {
     "name": "stderr",
     "output_type": "stream",
     "text": [
      "c:\\ProgramData\\Miniconda3\\lib\\site-packages\\sklearn\\utils\\validation.py:1111: DataConversionWarning: A column-vector y was passed when a 1d array was expected. Please change the shape of y to (n_samples, ), for example using ravel().\n",
      "  y = column_or_1d(y, warn=True)\n"
     ]
    },
    {
     "data": {
      "text/html": [
       "<style>#sk-container-id-5 {color: black;background-color: white;}#sk-container-id-5 pre{padding: 0;}#sk-container-id-5 div.sk-toggleable {background-color: white;}#sk-container-id-5 label.sk-toggleable__label {cursor: pointer;display: block;width: 100%;margin-bottom: 0;padding: 0.3em;box-sizing: border-box;text-align: center;}#sk-container-id-5 label.sk-toggleable__label-arrow:before {content: \"▸\";float: left;margin-right: 0.25em;color: #696969;}#sk-container-id-5 label.sk-toggleable__label-arrow:hover:before {color: black;}#sk-container-id-5 div.sk-estimator:hover label.sk-toggleable__label-arrow:before {color: black;}#sk-container-id-5 div.sk-toggleable__content {max-height: 0;max-width: 0;overflow: hidden;text-align: left;background-color: #f0f8ff;}#sk-container-id-5 div.sk-toggleable__content pre {margin: 0.2em;color: black;border-radius: 0.25em;background-color: #f0f8ff;}#sk-container-id-5 input.sk-toggleable__control:checked~div.sk-toggleable__content {max-height: 200px;max-width: 100%;overflow: auto;}#sk-container-id-5 input.sk-toggleable__control:checked~label.sk-toggleable__label-arrow:before {content: \"▾\";}#sk-container-id-5 div.sk-estimator input.sk-toggleable__control:checked~label.sk-toggleable__label {background-color: #d4ebff;}#sk-container-id-5 div.sk-label input.sk-toggleable__control:checked~label.sk-toggleable__label {background-color: #d4ebff;}#sk-container-id-5 input.sk-hidden--visually {border: 0;clip: rect(1px 1px 1px 1px);clip: rect(1px, 1px, 1px, 1px);height: 1px;margin: -1px;overflow: hidden;padding: 0;position: absolute;width: 1px;}#sk-container-id-5 div.sk-estimator {font-family: monospace;background-color: #f0f8ff;border: 1px dotted black;border-radius: 0.25em;box-sizing: border-box;margin-bottom: 0.5em;}#sk-container-id-5 div.sk-estimator:hover {background-color: #d4ebff;}#sk-container-id-5 div.sk-parallel-item::after {content: \"\";width: 100%;border-bottom: 1px solid gray;flex-grow: 1;}#sk-container-id-5 div.sk-label:hover label.sk-toggleable__label {background-color: #d4ebff;}#sk-container-id-5 div.sk-serial::before {content: \"\";position: absolute;border-left: 1px solid gray;box-sizing: border-box;top: 0;bottom: 0;left: 50%;z-index: 0;}#sk-container-id-5 div.sk-serial {display: flex;flex-direction: column;align-items: center;background-color: white;padding-right: 0.2em;padding-left: 0.2em;position: relative;}#sk-container-id-5 div.sk-item {position: relative;z-index: 1;}#sk-container-id-5 div.sk-parallel {display: flex;align-items: stretch;justify-content: center;background-color: white;position: relative;}#sk-container-id-5 div.sk-item::before, #sk-container-id-5 div.sk-parallel-item::before {content: \"\";position: absolute;border-left: 1px solid gray;box-sizing: border-box;top: 0;bottom: 0;left: 50%;z-index: -1;}#sk-container-id-5 div.sk-parallel-item {display: flex;flex-direction: column;z-index: 1;position: relative;background-color: white;}#sk-container-id-5 div.sk-parallel-item:first-child::after {align-self: flex-end;width: 50%;}#sk-container-id-5 div.sk-parallel-item:last-child::after {align-self: flex-start;width: 50%;}#sk-container-id-5 div.sk-parallel-item:only-child::after {width: 0;}#sk-container-id-5 div.sk-dashed-wrapped {border: 1px dashed gray;margin: 0 0.4em 0.5em 0.4em;box-sizing: border-box;padding-bottom: 0.4em;background-color: white;}#sk-container-id-5 div.sk-label label {font-family: monospace;font-weight: bold;display: inline-block;line-height: 1.2em;}#sk-container-id-5 div.sk-label-container {text-align: center;}#sk-container-id-5 div.sk-container {/* jupyter's `normalize.less` sets `[hidden] { display: none; }` but bootstrap.min.css set `[hidden] { display: none !important; }` so we also need the `!important` here to be able to override the default hidden behavior on the sphinx rendered scikit-learn.org. See: https://github.com/scikit-learn/scikit-learn/issues/21755 */display: inline-block !important;position: relative;}#sk-container-id-5 div.sk-text-repr-fallback {display: none;}</style><div id=\"sk-container-id-5\" class=\"sk-top-container\"><div class=\"sk-text-repr-fallback\"><pre>SVC(C=1, random_state=123)</pre><b>In a Jupyter environment, please rerun this cell to show the HTML representation or trust the notebook. <br />On GitHub, the HTML representation is unable to render, please try loading this page with nbviewer.org.</b></div><div class=\"sk-container\" hidden><div class=\"sk-item\"><div class=\"sk-estimator sk-toggleable\"><input class=\"sk-toggleable__control sk-hidden--visually\" id=\"sk-estimator-id-5\" type=\"checkbox\" checked><label for=\"sk-estimator-id-5\" class=\"sk-toggleable__label sk-toggleable__label-arrow\">SVC</label><div class=\"sk-toggleable__content\"><pre>SVC(C=1, random_state=123)</pre></div></div></div></div></div>"
      ],
      "text/plain": [
       "SVC(C=1, random_state=123)"
      ]
     },
     "execution_count": 55,
     "metadata": {},
     "output_type": "execute_result"
    }
   ],
   "source": [
    "modelo = SVC(C = 1, kernel = 'rbf', random_state=123)\n",
    "modelo.fit(X_train, y_train)"
   ]
  },
  {
   "cell_type": "code",
   "execution_count": 56,
   "id": "46e1c115",
   "metadata": {},
   "outputs": [],
   "source": [
    "#Predicciones\n",
    "y_train_pred = modelo.predict(X_train)\n",
    "y_test_pred = modelo.predict(X_test)"
   ]
  },
  {
   "cell_type": "code",
   "execution_count": 57,
   "id": "5329f015",
   "metadata": {},
   "outputs": [
    {
     "name": "stdout",
     "output_type": "stream",
     "text": [
      "% de aciertos sobre el set de entrenamiento: 7.487391697918014\n"
     ]
    }
   ],
   "source": [
    "train_accuracy = accuracy_score(y_train, y_train_pred)\n",
    "\n",
    "print('% de aciertos sobre el set de entrenamiento:',train_accuracy*100)"
   ]
  },
  {
   "cell_type": "code",
   "execution_count": 58,
   "id": "8681415c",
   "metadata": {},
   "outputs": [
    {
     "name": "stdout",
     "output_type": "stream",
     "text": [
      "% de aciertos sobre el set de evaluación: 6.788695564718898\n"
     ]
    }
   ],
   "source": [
    "test_accuracy = accuracy_score(y_test, y_test_pred)\n",
    "\n",
    "print('% de aciertos sobre el set de evaluación:',test_accuracy*100)"
   ]
  },
  {
   "attachments": {},
   "cell_type": "markdown",
   "id": "9e94bb86",
   "metadata": {},
   "source": [
    "VEO QUE CON LOS DATOS QUE TENGO NO OBTENGO BUENOS RESULTADOS EN LA PREDICCION DE LA HORA DEL ACCIDENTE, POR LO QUE CREARE UNA COLUMNA QUE PUEDA TOMAR LOS VALORES 'mañana', 'tarde', 'noche' y 'madrugada' PARA INTENTAR PREDECIR ESTOS, ya que de igual manera, serviría para saber en que rango horario poner el foco de atención en cada contexto (entendiendo por contexto a la data que haya en las columnas elegidas para mi variable \"X\")"
   ]
  },
  {
   "cell_type": "code",
   "execution_count": 26,
   "id": "ec002bac",
   "metadata": {},
   "outputs": [
    {
     "name": "stderr",
     "output_type": "stream",
     "text": [
      "C:\\Users\\Seguridad\\AppData\\Local\\Temp\\ipykernel_10540\\1935025551.py:1: UserWarning: Pandas doesn't allow columns to be created via a new attribute name - see https://pandas.pydata.org/pandas-docs/stable/indexing.html#attribute-access\n",
      "  sin_df.rango_horario = sin_df.hora.apply(lambda x:\n"
     ]
    },
    {
     "data": {
      "text/plain": [
       "4    8338\n",
       "3    8000\n",
       "2    7011\n",
       "5    6863\n",
       "1    2930\n",
       "Name: hora, dtype: int64"
      ]
     },
     "execution_count": 26,
     "metadata": {},
     "output_type": "execute_result"
    }
   ],
   "source": [
    "sin_df.rango_horario = sin_df.hora.apply(lambda x: \n",
    "                                            1 if x < 6\n",
    "                                            else 2 if x < 11\n",
    "                                            else 3 if x < 15\n",
    "                                            else 4 if x < 19\n",
    "                                            else 5 if x < 25\n",
    "                                            else 0)\n",
    "\n",
    "sin_df.rango_horario.value_counts()\n",
    "\n",
    "# 1 -> Madrugada\n",
    "# 2 -> Mañana\n",
    "# 3 -> Mediodia\n",
    "# 4 -> Tarde\n",
    "# 5 -> Noche"
   ]
  },
  {
   "cell_type": "code",
   "execution_count": 27,
   "id": "28d129bb",
   "metadata": {},
   "outputs": [],
   "source": [
    "X = sin_df[['tipo','sexo','tipo_calle','comuna','tipo_colision1','d','precip','viento','rango_edad']]\n",
    "y = sin_df.rango_horario\n",
    "#CON DATOS DE CLIMA"
   ]
  },
  {
   "cell_type": "code",
   "execution_count": 28,
   "id": "8a318f6d",
   "metadata": {},
   "outputs": [
    {
     "data": {
      "text/plain": [
       "Index(['sexo', 'tipo_calle', 'comuna', 'd', 'precip', 'viento', 'rango_edad',\n",
       "       'tipo_automovil', 'tipo_bicicleta', 'tipo_camion', 'tipo_camioneta',\n",
       "       'tipo_fuerza seguridad', 'tipo_moto', 'tipo_peaton', 'tipo_sin_data',\n",
       "       'tipo_taxi/remis', 'tipo_transporte publico',\n",
       "       'tipo_colision1_bicicleta', 'tipo_colision1_bicicleta - vehiculo',\n",
       "       'tipo_colision1_motovehiculo - motovehiculo',\n",
       "       'tipo_colision1_motovehiculo - vehiculo', 'tipo_colision1_multiple',\n",
       "       'tipo_colision1_peaton', 'tipo_colision1_peaton - vehiculo',\n",
       "       'tipo_colision1_sin_data', 'tipo_colision1_vehiculo - vehiculo'],\n",
       "      dtype='object')"
      ]
     },
     "execution_count": 28,
     "metadata": {},
     "output_type": "execute_result"
    }
   ],
   "source": [
    "X = pd.get_dummies(X)\n",
    "X.columns"
   ]
  },
  {
   "cell_type": "code",
   "execution_count": 29,
   "id": "7b8194c7",
   "metadata": {},
   "outputs": [
    {
     "name": "stderr",
     "output_type": "stream",
     "text": [
      "c:\\ProgramData\\Miniconda3\\lib\\site-packages\\sklearn\\utils\\validation.py:1111: DataConversionWarning: A column-vector y was passed when a 1d array was expected. Please change the shape of y to (n_samples, ), for example using ravel().\n",
      "  y = column_or_1d(y, warn=True)\n"
     ]
    }
   ],
   "source": [
    "modelo = SVC(C = 1, kernel = 'linear', random_state=123)\n",
    "modelo.fit(X_train, y_train)"
   ]
  },
  {
   "cell_type": "code",
   "execution_count": null,
   "id": "8b320665",
   "metadata": {},
   "outputs": [],
   "source": [
    "#Predicciones\n",
    "y_train_pred = modelo.predict(X_train)\n",
    "y_test_pred = modelo.predict(X_test)"
   ]
  },
  {
   "cell_type": "code",
   "execution_count": null,
   "id": "ccaf0b20",
   "metadata": {},
   "outputs": [
    {
     "name": "stdout",
     "output_type": "stream",
     "text": [
      "% de aciertos sobre el set de entrenamiento: 8.142592353118669\n"
     ]
    }
   ],
   "source": [
    "train_accuracy = accuracy_score(y_train, y_train_pred)\n",
    "\n",
    "print('% de aciertos sobre el set de entrenamiento:',train_accuracy*100)"
   ]
  },
  {
   "cell_type": "code",
   "execution_count": null,
   "id": "3e2ad482",
   "metadata": {},
   "outputs": [
    {
     "name": "stdout",
     "output_type": "stream",
     "text": [
      "% de aciertos sobre el set de evaluación: 7.110530021120385\n"
     ]
    }
   ],
   "source": [
    "test_accuracy = accuracy_score(y_test, y_test_pred)\n",
    "\n",
    "print('% de aciertos sobre el set de evaluación:',test_accuracy*100)"
   ]
  },
  {
   "cell_type": "code",
   "execution_count": null,
   "id": "53c0c8c0",
   "metadata": {},
   "outputs": [],
   "source": []
  },
  {
   "cell_type": "code",
   "execution_count": null,
   "id": "87387188",
   "metadata": {},
   "outputs": [],
   "source": []
  }
 ],
 "metadata": {
  "kernelspec": {
   "display_name": "Python 3",
   "language": "python",
   "name": "python3"
  },
  "language_info": {
   "codemirror_mode": {
    "name": "ipython",
    "version": 3
   },
   "file_extension": ".py",
   "mimetype": "text/x-python",
   "name": "python",
   "nbconvert_exporter": "python",
   "pygments_lexer": "ipython3",
   "version": "3.9.12"
  }
 },
 "nbformat": 4,
 "nbformat_minor": 5
}
