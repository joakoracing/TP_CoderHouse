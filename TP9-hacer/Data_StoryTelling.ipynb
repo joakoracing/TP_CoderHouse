{
 "cells": [
  {
   "attachments": {},
   "cell_type": "markdown",
   "id": "39b69372",
   "metadata": {},
   "source": [
    "Los accidentes viales son un problema recurrente en muchas ciudades del mundo, incluyendo la Ciudad de Buenos Aires. Estos accidentes tienen un impacto significativo en la seguridad y el bienestar de los ciudadanos, así como en la economía y la infraestructura de la ciudad. La Ciudad de Buenos Aires (en adelante, CABA), al ser una ciudad densamente poblada y con un alto flujo de tráfico, requiere mucho tiempo y estudio para mejorar las esadisticas en términos de seguridad vial y prevención de accidentes.\n",
    "\n",
    "Con ayuda de un set de datos extraido de la página del Gobierno de la Ciudad que tiene datos de los siniestros viales ocurridos en este lugar, en la ventana de tiempo de 2015 a 2018, voy a estudiar los casos en conjuntos para sacar conclusiones con vistas a un objetivo puntual; disminuir la cantidad de siniestros en CABA. "
   ]
  },
  {
   "cell_type": "markdown",
   "id": "06a2dbc5",
   "metadata": {},
   "source": [
    "IMPORTO LAS LIBRERIAS A UTILIZAR Y CARGO EL SET DE DATOS CONSEGUIDO EN UN DATAFRAME LLAMADO \"sin_df\""
   ]
  },
  {
   "cell_type": "code",
   "execution_count": 2,
   "id": "0a5d3ee3",
   "metadata": {},
   "outputs": [],
   "source": [
    "import pandas as pd\n",
    "import matplotlib.pyplot as plt\n",
    "import seaborn as sns"
   ]
  },
  {
   "cell_type": "code",
   "execution_count": 3,
   "id": "56a62ec3",
   "metadata": {},
   "outputs": [
    {
     "name": "stderr",
     "output_type": "stream",
     "text": [
      "C:\\Users\\Seguridad\\AppData\\Local\\Temp\\ipykernel_5044\\1239150759.py:2: DtypeWarning: Columns (9) have mixed types. Specify dtype option on import or set low_memory=False.\n",
      "  sin_df = pd.read_csv(siniestros)\n"
     ]
    }
   ],
   "source": [
    "siniestros = 'victimas-siniestros.csv'\n",
    "sin_df = pd.read_csv(siniestros)"
   ]
  },
  {
   "attachments": {},
   "cell_type": "markdown",
   "id": "c6cc7c57",
   "metadata": {},
   "source": [
    "Primero voy a ver que features tengo a disposición para comenzar mi estudio"
   ]
  },
  {
   "cell_type": "code",
   "execution_count": 4,
   "id": "b4ddd29f",
   "metadata": {},
   "outputs": [
    {
     "name": "stdout",
     "output_type": "stream",
     "text": [
      "<class 'pandas.core.frame.DataFrame'>\n",
      "RangeIndex: 33234 entries, 0 to 33233\n",
      "Data columns (total 29 columns):\n",
      " #   Column                        Non-Null Count  Dtype  \n",
      "---  ------                        --------------  -----  \n",
      " 0   causa                         33234 non-null  object \n",
      " 1   rol                           32899 non-null  object \n",
      " 2   tipo                          32134 non-null  object \n",
      " 3   sexo                          33037 non-null  object \n",
      " 4   edad                          32675 non-null  float64\n",
      " 5   mes                           33197 non-null  float64\n",
      " 6   periodo                       33234 non-null  int64  \n",
      " 7   fecha                         33173 non-null  object \n",
      " 8   hora                          33217 non-null  object \n",
      " 9   lugar_hecho                   29518 non-null  object \n",
      " 10  direccion_normalizada         32469 non-null  object \n",
      " 11  tipo_calle                    33234 non-null  object \n",
      " 12  direccion_normalizada_arcgis  32462 non-null  object \n",
      " 13  calle1                        32469 non-null  object \n",
      " 14  altura                        7111 non-null   float64\n",
      " 15  calle2                        24987 non-null  object \n",
      " 16  codigo_calle                  23944 non-null  float64\n",
      " 17  codigo_cruce                  20709 non-null  float64\n",
      " 18  geocodificacion               32139 non-null  object \n",
      " 19  semestre                      33234 non-null  int64  \n",
      " 20  x                             32139 non-null  float64\n",
      " 21  y                             32139 non-null  float64\n",
      " 22  geom                          32139 non-null  object \n",
      " 23  cantidad_victimas             33234 non-null  int64  \n",
      " 24  comuna                        32136 non-null  float64\n",
      " 25  geom_3857                     32139 non-null  object \n",
      " 26  tipo_colision1                31891 non-null  object \n",
      " 27  participantes_victimas        32103 non-null  object \n",
      " 28  participantes_acusados        32557 non-null  object \n",
      "dtypes: float64(8), int64(3), object(18)\n",
      "memory usage: 7.4+ MB\n"
     ]
    }
   ],
   "source": [
    "sin_df.info()"
   ]
  },
  {
   "attachments": {},
   "cell_type": "markdown",
   "id": "338edc03",
   "metadata": {},
   "source": [
    "En principio veo que hay muchas columnas que tienen información redundante, voy a trabajar sobre las siguientes columnas: \n",
    "\n",
    "- causa\n",
    "- rol\n",
    "- tipo\n",
    "- sexo\n",
    "- edad\n",
    "- fecha\n",
    "- hora\n",
    "- tipo_calle\n",
    "- calle1\n",
    "- calle2\n",
    "- altura\n",
    "- direccion_normalizada\n",
    "- x\n",
    "- y\n",
    "- cantidad_victimas\n",
    "- comuna\n",
    "- participantes_victimas\n",
    "- participantes_acusados"
   ]
  },
  {
   "cell_type": "code",
   "execution_count": 5,
   "id": "a40136ac",
   "metadata": {},
   "outputs": [
    {
     "data": {
      "text/plain": [
       "causa                        0\n",
       "rol                        335\n",
       "tipo                      1100\n",
       "sexo                       197\n",
       "edad                       559\n",
       "fecha                       61\n",
       "hora                        17\n",
       "tipo_calle                   0\n",
       "calle1                     765\n",
       "calle2                    8247\n",
       "x                         1095\n",
       "y                         1095\n",
       "cantidad_victimas            0\n",
       "comuna                    1098\n",
       "tipo_colision1            1343\n",
       "participantes_acusados     677\n",
       "participantes_victimas    1131\n",
       "dtype: int64"
      ]
     },
     "execution_count": 5,
     "metadata": {},
     "output_type": "execute_result"
    }
   ],
   "source": [
    "sin_df = sin_df[['causa','rol','tipo','sexo','edad','fecha','hora','tipo_calle','calle1','calle2','x','y','cantidad_victimas','comuna','tipo_colision1','participantes_acusados','participantes_victimas']]\n",
    "sin_df.isnull().sum()"
   ]
  },
  {
   "attachments": {},
   "cell_type": "markdown",
   "id": "349e06dd",
   "metadata": {},
   "source": [
    "CABA se divide en comunas, estas dividen los distintos \"barrios\" de capital, cada comuna tiene sus representantes y sus particularidades, hay comunas mas inseguras, otras mas pobladas o mas tranquilas, hay también grandes diferencias economicas entre unas comunas y otras. En este caso, voy a utilizar la división comunal como una ayuda, pero tendría que probar (con graficos o numeros) que esta división es significativa a efectos de este estudio, o sea, no debería asumir que la división comunal influye en la probabilidad de que haya o no un accidente, esto lo voy a estudiar mas adelante. "
   ]
  },
  {
   "attachments": {},
   "cell_type": "markdown",
   "id": "ab2f4da8",
   "metadata": {},
   "source": [
    "Viendo las columnas disponibles, lo primero que me doy cuenta es que cuento con poca información sobre los participantes del siniestro, caso contrario a la información que tengo de la fecha o la geolocalización del mismo. \n",
    "Dado esto, voy a tener que enfoncar mi estudio en aspectos que tengan que ver con la peligrosidad del contexto (tipo de vehiculo, ubicación, fecha, clima si extraigo información de una API, etc), ya que no cuento con la información necesaria para realizar perfiles de personas que tuvieron accidentes, ni el estado en el que estaban (por ejemplo, hablando por celular, con/sin cinturon de seguridad, con/sin alcohol en sangre, etc)."
   ]
  },
  {
   "attachments": {},
   "cell_type": "markdown",
   "id": "09696f25",
   "metadata": {},
   "source": [
    "Lo primero que voy a estudiar es la columna 'tipo', que indica si el involucrado en el siniestro es un peaton, un auto, una moto, etc."
   ]
  },
  {
   "cell_type": "code",
   "execution_count": 6,
   "id": "e198ca2e",
   "metadata": {},
   "outputs": [],
   "source": [
    "sin_df['tipo_colision1'].fillna('sin_data',inplace=True)\n",
    "sin_df['tipo'].fillna('sin_data',inplace=True)\n",
    "\n",
    "def simplificar_tipocol(tipo):\n",
    "\n",
    "    if '-' in tipo:\n",
    "        ac, vi = tipo.split('-')\n",
    "    else:\n",
    "        return tipo\n",
    "    \n",
    "    if tipo == 'vehiculo - motovehiculo' or tipo == 'motovehiculo - vehiculo':\n",
    "        return 'motovehiculo - vehiculo'\n",
    "    elif tipo == 'vehiculo - peaton' or tipo == 'peaton - vehiculo':\n",
    "        return 'peaton - vehiculo'\n",
    "    elif tipo == 'vehiculo - bicicleta' or tipo == 'bicicleta - vehiculo':\n",
    "        return 'bicicleta - vehiculo'\n",
    "    elif tipo == 'traccion a sangre - vehiculo' or tipo == 'motovehiculo - traccion a sangre' or tipo == 'motovehiculo - tren' or tipo == 'subte - vehiculo':\n",
    "        return 'sin_data'\n",
    "    elif 'bicicleta' in tipo:\n",
    "        return 'bicicleta'\n",
    "    elif 'peaton' in tipo:\n",
    "        return 'peaton'\n",
    "    else:\n",
    "        return tipo\n",
    "\n",
    "def simplificar_tipo(tipo):\n",
    "    \n",
    "    if tipo == 'auto pfa / movil / gendarmeria / metropolitana / moto movil' or tipo == 'vehiculo oficial':\n",
    "        st = 'fuerza seguridad'\n",
    "    elif tipo == 'transporte de cargas / grua' or tipo == 'utilitario':\n",
    "        st = 'camion'\n",
    "    elif tipo == 'transporte escolar' or tipo == 'omnibus / minibus':\n",
    "        st = 'transporte publico'\n",
    "    elif tipo == 'ambulancia':\n",
    "        st = 'camioneta'\n",
    "    elif tipo == 'traccion a sangre' or tipo == 'autobomba' or tipo == 'patineta' or tipo == 'cuatriciclo' or tipo == 'tren / subte' or tipo == 'tren / subte / tranvia' or tipo == 'vehiculo rural' or tipo == 'otros':\n",
    "        st = 'sin_data'\n",
    "    else:\n",
    "        return tipo\n",
    "    return st\n",
    "\n",
    "sin_df['tipo'] = sin_df['tipo'].apply(simplificar_tipo)#.astype('|S80')\n",
    "\n",
    "sin_df['tipo_colision1'] = sin_df['tipo_colision1'].apply(simplificar_tipocol)#.astype('|S80')"
   ]
  },
  {
   "cell_type": "code",
   "execution_count": 7,
   "id": "9851deb8",
   "metadata": {},
   "outputs": [
    {
     "name": "stderr",
     "output_type": "stream",
     "text": [
      "C:\\Users\\Seguridad\\AppData\\Local\\Temp\\ipykernel_5044\\3893931055.py:9: UserWarning: FixedFormatter should only be used together with FixedLocator\n",
      "  ax.set_xticklabels(g_tipo['tipo'],rotation=45)\n"
     ]
    },
    {
     "data": {
      "text/plain": [
       "[Text(0, 0, 'moto'),\n",
       " Text(1, 0, 'peaton'),\n",
       " Text(2, 0, 'automovil'),\n",
       " Text(3, 0, 'bicicleta'),\n",
       " Text(4, 0, 'transporte publico'),\n",
       " Text(5, 0, 'sin_data'),\n",
       " Text(6, 0, 'taxi/remis'),\n",
       " Text(7, 0, 'camioneta'),\n",
       " Text(8, 0, 'camion'),\n",
       " Text(9, 0, 'fuerza seguridad')]"
      ]
     },
     "execution_count": 7,
     "metadata": {},
     "output_type": "execute_result"
    },
    {
     "data": {
      "image/png": "[encoded data removed]",
      "text/plain": [
       "<Figure size 1200x600 with 1 Axes>"
      ]
     },
     "metadata": {},
     "output_type": "display_data"
    }
   ],
   "source": [
    "sin_df['cant'] = 1\n",
    "g_tipo = sin_df.groupby('tipo')['cant'].sum().reset_index().sort_values(by = 'cant', ascending=False)\n",
    "\n",
    "fig, ax = plt.subplots(figsize=(12,6))\n",
    "ax.bar(g_tipo['tipo'],g_tipo['cant'])\n",
    "ax.set_title('Cantidad de siniestros por tipo de vehiculo')\n",
    "ax.set_xlabel('tipo de vehiculo')\n",
    "ax.set_ylabel('cantidad de siniestros')\n",
    "ax.set_xticklabels(g_tipo['tipo'],rotation=45)"
   ]
  },
  {
   "attachments": {},
   "cell_type": "markdown",
   "id": "cdd68000",
   "metadata": {},
   "source": [
    "Como era de esperar, la moto es el vehiculo con mas siniestros en CABA, desde mi punto de vista hay dos explicaciones, la densidad de motos y la negligencia de los conductores de estas. Suele suceder que quien maneja una moto, en general, intenta maniobras mas peligrosas que los conductores de automovil, por la practicidad y facilidad del propio vehiculo. En este sentido, el conductor de moto de CABA se suele dar mas licencias que el conductor de un auto, hasta el punto de estar fuera de lo que indica la ley de tránsito. "
   ]
  },
  {
   "attachments": {},
   "cell_type": "markdown",
   "id": "c547b536",
   "metadata": {},
   "source": [
    "En este punto, puedo ver con comparaciones, si la columna sexo tiene alguna implicancia en el estudio de la probabilidad de accidente. En principio puedo pensar que los accidentes de peatones tendrán un porcentaje similar de hombres y mujeres, pero en el caso de los autos y motos, es posible que no haya la misma cantidad de conductores, por lo que pueden llegar a dar diferente las comparaciones por sexo. "
   ]
  },
  {
   "cell_type": "code",
   "execution_count": 8,
   "id": "725a5ad3",
   "metadata": {},
   "outputs": [
    {
     "data": {
      "text/plain": [
       "Text(0, 0.5, 'Cantidad de siniestros')"
      ]
     },
     "execution_count": 8,
     "metadata": {},
     "output_type": "execute_result"
    },
    {
     "data": {
      "image/png": "[encoded data removed]",
      "text/plain": [
       "<Figure size 640x480 with 1 Axes>"
      ]
     },
     "metadata": {},
     "output_type": "display_data"
    }
   ],
   "source": [
    "motos_autos_peat = sin_df.loc[(sin_df['tipo']=='moto') | (sin_df['tipo']=='automovil') | (sin_df['tipo']=='peaton')]\n",
    "g_motos_autos_peat = motos_autos_peat.groupby(['tipo','sexo'])['cant'].sum().reset_index()\n",
    "\n",
    "ax = sns.barplot(data=g_motos_autos_peat, x='tipo', y='cant', hue='sexo')\n",
    "ax.set_title('Cantidad de siniestros por sexo, comparando moto y automovil')\n",
    "ax.set_xlabel('Tipo de siniestro')\n",
    "ax.set_ylabel('Cantidad de siniestros')"
   ]
  },
  {
   "attachments": {},
   "cell_type": "markdown",
   "id": "15f7053f",
   "metadata": {},
   "source": [
    "Efectivamente veo una paridad en los accidentes de peatones, y una gran diferencia en los accidentes de moto, asumo en este punto que es por la cantidad de conductores de cada sexo en este determinado vehículo. Para que esta columna sea significativa en una predicción, debería agregar datos externos sobre los porcentajes de conductores de cada sexo por vehiculo."
   ]
  },
  {
   "attachments": {},
   "cell_type": "markdown",
   "id": "883a1d3d",
   "metadata": {},
   "source": [
    "Puedo notar que tengo poca información del contexto del siniestro, por lo que voy a agregar información sobre el clima del momento del siniestro a mi set de datos. Esta información la voy a bajar del sitio de la NASA en formato csv y luego la importaré y mergearé utilizando el dato de la fecha. Esto me ayudará a entender la implicancia del contexto en los siniestros de CABA. Utilizaré datos como la visibilidad, temperatura, humedad, etc."
   ]
  },
  {
   "cell_type": "code",
   "execution_count": 10,
   "id": "48a93321",
   "metadata": {},
   "outputs": [],
   "source": [
    "clima = 'clima.csv'\n",
    "clima_df = pd.read_csv(clima)"
   ]
  },
  {
   "attachments": {},
   "cell_type": "markdown",
   "id": "940e81db",
   "metadata": {},
   "source": [
    "Para lograr este merge, tendre que tener las claves en el mismo formato. Por el EDA en anteriores entregas, pude notar que la columna \"fecha\" viene en 2 posibles formatos; DD-MM-AAAA y MM/DD/AA, por lo que usare una función que crearé a continuación para unificar el formato y dividirlo en un arreglo de 3 valores: dia, mes y año"
   ]
  },
  {
   "cell_type": "code",
   "execution_count": 33,
   "id": "aac7e238",
   "metadata": {},
   "outputs": [],
   "source": [
    "def crear_fecha(fecha):\n",
    "\n",
    "    if \"/\" in fecha:\n",
    "        fecha = fecha.split(\"/\")\n",
    "        fecha[0] = int(fecha[0])\n",
    "        fecha[1] = int(fecha[1])\n",
    "        fecha[2] = int(fecha[2])\n",
    "        aux = fecha[1]\n",
    "        fecha[1] = fecha[0]\n",
    "        fecha[0] = aux\n",
    "        return fecha\n",
    "    \n",
    "    elif \"-\" in fecha:\n",
    "        fecha = fecha.split(\"-\")\n",
    "        fecha[0] = int(fecha[0])\n",
    "        fecha[1] = int(fecha[1])\n",
    "        fecha[2] = int(fecha[2])\n",
    "        fecha[2] = 2000 + fecha[2]\n",
    "        return fecha\n",
    "\n",
    "\n",
    "def dia(d):\n",
    "    return d[0]\n",
    "\n",
    "def mes(d):\n",
    "    return d[1]\n",
    "\n",
    "def anio(d):\n",
    "    return d[2]"
   ]
  },
  {
   "cell_type": "code",
   "execution_count": 34,
   "id": "e277b03e",
   "metadata": {},
   "outputs": [],
   "source": [
    "sin_df = sin_df.dropna(subset='fecha')\n",
    "sin_df['fecha_norm'] = sin_df['fecha'].apply(crear_fecha)\n",
    "\n",
    "sin_df['d'] = sin_df['fecha_norm'].apply(dia)\n",
    "sin_df['m'] = sin_df['fecha_norm'].apply(mes)\n",
    "sin_df['a'] = sin_df['fecha_norm'].apply(anio)"
   ]
  },
  {
   "cell_type": "code",
   "execution_count": 41,
   "metadata": {},
   "outputs": [
    {
     "data": {
      "text/plain": [
       "[31, 12, 2018]"
      ]
     },
     "execution_count": 41,
     "metadata": {},
     "output_type": "execute_result"
    }
   ],
   "source": [
    "[sin_df.d.max(),\n",
    "sin_df.m.max(),\n",
    "sin_df.a.max()]"
   ]
  },
  {
   "cell_type": "code",
   "execution_count": 42,
   "id": "1af12d4a",
   "metadata": {},
   "outputs": [
    {
     "data": {
      "text/html": [
       "<div>\n",
       "<style scoped>\n",
       "    .dataframe tbody tr th:only-of-type {\n",
       "        vertical-align: middle;\n",
       "    }\n",
       "\n",
       "    .dataframe tbody tr th {\n",
       "        vertical-align: top;\n",
       "    }\n",
       "\n",
       "    .dataframe thead th {\n",
       "        text-align: right;\n",
       "    }\n",
       "</style>\n",
       "<table border=\"1\" class=\"dataframe\">\n",
       "  <thead>\n",
       "    <tr style=\"text-align: right;\">\n",
       "      <th></th>\n",
       "      <th>causa</th>\n",
       "      <th>rol</th>\n",
       "      <th>tipo</th>\n",
       "      <th>sexo</th>\n",
       "      <th>edad</th>\n",
       "      <th>fecha</th>\n",
       "      <th>hora</th>\n",
       "      <th>tipo_calle</th>\n",
       "      <th>calle1</th>\n",
       "      <th>calle2</th>\n",
       "      <th>...</th>\n",
       "      <th>DY</th>\n",
       "      <th>QV2M</th>\n",
       "      <th>RH2M</th>\n",
       "      <th>PRECTOTCORR</th>\n",
       "      <th>T2M</th>\n",
       "      <th>TS</th>\n",
       "      <th>WS2M</th>\n",
       "      <th>CLRSKY_SFC_SW_DWN</th>\n",
       "      <th>PS</th>\n",
       "      <th>WS10M</th>\n",
       "    </tr>\n",
       "  </thead>\n",
       "  <tbody>\n",
       "    <tr>\n",
       "      <th>0</th>\n",
       "      <td>homicidio</td>\n",
       "      <td>conductor</td>\n",
       "      <td>moto</td>\n",
       "      <td>NaN</td>\n",
       "      <td>NaN</td>\n",
       "      <td>2/14/2015</td>\n",
       "      <td>19:00:00</td>\n",
       "      <td>calle</td>\n",
       "      <td>cafayate</td>\n",
       "      <td>garcia grande de zequeira, severo</td>\n",
       "      <td>...</td>\n",
       "      <td>14</td>\n",
       "      <td>9.03</td>\n",
       "      <td>60.06</td>\n",
       "      <td>0.00</td>\n",
       "      <td>21.71</td>\n",
       "      <td>23.18</td>\n",
       "      <td>3.62</td>\n",
       "      <td>8.08</td>\n",
       "      <td>101.66</td>\n",
       "      <td>5.15</td>\n",
       "    </tr>\n",
       "    <tr>\n",
       "      <th>1</th>\n",
       "      <td>homicidio</td>\n",
       "      <td>NaN</td>\n",
       "      <td>sin_data</td>\n",
       "      <td>NaN</td>\n",
       "      <td>NaN</td>\n",
       "      <td>2/25/2015</td>\n",
       "      <td>3:00:00</td>\n",
       "      <td>avenida</td>\n",
       "      <td>lugones, leopoldo av.</td>\n",
       "      <td>udaondo, guillermo av.</td>\n",
       "      <td>...</td>\n",
       "      <td>25</td>\n",
       "      <td>13.79</td>\n",
       "      <td>79.12</td>\n",
       "      <td>1.26</td>\n",
       "      <td>23.12</td>\n",
       "      <td>23.25</td>\n",
       "      <td>4.02</td>\n",
       "      <td>7.29</td>\n",
       "      <td>101.14</td>\n",
       "      <td>5.94</td>\n",
       "    </tr>\n",
       "  </tbody>\n",
       "</table>\n",
       "<p>2 rows × 34 columns</p>\n",
       "</div>"
      ],
      "text/plain": [
       "       causa        rol      tipo sexo  edad      fecha      hora tipo_calle  \\\n",
       "0  homicidio  conductor      moto  NaN   NaN  2/14/2015  19:00:00      calle   \n",
       "1  homicidio        NaN  sin_data  NaN   NaN  2/25/2015   3:00:00    avenida   \n",
       "\n",
       "                  calle1                             calle2  ...  DY   QV2M  \\\n",
       "0               cafayate  garcia grande de zequeira, severo  ...  14   9.03   \n",
       "1  lugones, leopoldo av.             udaondo, guillermo av.  ...  25  13.79   \n",
       "\n",
       "    RH2M  PRECTOTCORR    T2M     TS  WS2M  CLRSKY_SFC_SW_DWN      PS  WS10M  \n",
       "0  60.06         0.00  21.71  23.18  3.62               8.08  101.66   5.15  \n",
       "1  79.12         1.26  23.12  23.25  4.02               7.29  101.14   5.94  \n",
       "\n",
       "[2 rows x 34 columns]"
      ]
     },
     "execution_count": 42,
     "metadata": {},
     "output_type": "execute_result"
    }
   ],
   "source": [
    "sin_df = sin_df.merge(clima_df,how='left',left_on=['d','m','a'],right_on=['DY','MO','YEAR'])\n",
    "sin_df.head(2)"
   ]
  },
  {
   "cell_type": "code",
   "execution_count": 62,
   "id": "4ffc3300",
   "metadata": {},
   "outputs": [
    {
     "data": {
      "text/html": [
       "<div>\n",
       "<style scoped>\n",
       "    .dataframe tbody tr th:only-of-type {\n",
       "        vertical-align: middle;\n",
       "    }\n",
       "\n",
       "    .dataframe tbody tr th {\n",
       "        vertical-align: top;\n",
       "    }\n",
       "\n",
       "    .dataframe thead th {\n",
       "        text-align: right;\n",
       "    }\n",
       "</style>\n",
       "<table border=\"1\" class=\"dataframe\">\n",
       "  <thead>\n",
       "    <tr style=\"text-align: right;\">\n",
       "      <th></th>\n",
       "      <th>QV2M</th>\n",
       "      <th>WS2M</th>\n",
       "      <th>RH2M</th>\n",
       "      <th>PRECTOTCORR</th>\n",
       "      <th>TS</th>\n",
       "      <th>CLRSKY_SFC_SW_DWN</th>\n",
       "      <th>PS</th>\n",
       "      <th>WS10M</th>\n",
       "    </tr>\n",
       "    <tr>\n",
       "      <th>tipo</th>\n",
       "      <th></th>\n",
       "      <th></th>\n",
       "      <th></th>\n",
       "      <th></th>\n",
       "      <th></th>\n",
       "      <th></th>\n",
       "      <th></th>\n",
       "      <th></th>\n",
       "    </tr>\n",
       "  </thead>\n",
       "  <tbody>\n",
       "    <tr>\n",
       "      <th>automovil</th>\n",
       "      <td>8.982003</td>\n",
       "      <td>2.670045</td>\n",
       "      <td>74.090821</td>\n",
       "      <td>2.875986</td>\n",
       "      <td>17.440807</td>\n",
       "      <td>6.013552</td>\n",
       "      <td>101.373322</td>\n",
       "      <td>4.005001</td>\n",
       "    </tr>\n",
       "    <tr>\n",
       "      <th>bicicleta</th>\n",
       "      <td>9.116249</td>\n",
       "      <td>2.651242</td>\n",
       "      <td>74.072216</td>\n",
       "      <td>2.385611</td>\n",
       "      <td>17.739795</td>\n",
       "      <td>6.042094</td>\n",
       "      <td>101.357828</td>\n",
       "      <td>3.986167</td>\n",
       "    </tr>\n",
       "    <tr>\n",
       "      <th>moto</th>\n",
       "      <td>8.983601</td>\n",
       "      <td>2.671752</td>\n",
       "      <td>73.761621</td>\n",
       "      <td>2.526521</td>\n",
       "      <td>17.541401</td>\n",
       "      <td>6.067530</td>\n",
       "      <td>101.371555</td>\n",
       "      <td>4.008829</td>\n",
       "    </tr>\n",
       "    <tr>\n",
       "      <th>peaton</th>\n",
       "      <td>8.967430</td>\n",
       "      <td>2.689969</td>\n",
       "      <td>74.541847</td>\n",
       "      <td>2.925704</td>\n",
       "      <td>17.276569</td>\n",
       "      <td>5.957214</td>\n",
       "      <td>101.364878</td>\n",
       "      <td>4.036560</td>\n",
       "    </tr>\n",
       "  </tbody>\n",
       "</table>\n",
       "</div>"
      ],
      "text/plain": [
       "               QV2M      WS2M       RH2M  PRECTOTCORR         TS  \\\n",
       "tipo                                                               \n",
       "automovil  8.982003  2.670045  74.090821     2.875986  17.440807   \n",
       "bicicleta  9.116249  2.651242  74.072216     2.385611  17.739795   \n",
       "moto       8.983601  2.671752  73.761621     2.526521  17.541401   \n",
       "peaton     8.967430  2.689969  74.541847     2.925704  17.276569   \n",
       "\n",
       "           CLRSKY_SFC_SW_DWN          PS     WS10M  \n",
       "tipo                                                \n",
       "automovil           6.013552  101.373322  4.005001  \n",
       "bicicleta           6.042094  101.357828  3.986167  \n",
       "moto                6.067530  101.371555  4.008829  \n",
       "peaton              5.957214  101.364878  4.036560  "
      ]
     },
     "execution_count": 62,
     "metadata": {},
     "output_type": "execute_result"
    }
   ],
   "source": [
    "tipo_clima= sin_df.loc[(sin_df.tipo=='automovil') | (sin_df.tipo=='bicicleta') | (sin_df.tipo=='moto') | (sin_df.tipo=='peaton')].groupby('tipo')[['QV2M','WS2M','RH2M','PRECTOTCORR','TS','CLRSKY_SFC_SW_DWN','PS','WS10M']].mean()\n",
    "tipo_clima"
   ]
  },
  {
   "attachments": {},
   "cell_type": "markdown",
   "id": "4fe2c315",
   "metadata": {},
   "source": [
    "Comparando los tipos de vehiculos involucrados en siniestros, agregando el promedio de los valores climaticos, puedo notar una variación importante en la columna 'PRECTOTCORR' entre bicicleta, moto y los demas tipos.\n",
    "Tendré que comparar las demas variables, ya que esta no parece ser decisiva en este feature."
   ]
  },
  {
   "cell_type": "code",
   "execution_count": 87,
   "id": "3a051aed",
   "metadata": {},
   "outputs": [
    {
     "data": {
      "text/html": [
       "<div>\n",
       "<style scoped>\n",
       "    .dataframe tbody tr th:only-of-type {\n",
       "        vertical-align: middle;\n",
       "    }\n",
       "\n",
       "    .dataframe tbody tr th {\n",
       "        vertical-align: top;\n",
       "    }\n",
       "\n",
       "    .dataframe thead th {\n",
       "        text-align: right;\n",
       "    }\n",
       "</style>\n",
       "<table border=\"1\" class=\"dataframe\">\n",
       "  <thead>\n",
       "    <tr style=\"text-align: right;\">\n",
       "      <th></th>\n",
       "      <th>QV2M</th>\n",
       "      <th>WS2M</th>\n",
       "      <th>RH2M</th>\n",
       "      <th>PRECTOTCORR</th>\n",
       "      <th>TS</th>\n",
       "      <th>CLRSKY_SFC_SW_DWN</th>\n",
       "      <th>PS</th>\n",
       "      <th>WS10M</th>\n",
       "    </tr>\n",
       "    <tr>\n",
       "      <th>comuna</th>\n",
       "      <th></th>\n",
       "      <th></th>\n",
       "      <th></th>\n",
       "      <th></th>\n",
       "      <th></th>\n",
       "      <th></th>\n",
       "      <th></th>\n",
       "      <th></th>\n",
       "    </tr>\n",
       "  </thead>\n",
       "  <tbody>\n",
       "    <tr>\n",
       "      <th>1.0</th>\n",
       "      <td>9.079018</td>\n",
       "      <td>2.679173</td>\n",
       "      <td>74.166440</td>\n",
       "      <td>2.702082</td>\n",
       "      <td>17.599334</td>\n",
       "      <td>6.052177</td>\n",
       "      <td>101.353869</td>\n",
       "      <td>4.019718</td>\n",
       "    </tr>\n",
       "    <tr>\n",
       "      <th>2.0</th>\n",
       "      <td>8.826160</td>\n",
       "      <td>2.686405</td>\n",
       "      <td>73.393444</td>\n",
       "      <td>2.538219</td>\n",
       "      <td>17.336025</td>\n",
       "      <td>6.059026</td>\n",
       "      <td>101.369026</td>\n",
       "      <td>4.029145</td>\n",
       "    </tr>\n",
       "    <tr>\n",
       "      <th>3.0</th>\n",
       "      <td>9.011988</td>\n",
       "      <td>2.672209</td>\n",
       "      <td>73.869032</td>\n",
       "      <td>2.815978</td>\n",
       "      <td>17.505552</td>\n",
       "      <td>6.093917</td>\n",
       "      <td>101.349967</td>\n",
       "      <td>4.005211</td>\n",
       "    </tr>\n",
       "    <tr>\n",
       "      <th>4.0</th>\n",
       "      <td>9.055755</td>\n",
       "      <td>2.678155</td>\n",
       "      <td>74.359790</td>\n",
       "      <td>3.175679</td>\n",
       "      <td>17.461391</td>\n",
       "      <td>6.004800</td>\n",
       "      <td>101.359378</td>\n",
       "      <td>4.022951</td>\n",
       "    </tr>\n",
       "    <tr>\n",
       "      <th>5.0</th>\n",
       "      <td>8.956827</td>\n",
       "      <td>2.697194</td>\n",
       "      <td>73.787139</td>\n",
       "      <td>3.051484</td>\n",
       "      <td>17.463888</td>\n",
       "      <td>6.033185</td>\n",
       "      <td>101.352049</td>\n",
       "      <td>4.046641</td>\n",
       "    </tr>\n",
       "    <tr>\n",
       "      <th>6.0</th>\n",
       "      <td>9.232651</td>\n",
       "      <td>2.676884</td>\n",
       "      <td>74.367931</td>\n",
       "      <td>2.757537</td>\n",
       "      <td>17.847852</td>\n",
       "      <td>6.117828</td>\n",
       "      <td>101.359685</td>\n",
       "      <td>4.010283</td>\n",
       "    </tr>\n",
       "    <tr>\n",
       "      <th>7.0</th>\n",
       "      <td>9.042510</td>\n",
       "      <td>2.688178</td>\n",
       "      <td>73.739312</td>\n",
       "      <td>2.816763</td>\n",
       "      <td>17.699091</td>\n",
       "      <td>6.184710</td>\n",
       "      <td>101.363428</td>\n",
       "      <td>4.028021</td>\n",
       "    </tr>\n",
       "    <tr>\n",
       "      <th>8.0</th>\n",
       "      <td>9.049779</td>\n",
       "      <td>2.688181</td>\n",
       "      <td>74.122689</td>\n",
       "      <td>2.964544</td>\n",
       "      <td>17.599743</td>\n",
       "      <td>6.077653</td>\n",
       "      <td>101.348616</td>\n",
       "      <td>4.024372</td>\n",
       "    </tr>\n",
       "    <tr>\n",
       "      <th>9.0</th>\n",
       "      <td>8.894038</td>\n",
       "      <td>2.700469</td>\n",
       "      <td>73.975945</td>\n",
       "      <td>3.037890</td>\n",
       "      <td>17.362562</td>\n",
       "      <td>6.010402</td>\n",
       "      <td>101.369953</td>\n",
       "      <td>4.048998</td>\n",
       "    </tr>\n",
       "    <tr>\n",
       "      <th>10.0</th>\n",
       "      <td>8.973732</td>\n",
       "      <td>2.706982</td>\n",
       "      <td>74.305268</td>\n",
       "      <td>2.891631</td>\n",
       "      <td>17.365649</td>\n",
       "      <td>5.971244</td>\n",
       "      <td>101.377750</td>\n",
       "      <td>4.061190</td>\n",
       "    </tr>\n",
       "    <tr>\n",
       "      <th>11.0</th>\n",
       "      <td>9.042873</td>\n",
       "      <td>2.679024</td>\n",
       "      <td>73.416456</td>\n",
       "      <td>2.506131</td>\n",
       "      <td>17.787255</td>\n",
       "      <td>6.150473</td>\n",
       "      <td>101.360468</td>\n",
       "      <td>4.014549</td>\n",
       "    </tr>\n",
       "    <tr>\n",
       "      <th>12.0</th>\n",
       "      <td>8.920368</td>\n",
       "      <td>2.658166</td>\n",
       "      <td>73.731969</td>\n",
       "      <td>2.414063</td>\n",
       "      <td>17.459513</td>\n",
       "      <td>6.025020</td>\n",
       "      <td>101.363311</td>\n",
       "      <td>3.991958</td>\n",
       "    </tr>\n",
       "    <tr>\n",
       "      <th>13.0</th>\n",
       "      <td>8.872121</td>\n",
       "      <td>2.659179</td>\n",
       "      <td>74.399657</td>\n",
       "      <td>2.941626</td>\n",
       "      <td>17.078999</td>\n",
       "      <td>5.940272</td>\n",
       "      <td>101.390223</td>\n",
       "      <td>3.993768</td>\n",
       "    </tr>\n",
       "    <tr>\n",
       "      <th>14.0</th>\n",
       "      <td>8.989769</td>\n",
       "      <td>2.720315</td>\n",
       "      <td>74.037649</td>\n",
       "      <td>2.468249</td>\n",
       "      <td>17.485995</td>\n",
       "      <td>6.018850</td>\n",
       "      <td>101.367166</td>\n",
       "      <td>4.078833</td>\n",
       "    </tr>\n",
       "    <tr>\n",
       "      <th>15.0</th>\n",
       "      <td>8.992346</td>\n",
       "      <td>2.668028</td>\n",
       "      <td>74.619658</td>\n",
       "      <td>2.738366</td>\n",
       "      <td>17.296624</td>\n",
       "      <td>5.892123</td>\n",
       "      <td>101.373793</td>\n",
       "      <td>4.007499</td>\n",
       "    </tr>\n",
       "  </tbody>\n",
       "</table>\n",
       "</div>"
      ],
      "text/plain": [
       "            QV2M      WS2M       RH2M  PRECTOTCORR         TS  \\\n",
       "comuna                                                          \n",
       "1.0     9.079018  2.679173  74.166440     2.702082  17.599334   \n",
       "2.0     8.826160  2.686405  73.393444     2.538219  17.336025   \n",
       "3.0     9.011988  2.672209  73.869032     2.815978  17.505552   \n",
       "4.0     9.055755  2.678155  74.359790     3.175679  17.461391   \n",
       "5.0     8.956827  2.697194  73.787139     3.051484  17.463888   \n",
       "6.0     9.232651  2.676884  74.367931     2.757537  17.847852   \n",
       "7.0     9.042510  2.688178  73.739312     2.816763  17.699091   \n",
       "8.0     9.049779  2.688181  74.122689     2.964544  17.599743   \n",
       "9.0     8.894038  2.700469  73.975945     3.037890  17.362562   \n",
       "10.0    8.973732  2.706982  74.305268     2.891631  17.365649   \n",
       "11.0    9.042873  2.679024  73.416456     2.506131  17.787255   \n",
       "12.0    8.920368  2.658166  73.731969     2.414063  17.459513   \n",
       "13.0    8.872121  2.659179  74.399657     2.941626  17.078999   \n",
       "14.0    8.989769  2.720315  74.037649     2.468249  17.485995   \n",
       "15.0    8.992346  2.668028  74.619658     2.738366  17.296624   \n",
       "\n",
       "        CLRSKY_SFC_SW_DWN          PS     WS10M  \n",
       "comuna                                           \n",
       "1.0              6.052177  101.353869  4.019718  \n",
       "2.0              6.059026  101.369026  4.029145  \n",
       "3.0              6.093917  101.349967  4.005211  \n",
       "4.0              6.004800  101.359378  4.022951  \n",
       "5.0              6.033185  101.352049  4.046641  \n",
       "6.0              6.117828  101.359685  4.010283  \n",
       "7.0              6.184710  101.363428  4.028021  \n",
       "8.0              6.077653  101.348616  4.024372  \n",
       "9.0              6.010402  101.369953  4.048998  \n",
       "10.0             5.971244  101.377750  4.061190  \n",
       "11.0             6.150473  101.360468  4.014549  \n",
       "12.0             6.025020  101.363311  3.991958  \n",
       "13.0             5.940272  101.390223  3.993768  \n",
       "14.0             6.018850  101.367166  4.078833  \n",
       "15.0             5.892123  101.373793  4.007499  "
      ]
     },
     "execution_count": 87,
     "metadata": {},
     "output_type": "execute_result"
    }
   ],
   "source": [
    "comuna_clima = sin_df.groupby('comuna')[['QV2M','WS2M','RH2M','PRECTOTCORR','TS','CLRSKY_SFC_SW_DWN','PS','WS10M']].mean()\n",
    "comuna_clima"
   ]
  },
  {
   "attachments": {},
   "cell_type": "markdown",
   "id": "66b3dab9",
   "metadata": {},
   "source": [
    "En el estudio de comunas veo que algunas comunas son sensibles a cambios en el clima.\n",
    "\n",
    "Es un poco dificil notar cuales son las columnas mas sensibles a la discriminación por comuna, por lo que usare el valor absoluto del cambio y lo visualizare en un heatmap"
   ]
  },
  {
   "cell_type": "code",
   "execution_count": 70,
   "id": "e367d5f8",
   "metadata": {},
   "outputs": [
    {
     "data": {
      "text/html": [
       "<div>\n",
       "<style scoped>\n",
       "    .dataframe tbody tr th:only-of-type {\n",
       "        vertical-align: middle;\n",
       "    }\n",
       "\n",
       "    .dataframe tbody tr th {\n",
       "        vertical-align: top;\n",
       "    }\n",
       "\n",
       "    .dataframe thead th {\n",
       "        text-align: right;\n",
       "    }\n",
       "</style>\n",
       "<table border=\"1\" class=\"dataframe\">\n",
       "  <thead>\n",
       "    <tr style=\"text-align: right;\">\n",
       "      <th></th>\n",
       "      <th>QV2M</th>\n",
       "      <th>WS2M</th>\n",
       "      <th>RH2M</th>\n",
       "      <th>PRECTOTCORR</th>\n",
       "      <th>TS</th>\n",
       "      <th>CLRSKY_SFC_SW_DWN</th>\n",
       "      <th>PS</th>\n",
       "      <th>WS10M</th>\n",
       "    </tr>\n",
       "  </thead>\n",
       "  <tbody>\n",
       "    <tr>\n",
       "      <th>0</th>\n",
       "      <td>9.001507</td>\n",
       "      <td>2.683351</td>\n",
       "      <td>74.05636</td>\n",
       "      <td>2.764156</td>\n",
       "      <td>17.487763</td>\n",
       "      <td>6.040257</td>\n",
       "      <td>101.36368</td>\n",
       "      <td>4.025199</td>\n",
       "    </tr>\n",
       "  </tbody>\n",
       "</table>\n",
       "</div>"
      ],
      "text/plain": [
       "       QV2M      WS2M      RH2M  PRECTOTCORR         TS  CLRSKY_SFC_SW_DWN  \\\n",
       "0  9.001507  2.683351  74.05636     2.764156  17.487763           6.040257   \n",
       "\n",
       "          PS     WS10M  \n",
       "0  101.36368  4.025199  "
      ]
     },
     "execution_count": 70,
     "metadata": {},
     "output_type": "execute_result"
    }
   ],
   "source": [
    "medias_clima = sin_df[['QV2M','WS2M','RH2M','PRECTOTCORR','TS','CLRSKY_SFC_SW_DWN','PS','WS10M']].mean()\n",
    "medias_clima.to_frame().transpose()"
   ]
  },
  {
   "cell_type": "code",
   "execution_count": 88,
   "id": "66cc9e40",
   "metadata": {},
   "outputs": [
    {
     "data": {
      "text/plain": [
       "<AxesSubplot:>"
      ]
     },
     "execution_count": 88,
     "metadata": {},
     "output_type": "execute_result"
    },
    {
     "data": {
      "image/png": "[encoded data removed]",
      "text/plain": [
       "<Figure size 640x480 with 2 Axes>"
      ]
     },
     "metadata": {},
     "output_type": "display_data"
    }
   ],
   "source": [
    "comuna_clima = comuna_clima - medias_clima\n",
    "\n",
    "sns.heatmap(comuna_clima.reset_index().drop(columns='comuna'))"
   ]
  },
  {
   "cell_type": "markdown",
   "id": "267e354b",
   "metadata": {},
   "source": [
    "Puedo notar diferencias significativas en algunos valores, especialmente en las columnas \"RH2M\" y \"PRECTOTCORR\""
   ]
  },
  {
   "attachments": {},
   "cell_type": "markdown",
   "id": "2d1e8ded",
   "metadata": {},
   "source": [
    "Con esto concluyo que voy a usar estas columnas, incluyendo la columna \"TS\" también, en mis entregas para el trabajo final, ya que seguramente aporten información a la hora de hacer predicciones. \n",
    "\n",
    "También resta hacer la comparación en el caso de fallecimiento o lesiones, y en otros valores importantes, para ver la influencia del clima en los siniestros. \n",
    "\n",
    "Para que esta información agregada tenga mas peso, debería tener en cuenta la hora (para que la información del clima sea mas acertada)."
   ]
  },
  {
   "attachments": {},
   "cell_type": "markdown",
   "id": "2d8edb60",
   "metadata": {},
   "source": [
    "Ya que estoy estudiando la columna 'comuna', voy a comparar la cantidad de choques por tipo en cada comuna."
   ]
  },
  {
   "cell_type": "code",
   "execution_count": 129,
   "id": "1138bb6f",
   "metadata": {},
   "outputs": [],
   "source": [
    "chocados = sin_df.loc[sin_df['tipo'].str.contains('automovil|peaton|bicicleta|moto')]\n",
    "chocados2 = chocados.groupby(['comuna','tipo'])['cant'].sum().reset_index()"
   ]
  },
  {
   "cell_type": "code",
   "execution_count": 130,
   "id": "2105a7ad",
   "metadata": {},
   "outputs": [],
   "source": [
    "total_comunas = chocados.groupby('comuna')['cant'].sum().reset_index().dropna()\n",
    "total_comunas = total_comunas.sort_values(by='cant',ascending=False)"
   ]
  },
  {
   "cell_type": "code",
   "execution_count": 131,
   "id": "c28ca40b",
   "metadata": {},
   "outputs": [
    {
     "data": {
      "text/plain": [
       "Text(0, 0.5, 'Porcentaje de siniestros')"
      ]
     },
     "execution_count": 131,
     "metadata": {},
     "output_type": "execute_result"
    },
    {
     "data": {
      "image/png": "[encoded data removed]",
      "text/plain": [
       "<Figure size 640x480 with 1 Axes>"
      ]
     },
     "metadata": {},
     "output_type": "display_data"
    }
   ],
   "source": [
    "#chocados2.drop(columns='comuna',inplace=True)\n",
    "chocados2 = chocados2.merge(total_comunas,right_on='comuna',left_on='comuna')\n",
    "\n",
    "chocados2['porcentaje'] = ((chocados2['cant_x']/chocados2['cant_y'])*100).astype(int)\n",
    "chocados2 = chocados2[['comuna','tipo','porcentaje']]\n",
    "chocados2['comuna'] = chocados2['comuna'].astype(int).astype(str)\n",
    "\n",
    "ax = sns.barplot(chocados2, x='comuna',y='porcentaje',hue='tipo')\n",
    "ax.set_title('porcentaje de tipos de siniestro por comuna')\n",
    "ax.set_xlabel('Comuna N°')\n",
    "ax.set_ylabel('Porcentaje de siniestros')"
   ]
  },
  {
   "cell_type": "code",
   "execution_count": 127,
   "id": "55a880a5",
   "metadata": {},
   "outputs": [
    {
     "data": {
      "text/plain": [
       "0      1.0\n",
       "1      1.0\n",
       "2      1.0\n",
       "3      1.0\n",
       "4      2.0\n",
       "5      2.0\n",
       "6      2.0\n",
       "7      2.0\n",
       "8      3.0\n",
       "9      3.0\n",
       "10     3.0\n",
       "11     3.0\n",
       "12     4.0\n",
       "13     4.0\n",
       "14     4.0\n",
       "15     4.0\n",
       "16     5.0\n",
       "17     5.0\n",
       "18     5.0\n",
       "19     5.0\n",
       "20     6.0\n",
       "21     6.0\n",
       "22     6.0\n",
       "23     6.0\n",
       "24     7.0\n",
       "25     7.0\n",
       "26     7.0\n",
       "27     7.0\n",
       "28     8.0\n",
       "29     8.0\n",
       "30     8.0\n",
       "31     8.0\n",
       "32     9.0\n",
       "33     9.0\n",
       "34     9.0\n",
       "35     9.0\n",
       "36    10.0\n",
       "37    10.0\n",
       "38    10.0\n",
       "39    10.0\n",
       "40    11.0\n",
       "41    11.0\n",
       "42    11.0\n",
       "43    11.0\n",
       "44    12.0\n",
       "45    12.0\n",
       "46    12.0\n",
       "47    12.0\n",
       "48    13.0\n",
       "49    13.0\n",
       "50    13.0\n",
       "51    13.0\n",
       "52    14.0\n",
       "53    14.0\n",
       "54    14.0\n",
       "55    14.0\n",
       "56    15.0\n",
       "57    15.0\n",
       "58    15.0\n",
       "59    15.0\n",
       "Name: comuna, dtype: float64"
      ]
     },
     "execution_count": 127,
     "metadata": {},
     "output_type": "execute_result"
    }
   ],
   "source": []
  },
  {
   "cell_type": "code",
   "execution_count": null,
   "id": "c4f2ec90",
   "metadata": {},
   "outputs": [],
   "source": []
  }
 ],
 "metadata": {
  "kernelspec": {
   "display_name": "Python 3 (ipykernel)",
   "language": "python",
   "name": "python3"
  },
  "language_info": {
   "codemirror_mode": {
    "name": "ipython",
    "version": 3
   },
   "file_extension": ".py",
   "mimetype": "text/x-python",
   "name": "python",
   "nbconvert_exporter": "python",
   "pygments_lexer": "ipython3",
   "version": "3.9.12"
  }
 },
 "nbformat": 4,
 "nbformat_minor": 5
}
