{
 "cells": [
  {
   "attachments": {},
   "cell_type": "markdown",
   "id": "4e78b6a3",
   "metadata": {},
   "source": [
    "COMIENZA CARGA DE DATOS\n",
    "\n",
    "Cargo en primer lugar las librerias que usaré, luego cargo el set de datos elegido; este contiene datos de siniestros de tránsito en la Ciudad de Buenos Aires, entre los años 2015 y 2018. "
   ]
  },
  {
   "cell_type": "code",
   "execution_count": 2,
   "id": "0a5d3ee3",
   "metadata": {},
   "outputs": [],
   "source": [
    "import numpy as np\n",
    "import pandas as pd\n",
    "import scipy.sparse as sp\n",
    "import matplotlib.pyplot as plt\n",
    "import matplotlib.dates as mdates\n",
    "import matplotlib as mpl\n",
    "import seaborn as sns\n",
    "\n",
    "from sklearn.linear_model import LinearRegression\n",
    "from sklearn.model_selection import train_test_split\n",
    "from sklearn.preprocessing import OneHotEncoder\n",
    "from sklearn.tree import DecisionTreeClassifier\n",
    "from sklearn.preprocessing import MinMaxScaler\n",
    "from sklearn.svm import SVC\n",
    "from sklearn.metrics import accuracy_score"
   ]
  },
  {
   "cell_type": "code",
   "execution_count": 3,
   "id": "56a62ec3",
   "metadata": {},
   "outputs": [
    {
     "name": "stderr",
     "output_type": "stream",
     "text": [
      "C:\\Users\\Seguridad\\AppData\\Local\\Temp\\ipykernel_23400\\1239150759.py:2: DtypeWarning: Columns (9) have mixed types. Specify dtype option on import or set low_memory=False.\n",
      "  sin_df = pd.read_csv(siniestros)\n"
     ]
    }
   ],
   "source": [
    "siniestros = 'victimas-siniestros.csv'\n",
    "sin_df = pd.read_csv(siniestros)"
   ]
  },
  {
   "attachments": {},
   "cell_type": "markdown",
   "id": "c6cc7c57",
   "metadata": {},
   "source": [
    "COMIENZA EL PROCESO DE LIMPIEZA DEL DATASET"
   ]
  },
  {
   "cell_type": "code",
   "execution_count": 4,
   "id": "47a39ca8",
   "metadata": {},
   "outputs": [
    {
     "data": {
      "text/html": [
       "<div>\n",
       "<style scoped>\n",
       "    .dataframe tbody tr th:only-of-type {\n",
       "        vertical-align: middle;\n",
       "    }\n",
       "\n",
       "    .dataframe tbody tr th {\n",
       "        vertical-align: top;\n",
       "    }\n",
       "\n",
       "    .dataframe thead th {\n",
       "        text-align: right;\n",
       "    }\n",
       "</style>\n",
       "<table border=\"1\" class=\"dataframe\">\n",
       "  <thead>\n",
       "    <tr style=\"text-align: right;\">\n",
       "      <th></th>\n",
       "      <th>causa</th>\n",
       "      <th>rol</th>\n",
       "      <th>tipo</th>\n",
       "      <th>sexo</th>\n",
       "      <th>edad</th>\n",
       "      <th>mes</th>\n",
       "      <th>periodo</th>\n",
       "      <th>fecha</th>\n",
       "      <th>hora</th>\n",
       "      <th>lugar_hecho</th>\n",
       "      <th>...</th>\n",
       "      <th>semestre</th>\n",
       "      <th>x</th>\n",
       "      <th>y</th>\n",
       "      <th>geom</th>\n",
       "      <th>cantidad_victimas</th>\n",
       "      <th>comuna</th>\n",
       "      <th>geom_3857</th>\n",
       "      <th>tipo_colision1</th>\n",
       "      <th>participantes_victimas</th>\n",
       "      <th>participantes_acusados</th>\n",
       "    </tr>\n",
       "  </thead>\n",
       "  <tbody>\n",
       "    <tr>\n",
       "      <th>25870</th>\n",
       "      <td>lesiones</td>\n",
       "      <td>conductor</td>\n",
       "      <td>moto</td>\n",
       "      <td>masculino</td>\n",
       "      <td>22.0</td>\n",
       "      <td>3.0</td>\n",
       "      <td>2015</td>\n",
       "      <td>03-09-15</td>\n",
       "      <td>19:30:00</td>\n",
       "      <td>avda juan b alberdi &amp; timoteo gordillo</td>\n",
       "      <td>...</td>\n",
       "      <td>1</td>\n",
       "      <td>-58.508777</td>\n",
       "      <td>-34.656709</td>\n",
       "      <td>0101000020E6100000A8797D9C1F414DC052D247090F54...</td>\n",
       "      <td>1</td>\n",
       "      <td>9.0</td>\n",
       "      <td>0101000020110F000024D63AD283D858C1DD5CBB47A769...</td>\n",
       "      <td>vehiculo - motovehiculo</td>\n",
       "      <td>moto</td>\n",
       "      <td>automovil</td>\n",
       "    </tr>\n",
       "    <tr>\n",
       "      <th>32815</th>\n",
       "      <td>lesiones</td>\n",
       "      <td>peaton</td>\n",
       "      <td>peaton</td>\n",
       "      <td>femenino</td>\n",
       "      <td>45.0</td>\n",
       "      <td>3.0</td>\n",
       "      <td>2018</td>\n",
       "      <td>3/25/2018</td>\n",
       "      <td>21:30:00</td>\n",
       "      <td>NaN</td>\n",
       "      <td>...</td>\n",
       "      <td>1</td>\n",
       "      <td>-58.519755</td>\n",
       "      <td>-34.639008</td>\n",
       "      <td>0101000020E61000008BA31B5187424DC0BEE50607CB51...</td>\n",
       "      <td>1</td>\n",
       "      <td>9.0</td>\n",
       "      <td>0101000020110F00005285B951B5D958C196C43CB3F964...</td>\n",
       "      <td>peaton - vehiculo</td>\n",
       "      <td>peaton</td>\n",
       "      <td>taxi/remis</td>\n",
       "    </tr>\n",
       "    <tr>\n",
       "      <th>25794</th>\n",
       "      <td>lesiones</td>\n",
       "      <td>pasajero</td>\n",
       "      <td>moto</td>\n",
       "      <td>femenino</td>\n",
       "      <td>25.0</td>\n",
       "      <td>3.0</td>\n",
       "      <td>2015</td>\n",
       "      <td>03-08-15</td>\n",
       "      <td>16:20:00</td>\n",
       "      <td>avda f alcorta y avda sarmiento</td>\n",
       "      <td>...</td>\n",
       "      <td>1</td>\n",
       "      <td>-58.411781</td>\n",
       "      <td>-34.571861</td>\n",
       "      <td>0101000020E6100000BB96F339B5344DC016E09ABF3249...</td>\n",
       "      <td>1</td>\n",
       "      <td>14.0</td>\n",
       "      <td>0101000020110F0000DC9CFB6AF8CD58C1EA8D44F83C53...</td>\n",
       "      <td>multiple</td>\n",
       "      <td>moto</td>\n",
       "      <td>automovil,moto</td>\n",
       "    </tr>\n",
       "  </tbody>\n",
       "</table>\n",
       "<p>3 rows × 29 columns</p>\n",
       "</div>"
      ],
      "text/plain": [
       "          causa        rol    tipo       sexo  edad  mes  periodo      fecha  \\\n",
       "25870  lesiones  conductor    moto  masculino  22.0  3.0     2015   03-09-15   \n",
       "32815  lesiones     peaton  peaton   femenino  45.0  3.0     2018  3/25/2018   \n",
       "25794  lesiones   pasajero    moto   femenino  25.0  3.0     2015   03-08-15   \n",
       "\n",
       "           hora                             lugar_hecho  ... semestre  \\\n",
       "25870  19:30:00  avda juan b alberdi & timoteo gordillo  ...        1   \n",
       "32815  21:30:00                                     NaN  ...        1   \n",
       "25794  16:20:00         avda f alcorta y avda sarmiento  ...        1   \n",
       "\n",
       "               x          y  \\\n",
       "25870 -58.508777 -34.656709   \n",
       "32815 -58.519755 -34.639008   \n",
       "25794 -58.411781 -34.571861   \n",
       "\n",
       "                                                    geom  cantidad_victimas  \\\n",
       "25870  0101000020E6100000A8797D9C1F414DC052D247090F54...                  1   \n",
       "32815  0101000020E61000008BA31B5187424DC0BEE50607CB51...                  1   \n",
       "25794  0101000020E6100000BB96F339B5344DC016E09ABF3249...                  1   \n",
       "\n",
       "      comuna                                          geom_3857  \\\n",
       "25870    9.0  0101000020110F000024D63AD283D858C1DD5CBB47A769...   \n",
       "32815    9.0  0101000020110F00005285B951B5D958C196C43CB3F964...   \n",
       "25794   14.0  0101000020110F0000DC9CFB6AF8CD58C1EA8D44F83C53...   \n",
       "\n",
       "                tipo_colision1 participantes_victimas  participantes_acusados  \n",
       "25870  vehiculo - motovehiculo                   moto               automovil  \n",
       "32815        peaton - vehiculo                 peaton              taxi/remis  \n",
       "25794                 multiple                   moto          automovil,moto  \n",
       "\n",
       "[3 rows x 29 columns]"
      ]
     },
     "execution_count": 4,
     "metadata": {},
     "output_type": "execute_result"
    }
   ],
   "source": [
    "sin_df.sample(3)"
   ]
  },
  {
   "cell_type": "code",
   "execution_count": 5,
   "id": "b4ddd29f",
   "metadata": {},
   "outputs": [
    {
     "name": "stdout",
     "output_type": "stream",
     "text": [
      "<class 'pandas.core.frame.DataFrame'>\n",
      "RangeIndex: 33234 entries, 0 to 33233\n",
      "Data columns (total 29 columns):\n",
      " #   Column                        Non-Null Count  Dtype  \n",
      "---  ------                        --------------  -----  \n",
      " 0   causa                         33234 non-null  object \n",
      " 1   rol                           32899 non-null  object \n",
      " 2   tipo                          32134 non-null  object \n",
      " 3   sexo                          33037 non-null  object \n",
      " 4   edad                          32675 non-null  float64\n",
      " 5   mes                           33197 non-null  float64\n",
      " 6   periodo                       33234 non-null  int64  \n",
      " 7   fecha                         33173 non-null  object \n",
      " 8   hora                          33217 non-null  object \n",
      " 9   lugar_hecho                   29518 non-null  object \n",
      " 10  direccion_normalizada         32469 non-null  object \n",
      " 11  tipo_calle                    33234 non-null  object \n",
      " 12  direccion_normalizada_arcgis  32462 non-null  object \n",
      " 13  calle1                        32469 non-null  object \n",
      " 14  altura                        7111 non-null   float64\n",
      " 15  calle2                        24987 non-null  object \n",
      " 16  codigo_calle                  23944 non-null  float64\n",
      " 17  codigo_cruce                  20709 non-null  float64\n",
      " 18  geocodificacion               32139 non-null  object \n",
      " 19  semestre                      33234 non-null  int64  \n",
      " 20  x                             32139 non-null  float64\n",
      " 21  y                             32139 non-null  float64\n",
      " 22  geom                          32139 non-null  object \n",
      " 23  cantidad_victimas             33234 non-null  int64  \n",
      " 24  comuna                        32136 non-null  float64\n",
      " 25  geom_3857                     32139 non-null  object \n",
      " 26  tipo_colision1                31891 non-null  object \n",
      " 27  participantes_victimas        32103 non-null  object \n",
      " 28  participantes_acusados        32557 non-null  object \n",
      "dtypes: float64(8), int64(3), object(18)\n",
      "memory usage: 7.4+ MB\n"
     ]
    }
   ],
   "source": [
    "sin_df.info()"
   ]
  },
  {
   "attachments": {},
   "cell_type": "markdown",
   "id": "11d38026",
   "metadata": {},
   "source": [
    "EN PRIMERA INSTANCIA DE LA EXPLORACION, VOY A ESTABLECER UN OBJETIVO GENERAL:\n",
    "\n",
    "- QUIERO MINIMIZAR LA CANTIDAD DE ACCIDENTES DE AUTOS, MOTOS Y BICICLETAS (en este ejemplo me contrataría gobierno de la Ciudad de Buenos Aires). PARA ESTO HABRIA QUE TOMAR MEDIDAS DE TODO TIPO, COMO CONTROLES POLICIALES, CARTELES PREVENTIVOS, ARREGLOS DE CALLE, CAMARAS-MULTA, ETC.\n",
    "\n",
    "-------------------------------------------------------------------------------------------------------------------------------"
   ]
  },
  {
   "attachments": {},
   "cell_type": "markdown",
   "id": "338edc03",
   "metadata": {},
   "source": [
    "CON ESTE OBJETIVO EN MENTE, VOY A ELEGIR QUE COLUMNAS SON LAS QUE MAS INFORMACION PUEDEN APORTAR Y CUALES SON LAS QUE TIENEN INFORMACION REDUNDANTE.\n",
    "\n",
    "EN UNA PRIMERA IMPRESION, ASUMO QUE LAS COLUMNAS MAS IMPORTANTES SON:\n",
    "\n",
    "- causa\n",
    "- rol\n",
    "- tipo\n",
    "- sexo\n",
    "- edad\n",
    "- fecha\n",
    "- hora\n",
    "- tipo_calle\n",
    "- calle1\n",
    "- calle2\n",
    "- x\n",
    "- y\n",
    "- cantidad_victimas\n",
    "- comuna\n",
    "- participantes_victimas\n",
    "- participantes_acusados\n",
    "\n",
    "EL RESTO DE COLUMAS CONTIENEN INFORMACION QUE APARECE EN ESTAS COLUMNAS SELECCIONADAS, PERO EN OTRO FORMATO.\n",
    "\n",
    "PROCEDO A QUEDARME SOLO CON LAS COLUMNAS ELEGIDAS Y REVISO LOS DATOS NULOS"
   ]
  },
  {
   "cell_type": "code",
   "execution_count": 6,
   "id": "a40136ac",
   "metadata": {},
   "outputs": [
    {
     "data": {
      "text/plain": [
       "causa                        0\n",
       "rol                        335\n",
       "tipo                      1100\n",
       "sexo                       197\n",
       "edad                       559\n",
       "fecha                       61\n",
       "hora                        17\n",
       "tipo_calle                   0\n",
       "calle1                     765\n",
       "calle2                    8247\n",
       "x                         1095\n",
       "y                         1095\n",
       "cantidad_victimas            0\n",
       "comuna                    1098\n",
       "tipo_colision1            1343\n",
       "participantes_acusados     677\n",
       "participantes_victimas    1131\n",
       "dtype: int64"
      ]
     },
     "execution_count": 6,
     "metadata": {},
     "output_type": "execute_result"
    }
   ],
   "source": [
    "sin_df = sin_df[['causa','rol','tipo','sexo','edad','fecha','hora','tipo_calle','calle1','calle2','x','y','cantidad_victimas','comuna','tipo_colision1','participantes_acusados','participantes_victimas']]\n",
    "sin_df.isnull().sum()"
   ]
  },
  {
   "cell_type": "code",
   "execution_count": 7,
   "id": "45cbcfe5",
   "metadata": {},
   "outputs": [
    {
     "data": {
      "text/plain": [
       "causa                        0\n",
       "rol                          6\n",
       "tipo                        41\n",
       "sexo                         6\n",
       "edad                        29\n",
       "fecha                        6\n",
       "hora                         6\n",
       "tipo_calle                   0\n",
       "calle1                     739\n",
       "calle2                    1097\n",
       "x                         1095\n",
       "y                         1095\n",
       "cantidad_victimas            0\n",
       "comuna                    1098\n",
       "tipo_colision1              43\n",
       "participantes_acusados      17\n",
       "participantes_victimas      38\n",
       "dtype: int64"
      ]
     },
     "execution_count": 7,
     "metadata": {},
     "output_type": "execute_result"
    }
   ],
   "source": [
    "sin_df.loc[sin_df.comuna.isnull()][['causa','rol','tipo','sexo','edad','fecha','hora','tipo_calle','calle1','calle2','x','y','cantidad_victimas','comuna','tipo_colision1','participantes_acusados','participantes_victimas']].isnull().sum()"
   ]
  },
  {
   "attachments": {},
   "cell_type": "markdown",
   "id": "349e06dd",
   "metadata": {},
   "source": [
    "BORRO LAS FILAS QUE TIENEN EL CAMPO FECHA Y HORA VACIOS, PORQUE SON MUY POCOS DATOS QUE PIERDO."
   ]
  },
  {
   "cell_type": "code",
   "execution_count": 8,
   "id": "ab2f4da8",
   "metadata": {},
   "outputs": [
    {
     "data": {
      "text/plain": [
       "fecha    0\n",
       "hora     0\n",
       "dtype: int64"
      ]
     },
     "execution_count": 8,
     "metadata": {},
     "output_type": "execute_result"
    }
   ],
   "source": [
    "sin_df.dropna(subset=['fecha','hora'],inplace=True)\n",
    "sin_df[['fecha','hora']].isnull().sum()"
   ]
  },
  {
   "attachments": {},
   "cell_type": "markdown",
   "id": "532afa34",
   "metadata": {},
   "source": [
    "AHORA VOY A SIMPLIFICAR LAS COLUMNAS 'tipo' Y 'tipo_colision1' PARA QUE SEAN UTILIZABLES."
   ]
  },
  {
   "cell_type": "code",
   "execution_count": 9,
   "id": "85da58d5",
   "metadata": {},
   "outputs": [],
   "source": [
    "sin_df['tipo_colision1'].fillna('sin_data',inplace=True)\n",
    "sin_df['tipo'].fillna('sin_data',inplace=True)\n",
    "\n",
    "def simplificar_tipocol(tipo):\n",
    "\n",
    "    if '-' in tipo:\n",
    "        ac, vi = tipo.split('-')\n",
    "    else:\n",
    "        return tipo\n",
    "    \n",
    "    if tipo == 'vehiculo - motovehiculo' or tipo == 'motovehiculo - vehiculo':\n",
    "        return 'motovehiculo - vehiculo'\n",
    "    elif tipo == 'vehiculo - peaton' or tipo == 'peaton - vehiculo':\n",
    "        return 'peaton - vehiculo'\n",
    "    elif tipo == 'vehiculo - bicicleta' or tipo == 'bicicleta - vehiculo':\n",
    "        return 'bicicleta - vehiculo'\n",
    "    elif tipo == 'traccion a sangre - vehiculo' or tipo == 'motovehiculo - traccion a sangre' or tipo == 'motovehiculo - tren' or tipo == 'subte - vehiculo':\n",
    "        return 'sin_data'\n",
    "    elif 'bicicleta' in tipo:\n",
    "        return 'bicicleta'\n",
    "    elif 'peaton' in tipo:\n",
    "        return 'peaton'\n",
    "    else:\n",
    "        return tipo\n",
    "\n",
    "def simplificar_tipo(tipo):\n",
    "    \n",
    "    if tipo == 'auto pfa / movil / gendarmeria / metropolitana / moto movil' or tipo == 'vehiculo oficial':\n",
    "        st = 'fuerza seguridad'\n",
    "    elif tipo == 'transporte de cargas / grua' or tipo == 'utilitario':\n",
    "        st = 'camion'\n",
    "    elif tipo == 'transporte escolar' or tipo == 'omnibus / minibus':\n",
    "        st = 'transporte publico'\n",
    "    elif tipo == 'ambulancia':\n",
    "        st = 'camioneta'\n",
    "    elif tipo == 'traccion a sangre' or tipo == 'autobomba' or tipo == 'patineta' or tipo == 'cuatriciclo' or tipo == 'tren / subte' or tipo == 'tren / subte / tranvia' or tipo == 'vehiculo rural' or tipo == 'otros':\n",
    "        st = 'sin_data'\n",
    "    else:\n",
    "        return tipo\n",
    "    return st"
   ]
  },
  {
   "cell_type": "code",
   "execution_count": 10,
   "id": "59eac8c3",
   "metadata": {
    "scrolled": true
   },
   "outputs": [
    {
     "data": {
      "text/html": [
       "<div>\n",
       "<style scoped>\n",
       "    .dataframe tbody tr th:only-of-type {\n",
       "        vertical-align: middle;\n",
       "    }\n",
       "\n",
       "    .dataframe tbody tr th {\n",
       "        vertical-align: top;\n",
       "    }\n",
       "\n",
       "    .dataframe thead th {\n",
       "        text-align: right;\n",
       "    }\n",
       "</style>\n",
       "<table border=\"1\" class=\"dataframe\">\n",
       "  <thead>\n",
       "    <tr style=\"text-align: right;\">\n",
       "      <th></th>\n",
       "      <th>tipo</th>\n",
       "      <th>tipo_colision1</th>\n",
       "    </tr>\n",
       "  </thead>\n",
       "  <tbody>\n",
       "    <tr>\n",
       "      <th>count</th>\n",
       "      <td>33162</td>\n",
       "      <td>33162</td>\n",
       "    </tr>\n",
       "    <tr>\n",
       "      <th>unique</th>\n",
       "      <td>10</td>\n",
       "      <td>9</td>\n",
       "    </tr>\n",
       "    <tr>\n",
       "      <th>top</th>\n",
       "      <td>moto</td>\n",
       "      <td>motovehiculo - vehiculo</td>\n",
       "    </tr>\n",
       "    <tr>\n",
       "      <th>freq</th>\n",
       "      <td>12989</td>\n",
       "      <td>11378</td>\n",
       "    </tr>\n",
       "  </tbody>\n",
       "</table>\n",
       "</div>"
      ],
      "text/plain": [
       "         tipo           tipo_colision1\n",
       "count   33162                    33162\n",
       "unique     10                        9\n",
       "top      moto  motovehiculo - vehiculo\n",
       "freq    12989                    11378"
      ]
     },
     "execution_count": 10,
     "metadata": {},
     "output_type": "execute_result"
    }
   ],
   "source": [
    "sin_df['tipo'] = sin_df['tipo'].apply(simplificar_tipo)#.astype('|S80')\n",
    "\n",
    "sin_df['tipo_colision1'] = sin_df['tipo_colision1'].apply(simplificar_tipocol)#.astype('|S80')\n",
    "\n",
    "sin_df[['tipo','tipo_colision1']].describe()"
   ]
  },
  {
   "attachments": {},
   "cell_type": "markdown",
   "id": "eb417d14",
   "metadata": {},
   "source": [
    "DEBERIA RELLENAR LOS NULOS DE 'tipo' CON INFORMACION DE OTRAS COLUMNAS PARA MEJORAR LA CALIDAD DE LA INFORMACION"
   ]
  },
  {
   "attachments": {},
   "cell_type": "markdown",
   "id": "10e15e6a",
   "metadata": {},
   "source": [
    "AHORA VOY A RELLENAR LOS CAMPOS CON VALOR NULO"
   ]
  },
  {
   "cell_type": "code",
   "execution_count": 11,
   "id": "82a15e75",
   "metadata": {},
   "outputs": [],
   "source": [
    "#sin_df['comuna'].fillna(0,inplace=True)\n",
    "sin_df = sin_df.dropna(subset='comuna')\n",
    "sin_df['comuna'] = sin_df['comuna'].astype(int)"
   ]
  },
  {
   "cell_type": "code",
   "execution_count": 12,
   "id": "dd08aa37",
   "metadata": {},
   "outputs": [],
   "source": [
    "sin_df['rol'].fillna('sin_data',inplace=True)\n",
    "sin_df['sexo'].fillna('sin_data',inplace=True)\n",
    "sin_df['calle1'].fillna('sin_data',inplace=True)\n",
    "sin_df['calle2'].fillna('sin_data',inplace=True)\n",
    "sin_df['participantes_acusados'].fillna('sin_data',inplace=True)\n",
    "sin_df['participantes_victimas'].fillna('sin_data',inplace=True)\n",
    "sin_df['x'].fillna(-1,inplace=True)\n",
    "sin_df['y'].fillna(-1,inplace=True)\n",
    "sin_df['edad'].fillna(sin_df.edad.mean(),inplace=True)"
   ]
  },
  {
   "attachments": {},
   "cell_type": "markdown",
   "id": "69d6bd05",
   "metadata": {},
   "source": [
    "EN LOS SIGUIENTES CASILLEROS VOY A LIMPIAR Y NORMALIZAR COLUMNAS"
   ]
  },
  {
   "cell_type": "code",
   "execution_count": 13,
   "id": "0e3563ac",
   "metadata": {},
   "outputs": [
    {
     "data": {
      "text/plain": [
       "tipo_calle\n",
       "2    21127\n",
       "3    10838\n",
       "1      106\n",
       "dtype: int64"
      ]
     },
     "execution_count": 13,
     "metadata": {},
     "output_type": "execute_result"
    }
   ],
   "source": [
    "def normalizar_causa(causa):\n",
    "    if causa == 'lesiones':\n",
    "        return 0\n",
    "    elif causa == 'homicidio':\n",
    "        return 1\n",
    "    else:\n",
    "        return -1\n",
    "\n",
    "\n",
    "def normalizar_sexo(sexo):\n",
    "    if sexo == 'masculino':\n",
    "        return 1\n",
    "    elif sexo == 'femenino':\n",
    "        return 2\n",
    "    else:\n",
    "        return 0\n",
    "    \n",
    "def normalizar_tipo_calle(calle):\n",
    "    if calle == 'autopista':\n",
    "        return 1\n",
    "    elif calle == 'avenida':\n",
    "        return 2\n",
    "    elif calle == 'calle':\n",
    "        return 3\n",
    "    else:\n",
    "        return 0\n",
    "    \n",
    "sin_df['sexo'] = sin_df['sexo'].apply(normalizar_sexo)\n",
    "sin_df['causa'] = sin_df['causa'].apply(normalizar_causa)\n",
    "sin_df['tipo_calle'] = sin_df['tipo_calle'].apply(normalizar_tipo_calle)\n",
    "sin_df.value_counts('tipo_calle')\n",
    "\n",
    "# masculino -> 1\n",
    "# femenino -> 2\n",
    "# sin data -> 0\n",
    "\n",
    "# lesiones -> 1\n",
    "# muerte -> 2"
   ]
  },
  {
   "cell_type": "code",
   "execution_count": 14,
   "id": "997ac435",
   "metadata": {},
   "outputs": [
    {
     "data": {
      "text/plain": [
       "rango_edad\n",
       "2    18569\n",
       "3     7176\n",
       "4     3518\n",
       "1     2808\n",
       "dtype: int64"
      ]
     },
     "execution_count": 14,
     "metadata": {},
     "output_type": "execute_result"
    }
   ],
   "source": [
    "def edades(edad):\n",
    "    rango = 0\n",
    "    \n",
    "    if (edad<20):\n",
    "        rango=1\n",
    "    elif (edad<40):\n",
    "        rango=2\n",
    "    elif (edad<60):\n",
    "        rango=3\n",
    "    else:\n",
    "        rango=4\n",
    "    return rango\n",
    "\n",
    "sin_df['rango_edad'] = sin_df['edad'].apply(edades)\n",
    "sin_df.value_counts('rango_edad')"
   ]
  },
  {
   "attachments": {},
   "cell_type": "markdown",
   "id": "f32e6f66",
   "metadata": {},
   "source": [
    "LE DOY UN FORMATO DESEADO A LA HORA Y FECHA"
   ]
  },
  {
   "cell_type": "code",
   "execution_count": 15,
   "id": "97b12590",
   "metadata": {},
   "outputs": [
    {
     "data": {
      "text/plain": [
       "hora\n",
       "18    2141\n",
       "13    2129\n",
       "14    2050\n",
       "17    2022\n",
       "12    1967\n",
       "dtype: int64"
      ]
     },
     "execution_count": 15,
     "metadata": {},
     "output_type": "execute_result"
    }
   ],
   "source": [
    "def extraer_hora(hora):\n",
    "    return hora.hour\n",
    "\n",
    "sin_df['hora'] = pd.to_datetime(sin_df['hora']).apply(extraer_hora)\n",
    "sin_df['hora'] = sin_df['hora'].astype(int)\n",
    "sin_df.value_counts('hora').head()"
   ]
  },
  {
   "cell_type": "code",
   "execution_count": 16,
   "id": "04f6c269",
   "metadata": {},
   "outputs": [],
   "source": [
    "def crear_fecha(fecha):\n",
    "\n",
    "    if \"/\" in fecha:\n",
    "        fecha = fecha.split(\"/\")\n",
    "        fecha[0] = int(fecha[0])\n",
    "        fecha[1] = int(fecha[1])\n",
    "        fecha[2] = int(fecha[2])\n",
    "        aux = fecha[1]\n",
    "        fecha[1] = fecha[0]\n",
    "        fecha[0] = aux\n",
    "        return fecha\n",
    "    \n",
    "    elif \"-\" in fecha:\n",
    "        fecha = fecha.split(\"-\")\n",
    "        fecha[0] = int(fecha[0])\n",
    "        fecha[1] = int(fecha[1])\n",
    "        fecha[2] = int(fecha[2])\n",
    "        fecha[2] = 2000 + fecha[2]\n",
    "        return fecha\n",
    "\n",
    "\n",
    "def dia(d):\n",
    "    return d[0]\n",
    "\n",
    "def mes(d):\n",
    "    return d[1]\n",
    "\n",
    "def anio(d):\n",
    "    return d[2]"
   ]
  },
  {
   "cell_type": "code",
   "execution_count": 17,
   "id": "2f30f74a",
   "metadata": {},
   "outputs": [
    {
     "data": {
      "text/plain": [
       "2    13504\n",
       "1    12988\n",
       "0     5579\n",
       "Name: rango_horario, dtype: int64"
      ]
     },
     "execution_count": 17,
     "metadata": {},
     "output_type": "execute_result"
    }
   ],
   "source": [
    "sin_df['rango_horario'] = sin_df.hora.apply(lambda x: \n",
    "                                            0 if (x < 5)\n",
    "                                            else 1 if (x < 14)\n",
    "                                            else 2 if (x < 21)\n",
    "                                            else 0)\n",
    "\n",
    "sin_df.rango_horario.value_counts()\n",
    "\n",
    "# 0 -> Noche y Madrugada\n",
    "# 1 -> Mañana\n",
    "# 2 -> Tarde"
   ]
  },
  {
   "cell_type": "code",
   "execution_count": 18,
   "id": "b0743427",
   "metadata": {},
   "outputs": [
    {
     "name": "stdout",
     "output_type": "stream",
     "text": [
      "<class 'pandas.core.frame.DataFrame'>\n",
      "Int64Index: 32071 entries, 0 to 33232\n",
      "Data columns (total 23 columns):\n",
      " #   Column                  Non-Null Count  Dtype  \n",
      "---  ------                  --------------  -----  \n",
      " 0   causa                   32071 non-null  int64  \n",
      " 1   rol                     32071 non-null  object \n",
      " 2   tipo                    32071 non-null  object \n",
      " 3   sexo                    32071 non-null  int64  \n",
      " 4   edad                    32071 non-null  float64\n",
      " 5   fecha                   32071 non-null  object \n",
      " 6   hora                    32071 non-null  int32  \n",
      " 7   tipo_calle              32071 non-null  int64  \n",
      " 8   calle1                  32071 non-null  object \n",
      " 9   calle2                  32071 non-null  object \n",
      " 10  x                       32071 non-null  float64\n",
      " 11  y                       32071 non-null  float64\n",
      " 12  cantidad_victimas       32071 non-null  int64  \n",
      " 13  comuna                  32071 non-null  int32  \n",
      " 14  tipo_colision1          32071 non-null  object \n",
      " 15  participantes_acusados  32071 non-null  object \n",
      " 16  participantes_victimas  32071 non-null  object \n",
      " 17  rango_edad              32071 non-null  int64  \n",
      " 18  rango_horario           32071 non-null  int64  \n",
      " 19  fecha_norm              32071 non-null  object \n",
      " 20  d                       32071 non-null  int64  \n",
      " 21  m                       32071 non-null  int64  \n",
      " 22  a                       32071 non-null  int64  \n",
      "dtypes: float64(3), int32(2), int64(9), object(9)\n",
      "memory usage: 5.6+ MB\n"
     ]
    }
   ],
   "source": [
    "#sin_df = sin_df.dropna(subset='fecha')\n",
    "sin_df['fecha_norm'] = sin_df['fecha'].apply(crear_fecha)\n",
    "\n",
    "sin_df['d'] = sin_df['fecha_norm'].apply(dia)\n",
    "sin_df['m'] = sin_df['fecha_norm'].apply(mes)\n",
    "sin_df['a'] = sin_df['fecha_norm'].apply(anio)\n",
    "\n",
    "sin_df.info()"
   ]
  },
  {
   "cell_type": "code",
   "execution_count": 19,
   "id": "b777ec04",
   "metadata": {},
   "outputs": [
    {
     "data": {
      "text/plain": [
       "automovil                                    16212\n",
       "\"transporte publico\"                          3660\n",
       "moto                                          2543\n",
       "taxi/remis                                    2080\n",
       "camioneta                                     1400\n",
       "                                             ...  \n",
       "taxi/remis,camioneta                             1\n",
       "moto,automovil,automovil,automovil               1\n",
       "automovil,ambulancia                             1\n",
       "\"transporte de cargas / grua / volquetes\"        1\n",
       "automovil,cuatriciclo                            1\n",
       "Name: participantes_acusados, Length: 178, dtype: int64"
      ]
     },
     "execution_count": 19,
     "metadata": {},
     "output_type": "execute_result"
    }
   ],
   "source": [
    "#sin_df[['tipo_colision1','tipo','participantes_acusados','participantes_victimas']].sample(10)\n",
    "sin_df.participantes_acusados.value_counts()"
   ]
  },
  {
   "attachments": {},
   "cell_type": "markdown",
   "id": "de3a5f19",
   "metadata": {},
   "source": [
    "veo que 'participantes_victimas' contiene en casi todos los casos el mismo valor que la columna 'tipo', por lo cual no la voy a utilizar.\n",
    "en el caso de la columna 'participantes_acusados' tiene informacion diferente y tendre que limpiar la columna para poder utilizarla."
   ]
  },
  {
   "cell_type": "code",
   "execution_count": 20,
   "id": "bccc006b",
   "metadata": {},
   "outputs": [
    {
     "data": {
      "text/plain": [
       "automovil             18478\n",
       "transporte_publico     6200\n",
       "motovehiculo           3598\n",
       "camion                 2788\n",
       "otro                   1007\n",
       "Name: participantes_acusados, dtype: int64"
      ]
     },
     "execution_count": 20,
     "metadata": {},
     "output_type": "execute_result"
    }
   ],
   "source": [
    "def simplificar_acusado(ac):    \n",
    "    if ('moto' in ac):\n",
    "        return 'motovehiculo'\n",
    "    elif ('auto' in ac):\n",
    "        return 'automovil'\n",
    "    elif (('rural' in ac) | ('camion' in ac) | ('utilitario' in ac)):\n",
    "        return 'camion'\n",
    "    elif ('peaton' in ac) | ('patineta' in ac):\n",
    "        return 'otro'\n",
    "    elif ('bici' in ac):\n",
    "        return 'otro'\n",
    "    elif (('taxi' in ac) | ('remis' in ac) | ('bus' in ac) | ('publico' in ac)):\n",
    "        return 'transporte_publico'\n",
    "    elif (('transporte' in ac) | ('ambulancia' in ac) | ('fuerza' in ac) | ('tren' in ac) | ('tranvia' in ac) | ('oficial' in ac)):\n",
    "        return 'transporte_publico'\n",
    "    else:\n",
    "        return 'otro'\n",
    "\n",
    "sin_df.participantes_acusados = sin_df.participantes_acusados.apply(simplificar_acusado)\n",
    "sin_df.participantes_acusados.value_counts()"
   ]
  },
  {
   "attachments": {},
   "cell_type": "markdown",
   "id": "ce40d9ad",
   "metadata": {},
   "source": [
    "FINALIZA EL PROCESO DE LIMPIEZA"
   ]
  },
  {
   "attachments": {},
   "cell_type": "markdown",
   "id": "508f5e79",
   "metadata": {},
   "source": [
    "AGREGO DATOS DEL CLIMA DE CABA PARA SINIESTRO (utilizando como clave la fecha y hora del mismo)\n",
    "\n"
   ]
  },
  {
   "cell_type": "code",
   "execution_count": 21,
   "id": "a49014c7",
   "metadata": {},
   "outputs": [],
   "source": [
    "clima = 'clima_caba.csv'\n",
    "clima_df = pd.read_csv(clima)\n",
    "clima_df.rename(columns={'viento;;;;;;':'viento'}, inplace=True)\n",
    "\n",
    "#NO SE PORQUE AGREGA LA COLUMNA VIENTO CON ESE NOMBRE, PARA NO PERDER TIEMPO LA CORRIJO MANUALMENTE"
   ]
  },
  {
   "cell_type": "code",
   "execution_count": 22,
   "id": "baf14945",
   "metadata": {},
   "outputs": [
    {
     "data": {
      "text/html": [
       "<div>\n",
       "<style scoped>\n",
       "    .dataframe tbody tr th:only-of-type {\n",
       "        vertical-align: middle;\n",
       "    }\n",
       "\n",
       "    .dataframe tbody tr th {\n",
       "        vertical-align: top;\n",
       "    }\n",
       "\n",
       "    .dataframe thead th {\n",
       "        text-align: right;\n",
       "    }\n",
       "</style>\n",
       "<table border=\"1\" class=\"dataframe\">\n",
       "  <thead>\n",
       "    <tr style=\"text-align: right;\">\n",
       "      <th></th>\n",
       "      <th>causa</th>\n",
       "      <th>rol</th>\n",
       "      <th>tipo</th>\n",
       "      <th>sexo</th>\n",
       "      <th>edad</th>\n",
       "      <th>fecha</th>\n",
       "      <th>hora</th>\n",
       "      <th>tipo_calle</th>\n",
       "      <th>calle1</th>\n",
       "      <th>calle2</th>\n",
       "      <th>...</th>\n",
       "      <th>rango_horario</th>\n",
       "      <th>fecha_norm</th>\n",
       "      <th>d</th>\n",
       "      <th>m</th>\n",
       "      <th>a</th>\n",
       "      <th>h</th>\n",
       "      <th>temp</th>\n",
       "      <th>hum</th>\n",
       "      <th>precip</th>\n",
       "      <th>viento</th>\n",
       "    </tr>\n",
       "  </thead>\n",
       "  <tbody>\n",
       "    <tr>\n",
       "      <th>8270</th>\n",
       "      <td>0</td>\n",
       "      <td>peaton</td>\n",
       "      <td>peaton</td>\n",
       "      <td>1</td>\n",
       "      <td>20.0</td>\n",
       "      <td>02-03-15</td>\n",
       "      <td>13</td>\n",
       "      <td>3</td>\n",
       "      <td>salom</td>\n",
       "      <td>sin_data</td>\n",
       "      <td>...</td>\n",
       "      <td>1</td>\n",
       "      <td>[2, 3, 2015]</td>\n",
       "      <td>2</td>\n",
       "      <td>3</td>\n",
       "      <td>2015</td>\n",
       "      <td>13</td>\n",
       "      <td>27.43</td>\n",
       "      <td>60.69</td>\n",
       "      <td>0.0</td>\n",
       "      <td>3.44</td>\n",
       "    </tr>\n",
       "    <tr>\n",
       "      <th>6589</th>\n",
       "      <td>0</td>\n",
       "      <td>conductor</td>\n",
       "      <td>moto</td>\n",
       "      <td>1</td>\n",
       "      <td>38.0</td>\n",
       "      <td>11/16/2017</td>\n",
       "      <td>12</td>\n",
       "      <td>3</td>\n",
       "      <td>esmeralda</td>\n",
       "      <td>paraguay</td>\n",
       "      <td>...</td>\n",
       "      <td>1</td>\n",
       "      <td>[16, 11, 2017]</td>\n",
       "      <td>16</td>\n",
       "      <td>11</td>\n",
       "      <td>2017</td>\n",
       "      <td>12</td>\n",
       "      <td>19.91</td>\n",
       "      <td>53.56</td>\n",
       "      <td>0.0</td>\n",
       "      <td>4.21</td>\n",
       "    </tr>\n",
       "    <tr>\n",
       "      <th>3877</th>\n",
       "      <td>0</td>\n",
       "      <td>conductor</td>\n",
       "      <td>moto</td>\n",
       "      <td>1</td>\n",
       "      <td>23.0</td>\n",
       "      <td>08-03-16</td>\n",
       "      <td>19</td>\n",
       "      <td>2</td>\n",
       "      <td>cordoba av.</td>\n",
       "      <td>sanchez de bustamante</td>\n",
       "      <td>...</td>\n",
       "      <td>2</td>\n",
       "      <td>[8, 3, 2016]</td>\n",
       "      <td>8</td>\n",
       "      <td>3</td>\n",
       "      <td>2016</td>\n",
       "      <td>19</td>\n",
       "      <td>24.03</td>\n",
       "      <td>54.69</td>\n",
       "      <td>0.0</td>\n",
       "      <td>2.60</td>\n",
       "    </tr>\n",
       "  </tbody>\n",
       "</table>\n",
       "<p>3 rows × 28 columns</p>\n",
       "</div>"
      ],
      "text/plain": [
       "      causa        rol    tipo  sexo  edad       fecha  hora  tipo_calle  \\\n",
       "8270      0     peaton  peaton     1  20.0    02-03-15    13           3   \n",
       "6589      0  conductor    moto     1  38.0  11/16/2017    12           3   \n",
       "3877      0  conductor    moto     1  23.0    08-03-16    19           2   \n",
       "\n",
       "           calle1                 calle2  ...  rango_horario      fecha_norm  \\\n",
       "8270        salom               sin_data  ...              1    [2, 3, 2015]   \n",
       "6589    esmeralda               paraguay  ...              1  [16, 11, 2017]   \n",
       "3877  cordoba av.  sanchez de bustamante  ...              2    [8, 3, 2016]   \n",
       "\n",
       "       d   m     a   h   temp    hum  precip viento  \n",
       "8270   2   3  2015  13  27.43  60.69     0.0   3.44  \n",
       "6589  16  11  2017  12  19.91  53.56     0.0   4.21  \n",
       "3877   8   3  2016  19  24.03  54.69     0.0   2.60  \n",
       "\n",
       "[3 rows x 28 columns]"
      ]
     },
     "execution_count": 22,
     "metadata": {},
     "output_type": "execute_result"
    }
   ],
   "source": [
    "sin_df = sin_df.merge(clima_df,how='left',left_on=['d','m','a','hora'],right_on=['d','m','a','h'])\n",
    "sin_df.sample(3)"
   ]
  },
  {
   "cell_type": "code",
   "execution_count": 23,
   "id": "1097ce3b",
   "metadata": {},
   "outputs": [
    {
     "data": {
      "text/plain": [
       "<AxesSubplot:>"
      ]
     },
     "execution_count": 23,
     "metadata": {},
     "output_type": "execute_result"
    },
    {
     "data": {
      "image/png": "[encoded data removed]",
      "text/plain": [
       "<Figure size 640x480 with 1 Axes>"
      ]
     },
     "metadata": {},
     "output_type": "display_data"
    }
   ],
   "source": [
    "sns.boxplot(sin_df[['temp','hum','viento']])"
   ]
  },
  {
   "attachments": {},
   "cell_type": "markdown",
   "id": "c360c440",
   "metadata": {},
   "source": [
    "Veo que en este caso los outliers no cambiaran en gran medida la normalización."
   ]
  },
  {
   "attachments": {},
   "cell_type": "markdown",
   "id": "a82a38be",
   "metadata": {},
   "source": [
    "Voy a categorizar las columnas viento y precip para que sean utilizables por los diferentes clasificadores"
   ]
  },
  {
   "cell_type": "code",
   "execution_count": 24,
   "id": "59e9ad10",
   "metadata": {},
   "outputs": [
    {
     "data": {
      "text/plain": [
       "<AxesSubplot:ylabel='Frequency'>"
      ]
     },
     "execution_count": 24,
     "metadata": {},
     "output_type": "execute_result"
    },
    {
     "data": {
      "image/png": "[encoded data removed]",
      "text/plain": [
       "<Figure size 640x480 with 1 Axes>"
      ]
     },
     "metadata": {},
     "output_type": "display_data"
    }
   ],
   "source": [
    "sin_df.viento.plot(kind='hist')"
   ]
  },
  {
   "cell_type": "code",
   "execution_count": 25,
   "id": "5631464d",
   "metadata": {},
   "outputs": [
    {
     "data": {
      "text/plain": [
       "1    14827\n",
       "0     9046\n",
       "2     8198\n",
       "Name: viento, dtype: int64"
      ]
     },
     "execution_count": 25,
     "metadata": {},
     "output_type": "execute_result"
    }
   ],
   "source": [
    "vmod_mask = (sin_df.loc[(sin_df.viento >= 2.5) & (sin_df.viento <= 6)]).index\n",
    "vmin_mask = (sin_df.loc[(sin_df.viento < 2.5)]).index\n",
    "vmax_mask = (sin_df.loc[(sin_df.viento > 6)]).index\n",
    "\n",
    "\n",
    "sin_df.loc[vmin_mask, 'viento'] = 0\n",
    "sin_df.loc[vmod_mask, 'viento'] = 1\n",
    "sin_df.loc[vmax_mask, 'viento'] = 2\n",
    "\n",
    "sin_df.viento = sin_df.viento.astype(int)\n",
    "\n",
    "sin_df.viento.value_counts()"
   ]
  },
  {
   "cell_type": "code",
   "execution_count": 26,
   "id": "f4f7d69e",
   "metadata": {},
   "outputs": [
    {
     "data": {
      "text/plain": [
       "1    28800\n",
       "0     3271\n",
       "Name: precip, dtype: int64"
      ]
     },
     "execution_count": 26,
     "metadata": {},
     "output_type": "execute_result"
    }
   ],
   "source": [
    "p_mask = (sin_df.loc[(sin_df.precip >= 0.1)]).index\n",
    "no_p_mask = (sin_df.loc[(sin_df.precip < 0.1)]).index\n",
    "\n",
    "sin_df.loc[p_mask, 'precip'] = 0\n",
    "sin_df.loc[no_p_mask, 'precip'] = 1\n",
    "\n",
    "sin_df.precip = sin_df.precip.astype(int)\n",
    "\n",
    "sin_df.precip.value_counts()"
   ]
  },
  {
   "cell_type": "code",
   "execution_count": 1,
   "id": "9bc23118",
   "metadata": {},
   "outputs": [],
   "source": [
    "#sin_df['clim'] = sin_df.viento + (2*sin_df.precip)"
   ]
  },
  {
   "cell_type": "code",
   "execution_count": 27,
   "id": "ecfe278b",
   "metadata": {},
   "outputs": [],
   "source": [
    "# SE QUE TENGO OUTLIERS EN ESTE FEATURE, HAGO UNA ELIMINACION MANUAL DE ESTOS\n",
    "\n",
    "#sin_df.precip.sort_values(ascending=False).head(30)"
   ]
  },
  {
   "cell_type": "code",
   "execution_count": 28,
   "id": "8faa7a73",
   "metadata": {},
   "outputs": [],
   "source": [
    "#ELIMINO OUTLIERS DE PRECIPITACION PARA QUE NO INTERFIERA EN LA NORMALIZACION DEL FEATURE, CONSIDERO OUTLIERS A LOS VALORES MAYORES A 12\n",
    "#sin_df = sin_df.loc[sin_df.precip < 12]\n"
   ]
  },
  {
   "cell_type": "code",
   "execution_count": 29,
   "id": "163b6ba1",
   "metadata": {},
   "outputs": [],
   "source": [
    "#ESCALO TODOS LOS VALORES DE CLIMA OBTENIDOS ENTRE 0 y 1\n",
    "#scaler = MinMaxScaler()\n",
    "#scaled_df = scaler.fit_transform(sin_df[['temp','hum','viento','precip']])\n",
    "#sin_df[['temp','hum','viento','precip']] = scaled_df\n",
    "\n",
    "# PUEDO ESCALAR LOS VALORES O PUEDO CATEGORIZARLOS "
   ]
  },
  {
   "attachments": {},
   "cell_type": "markdown",
   "id": "74bbee5b",
   "metadata": {},
   "source": [
    "EN OTRAS ENTREGAS PUDE EXTRAER INFORMACIÓN DEL SET DE DATOS QUE APUNTABA A ENCONTRAR LOS PUNTOS CLAVE EN LOS QUE SE DABA LA MAYOR CANTIDAD DE SINIESTROS DE CADA TIPO (las calles, comunas y coordenadas mas peligrosas para cada tipo de vehiculo), ESTOS DESCUBRIMIENTOS SON LOS INSIGHTS QUE ME PARECIERON IMPORTANTES EN VISTA A PROPONER MEDIDAS QUE AYUDEN A BAJAR LA CANTIDAD DE ACCIDENTES. \n",
    "\n",
    "EN ESTA ENTREGA ME CENTRARÉ EN LA PREDICCIÓN; PARA ESTO VOY A ENTRENAR UN MODELO DE MACHINE LEARNING, HABIENDO HECHO LA SELECCIÓN DE FEATURES QUE CREA NECESARIO PARA EL CASO."
   ]
  },
  {
   "attachments": {},
   "cell_type": "markdown",
   "id": "731a6b50",
   "metadata": {},
   "source": [
    "Primero voy a predecir una variable importante desde mi punto de vista, el tipo de calle en el que se produce un siniestro, dadas las columnas elegidas como variable independiente, para el caso: \n",
    "\n",
    "'causa','tipo','rol','sexo','rango_horario','comuna','tipo_colision1','d','m','a','participantes_acusados','precip','viento','rango_edad'"
   ]
  },
  {
   "cell_type": "code",
   "execution_count": 30,
   "id": "28d129bb",
   "metadata": {},
   "outputs": [
    {
     "name": "stdout",
     "output_type": "stream",
     "text": [
      "<class 'pandas.core.frame.DataFrame'>\n",
      "Int64Index: 32071 entries, 0 to 32070\n",
      "Data columns (total 14 columns):\n",
      " #   Column                  Non-Null Count  Dtype \n",
      "---  ------                  --------------  ----- \n",
      " 0   causa                   32071 non-null  int64 \n",
      " 1   tipo                    32071 non-null  object\n",
      " 2   rol                     32071 non-null  object\n",
      " 3   sexo                    32071 non-null  int64 \n",
      " 4   rango_horario           32071 non-null  int64 \n",
      " 5   comuna                  32071 non-null  int32 \n",
      " 6   tipo_colision1          32071 non-null  object\n",
      " 7   d                       32071 non-null  int64 \n",
      " 8   m                       32071 non-null  int64 \n",
      " 9   a                       32071 non-null  int64 \n",
      " 10  participantes_acusados  32071 non-null  object\n",
      " 11  precip                  32071 non-null  int32 \n",
      " 12  viento                  32071 non-null  int32 \n",
      " 13  rango_edad              32071 non-null  int64 \n",
      "dtypes: int32(3), int64(7), object(4)\n",
      "memory usage: 4.3+ MB\n"
     ]
    }
   ],
   "source": [
    "X = sin_df[['causa','tipo','rol','sexo','rango_horario','comuna','tipo_colision1','d','m','a','participantes_acusados','precip','viento','rango_edad']]\n",
    "y = sin_df['tipo_calle']\n",
    "\n",
    "X.info()"
   ]
  },
  {
   "cell_type": "code",
   "execution_count": 31,
   "id": "72984be3",
   "metadata": {},
   "outputs": [
    {
     "name": "stderr",
     "output_type": "stream",
     "text": [
      "C:\\Users\\Seguridad\\AppData\\Local\\Temp\\ipykernel_23400\\3019221700.py:6: SettingWithCopyWarning: \n",
      "A value is trying to be set on a copy of a slice from a DataFrame.\n",
      "Try using .loc[row_indexer,col_indexer] = value instead\n",
      "\n",
      "See the caveats in the documentation: https://pandas.pydata.org/pandas-docs/stable/user_guide/indexing.html#returning-a-view-versus-a-copy\n",
      "  X.rol = le.transform(X.rol)\n",
      "C:\\Users\\Seguridad\\AppData\\Local\\Temp\\ipykernel_23400\\3019221700.py:9: SettingWithCopyWarning: \n",
      "A value is trying to be set on a copy of a slice from a DataFrame.\n",
      "Try using .loc[row_indexer,col_indexer] = value instead\n",
      "\n",
      "See the caveats in the documentation: https://pandas.pydata.org/pandas-docs/stable/user_guide/indexing.html#returning-a-view-versus-a-copy\n",
      "  X.tipo_colision1 = le.transform(X.tipo_colision1)\n",
      "C:\\Users\\Seguridad\\AppData\\Local\\Temp\\ipykernel_23400\\3019221700.py:12: SettingWithCopyWarning: \n",
      "A value is trying to be set on a copy of a slice from a DataFrame.\n",
      "Try using .loc[row_indexer,col_indexer] = value instead\n",
      "\n",
      "See the caveats in the documentation: https://pandas.pydata.org/pandas-docs/stable/user_guide/indexing.html#returning-a-view-versus-a-copy\n",
      "  X.participantes_acusados = le.transform(X.participantes_acusados)\n",
      "C:\\Users\\Seguridad\\AppData\\Local\\Temp\\ipykernel_23400\\3019221700.py:15: SettingWithCopyWarning: \n",
      "A value is trying to be set on a copy of a slice from a DataFrame.\n",
      "Try using .loc[row_indexer,col_indexer] = value instead\n",
      "\n",
      "See the caveats in the documentation: https://pandas.pydata.org/pandas-docs/stable/user_guide/indexing.html#returning-a-view-versus-a-copy\n",
      "  X.tipo = le.transform(X.tipo)\n"
     ]
    }
   ],
   "source": [
    "#X = pd.get_dummies(X)\n",
    "from sklearn.preprocessing import LabelEncoder\n",
    "\n",
    "le = LabelEncoder()\n",
    "le.fit(X.rol)\n",
    "X.rol = le.transform(X.rol)\n",
    "\n",
    "le.fit(X.tipo_colision1)\n",
    "X.tipo_colision1 = le.transform(X.tipo_colision1)\n",
    "\n",
    "le.fit(X.participantes_acusados)\n",
    "X.participantes_acusados = le.transform(X.participantes_acusados)\n",
    "\n",
    "le.fit(X.tipo)\n",
    "X.tipo = le.transform(X.tipo)\n"
   ]
  },
  {
   "cell_type": "code",
   "execution_count": 32,
   "id": "12e9ff0b",
   "metadata": {},
   "outputs": [],
   "source": [
    "X_train, X_test, y_train, y_test = train_test_split(\n",
    "                                        X,\n",
    "                                        y.values.reshape(-1,1),\n",
    "                                        train_size   = 0.7,\n",
    "                                        random_state = 1234,\n",
    "                                        shuffle      = True\n",
    "                                    )"
   ]
  },
  {
   "cell_type": "code",
   "execution_count": 33,
   "id": "978f8b66",
   "metadata": {},
   "outputs": [
    {
     "name": "stderr",
     "output_type": "stream",
     "text": [
      "C:\\Users\\Seguridad\\AppData\\Local\\Temp\\ipykernel_23400\\1080219172.py:4: DataConversionWarning: A column-vector y was passed when a 1d array was expected. Please change the shape of y to (n_samples,), for example using ravel().\n",
      "  modelo_rf.fit(X_train, y_train)\n"
     ]
    },
    {
     "name": "stdout",
     "output_type": "stream",
     "text": [
      "% de aciertos sobre el set de entrenamiento: 69.47748229319791\n",
      "% de aciertos sobre el set de evaluación: 66.0361671170235\n"
     ]
    }
   ],
   "source": [
    "from sklearn.ensemble import RandomForestClassifier\n",
    "\n",
    "modelo_rf = RandomForestClassifier(n_estimators=1000, max_depth=10, random_state=42)\n",
    "modelo_rf.fit(X_train, y_train)\n",
    "\n",
    "y_train_pred = modelo_rf.predict(X_train)\n",
    "y_test_pred = modelo_rf.predict(X_test)\n",
    "\n",
    "train_accuracy = accuracy_score(y_train, y_train_pred)\n",
    "print('% de aciertos sobre el set de entrenamiento:',train_accuracy*100)\n",
    "\n",
    "test_accuracy = accuracy_score(y_test, y_test_pred)\n",
    "print('% de aciertos sobre el set de evaluación:',test_accuracy*100)"
   ]
  },
  {
   "attachments": {},
   "cell_type": "markdown",
   "id": "8e44e85e",
   "metadata": {},
   "source": [
    "Es un buen resultado, voy a compararlo con otro algoritmo, utilizando las mismas variables X e y "
   ]
  },
  {
   "cell_type": "code",
   "execution_count": 34,
   "id": "1d806579",
   "metadata": {},
   "outputs": [
    {
     "name": "stderr",
     "output_type": "stream",
     "text": [
      "c:\\ProgramData\\Miniconda3\\lib\\site-packages\\sklearn\\preprocessing\\_label.py:115: DataConversionWarning: A column-vector y was passed when a 1d array was expected. Please change the shape of y to (n_samples, ), for example using ravel().\n",
      "  y = column_or_1d(y, warn=True)\n"
     ]
    },
    {
     "name": "stdout",
     "output_type": "stream",
     "text": [
      "% de aciertos sobre el set de entrenamiento: 69.41511871352844\n",
      "% de aciertos sobre el set de evaluación: 65.93223861982955\n"
     ]
    }
   ],
   "source": [
    "import xgboost as xgb\n",
    "from sklearn.preprocessing import LabelEncoder\n",
    "\n",
    "le = LabelEncoder()\n",
    "\n",
    "y_train = le.fit_transform(y_train)\n",
    "y_test = le.fit_transform(y_test)\n",
    "\n",
    "modelo_xgb = xgb.XGBClassifier(learning_rate=0.1, n_estimators=100, max_depth=5, random_state=42)\n",
    "modelo_xgb.fit(X_train, y_train)\n",
    "\n",
    "y_train_pred = modelo_xgb.predict(X_train)\n",
    "y_test_pred = modelo_xgb.predict(X_test)\n",
    "\n",
    "train_accuracy = accuracy_score(y_train, y_train_pred)\n",
    "print('% de aciertos sobre el set de entrenamiento:',train_accuracy*100)\n",
    "\n",
    "test_accuracy = accuracy_score(y_test, y_test_pred)\n",
    "print('% de aciertos sobre el set de evaluación:',test_accuracy*100)"
   ]
  },
  {
   "attachments": {},
   "cell_type": "markdown",
   "id": "8f6c51c5",
   "metadata": {},
   "source": [
    "El resultado de la predicción es muy similar utilizando ambos algoritmos, voy a utilizar los consejos recibidos en la 2da preentrega del proyecto final para intentar mejorar estos numeros"
   ]
  },
  {
   "attachments": {},
   "cell_type": "markdown",
   "id": "eb830b53",
   "metadata": {},
   "source": [
    "EN LA CORRECCIÓN DE LA ENTREGA ANTERIOR, RECIBÍ MUY BUENOS CONSEJOS SOBRE ELEGIR MEJOR MIS FEATURES Y AJUSTAR BIEN LOS HIPERPARAMETROS, EN ESTE CASO VOY A APLICAR EL PRIMERO DE LOS CONSEJOS YA QUE EN LA SUBSIGUIENTE ENTREGA HARE EL AJUSTE DE HIPERPARAMETROS USANDO CROSSVALIDATION, EN ESTE CASO SOLO INTENTARE MEJORARLOS MANUALMENTE.\n",
    "\n",
    "Como pide la entrega N° 14, COMENZARÉ CON EL FILTRADO DE FEATURES."
   ]
  },
  {
   "cell_type": "code",
   "execution_count": 35,
   "id": "5298e0a7",
   "metadata": {},
   "outputs": [
    {
     "data": {
      "text/html": [
       "<div>\n",
       "<style scoped>\n",
       "    .dataframe tbody tr th:only-of-type {\n",
       "        vertical-align: middle;\n",
       "    }\n",
       "\n",
       "    .dataframe tbody tr th {\n",
       "        vertical-align: top;\n",
       "    }\n",
       "\n",
       "    .dataframe thead th {\n",
       "        text-align: right;\n",
       "    }\n",
       "</style>\n",
       "<table border=\"1\" class=\"dataframe\">\n",
       "  <thead>\n",
       "    <tr style=\"text-align: right;\">\n",
       "      <th></th>\n",
       "      <th>feature</th>\n",
       "      <th>imp</th>\n",
       "    </tr>\n",
       "  </thead>\n",
       "  <tbody>\n",
       "    <tr>\n",
       "      <th>5</th>\n",
       "      <td>comuna</td>\n",
       "      <td>0.145883</td>\n",
       "    </tr>\n",
       "    <tr>\n",
       "      <th>7</th>\n",
       "      <td>d</td>\n",
       "      <td>0.142421</td>\n",
       "    </tr>\n",
       "    <tr>\n",
       "      <th>8</th>\n",
       "      <td>m</td>\n",
       "      <td>0.109399</td>\n",
       "    </tr>\n",
       "    <tr>\n",
       "      <th>6</th>\n",
       "      <td>tipo_colision1</td>\n",
       "      <td>0.096753</td>\n",
       "    </tr>\n",
       "    <tr>\n",
       "      <th>1</th>\n",
       "      <td>tipo</td>\n",
       "      <td>0.082856</td>\n",
       "    </tr>\n",
       "    <tr>\n",
       "      <th>10</th>\n",
       "      <td>participantes_acusados</td>\n",
       "      <td>0.071790</td>\n",
       "    </tr>\n",
       "    <tr>\n",
       "      <th>13</th>\n",
       "      <td>rango_edad</td>\n",
       "      <td>0.066109</td>\n",
       "    </tr>\n",
       "    <tr>\n",
       "      <th>2</th>\n",
       "      <td>rol</td>\n",
       "      <td>0.064650</td>\n",
       "    </tr>\n",
       "    <tr>\n",
       "      <th>9</th>\n",
       "      <td>a</td>\n",
       "      <td>0.057841</td>\n",
       "    </tr>\n",
       "    <tr>\n",
       "      <th>4</th>\n",
       "      <td>rango_horario</td>\n",
       "      <td>0.050375</td>\n",
       "    </tr>\n",
       "    <tr>\n",
       "      <th>12</th>\n",
       "      <td>viento</td>\n",
       "      <td>0.046160</td>\n",
       "    </tr>\n",
       "    <tr>\n",
       "      <th>3</th>\n",
       "      <td>sexo</td>\n",
       "      <td>0.031647</td>\n",
       "    </tr>\n",
       "    <tr>\n",
       "      <th>11</th>\n",
       "      <td>precip</td>\n",
       "      <td>0.022146</td>\n",
       "    </tr>\n",
       "    <tr>\n",
       "      <th>0</th>\n",
       "      <td>causa</td>\n",
       "      <td>0.011969</td>\n",
       "    </tr>\n",
       "  </tbody>\n",
       "</table>\n",
       "</div>"
      ],
      "text/plain": [
       "                   feature       imp\n",
       "5                   comuna  0.145883\n",
       "7                        d  0.142421\n",
       "8                        m  0.109399\n",
       "6           tipo_colision1  0.096753\n",
       "1                     tipo  0.082856\n",
       "10  participantes_acusados  0.071790\n",
       "13              rango_edad  0.066109\n",
       "2                      rol  0.064650\n",
       "9                        a  0.057841\n",
       "4            rango_horario  0.050375\n",
       "12                  viento  0.046160\n",
       "3                     sexo  0.031647\n",
       "11                  precip  0.022146\n",
       "0                    causa  0.011969"
      ]
     },
     "execution_count": 35,
     "metadata": {},
     "output_type": "execute_result"
    }
   ],
   "source": [
    "importancia = pd.DataFrame()\n",
    "importancia['feature'] = pd.Series(X.columns)\n",
    "importancia['imp'] = modelo_rf.feature_importances_\n",
    "importancia.sort_values(by='imp', ascending=False)"
   ]
  },
  {
   "attachments": {},
   "cell_type": "markdown",
   "id": "a786e449",
   "metadata": {},
   "source": [
    "Esta es la importancia de los features para el modelo de random forest en la predicción del TIPO DE CALLE. Voy a utilizarla como una guia para mi filtrado de features."
   ]
  },
  {
   "attachments": {},
   "cell_type": "markdown",
   "id": "6a485ce8",
   "metadata": {},
   "source": [
    "UTILIZANDO COMO AYUDA EL FEATURE IMPORTANCE, PRIMERO FILTRARE LOS FEATURES QUE MENOS DATOS APORTEN."
   ]
  },
  {
   "attachments": {},
   "cell_type": "markdown",
   "id": "77118cc2",
   "metadata": {},
   "source": [
    "Agregaré una columna que indique si el accidente se produjo en un fin de semana."
   ]
  },
  {
   "cell_type": "code",
   "execution_count": 36,
   "id": "82fc39eb",
   "metadata": {},
   "outputs": [
    {
     "data": {
      "text/html": [
       "<div>\n",
       "<style scoped>\n",
       "    .dataframe tbody tr th:only-of-type {\n",
       "        vertical-align: middle;\n",
       "    }\n",
       "\n",
       "    .dataframe tbody tr th {\n",
       "        vertical-align: top;\n",
       "    }\n",
       "\n",
       "    .dataframe thead th {\n",
       "        text-align: right;\n",
       "    }\n",
       "</style>\n",
       "<table border=\"1\" class=\"dataframe\">\n",
       "  <thead>\n",
       "    <tr style=\"text-align: right;\">\n",
       "      <th></th>\n",
       "      <th>a</th>\n",
       "      <th>m</th>\n",
       "      <th>d</th>\n",
       "      <th>fecha</th>\n",
       "      <th>nom_dia</th>\n",
       "    </tr>\n",
       "  </thead>\n",
       "  <tbody>\n",
       "    <tr>\n",
       "      <th>3134</th>\n",
       "      <td>2016</td>\n",
       "      <td>4</td>\n",
       "      <td>18</td>\n",
       "      <td>2016-04-18</td>\n",
       "      <td>Monday</td>\n",
       "    </tr>\n",
       "    <tr>\n",
       "      <th>25376</th>\n",
       "      <td>2015</td>\n",
       "      <td>7</td>\n",
       "      <td>14</td>\n",
       "      <td>2015-07-14</td>\n",
       "      <td>Tuesday</td>\n",
       "    </tr>\n",
       "    <tr>\n",
       "      <th>26269</th>\n",
       "      <td>2015</td>\n",
       "      <td>11</td>\n",
       "      <td>25</td>\n",
       "      <td>2015-11-25</td>\n",
       "      <td>Wednesday</td>\n",
       "    </tr>\n",
       "  </tbody>\n",
       "</table>\n",
       "</div>"
      ],
      "text/plain": [
       "          a   m   d      fecha    nom_dia\n",
       "3134   2016   4  18 2016-04-18     Monday\n",
       "25376  2015   7  14 2015-07-14    Tuesday\n",
       "26269  2015  11  25 2015-11-25  Wednesday"
      ]
     },
     "execution_count": 36,
     "metadata": {},
     "output_type": "execute_result"
    }
   ],
   "source": [
    "from datetime import datetime\n",
    "\n",
    "sin_df['fecha_norm'] = sin_df['d'].astype(str) + '-' + sin_df['m'].astype(str) + '-' + sin_df['a'].astype(str)\n",
    "sin_df['fecha'] = pd.to_datetime(sin_df['fecha_norm'],format='%d-%m-%Y', errors='coerce')\n",
    "\n",
    "sin_df['nom_dia'] = sin_df['fecha'].dt.strftime('%A')\n",
    "\n",
    "sin_df[['a','m','d','fecha','nom_dia']].sample(3)"
   ]
  },
  {
   "cell_type": "code",
   "execution_count": 37,
   "id": "9951f40e",
   "metadata": {},
   "outputs": [
    {
     "data": {
      "text/plain": [
       "0"
      ]
     },
     "execution_count": 37,
     "metadata": {},
     "output_type": "execute_result"
    }
   ],
   "source": [
    "sin_df.nom_dia.isnull().sum()"
   ]
  },
  {
   "attachments": {},
   "cell_type": "markdown",
   "id": "4c11f918",
   "metadata": {},
   "source": [
    "Con este sample corroboré que los días esten bien agregados."
   ]
  },
  {
   "cell_type": "code",
   "execution_count": 38,
   "id": "eaea6743",
   "metadata": {},
   "outputs": [],
   "source": [
    "mask = (sin_df.loc[(sin_df.nom_dia == 'Sunday') | (sin_df.nom_dia == 'Saturday')]).index"
   ]
  },
  {
   "cell_type": "code",
   "execution_count": 39,
   "id": "5df46ec1",
   "metadata": {},
   "outputs": [
    {
     "data": {
      "text/html": [
       "<div>\n",
       "<style scoped>\n",
       "    .dataframe tbody tr th:only-of-type {\n",
       "        vertical-align: middle;\n",
       "    }\n",
       "\n",
       "    .dataframe tbody tr th {\n",
       "        vertical-align: top;\n",
       "    }\n",
       "\n",
       "    .dataframe thead th {\n",
       "        text-align: right;\n",
       "    }\n",
       "</style>\n",
       "<table border=\"1\" class=\"dataframe\">\n",
       "  <thead>\n",
       "    <tr style=\"text-align: right;\">\n",
       "      <th></th>\n",
       "      <th>fecha</th>\n",
       "      <th>nom_dia</th>\n",
       "      <th>finde</th>\n",
       "    </tr>\n",
       "  </thead>\n",
       "  <tbody>\n",
       "    <tr>\n",
       "      <th>18167</th>\n",
       "      <td>2015-07-24</td>\n",
       "      <td>Friday</td>\n",
       "      <td>0</td>\n",
       "    </tr>\n",
       "    <tr>\n",
       "      <th>13621</th>\n",
       "      <td>2017-05-19</td>\n",
       "      <td>Friday</td>\n",
       "      <td>0</td>\n",
       "    </tr>\n",
       "    <tr>\n",
       "      <th>13593</th>\n",
       "      <td>2017-05-15</td>\n",
       "      <td>Monday</td>\n",
       "      <td>0</td>\n",
       "    </tr>\n",
       "    <tr>\n",
       "      <th>4811</th>\n",
       "      <td>2016-12-28</td>\n",
       "      <td>Wednesday</td>\n",
       "      <td>0</td>\n",
       "    </tr>\n",
       "    <tr>\n",
       "      <th>16340</th>\n",
       "      <td>2015-02-03</td>\n",
       "      <td>Tuesday</td>\n",
       "      <td>0</td>\n",
       "    </tr>\n",
       "    <tr>\n",
       "      <th>13702</th>\n",
       "      <td>2017-01-06</td>\n",
       "      <td>Friday</td>\n",
       "      <td>0</td>\n",
       "    </tr>\n",
       "    <tr>\n",
       "      <th>21084</th>\n",
       "      <td>2017-01-19</td>\n",
       "      <td>Thursday</td>\n",
       "      <td>0</td>\n",
       "    </tr>\n",
       "    <tr>\n",
       "      <th>29952</th>\n",
       "      <td>2017-06-23</td>\n",
       "      <td>Friday</td>\n",
       "      <td>0</td>\n",
       "    </tr>\n",
       "    <tr>\n",
       "      <th>11070</th>\n",
       "      <td>2016-04-14</td>\n",
       "      <td>Thursday</td>\n",
       "      <td>0</td>\n",
       "    </tr>\n",
       "    <tr>\n",
       "      <th>17722</th>\n",
       "      <td>2015-11-18</td>\n",
       "      <td>Wednesday</td>\n",
       "      <td>0</td>\n",
       "    </tr>\n",
       "  </tbody>\n",
       "</table>\n",
       "</div>"
      ],
      "text/plain": [
       "           fecha    nom_dia  finde\n",
       "18167 2015-07-24     Friday      0\n",
       "13621 2017-05-19     Friday      0\n",
       "13593 2017-05-15     Monday      0\n",
       "4811  2016-12-28  Wednesday      0\n",
       "16340 2015-02-03    Tuesday      0\n",
       "13702 2017-01-06     Friday      0\n",
       "21084 2017-01-19   Thursday      0\n",
       "29952 2017-06-23     Friday      0\n",
       "11070 2016-04-14   Thursday      0\n",
       "17722 2015-11-18  Wednesday      0"
      ]
     },
     "execution_count": 39,
     "metadata": {},
     "output_type": "execute_result"
    }
   ],
   "source": [
    "sin_df.loc[mask, 'finde'] = 1\n",
    "sin_df.loc[sin_df.finde!=1, 'finde'] = 0\n",
    "sin_df.finde = sin_df.finde.astype(int)\n",
    "sin_df[['fecha','nom_dia','finde']].sample(10)"
   ]
  },
  {
   "cell_type": "code",
   "execution_count": 40,
   "id": "8d93c8d0",
   "metadata": {},
   "outputs": [],
   "source": [
    "#sin_df = sin_df.drop(columns={'nom_dia','fecha','fecha_norm','a'})"
   ]
  },
  {
   "cell_type": "code",
   "execution_count": 41,
   "id": "cf8c06c1",
   "metadata": {},
   "outputs": [
    {
     "name": "stdout",
     "output_type": "stream",
     "text": [
      "<class 'pandas.core.frame.DataFrame'>\n",
      "Int64Index: 32071 entries, 0 to 32070\n",
      "Data columns (total 30 columns):\n",
      " #   Column                  Non-Null Count  Dtype         \n",
      "---  ------                  --------------  -----         \n",
      " 0   causa                   32071 non-null  int64         \n",
      " 1   rol                     32071 non-null  object        \n",
      " 2   tipo                    32071 non-null  object        \n",
      " 3   sexo                    32071 non-null  int64         \n",
      " 4   edad                    32071 non-null  float64       \n",
      " 5   fecha                   32071 non-null  datetime64[ns]\n",
      " 6   hora                    32071 non-null  int32         \n",
      " 7   tipo_calle              32071 non-null  int64         \n",
      " 8   calle1                  32071 non-null  object        \n",
      " 9   calle2                  32071 non-null  object        \n",
      " 10  x                       32071 non-null  float64       \n",
      " 11  y                       32071 non-null  float64       \n",
      " 12  cantidad_victimas       32071 non-null  int64         \n",
      " 13  comuna                  32071 non-null  int32         \n",
      " 14  tipo_colision1          32071 non-null  object        \n",
      " 15  participantes_acusados  32071 non-null  object        \n",
      " 16  participantes_victimas  32071 non-null  object        \n",
      " 17  rango_edad              32071 non-null  int64         \n",
      " 18  rango_horario           32071 non-null  int64         \n",
      " 19  fecha_norm              32071 non-null  object        \n",
      " 20  d                       32071 non-null  int64         \n",
      " 21  m                       32071 non-null  int64         \n",
      " 22  a                       32071 non-null  int64         \n",
      " 23  h                       32071 non-null  int64         \n",
      " 24  temp                    32071 non-null  float64       \n",
      " 25  hum                     32071 non-null  float64       \n",
      " 26  precip                  32071 non-null  int32         \n",
      " 27  viento                  32071 non-null  int32         \n",
      " 28  nom_dia                 32071 non-null  object        \n",
      " 29  finde                   32071 non-null  int32         \n",
      "dtypes: datetime64[ns](1), float64(5), int32(5), int64(10), object(9)\n",
      "memory usage: 8.0+ MB\n"
     ]
    }
   ],
   "source": [
    "sin_df.info()"
   ]
  },
  {
   "attachments": {},
   "cell_type": "markdown",
   "id": "9b8fbb2d",
   "metadata": {},
   "source": [
    "Casteo mis columnas"
   ]
  },
  {
   "cell_type": "code",
   "execution_count": 42,
   "id": "892044b9",
   "metadata": {},
   "outputs": [],
   "source": [
    "sin_df.d = sin_df.d.astype(int)\n",
    "sin_df.m = sin_df.m.astype(int)\n",
    "sin_df.rango_edad = sin_df.rango_edad.astype(int)\n",
    "sin_df.rango_horario = sin_df.rango_horario.astype(int)"
   ]
  },
  {
   "cell_type": "code",
   "execution_count": 43,
   "id": "e389f0f3",
   "metadata": {},
   "outputs": [],
   "source": [
    "X = sin_df[['viento','precip','comuna','d','m','tipo_colision1','rango_edad','participantes_acusados','rango_horario','finde']]\n",
    "y = sin_df['tipo_calle']"
   ]
  },
  {
   "cell_type": "code",
   "execution_count": 44,
   "id": "57a529a7",
   "metadata": {},
   "outputs": [
    {
     "name": "stdout",
     "output_type": "stream",
     "text": [
      "<class 'pandas.core.frame.DataFrame'>\n",
      "Int64Index: 32071 entries, 0 to 32070\n",
      "Data columns (total 10 columns):\n",
      " #   Column                  Non-Null Count  Dtype\n",
      "---  ------                  --------------  -----\n",
      " 0   viento                  32071 non-null  int32\n",
      " 1   precip                  32071 non-null  int32\n",
      " 2   comuna                  32071 non-null  int32\n",
      " 3   d                       32071 non-null  int32\n",
      " 4   m                       32071 non-null  int32\n",
      " 5   tipo_colision1          32071 non-null  int32\n",
      " 6   rango_edad              32071 non-null  int32\n",
      " 7   participantes_acusados  32071 non-null  int32\n",
      " 8   rango_horario           32071 non-null  int32\n",
      " 9   finde                   32071 non-null  int32\n",
      "dtypes: int32(10)\n",
      "memory usage: 2.5 MB\n"
     ]
    },
    {
     "name": "stderr",
     "output_type": "stream",
     "text": [
      "C:\\Users\\Seguridad\\AppData\\Local\\Temp\\ipykernel_23400\\1637256539.py:2: SettingWithCopyWarning: \n",
      "A value is trying to be set on a copy of a slice from a DataFrame.\n",
      "Try using .loc[row_indexer,col_indexer] = value instead\n",
      "\n",
      "See the caveats in the documentation: https://pandas.pydata.org/pandas-docs/stable/user_guide/indexing.html#returning-a-view-versus-a-copy\n",
      "  X.tipo_colision1 = le.transform(X.tipo_colision1)\n",
      "C:\\Users\\Seguridad\\AppData\\Local\\Temp\\ipykernel_23400\\1637256539.py:5: SettingWithCopyWarning: \n",
      "A value is trying to be set on a copy of a slice from a DataFrame.\n",
      "Try using .loc[row_indexer,col_indexer] = value instead\n",
      "\n",
      "See the caveats in the documentation: https://pandas.pydata.org/pandas-docs/stable/user_guide/indexing.html#returning-a-view-versus-a-copy\n",
      "  X.participantes_acusados = le.transform(X.participantes_acusados)\n"
     ]
    }
   ],
   "source": [
    "le.fit(X.tipo_colision1)\n",
    "X.tipo_colision1 = le.transform(X.tipo_colision1)\n",
    "\n",
    "le.fit(X.participantes_acusados)\n",
    "X.participantes_acusados = le.transform(X.participantes_acusados)\n",
    "\n",
    "X.info()"
   ]
  },
  {
   "cell_type": "code",
   "execution_count": 45,
   "id": "a4a453d5",
   "metadata": {},
   "outputs": [],
   "source": [
    "X_train, X_test, y_train, y_test = train_test_split(\n",
    "                                        X,\n",
    "                                        y.values.reshape(-1,1),\n",
    "                                        train_size   = 0.7,\n",
    "                                        random_state = 1234,\n",
    "                                        shuffle      = True\n",
    "                                    )"
   ]
  },
  {
   "attachments": {},
   "cell_type": "markdown",
   "id": "02b1979f",
   "metadata": {},
   "source": [
    "Para realizar la comparación con el modelo anterior, utilizo los mismos hiperparametros"
   ]
  },
  {
   "cell_type": "code",
   "execution_count": 46,
   "id": "58f3e094",
   "metadata": {},
   "outputs": [
    {
     "name": "stderr",
     "output_type": "stream",
     "text": [
      "C:\\Users\\Seguridad\\AppData\\Local\\Temp\\ipykernel_23400\\1080219172.py:4: DataConversionWarning: A column-vector y was passed when a 1d array was expected. Please change the shape of y to (n_samples,), for example using ravel().\n",
      "  modelo_rf.fit(X_train, y_train)\n"
     ]
    },
    {
     "name": "stdout",
     "output_type": "stream",
     "text": [
      "% de aciertos sobre el set de entrenamiento: 69.74030023609069\n",
      "% de aciertos sobre el set de evaluación: 66.09852421533985\n"
     ]
    }
   ],
   "source": [
    "from sklearn.ensemble import RandomForestClassifier\n",
    "\n",
    "modelo_rf = RandomForestClassifier(n_estimators=1000, max_depth=10, random_state=42)\n",
    "modelo_rf.fit(X_train, y_train)\n",
    "\n",
    "y_train_pred = modelo_rf.predict(X_train)\n",
    "y_test_pred = modelo_rf.predict(X_test)\n",
    "\n",
    "train_accuracy = accuracy_score(y_train, y_train_pred)\n",
    "print('% de aciertos sobre el set de entrenamiento:',train_accuracy*100)\n",
    "\n",
    "test_accuracy = accuracy_score(y_test, y_test_pred)\n",
    "print('% de aciertos sobre el set de evaluación:',test_accuracy*100)"
   ]
  },
  {
   "cell_type": "code",
   "execution_count": 47,
   "id": "63ff5b61",
   "metadata": {},
   "outputs": [
    {
     "name": "stderr",
     "output_type": "stream",
     "text": [
      "c:\\ProgramData\\Miniconda3\\lib\\site-packages\\sklearn\\preprocessing\\_label.py:115: DataConversionWarning: A column-vector y was passed when a 1d array was expected. Please change the shape of y to (n_samples, ), for example using ravel().\n",
      "  y = column_or_1d(y, warn=True)\n"
     ]
    },
    {
     "name": "stdout",
     "output_type": "stream",
     "text": [
      "% de aciertos sobre el set de entrenamiento: 69.01420998708183\n",
      "% de aciertos sobre el set de evaluación: 65.66202452712534\n"
     ]
    }
   ],
   "source": [
    "import xgboost as xgb\n",
    "\n",
    "le = LabelEncoder()\n",
    "\n",
    "y_train = le.fit_transform(y_train)\n",
    "y_test = le.fit_transform(y_test)\n",
    "\n",
    "modelo_xgb = xgb.XGBClassifier(learning_rate=0.1, n_estimators=100, max_depth=5, random_state=42)\n",
    "modelo_xgb.fit(X_train, y_train)\n",
    "\n",
    "y_train_pred = modelo_xgb.predict(X_train)\n",
    "y_test_pred = modelo_xgb.predict(X_test)\n",
    "\n",
    "train_accuracy = accuracy_score(y_train, y_train_pred)\n",
    "print('% de aciertos sobre el set de entrenamiento:',train_accuracy*100)\n",
    "\n",
    "test_accuracy = accuracy_score(y_test, y_test_pred)\n",
    "print('% de aciertos sobre el set de evaluación:',test_accuracy*100)"
   ]
  },
  {
   "attachments": {},
   "cell_type": "markdown",
   "id": "8977466c",
   "metadata": {},
   "source": [
    "EN PRINCIPIO LOS RESULTADOS NO MEJORAN SIGNIFICATIVAMENTE AGREGANDO LA COLUMNA \"finde\""
   ]
  },
  {
   "cell_type": "code",
   "execution_count": 48,
   "id": "dad4b839",
   "metadata": {},
   "outputs": [
    {
     "name": "stdout",
     "output_type": "stream",
     "text": [
      "Precisión: 0.39263986517038685\n",
      "Exactitud: 0.6566202452712534\n",
      "Puntuación F1: 0.3149071266936653\n"
     ]
    },
    {
     "name": "stderr",
     "output_type": "stream",
     "text": [
      "c:\\ProgramData\\Miniconda3\\lib\\site-packages\\sklearn\\metrics\\_classification.py:1334: UndefinedMetricWarning: Precision is ill-defined and being set to 0.0 in labels with no predicted samples. Use `zero_division` parameter to control this behavior.\n",
      "  _warn_prf(average, modifier, msg_start, len(result))\n"
     ]
    }
   ],
   "source": [
    "from sklearn.metrics import precision_score, accuracy_score, f1_score\n",
    "\n",
    "precision = precision_score(y_test, y_test_pred, average='macro')\n",
    "\n",
    "accuracy = accuracy_score(y_test, y_test_pred)\n",
    "\n",
    "f1 = f1_score(y_test, y_test_pred, average='macro')\n",
    "\n",
    "print(\"Precisión:\", precision)\n",
    "print(\"Exactitud:\", accuracy)\n",
    "print(\"Puntuación F1:\", f1)"
   ]
  },
  {
   "attachments": {},
   "cell_type": "markdown",
   "id": "e6156349",
   "metadata": {},
   "source": [
    "ES IMPORTANTE DESTACAR, QUE EN ESTE MODELO, AL FILTRAR VARIABLES (que en principio no tenian un gran peso en el algoritmo según el feature importance) BAJA CONSIDERABLEMENTE LA PRECISIÓN, Y TAMBIÉN BAJA, EN MENOR MEDIDA, EL F1 SCORE.\n",
    "\n",
    "TENIENDO EN CUENTA QUE LA EXACTITUD ES MUY SIMILAR LUEGO DEL FILTRADO DE FEAUTRES, CONCLUYO QUE EN ESTE CASO NO MEJORO MIS RESULTADOS. "
   ]
  },
  {
   "cell_type": "code",
   "execution_count": 49,
   "id": "1a4906a6",
   "metadata": {},
   "outputs": [
    {
     "data": {
      "text/html": [
       "<div>\n",
       "<style scoped>\n",
       "    .dataframe tbody tr th:only-of-type {\n",
       "        vertical-align: middle;\n",
       "    }\n",
       "\n",
       "    .dataframe tbody tr th {\n",
       "        vertical-align: top;\n",
       "    }\n",
       "\n",
       "    .dataframe thead th {\n",
       "        text-align: right;\n",
       "    }\n",
       "</style>\n",
       "<table border=\"1\" class=\"dataframe\">\n",
       "  <thead>\n",
       "    <tr style=\"text-align: right;\">\n",
       "      <th></th>\n",
       "      <th>feature</th>\n",
       "      <th>imp</th>\n",
       "    </tr>\n",
       "  </thead>\n",
       "  <tbody>\n",
       "    <tr>\n",
       "      <th>5</th>\n",
       "      <td>tipo_colision1</td>\n",
       "      <td>0.163759</td>\n",
       "    </tr>\n",
       "    <tr>\n",
       "      <th>7</th>\n",
       "      <td>participantes_acusados</td>\n",
       "      <td>0.130032</td>\n",
       "    </tr>\n",
       "    <tr>\n",
       "      <th>2</th>\n",
       "      <td>comuna</td>\n",
       "      <td>0.121288</td>\n",
       "    </tr>\n",
       "    <tr>\n",
       "      <th>6</th>\n",
       "      <td>rango_edad</td>\n",
       "      <td>0.103797</td>\n",
       "    </tr>\n",
       "    <tr>\n",
       "      <th>8</th>\n",
       "      <td>rango_horario</td>\n",
       "      <td>0.091588</td>\n",
       "    </tr>\n",
       "    <tr>\n",
       "      <th>1</th>\n",
       "      <td>precip</td>\n",
       "      <td>0.083024</td>\n",
       "    </tr>\n",
       "    <tr>\n",
       "      <th>4</th>\n",
       "      <td>m</td>\n",
       "      <td>0.080034</td>\n",
       "    </tr>\n",
       "    <tr>\n",
       "      <th>0</th>\n",
       "      <td>viento</td>\n",
       "      <td>0.076723</td>\n",
       "    </tr>\n",
       "    <tr>\n",
       "      <th>3</th>\n",
       "      <td>d</td>\n",
       "      <td>0.076321</td>\n",
       "    </tr>\n",
       "    <tr>\n",
       "      <th>9</th>\n",
       "      <td>finde</td>\n",
       "      <td>0.073434</td>\n",
       "    </tr>\n",
       "  </tbody>\n",
       "</table>\n",
       "</div>"
      ],
      "text/plain": [
       "                  feature       imp\n",
       "5          tipo_colision1  0.163759\n",
       "7  participantes_acusados  0.130032\n",
       "2                  comuna  0.121288\n",
       "6              rango_edad  0.103797\n",
       "8           rango_horario  0.091588\n",
       "1                  precip  0.083024\n",
       "4                       m  0.080034\n",
       "0                  viento  0.076723\n",
       "3                       d  0.076321\n",
       "9                   finde  0.073434"
      ]
     },
     "execution_count": 49,
     "metadata": {},
     "output_type": "execute_result"
    }
   ],
   "source": [
    "importancia = pd.DataFrame()\n",
    "importancia['feature'] = pd.Series(X.columns)\n",
    "importancia['imp'] = modelo_xgb.feature_importances_\n",
    "importancia.sort_values(by='imp', ascending=False)"
   ]
  },
  {
   "attachments": {},
   "cell_type": "markdown",
   "id": "eb18a308",
   "metadata": {},
   "source": [
    "LUEGO DE COMPROBAR QUE LA COLUMNA AGREGADA NO INFUYE CONSIDERABLEMENTE EN EL MODELO, IMPORTO UN CSV CON LOS FERIADOS DEL PERIODO DE TIEMPO ESTUDIADO, LUEGO HAGO UN MERGE CON MI SET DE DATOS (UTILIZANDO COMO CLAVE LA TRIADA [DIA,MES,AÑO]) Y AGREGO ESTOS DIAS A LA COLUMNA \"finde\", CAMBIANDO EL CONCEPTO DE ESTA COLUMNA POR EL DE \"dia no laborable\""
   ]
  },
  {
   "cell_type": "code",
   "execution_count": 50,
   "id": "3e85b3e6",
   "metadata": {},
   "outputs": [
    {
     "data": {
      "text/html": [
       "<div>\n",
       "<style scoped>\n",
       "    .dataframe tbody tr th:only-of-type {\n",
       "        vertical-align: middle;\n",
       "    }\n",
       "\n",
       "    .dataframe tbody tr th {\n",
       "        vertical-align: top;\n",
       "    }\n",
       "\n",
       "    .dataframe thead th {\n",
       "        text-align: right;\n",
       "    }\n",
       "</style>\n",
       "<table border=\"1\" class=\"dataframe\">\n",
       "  <thead>\n",
       "    <tr style=\"text-align: right;\">\n",
       "      <th></th>\n",
       "      <th>d</th>\n",
       "      <th>m</th>\n",
       "      <th>a</th>\n",
       "      <th>n</th>\n",
       "    </tr>\n",
       "  </thead>\n",
       "  <tbody>\n",
       "    <tr>\n",
       "      <th>0</th>\n",
       "      <td>1</td>\n",
       "      <td>1</td>\n",
       "      <td>2015</td>\n",
       "      <td>1</td>\n",
       "    </tr>\n",
       "    <tr>\n",
       "      <th>1</th>\n",
       "      <td>6</td>\n",
       "      <td>1</td>\n",
       "      <td>2015</td>\n",
       "      <td>1</td>\n",
       "    </tr>\n",
       "  </tbody>\n",
       "</table>\n",
       "</div>"
      ],
      "text/plain": [
       "   d  m     a  n\n",
       "0  1  1  2015  1\n",
       "1  6  1  2015  1"
      ]
     },
     "execution_count": 50,
     "metadata": {},
     "output_type": "execute_result"
    }
   ],
   "source": [
    "feriados = 'feriados.csv'\n",
    "fer_df = pd.read_csv(feriados)\n",
    "fer_df.columns = ['d','m','a','n']\n",
    "fer_df.n = 1\n",
    "fer_df.head(2)"
   ]
  },
  {
   "cell_type": "code",
   "execution_count": 51,
   "id": "106d9aa1",
   "metadata": {},
   "outputs": [],
   "source": [
    "sin_df = sin_df.merge(fer_df,how='left',left_on=['d','m','a'],right_on=['d','m','a'])"
   ]
  },
  {
   "cell_type": "code",
   "execution_count": 52,
   "id": "a0e55f49",
   "metadata": {},
   "outputs": [
    {
     "data": {
      "text/plain": [
       "0    31271\n",
       "1      800\n",
       "Name: n, dtype: int64"
      ]
     },
     "execution_count": 52,
     "metadata": {},
     "output_type": "execute_result"
    }
   ],
   "source": [
    "sin_df.n.fillna(0, inplace=True)\n",
    "sin_df.n = sin_df.n.astype(int)\n",
    "sin_df.n.value_counts()"
   ]
  },
  {
   "cell_type": "code",
   "execution_count": 53,
   "id": "19ed0bdf",
   "metadata": {},
   "outputs": [
    {
     "data": {
      "text/plain": [
       "0    24003\n",
       "1     8068\n",
       "Name: finde, dtype: int64"
      ]
     },
     "execution_count": 53,
     "metadata": {},
     "output_type": "execute_result"
    }
   ],
   "source": [
    "sin_df.finde.value_counts()"
   ]
  },
  {
   "cell_type": "code",
   "execution_count": 54,
   "id": "5c91c0f2",
   "metadata": {},
   "outputs": [],
   "source": [
    "f_mask = (sin_df.loc[(sin_df.n == 1)]).index\n",
    "\n",
    "sin_df.loc[f_mask, 'finde'] = 1"
   ]
  },
  {
   "cell_type": "code",
   "execution_count": 55,
   "id": "8532f1d4",
   "metadata": {},
   "outputs": [
    {
     "data": {
      "text/plain": [
       "0    23337\n",
       "1     8734\n",
       "Name: finde, dtype: int64"
      ]
     },
     "execution_count": 55,
     "metadata": {},
     "output_type": "execute_result"
    }
   ],
   "source": [
    "sin_df.finde.value_counts()"
   ]
  },
  {
   "attachments": {},
   "cell_type": "markdown",
   "id": "251d9d83",
   "metadata": {},
   "source": [
    "CORROBORÉ QUE SE HAYAN AGREGADO CORRECTAMENTE LOS FERIADOS. También agregare al fin de semana los dias viernes pasadas las 19hs. "
   ]
  },
  {
   "cell_type": "code",
   "execution_count": 56,
   "id": "fefb40f8",
   "metadata": {},
   "outputs": [],
   "source": [
    "v_mask = (sin_df.loc[(sin_df.nom_dia == 'Friday') & (sin_df.h > 18)]).index\n",
    "sin_df.loc[v_mask, 'finde'] = 1"
   ]
  },
  {
   "cell_type": "code",
   "execution_count": 57,
   "id": "69be98f7",
   "metadata": {},
   "outputs": [
    {
     "data": {
      "text/plain": [
       "0    22310\n",
       "1     9761\n",
       "Name: finde, dtype: int64"
      ]
     },
     "execution_count": 57,
     "metadata": {},
     "output_type": "execute_result"
    }
   ],
   "source": [
    "sin_df.finde.value_counts()"
   ]
  },
  {
   "attachments": {},
   "cell_type": "markdown",
   "id": "d3b54c0a",
   "metadata": {},
   "source": [
    "Agrego 1000 registros mas a la columna \"finde\""
   ]
  },
  {
   "cell_type": "code",
   "execution_count": 58,
   "id": "31865422",
   "metadata": {},
   "outputs": [],
   "source": [
    "X = sin_df[['viento','precip','comuna','d','m','a','tipo_colision1','rango_edad','participantes_acusados','rango_horario','finde']]\n",
    "y = sin_df['tipo_calle']"
   ]
  },
  {
   "cell_type": "code",
   "execution_count": 59,
   "id": "e9f056d7",
   "metadata": {},
   "outputs": [
    {
     "name": "stderr",
     "output_type": "stream",
     "text": [
      "C:\\Users\\Seguridad\\AppData\\Local\\Temp\\ipykernel_23400\\888047746.py:2: SettingWithCopyWarning: \n",
      "A value is trying to be set on a copy of a slice from a DataFrame.\n",
      "Try using .loc[row_indexer,col_indexer] = value instead\n",
      "\n",
      "See the caveats in the documentation: https://pandas.pydata.org/pandas-docs/stable/user_guide/indexing.html#returning-a-view-versus-a-copy\n",
      "  X.tipo_colision1 = le.transform(X.tipo_colision1)\n",
      "C:\\Users\\Seguridad\\AppData\\Local\\Temp\\ipykernel_23400\\888047746.py:5: SettingWithCopyWarning: \n",
      "A value is trying to be set on a copy of a slice from a DataFrame.\n",
      "Try using .loc[row_indexer,col_indexer] = value instead\n",
      "\n",
      "See the caveats in the documentation: https://pandas.pydata.org/pandas-docs/stable/user_guide/indexing.html#returning-a-view-versus-a-copy\n",
      "  X.participantes_acusados = le.transform(X.participantes_acusados)\n"
     ]
    }
   ],
   "source": [
    "le.fit(X.tipo_colision1)\n",
    "X.tipo_colision1 = le.transform(X.tipo_colision1)\n",
    "\n",
    "le.fit(X.participantes_acusados)\n",
    "X.participantes_acusados = le.transform(X.participantes_acusados)\n",
    "\n",
    "#y = le.fit_transform(y)"
   ]
  },
  {
   "cell_type": "code",
   "execution_count": 60,
   "id": "763fe7a7",
   "metadata": {},
   "outputs": [],
   "source": [
    "X_train, X_test, y_train, y_test = train_test_split(\n",
    "                                        X,\n",
    "                                        y.values.reshape(-1,1),\n",
    "                                        train_size   = 0.7,\n",
    "                                        random_state = 1234,\n",
    "                                        shuffle      = True\n",
    "                                    )"
   ]
  },
  {
   "cell_type": "code",
   "execution_count": 61,
   "id": "ff15d6aa",
   "metadata": {},
   "outputs": [
    {
     "name": "stderr",
     "output_type": "stream",
     "text": [
      "c:\\ProgramData\\Miniconda3\\lib\\site-packages\\sklearn\\preprocessing\\_label.py:115: DataConversionWarning: A column-vector y was passed when a 1d array was expected. Please change the shape of y to (n_samples, ), for example using ravel().\n",
      "  y = column_or_1d(y, warn=True)\n"
     ]
    },
    {
     "name": "stdout",
     "output_type": "stream",
     "text": [
      "% de aciertos sobre el set de entrenamiento: 69.10775535658604\n",
      "% de aciertos sobre el set de evaluación: 65.82831012263563\n"
     ]
    }
   ],
   "source": [
    "import xgboost as xgb\n",
    "\n",
    "le = LabelEncoder()\n",
    "\n",
    "y_train = le.fit_transform(y_train)\n",
    "y_test = le.fit_transform(y_test)\n",
    "\n",
    "modelo_xgb = xgb.XGBClassifier(learning_rate=0.1, n_estimators=100, max_depth=5, random_state=42)\n",
    "modelo_xgb.fit(X_train, y_train)\n",
    "\n",
    "y_train_pred = modelo_xgb.predict(X_train)\n",
    "y_test_pred = modelo_xgb.predict(X_test)\n",
    "\n",
    "train_accuracy = accuracy_score(y_train, y_train_pred)\n",
    "print('% de aciertos sobre el set de entrenamiento:',train_accuracy*100)\n",
    "\n",
    "test_accuracy = accuracy_score(y_test, y_test_pred)\n",
    "print('% de aciertos sobre el set de evaluación:',test_accuracy*100)"
   ]
  },
  {
   "cell_type": "code",
   "execution_count": 62,
   "id": "b26d0cbd",
   "metadata": {},
   "outputs": [
    {
     "data": {
      "text/html": [
       "<div>\n",
       "<style scoped>\n",
       "    .dataframe tbody tr th:only-of-type {\n",
       "        vertical-align: middle;\n",
       "    }\n",
       "\n",
       "    .dataframe tbody tr th {\n",
       "        vertical-align: top;\n",
       "    }\n",
       "\n",
       "    .dataframe thead th {\n",
       "        text-align: right;\n",
       "    }\n",
       "</style>\n",
       "<table border=\"1\" class=\"dataframe\">\n",
       "  <thead>\n",
       "    <tr style=\"text-align: right;\">\n",
       "      <th></th>\n",
       "      <th>feature</th>\n",
       "      <th>imp</th>\n",
       "    </tr>\n",
       "  </thead>\n",
       "  <tbody>\n",
       "    <tr>\n",
       "      <th>6</th>\n",
       "      <td>tipo_colision1</td>\n",
       "      <td>0.149956</td>\n",
       "    </tr>\n",
       "    <tr>\n",
       "      <th>8</th>\n",
       "      <td>participantes_acusados</td>\n",
       "      <td>0.127851</td>\n",
       "    </tr>\n",
       "    <tr>\n",
       "      <th>2</th>\n",
       "      <td>comuna</td>\n",
       "      <td>0.115066</td>\n",
       "    </tr>\n",
       "    <tr>\n",
       "      <th>7</th>\n",
       "      <td>rango_edad</td>\n",
       "      <td>0.094382</td>\n",
       "    </tr>\n",
       "    <tr>\n",
       "      <th>9</th>\n",
       "      <td>rango_horario</td>\n",
       "      <td>0.085787</td>\n",
       "    </tr>\n",
       "    <tr>\n",
       "      <th>5</th>\n",
       "      <td>a</td>\n",
       "      <td>0.076013</td>\n",
       "    </tr>\n",
       "    <tr>\n",
       "      <th>4</th>\n",
       "      <td>m</td>\n",
       "      <td>0.073873</td>\n",
       "    </tr>\n",
       "    <tr>\n",
       "      <th>0</th>\n",
       "      <td>viento</td>\n",
       "      <td>0.072915</td>\n",
       "    </tr>\n",
       "    <tr>\n",
       "      <th>1</th>\n",
       "      <td>precip</td>\n",
       "      <td>0.069787</td>\n",
       "    </tr>\n",
       "    <tr>\n",
       "      <th>3</th>\n",
       "      <td>d</td>\n",
       "      <td>0.067946</td>\n",
       "    </tr>\n",
       "    <tr>\n",
       "      <th>10</th>\n",
       "      <td>finde</td>\n",
       "      <td>0.066425</td>\n",
       "    </tr>\n",
       "  </tbody>\n",
       "</table>\n",
       "</div>"
      ],
      "text/plain": [
       "                   feature       imp\n",
       "6           tipo_colision1  0.149956\n",
       "8   participantes_acusados  0.127851\n",
       "2                   comuna  0.115066\n",
       "7               rango_edad  0.094382\n",
       "9            rango_horario  0.085787\n",
       "5                        a  0.076013\n",
       "4                        m  0.073873\n",
       "0                   viento  0.072915\n",
       "1                   precip  0.069787\n",
       "3                        d  0.067946\n",
       "10                   finde  0.066425"
      ]
     },
     "execution_count": 62,
     "metadata": {},
     "output_type": "execute_result"
    }
   ],
   "source": [
    "importancia = pd.DataFrame()\n",
    "importancia['feature'] = pd.Series(X.columns)\n",
    "importancia['imp'] = modelo_xgb.feature_importances_\n",
    "importancia.sort_values(by='imp', ascending=False)"
   ]
  },
  {
   "attachments": {},
   "cell_type": "markdown",
   "id": "8f7b6e77",
   "metadata": {},
   "source": [
    "EMPEORO LA IMPORTANCIA DE LA COLUMNA FINDE AGREGANDO LOS FERIADOS Y LOS VIERNES A LA TARDE-NOCHE."
   ]
  },
  {
   "attachments": {},
   "cell_type": "markdown",
   "id": "c16c5f16",
   "metadata": {},
   "source": [
    "EL MEJOR MODELO HASTA AHORA FUE EL CLASIFICADOR DE RANDOM FOREST (por poca diferencia) "
   ]
  },
  {
   "cell_type": "code",
   "execution_count": 65,
   "id": "833bb589",
   "metadata": {},
   "outputs": [
    {
     "name": "stdout",
     "output_type": "stream",
     "text": [
      "   Componente 1  Componente 2\n",
      "0      1.046233      0.654826\n",
      "1      0.009549     -0.305516\n",
      "2      1.007564     -0.344411\n",
      "3      1.007564     -0.344411\n",
      "4     -0.988466     -0.266622\n"
     ]
    }
   ],
   "source": [
    "from sklearn.decomposition import PCA\n",
    "\n",
    "pca = PCA(n_components=2)\n",
    "componentes_principales = pca.fit_transform(X[['finde','precip','viento']])\n",
    "\n",
    "df_componentes = pd.DataFrame(componentes_principales, columns=['Componente 1', 'Componente 2'])\n",
    "print(df_componentes.head())"
   ]
  },
  {
   "attachments": {},
   "cell_type": "markdown",
   "id": "a9d7cbff",
   "metadata": {},
   "source": [
    "PARA LA SIGUIENTE ENTREGA (CROSSVALIDATION), QUITARÉ ESTA COLUMNA QUE NO ESTA AGREGANDO INFORMACION VALIOSA AL MODELO Y BUSCARÉ LOS HIPERPARAMETROS QUE MEJOR RESULTADO DEN AL ALGORITMO. "
   ]
  },
  {
   "attachments": {},
   "cell_type": "markdown",
   "id": "d7211207",
   "metadata": {},
   "source": [
    "TAMBIÉN VOLVERÉ A AGREGAR ALGUNAS VARIABLES QUITADAS DEL MODELO, YA QUE COMO VI EN EL CALCULO DE METRICAS, ESTOY PERDIENDO INFORMACION VALIOSA AL QUITARLAS."
   ]
  },
  {
   "attachments": {},
   "cell_type": "markdown",
   "id": "53680a29",
   "metadata": {},
   "source": []
  }
 ],
 "metadata": {
  "kernelspec": {
   "display_name": "Python 3",
   "language": "python",
   "name": "python3"
  },
  "language_info": {
   "codemirror_mode": {
    "name": "ipython",
    "version": 3
   },
   "file_extension": ".py",
   "mimetype": "text/x-python",
   "name": "python",
   "nbconvert_exporter": "python",
   "pygments_lexer": "ipython3",
   "version": "3.9.12"
  }
 },
 "nbformat": 4,
 "nbformat_minor": 5
}
