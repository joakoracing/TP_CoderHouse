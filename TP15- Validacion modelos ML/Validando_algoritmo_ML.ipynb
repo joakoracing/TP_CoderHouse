{
 "cells": [
  {
   "attachments": {},
   "cell_type": "markdown",
   "id": "4e78b6a3",
   "metadata": {},
   "source": [
    "COMIENZA CARGA DE DATOS\n",
    "\n",
    "Cargo en primer lugar las librerias que usaré, luego cargo el set de datos elegido; este contiene datos de siniestros de tránsito en la Ciudad de Buenos Aires, entre los años 2015 y 2018. "
   ]
  },
  {
   "cell_type": "code",
   "execution_count": 175,
   "id": "0a5d3ee3",
   "metadata": {},
   "outputs": [],
   "source": [
    "import numpy as np\n",
    "import pandas as pd\n",
    "import scipy.sparse as sp\n",
    "import matplotlib.pyplot as plt\n",
    "import matplotlib.dates as mdates\n",
    "import matplotlib as mpl\n",
    "import seaborn as sns\n",
    "\n",
    "from sklearn.linear_model import LinearRegression\n",
    "from sklearn.model_selection import train_test_split\n",
    "from sklearn.preprocessing import OneHotEncoder\n",
    "from sklearn.tree import DecisionTreeClassifier\n",
    "from sklearn.preprocessing import MinMaxScaler\n",
    "from sklearn.svm import SVC\n",
    "from sklearn.metrics import accuracy_score"
   ]
  },
  {
   "cell_type": "code",
   "execution_count": 176,
   "id": "56a62ec3",
   "metadata": {},
   "outputs": [
    {
     "name": "stderr",
     "output_type": "stream",
     "text": [
      "C:\\Users\\Seguridad\\AppData\\Local\\Temp\\ipykernel_12188\\1239150759.py:2: DtypeWarning: Columns (9) have mixed types. Specify dtype option on import or set low_memory=False.\n",
      "  sin_df = pd.read_csv(siniestros)\n"
     ]
    }
   ],
   "source": [
    "siniestros = 'victimas-siniestros.csv'\n",
    "sin_df = pd.read_csv(siniestros)"
   ]
  },
  {
   "attachments": {},
   "cell_type": "markdown",
   "id": "c6cc7c57",
   "metadata": {},
   "source": [
    "COMIENZA EL PROCESO DE LIMPIEZA DEL DATASET"
   ]
  },
  {
   "cell_type": "code",
   "execution_count": 177,
   "id": "47a39ca8",
   "metadata": {},
   "outputs": [
    {
     "data": {
      "text/html": [
       "<div>\n",
       "<style scoped>\n",
       "    .dataframe tbody tr th:only-of-type {\n",
       "        vertical-align: middle;\n",
       "    }\n",
       "\n",
       "    .dataframe tbody tr th {\n",
       "        vertical-align: top;\n",
       "    }\n",
       "\n",
       "    .dataframe thead th {\n",
       "        text-align: right;\n",
       "    }\n",
       "</style>\n",
       "<table border=\"1\" class=\"dataframe\">\n",
       "  <thead>\n",
       "    <tr style=\"text-align: right;\">\n",
       "      <th></th>\n",
       "      <th>causa</th>\n",
       "      <th>rol</th>\n",
       "      <th>tipo</th>\n",
       "      <th>sexo</th>\n",
       "      <th>edad</th>\n",
       "      <th>mes</th>\n",
       "      <th>periodo</th>\n",
       "      <th>fecha</th>\n",
       "      <th>hora</th>\n",
       "      <th>lugar_hecho</th>\n",
       "      <th>...</th>\n",
       "      <th>semestre</th>\n",
       "      <th>x</th>\n",
       "      <th>y</th>\n",
       "      <th>geom</th>\n",
       "      <th>cantidad_victimas</th>\n",
       "      <th>comuna</th>\n",
       "      <th>geom_3857</th>\n",
       "      <th>tipo_colision1</th>\n",
       "      <th>participantes_victimas</th>\n",
       "      <th>participantes_acusados</th>\n",
       "    </tr>\n",
       "  </thead>\n",
       "  <tbody>\n",
       "    <tr>\n",
       "      <th>3133</th>\n",
       "      <td>lesiones</td>\n",
       "      <td>peaton</td>\n",
       "      <td>peaton</td>\n",
       "      <td>masculino</td>\n",
       "      <td>73.0</td>\n",
       "      <td>4.0</td>\n",
       "      <td>2016</td>\n",
       "      <td>04-02-16</td>\n",
       "      <td>11:30:00</td>\n",
       "      <td>mansilla y guise</td>\n",
       "      <td>...</td>\n",
       "      <td>1</td>\n",
       "      <td>-58.413749</td>\n",
       "      <td>-34.591691</td>\n",
       "      <td>0101000020E6100000636BD5BCF5344DC078CDE589BC4B...</td>\n",
       "      <td>1</td>\n",
       "      <td>14.0</td>\n",
       "      <td>0101000020110F0000A2D413352FCE58C1480F6E907958...</td>\n",
       "      <td>peaton - vehiculo</td>\n",
       "      <td>peaton</td>\n",
       "      <td>automovil</td>\n",
       "    </tr>\n",
       "    <tr>\n",
       "      <th>26935</th>\n",
       "      <td>lesiones</td>\n",
       "      <td>conductor + peaton</td>\n",
       "      <td>peaton</td>\n",
       "      <td>femenino</td>\n",
       "      <td>24.0</td>\n",
       "      <td>11.0</td>\n",
       "      <td>2015</td>\n",
       "      <td>11/21/2015</td>\n",
       "      <td>6:15:00</td>\n",
       "      <td>av boedo 769</td>\n",
       "      <td>...</td>\n",
       "      <td>2</td>\n",
       "      <td>-58.416502</td>\n",
       "      <td>-34.621866</td>\n",
       "      <td>0101000020E610000019BAC8F34F354DC05E571F51994F...</td>\n",
       "      <td>1</td>\n",
       "      <td>5.0</td>\n",
       "      <td>0101000020110F0000F448A0D37BCE58C14DD02B257260...</td>\n",
       "      <td>peaton - vehiculo</td>\n",
       "      <td>peaton</td>\n",
       "      <td>\"transporte publico\"</td>\n",
       "    </tr>\n",
       "    <tr>\n",
       "      <th>11696</th>\n",
       "      <td>lesiones</td>\n",
       "      <td>peaton</td>\n",
       "      <td>peaton</td>\n",
       "      <td>masculino</td>\n",
       "      <td>69.0</td>\n",
       "      <td>5.0</td>\n",
       "      <td>2016</td>\n",
       "      <td>5/16/2016</td>\n",
       "      <td>21:30:00</td>\n",
       "      <td>av juan b justo y nicasio oronio</td>\n",
       "      <td>...</td>\n",
       "      <td>1</td>\n",
       "      <td>-58.460513</td>\n",
       "      <td>-34.605885</td>\n",
       "      <td>0101000020E6100000E58A041BF23A4DC0288C32A78D4D...</td>\n",
       "      <td>1</td>\n",
       "      <td>11.0</td>\n",
       "      <td>0101000020110F0000D95CDBA544D358C1BAB1D758395C...</td>\n",
       "      <td>peaton - vehiculo</td>\n",
       "      <td>peaton</td>\n",
       "      <td>\"transporte publico\"</td>\n",
       "    </tr>\n",
       "  </tbody>\n",
       "</table>\n",
       "<p>3 rows × 29 columns</p>\n",
       "</div>"
      ],
      "text/plain": [
       "          causa                 rol    tipo       sexo  edad   mes  periodo  \\\n",
       "3133   lesiones              peaton  peaton  masculino  73.0   4.0     2016   \n",
       "26935  lesiones  conductor + peaton  peaton   femenino  24.0  11.0     2015   \n",
       "11696  lesiones              peaton  peaton  masculino  69.0   5.0     2016   \n",
       "\n",
       "            fecha      hora                       lugar_hecho  ... semestre  \\\n",
       "3133     04-02-16  11:30:00                  mansilla y guise  ...        1   \n",
       "26935  11/21/2015   6:15:00                      av boedo 769  ...        2   \n",
       "11696   5/16/2016  21:30:00  av juan b justo y nicasio oronio  ...        1   \n",
       "\n",
       "               x          y  \\\n",
       "3133  -58.413749 -34.591691   \n",
       "26935 -58.416502 -34.621866   \n",
       "11696 -58.460513 -34.605885   \n",
       "\n",
       "                                                    geom  cantidad_victimas  \\\n",
       "3133   0101000020E6100000636BD5BCF5344DC078CDE589BC4B...                  1   \n",
       "26935  0101000020E610000019BAC8F34F354DC05E571F51994F...                  1   \n",
       "11696  0101000020E6100000E58A041BF23A4DC0288C32A78D4D...                  1   \n",
       "\n",
       "      comuna                                          geom_3857  \\\n",
       "3133    14.0  0101000020110F0000A2D413352FCE58C1480F6E907958...   \n",
       "26935    5.0  0101000020110F0000F448A0D37BCE58C14DD02B257260...   \n",
       "11696   11.0  0101000020110F0000D95CDBA544D358C1BAB1D758395C...   \n",
       "\n",
       "          tipo_colision1 participantes_victimas  participantes_acusados  \n",
       "3133   peaton - vehiculo                 peaton               automovil  \n",
       "26935  peaton - vehiculo                 peaton    \"transporte publico\"  \n",
       "11696  peaton - vehiculo                 peaton    \"transporte publico\"  \n",
       "\n",
       "[3 rows x 29 columns]"
      ]
     },
     "execution_count": 177,
     "metadata": {},
     "output_type": "execute_result"
    }
   ],
   "source": [
    "sin_df.sample(3)"
   ]
  },
  {
   "cell_type": "code",
   "execution_count": 178,
   "id": "b4ddd29f",
   "metadata": {},
   "outputs": [
    {
     "name": "stdout",
     "output_type": "stream",
     "text": [
      "<class 'pandas.core.frame.DataFrame'>\n",
      "RangeIndex: 33234 entries, 0 to 33233\n",
      "Data columns (total 29 columns):\n",
      " #   Column                        Non-Null Count  Dtype  \n",
      "---  ------                        --------------  -----  \n",
      " 0   causa                         33234 non-null  object \n",
      " 1   rol                           32899 non-null  object \n",
      " 2   tipo                          32134 non-null  object \n",
      " 3   sexo                          33037 non-null  object \n",
      " 4   edad                          32675 non-null  float64\n",
      " 5   mes                           33197 non-null  float64\n",
      " 6   periodo                       33234 non-null  int64  \n",
      " 7   fecha                         33173 non-null  object \n",
      " 8   hora                          33217 non-null  object \n",
      " 9   lugar_hecho                   29518 non-null  object \n",
      " 10  direccion_normalizada         32469 non-null  object \n",
      " 11  tipo_calle                    33234 non-null  object \n",
      " 12  direccion_normalizada_arcgis  32462 non-null  object \n",
      " 13  calle1                        32469 non-null  object \n",
      " 14  altura                        7111 non-null   float64\n",
      " 15  calle2                        24987 non-null  object \n",
      " 16  codigo_calle                  23944 non-null  float64\n",
      " 17  codigo_cruce                  20709 non-null  float64\n",
      " 18  geocodificacion               32139 non-null  object \n",
      " 19  semestre                      33234 non-null  int64  \n",
      " 20  x                             32139 non-null  float64\n",
      " 21  y                             32139 non-null  float64\n",
      " 22  geom                          32139 non-null  object \n",
      " 23  cantidad_victimas             33234 non-null  int64  \n",
      " 24  comuna                        32136 non-null  float64\n",
      " 25  geom_3857                     32139 non-null  object \n",
      " 26  tipo_colision1                31891 non-null  object \n",
      " 27  participantes_victimas        32103 non-null  object \n",
      " 28  participantes_acusados        32557 non-null  object \n",
      "dtypes: float64(8), int64(3), object(18)\n",
      "memory usage: 7.4+ MB\n"
     ]
    }
   ],
   "source": [
    "sin_df.info()"
   ]
  },
  {
   "attachments": {},
   "cell_type": "markdown",
   "id": "11d38026",
   "metadata": {},
   "source": [
    "EN PRIMERA INSTANCIA DE LA EXPLORACION, VOY A ESTABLECER UN OBJETIVO GENERAL:\n",
    "\n",
    "- QUIERO MINIMIZAR LA CANTIDAD DE ACCIDENTES DE AUTOS, MOTOS Y BICICLETAS (en este ejemplo me contrataría gobierno de la Ciudad de Buenos Aires). PARA ESTO HABRIA QUE TOMAR MEDIDAS DE TODO TIPO, COMO CONTROLES POLICIALES, CARTELES PREVENTIVOS, ARREGLOS DE CALLE, CAMARAS-MULTA, ETC.\n",
    "\n",
    "-------------------------------------------------------------------------------------------------------------------------------"
   ]
  },
  {
   "attachments": {},
   "cell_type": "markdown",
   "id": "338edc03",
   "metadata": {},
   "source": [
    "CON ESTE OBJETIVO EN MENTE, VOY A ELEGIR QUE COLUMNAS SON LAS QUE MAS INFORMACION PUEDEN APORTAR Y CUALES SON LAS QUE TIENEN INFORMACION REDUNDANTE.\n",
    "\n",
    "EN UNA PRIMERA IMPRESION, ASUMO QUE LAS COLUMNAS MAS IMPORTANTES SON:\n",
    "\n",
    "- causa\n",
    "- rol\n",
    "- tipo\n",
    "- sexo\n",
    "- edad\n",
    "- fecha\n",
    "- hora\n",
    "- tipo_calle\n",
    "- calle1\n",
    "- calle2\n",
    "- x\n",
    "- y\n",
    "- cantidad_victimas\n",
    "- comuna\n",
    "- participantes_victimas\n",
    "- participantes_acusados\n",
    "\n",
    "EL RESTO DE COLUMAS CONTIENEN INFORMACION QUE APARECE EN ESTAS COLUMNAS SELECCIONADAS, PERO EN OTRO FORMATO.\n",
    "\n",
    "PROCEDO A QUEDARME SOLO CON LAS COLUMNAS ELEGIDAS Y REVISO LOS DATOS NULOS"
   ]
  },
  {
   "cell_type": "code",
   "execution_count": 179,
   "id": "a40136ac",
   "metadata": {},
   "outputs": [
    {
     "data": {
      "text/plain": [
       "causa                        0\n",
       "rol                        335\n",
       "tipo                      1100\n",
       "sexo                       197\n",
       "edad                       559\n",
       "fecha                       61\n",
       "hora                        17\n",
       "tipo_calle                   0\n",
       "calle1                     765\n",
       "calle2                    8247\n",
       "x                         1095\n",
       "y                         1095\n",
       "cantidad_victimas            0\n",
       "comuna                    1098\n",
       "tipo_colision1            1343\n",
       "participantes_acusados     677\n",
       "participantes_victimas    1131\n",
       "dtype: int64"
      ]
     },
     "execution_count": 179,
     "metadata": {},
     "output_type": "execute_result"
    }
   ],
   "source": [
    "sin_df = sin_df[['causa','rol','tipo','sexo','edad','fecha','hora','tipo_calle','calle1','calle2','x','y','cantidad_victimas','comuna','tipo_colision1','participantes_acusados','participantes_victimas']]\n",
    "sin_df.isnull().sum()"
   ]
  },
  {
   "cell_type": "code",
   "execution_count": 180,
   "id": "45cbcfe5",
   "metadata": {},
   "outputs": [
    {
     "data": {
      "text/plain": [
       "causa                        0\n",
       "rol                          6\n",
       "tipo                        41\n",
       "sexo                         6\n",
       "edad                        29\n",
       "fecha                        6\n",
       "hora                         6\n",
       "tipo_calle                   0\n",
       "calle1                     739\n",
       "calle2                    1097\n",
       "x                         1095\n",
       "y                         1095\n",
       "cantidad_victimas            0\n",
       "comuna                    1098\n",
       "tipo_colision1              43\n",
       "participantes_acusados      17\n",
       "participantes_victimas      38\n",
       "dtype: int64"
      ]
     },
     "execution_count": 180,
     "metadata": {},
     "output_type": "execute_result"
    }
   ],
   "source": [
    "sin_df.loc[sin_df.comuna.isnull()][['causa','rol','tipo','sexo','edad','fecha','hora','tipo_calle','calle1','calle2','x','y','cantidad_victimas','comuna','tipo_colision1','participantes_acusados','participantes_victimas']].isnull().sum()"
   ]
  },
  {
   "attachments": {},
   "cell_type": "markdown",
   "id": "349e06dd",
   "metadata": {},
   "source": [
    "BORRO LAS FILAS QUE TIENEN EL CAMPO FECHA Y HORA VACIOS, PORQUE SON MUY POCOS DATOS QUE PIERDO."
   ]
  },
  {
   "cell_type": "code",
   "execution_count": 181,
   "id": "ab2f4da8",
   "metadata": {},
   "outputs": [
    {
     "data": {
      "text/plain": [
       "fecha    0\n",
       "hora     0\n",
       "dtype: int64"
      ]
     },
     "execution_count": 181,
     "metadata": {},
     "output_type": "execute_result"
    }
   ],
   "source": [
    "sin_df.dropna(subset=['fecha','hora'],inplace=True)\n",
    "sin_df[['fecha','hora']].isnull().sum()"
   ]
  },
  {
   "attachments": {},
   "cell_type": "markdown",
   "id": "532afa34",
   "metadata": {},
   "source": [
    "AHORA VOY A SIMPLIFICAR LAS COLUMNAS 'tipo' Y 'tipo_colision1' PARA QUE SEAN UTILIZABLES POR UN ALGORITMO."
   ]
  },
  {
   "cell_type": "code",
   "execution_count": 182,
   "id": "85da58d5",
   "metadata": {},
   "outputs": [],
   "source": [
    "sin_df['tipo_colision1'].fillna('sin_data',inplace=True)\n",
    "sin_df['tipo'].fillna('sin_data',inplace=True)\n",
    "\n",
    "def simplificar_tipocol(tipo):\n",
    "\n",
    "    if '-' in tipo:\n",
    "        ac, vi = tipo.split('-')\n",
    "    else:\n",
    "        return tipo\n",
    "    \n",
    "    if tipo == 'vehiculo - motovehiculo' or tipo == 'motovehiculo - vehiculo':\n",
    "        return 'motovehiculo - vehiculo'\n",
    "    elif tipo == 'vehiculo - peaton' or tipo == 'peaton - vehiculo':\n",
    "        return 'peaton - vehiculo'\n",
    "    elif tipo == 'vehiculo - bicicleta' or tipo == 'bicicleta - vehiculo':\n",
    "        return 'bicicleta - vehiculo'\n",
    "    elif tipo == 'traccion a sangre - vehiculo' or tipo == 'motovehiculo - traccion a sangre' or tipo == 'motovehiculo - tren' or tipo == 'subte - vehiculo':\n",
    "        return 'sin_data'\n",
    "    elif 'bicicleta' in tipo:\n",
    "        return 'bicicleta'\n",
    "    elif 'peaton' in tipo:\n",
    "        return 'peaton'\n",
    "    else:\n",
    "        return tipo\n",
    "\n",
    "def simplificar_tipo(tipo):\n",
    "    \n",
    "    if tipo == 'auto pfa / movil / gendarmeria / metropolitana / moto movil' or tipo == 'vehiculo oficial':\n",
    "        st = 'fuerza seguridad'\n",
    "    elif tipo == 'transporte de cargas / grua' or tipo == 'utilitario':\n",
    "        st = 'camion'\n",
    "    elif tipo == 'transporte escolar' or tipo == 'omnibus / minibus':\n",
    "        st = 'transporte publico'\n",
    "    elif tipo == 'ambulancia':\n",
    "        st = 'camioneta'\n",
    "    elif tipo == 'traccion a sangre' or tipo == 'autobomba' or tipo == 'patineta' or tipo == 'cuatriciclo' or tipo == 'tren / subte' or tipo == 'tren / subte / tranvia' or tipo == 'vehiculo rural' or tipo == 'otros':\n",
    "        st = 'sin_data'\n",
    "    else:\n",
    "        return tipo\n",
    "    return st"
   ]
  },
  {
   "cell_type": "code",
   "execution_count": 183,
   "id": "59eac8c3",
   "metadata": {
    "scrolled": true
   },
   "outputs": [
    {
     "data": {
      "text/html": [
       "<div>\n",
       "<style scoped>\n",
       "    .dataframe tbody tr th:only-of-type {\n",
       "        vertical-align: middle;\n",
       "    }\n",
       "\n",
       "    .dataframe tbody tr th {\n",
       "        vertical-align: top;\n",
       "    }\n",
       "\n",
       "    .dataframe thead th {\n",
       "        text-align: right;\n",
       "    }\n",
       "</style>\n",
       "<table border=\"1\" class=\"dataframe\">\n",
       "  <thead>\n",
       "    <tr style=\"text-align: right;\">\n",
       "      <th></th>\n",
       "      <th>tipo</th>\n",
       "      <th>tipo_colision1</th>\n",
       "    </tr>\n",
       "  </thead>\n",
       "  <tbody>\n",
       "    <tr>\n",
       "      <th>count</th>\n",
       "      <td>33162</td>\n",
       "      <td>33162</td>\n",
       "    </tr>\n",
       "    <tr>\n",
       "      <th>unique</th>\n",
       "      <td>10</td>\n",
       "      <td>9</td>\n",
       "    </tr>\n",
       "    <tr>\n",
       "      <th>top</th>\n",
       "      <td>moto</td>\n",
       "      <td>motovehiculo - vehiculo</td>\n",
       "    </tr>\n",
       "    <tr>\n",
       "      <th>freq</th>\n",
       "      <td>12989</td>\n",
       "      <td>11378</td>\n",
       "    </tr>\n",
       "  </tbody>\n",
       "</table>\n",
       "</div>"
      ],
      "text/plain": [
       "         tipo           tipo_colision1\n",
       "count   33162                    33162\n",
       "unique     10                        9\n",
       "top      moto  motovehiculo - vehiculo\n",
       "freq    12989                    11378"
      ]
     },
     "execution_count": 183,
     "metadata": {},
     "output_type": "execute_result"
    }
   ],
   "source": [
    "sin_df['tipo'] = sin_df['tipo'].apply(simplificar_tipo)#.astype('|S80')\n",
    "\n",
    "sin_df['tipo_colision1'] = sin_df['tipo_colision1'].apply(simplificar_tipocol)#.astype('|S80')\n",
    "\n",
    "sin_df[['tipo','tipo_colision1']].describe()"
   ]
  },
  {
   "attachments": {},
   "cell_type": "markdown",
   "id": "eb417d14",
   "metadata": {},
   "source": [
    "DEBERIA RELLENAR LOS NULOS DE 'tipo' CON INFORMACION DE OTRAS COLUMNAS PARA MEJORAR LA CALIDAD DE LA INFORMACION"
   ]
  },
  {
   "attachments": {},
   "cell_type": "markdown",
   "id": "10e15e6a",
   "metadata": {},
   "source": [
    "AHORA VOY A RELLENAR LOS CAMPOS CON VALOR NULO"
   ]
  },
  {
   "cell_type": "code",
   "execution_count": 184,
   "id": "82a15e75",
   "metadata": {},
   "outputs": [],
   "source": [
    "#sin_df['comuna'].fillna(0,inplace=True)\n",
    "sin_df = sin_df.dropna(subset='comuna')\n",
    "sin_df['comuna'] = sin_df['comuna'].astype(int)"
   ]
  },
  {
   "cell_type": "code",
   "execution_count": 185,
   "id": "dd08aa37",
   "metadata": {},
   "outputs": [],
   "source": [
    "sin_df['rol'].fillna('sin_data',inplace=True)\n",
    "sin_df['sexo'].fillna('sin_data',inplace=True)\n",
    "sin_df['calle1'].fillna('sin_data',inplace=True)\n",
    "sin_df['calle2'].fillna('sin_data',inplace=True)\n",
    "sin_df['participantes_acusados'].fillna('sin_data',inplace=True)\n",
    "sin_df['participantes_victimas'].fillna('sin_data',inplace=True)\n",
    "sin_df['x'].fillna(-1,inplace=True)\n",
    "sin_df['y'].fillna(-1,inplace=True)\n",
    "sin_df['edad'].fillna(sin_df.edad.mean(),inplace=True)"
   ]
  },
  {
   "attachments": {},
   "cell_type": "markdown",
   "id": "12ace9db",
   "metadata": {},
   "source": [
    "CATEGORIZO LA COLUMNA \"rol\", QUE ME PARECE UN DATO IMPORTANTE"
   ]
  },
  {
   "cell_type": "code",
   "execution_count": 186,
   "id": "4cede0dd",
   "metadata": {},
   "outputs": [],
   "source": [
    "def simplificar_rol(rol):\n",
    "    \n",
    "    if 'peaton' in rol:\n",
    "        return 'peaton'\n",
    "    elif 'ciclista' in rol:\n",
    "        return 'ciclista'\n",
    "    elif 'pasajero' in rol:\n",
    "        return 'pasajero'\n",
    "    else:\n",
    "        return rol"
   ]
  },
  {
   "cell_type": "code",
   "execution_count": 187,
   "id": "87d4cdee",
   "metadata": {},
   "outputs": [
    {
     "data": {
      "text/plain": [
       "conductor    16981\n",
       "peaton        7619\n",
       "pasajero      5297\n",
       "ciclista      1847\n",
       "sin_data       327\n",
       "Name: rol, dtype: int64"
      ]
     },
     "execution_count": 187,
     "metadata": {},
     "output_type": "execute_result"
    }
   ],
   "source": [
    "sin_df['rol'] = sin_df['rol'].apply(simplificar_rol)\n",
    "sin_df.rol.value_counts()"
   ]
  },
  {
   "attachments": {},
   "cell_type": "markdown",
   "id": "69d6bd05",
   "metadata": {},
   "source": [
    "EN LOS SIGUIENTES CASILLEROS VOY A LIMPIAR Y NORMALIZAR COLUMNAS (Lo puedo hacer luego con label encoder, pero decido hacerlo manual en este paso para tener control del valor que le asigno a cada dato)"
   ]
  },
  {
   "cell_type": "code",
   "execution_count": 188,
   "id": "0e3563ac",
   "metadata": {},
   "outputs": [
    {
     "data": {
      "text/plain": [
       "tipo_calle\n",
       "2    21127\n",
       "3    10838\n",
       "1      106\n",
       "dtype: int64"
      ]
     },
     "execution_count": 188,
     "metadata": {},
     "output_type": "execute_result"
    }
   ],
   "source": [
    "def normalizar_causa(causa):\n",
    "    if causa == 'lesiones':\n",
    "        return 0\n",
    "    elif causa == 'homicidio':\n",
    "        return 1\n",
    "    else:\n",
    "        return -1\n",
    "\n",
    "\n",
    "def normalizar_sexo(sexo):\n",
    "    if sexo == 'masculino':\n",
    "        return 1\n",
    "    elif sexo == 'femenino':\n",
    "        return 2\n",
    "    else:\n",
    "        return 0\n",
    "    \n",
    "def normalizar_tipo_calle(calle):\n",
    "    if calle == 'autopista':\n",
    "        return 1\n",
    "    elif calle == 'avenida':\n",
    "        return 2\n",
    "    elif calle == 'calle':\n",
    "        return 3\n",
    "    else:\n",
    "        return 0\n",
    "    \n",
    "sin_df['sexo'] = sin_df['sexo'].apply(normalizar_sexo)\n",
    "sin_df['causa'] = sin_df['causa'].apply(normalizar_causa)\n",
    "sin_df['tipo_calle'] = sin_df['tipo_calle'].apply(normalizar_tipo_calle)\n",
    "sin_df.value_counts('tipo_calle')\n",
    "\n",
    "# masculino -> 1\n",
    "# femenino -> 2\n",
    "# sin data -> 0\n",
    "\n",
    "# lesiones -> 1\n",
    "# muerte -> 2"
   ]
  },
  {
   "cell_type": "code",
   "execution_count": 189,
   "id": "997ac435",
   "metadata": {},
   "outputs": [
    {
     "data": {
      "text/plain": [
       "rango_edad\n",
       "2    18569\n",
       "3     7176\n",
       "4     3518\n",
       "1     2808\n",
       "dtype: int64"
      ]
     },
     "execution_count": 189,
     "metadata": {},
     "output_type": "execute_result"
    }
   ],
   "source": [
    "def edades(edad):\n",
    "    rango = 0\n",
    "    \n",
    "    if (edad<20):\n",
    "        rango=1\n",
    "    elif (edad<40):\n",
    "        rango=2\n",
    "    elif (edad<60):\n",
    "        rango=3\n",
    "    else:\n",
    "        rango=4\n",
    "    return rango\n",
    "\n",
    "sin_df['rango_edad'] = sin_df['edad'].apply(edades)\n",
    "sin_df.value_counts('rango_edad')"
   ]
  },
  {
   "attachments": {},
   "cell_type": "markdown",
   "id": "f32e6f66",
   "metadata": {},
   "source": [
    "LE DOY UN FORMATO DESEADO A LA HORA Y FECHA"
   ]
  },
  {
   "cell_type": "code",
   "execution_count": 190,
   "id": "97b12590",
   "metadata": {},
   "outputs": [
    {
     "data": {
      "text/plain": [
       "hora\n",
       "18    2141\n",
       "13    2129\n",
       "14    2050\n",
       "17    2022\n",
       "12    1967\n",
       "dtype: int64"
      ]
     },
     "execution_count": 190,
     "metadata": {},
     "output_type": "execute_result"
    }
   ],
   "source": [
    "def extraer_hora(hora):\n",
    "    return hora.hour\n",
    "\n",
    "sin_df['hora'] = pd.to_datetime(sin_df['hora']).apply(extraer_hora)\n",
    "sin_df['hora'] = sin_df['hora'].astype(int)\n",
    "sin_df.value_counts('hora').head()"
   ]
  },
  {
   "cell_type": "code",
   "execution_count": 191,
   "id": "04f6c269",
   "metadata": {},
   "outputs": [],
   "source": [
    "def crear_fecha(fecha):\n",
    "\n",
    "    if \"/\" in fecha:\n",
    "        fecha = fecha.split(\"/\")\n",
    "        fecha[0] = int(fecha[0])\n",
    "        fecha[1] = int(fecha[1])\n",
    "        fecha[2] = int(fecha[2])\n",
    "        aux = fecha[1]\n",
    "        fecha[1] = fecha[0]\n",
    "        fecha[0] = aux\n",
    "        return fecha\n",
    "    \n",
    "    elif \"-\" in fecha:\n",
    "        fecha = fecha.split(\"-\")\n",
    "        fecha[0] = int(fecha[0])\n",
    "        fecha[1] = int(fecha[1])\n",
    "        fecha[2] = int(fecha[2])\n",
    "        fecha[2] = 2000 + fecha[2]\n",
    "        return fecha\n",
    "\n",
    "\n",
    "def dia(d):\n",
    "    return d[0]\n",
    "\n",
    "def mes(d):\n",
    "    return d[1]\n",
    "\n",
    "def anio(d):\n",
    "    return d[2]"
   ]
  },
  {
   "cell_type": "code",
   "execution_count": 192,
   "id": "2f30f74a",
   "metadata": {},
   "outputs": [
    {
     "data": {
      "text/plain": [
       "2    13504\n",
       "1    12988\n",
       "0     5579\n",
       "Name: rango_horario, dtype: int64"
      ]
     },
     "execution_count": 192,
     "metadata": {},
     "output_type": "execute_result"
    }
   ],
   "source": [
    "sin_df['rango_horario'] = sin_df.hora.apply(lambda x: \n",
    "                                            0 if (x < 5)\n",
    "                                            else 1 if (x < 14)\n",
    "                                            else 2 if (x < 21)\n",
    "                                            else 0)\n",
    "\n",
    "sin_df.rango_horario.value_counts()\n",
    "\n",
    "# 0 -> Noche y Madrugada\n",
    "# 1 -> Mañana\n",
    "# 2 -> Tarde"
   ]
  },
  {
   "cell_type": "code",
   "execution_count": 193,
   "id": "b0743427",
   "metadata": {},
   "outputs": [
    {
     "name": "stdout",
     "output_type": "stream",
     "text": [
      "<class 'pandas.core.frame.DataFrame'>\n",
      "Int64Index: 32071 entries, 0 to 33232\n",
      "Data columns (total 23 columns):\n",
      " #   Column                  Non-Null Count  Dtype  \n",
      "---  ------                  --------------  -----  \n",
      " 0   causa                   32071 non-null  int64  \n",
      " 1   rol                     32071 non-null  object \n",
      " 2   tipo                    32071 non-null  object \n",
      " 3   sexo                    32071 non-null  int64  \n",
      " 4   edad                    32071 non-null  float64\n",
      " 5   fecha                   32071 non-null  object \n",
      " 6   hora                    32071 non-null  int32  \n",
      " 7   tipo_calle              32071 non-null  int64  \n",
      " 8   calle1                  32071 non-null  object \n",
      " 9   calle2                  32071 non-null  object \n",
      " 10  x                       32071 non-null  float64\n",
      " 11  y                       32071 non-null  float64\n",
      " 12  cantidad_victimas       32071 non-null  int64  \n",
      " 13  comuna                  32071 non-null  int32  \n",
      " 14  tipo_colision1          32071 non-null  object \n",
      " 15  participantes_acusados  32071 non-null  object \n",
      " 16  participantes_victimas  32071 non-null  object \n",
      " 17  rango_edad              32071 non-null  int64  \n",
      " 18  rango_horario           32071 non-null  int64  \n",
      " 19  fecha_norm              32071 non-null  object \n",
      " 20  d                       32071 non-null  int64  \n",
      " 21  m                       32071 non-null  int64  \n",
      " 22  a                       32071 non-null  int64  \n",
      "dtypes: float64(3), int32(2), int64(9), object(9)\n",
      "memory usage: 5.6+ MB\n"
     ]
    }
   ],
   "source": [
    "#sin_df = sin_df.dropna(subset='fecha')\n",
    "sin_df['fecha_norm'] = sin_df['fecha'].apply(crear_fecha)\n",
    "\n",
    "sin_df['d'] = sin_df['fecha_norm'].apply(dia)\n",
    "sin_df['m'] = sin_df['fecha_norm'].apply(mes)\n",
    "sin_df['a'] = sin_df['fecha_norm'].apply(anio)\n",
    "\n",
    "sin_df.info()"
   ]
  },
  {
   "cell_type": "code",
   "execution_count": 194,
   "id": "b777ec04",
   "metadata": {},
   "outputs": [
    {
     "data": {
      "text/plain": [
       "automovil                                    16212\n",
       "\"transporte publico\"                          3660\n",
       "moto                                          2543\n",
       "taxi/remis                                    2080\n",
       "camioneta                                     1400\n",
       "                                             ...  \n",
       "taxi/remis,camioneta                             1\n",
       "moto,automovil,automovil,automovil               1\n",
       "automovil,ambulancia                             1\n",
       "\"transporte de cargas / grua / volquetes\"        1\n",
       "automovil,cuatriciclo                            1\n",
       "Name: participantes_acusados, Length: 178, dtype: int64"
      ]
     },
     "execution_count": 194,
     "metadata": {},
     "output_type": "execute_result"
    }
   ],
   "source": [
    "#sin_df[['tipo_colision1','tipo','participantes_acusados','participantes_victimas']].sample(10)\n",
    "sin_df.participantes_acusados.value_counts()"
   ]
  },
  {
   "attachments": {},
   "cell_type": "markdown",
   "id": "de3a5f19",
   "metadata": {},
   "source": [
    "veo que 'participantes_victimas' contiene en casi todos los casos el mismo valor que la columna 'tipo', por lo cual no la voy a utilizar.\n",
    "en el caso de la columna 'participantes_acusados' tiene informacion diferente y tendre que limpiar la columna para poder utilizarla."
   ]
  },
  {
   "cell_type": "code",
   "execution_count": 195,
   "id": "bccc006b",
   "metadata": {},
   "outputs": [
    {
     "data": {
      "text/plain": [
       "automovil             18478\n",
       "transporte_publico     6200\n",
       "motovehiculo           3598\n",
       "camion                 2788\n",
       "otro                   1007\n",
       "Name: participantes_acusados, dtype: int64"
      ]
     },
     "execution_count": 195,
     "metadata": {},
     "output_type": "execute_result"
    }
   ],
   "source": [
    "def simplificar_acusado(ac):    \n",
    "    if ('moto' in ac):\n",
    "        return 'motovehiculo'\n",
    "    elif ('auto' in ac):\n",
    "        return 'automovil'\n",
    "    elif (('rural' in ac) | ('camion' in ac) | ('utilitario' in ac)):\n",
    "        return 'camion'\n",
    "    elif ('peaton' in ac) | ('patineta' in ac):\n",
    "        return 'otro'\n",
    "    elif ('bici' in ac):\n",
    "        return 'otro'\n",
    "    elif (('taxi' in ac) | ('remis' in ac) | ('bus' in ac) | ('publico' in ac)):\n",
    "        return 'transporte_publico'\n",
    "    elif (('transporte' in ac) | ('ambulancia' in ac) | ('fuerza' in ac) | ('tren' in ac) | ('tranvia' in ac) | ('oficial' in ac)):\n",
    "        return 'transporte_publico'\n",
    "    else:\n",
    "        return 'otro'\n",
    "\n",
    "sin_df.participantes_acusados = sin_df.participantes_acusados.apply(simplificar_acusado)\n",
    "sin_df.participantes_acusados.value_counts()"
   ]
  },
  {
   "attachments": {},
   "cell_type": "markdown",
   "id": "ce40d9ad",
   "metadata": {},
   "source": [
    "FINALIZA EL PROCESO DE LIMPIEZA"
   ]
  },
  {
   "attachments": {},
   "cell_type": "markdown",
   "id": "508f5e79",
   "metadata": {},
   "source": [
    "AGREGO DATOS DEL CLIMA DE CABA PARA SINIESTRO (utilizando como clave la fecha y hora del mismo)\n",
    "\n"
   ]
  },
  {
   "cell_type": "code",
   "execution_count": 196,
   "id": "a49014c7",
   "metadata": {},
   "outputs": [],
   "source": [
    "clima = 'clima_caba.csv'\n",
    "clima_df = pd.read_csv(clima)\n",
    "clima_df.rename(columns={'viento;;;;;;':'viento'}, inplace=True)\n",
    "\n",
    "#NO SE PORQUE AGREGA LA COLUMNA VIENTO CON ESE NOMBRE, PARA NO PERDER TIEMPO LA CORRIJO MANUALMENTE"
   ]
  },
  {
   "cell_type": "code",
   "execution_count": 197,
   "id": "baf14945",
   "metadata": {},
   "outputs": [
    {
     "data": {
      "text/html": [
       "<div>\n",
       "<style scoped>\n",
       "    .dataframe tbody tr th:only-of-type {\n",
       "        vertical-align: middle;\n",
       "    }\n",
       "\n",
       "    .dataframe tbody tr th {\n",
       "        vertical-align: top;\n",
       "    }\n",
       "\n",
       "    .dataframe thead th {\n",
       "        text-align: right;\n",
       "    }\n",
       "</style>\n",
       "<table border=\"1\" class=\"dataframe\">\n",
       "  <thead>\n",
       "    <tr style=\"text-align: right;\">\n",
       "      <th></th>\n",
       "      <th>causa</th>\n",
       "      <th>rol</th>\n",
       "      <th>tipo</th>\n",
       "      <th>sexo</th>\n",
       "      <th>edad</th>\n",
       "      <th>fecha</th>\n",
       "      <th>hora</th>\n",
       "      <th>tipo_calle</th>\n",
       "      <th>calle1</th>\n",
       "      <th>calle2</th>\n",
       "      <th>...</th>\n",
       "      <th>rango_horario</th>\n",
       "      <th>fecha_norm</th>\n",
       "      <th>d</th>\n",
       "      <th>m</th>\n",
       "      <th>a</th>\n",
       "      <th>h</th>\n",
       "      <th>temp</th>\n",
       "      <th>hum</th>\n",
       "      <th>precip</th>\n",
       "      <th>viento</th>\n",
       "    </tr>\n",
       "  </thead>\n",
       "  <tbody>\n",
       "    <tr>\n",
       "      <th>11800</th>\n",
       "      <td>0</td>\n",
       "      <td>conductor</td>\n",
       "      <td>moto</td>\n",
       "      <td>2</td>\n",
       "      <td>70.0</td>\n",
       "      <td>08-05-16</td>\n",
       "      <td>9</td>\n",
       "      <td>3</td>\n",
       "      <td>avellaneda</td>\n",
       "      <td>sin_data</td>\n",
       "      <td>...</td>\n",
       "      <td>1</td>\n",
       "      <td>[8, 5, 2016]</td>\n",
       "      <td>8</td>\n",
       "      <td>5</td>\n",
       "      <td>2016</td>\n",
       "      <td>9</td>\n",
       "      <td>14.22</td>\n",
       "      <td>85.31</td>\n",
       "      <td>0.0</td>\n",
       "      <td>5.27</td>\n",
       "    </tr>\n",
       "    <tr>\n",
       "      <th>16692</th>\n",
       "      <td>0</td>\n",
       "      <td>conductor</td>\n",
       "      <td>camioneta</td>\n",
       "      <td>1</td>\n",
       "      <td>26.0</td>\n",
       "      <td>05-06-15</td>\n",
       "      <td>9</td>\n",
       "      <td>3</td>\n",
       "      <td>culpina</td>\n",
       "      <td>primera junta</td>\n",
       "      <td>...</td>\n",
       "      <td>1</td>\n",
       "      <td>[5, 6, 2015]</td>\n",
       "      <td>5</td>\n",
       "      <td>6</td>\n",
       "      <td>2015</td>\n",
       "      <td>9</td>\n",
       "      <td>18.76</td>\n",
       "      <td>91.44</td>\n",
       "      <td>0.0</td>\n",
       "      <td>4.76</td>\n",
       "    </tr>\n",
       "    <tr>\n",
       "      <th>26511</th>\n",
       "      <td>0</td>\n",
       "      <td>conductor</td>\n",
       "      <td>taxi/remis</td>\n",
       "      <td>1</td>\n",
       "      <td>29.0</td>\n",
       "      <td>8/29/2015</td>\n",
       "      <td>5</td>\n",
       "      <td>2</td>\n",
       "      <td>santa fe av.</td>\n",
       "      <td>sin_data</td>\n",
       "      <td>...</td>\n",
       "      <td>1</td>\n",
       "      <td>[29, 8, 2015]</td>\n",
       "      <td>29</td>\n",
       "      <td>8</td>\n",
       "      <td>2015</td>\n",
       "      <td>5</td>\n",
       "      <td>14.59</td>\n",
       "      <td>96.38</td>\n",
       "      <td>0.0</td>\n",
       "      <td>5.69</td>\n",
       "    </tr>\n",
       "  </tbody>\n",
       "</table>\n",
       "<p>3 rows × 28 columns</p>\n",
       "</div>"
      ],
      "text/plain": [
       "       causa        rol        tipo  sexo  edad      fecha  hora  tipo_calle  \\\n",
       "11800      0  conductor        moto     2  70.0   08-05-16     9           3   \n",
       "16692      0  conductor   camioneta     1  26.0   05-06-15     9           3   \n",
       "26511      0  conductor  taxi/remis     1  29.0  8/29/2015     5           2   \n",
       "\n",
       "             calle1         calle2  ...  rango_horario     fecha_norm   d  m  \\\n",
       "11800    avellaneda       sin_data  ...              1   [8, 5, 2016]   8  5   \n",
       "16692       culpina  primera junta  ...              1   [5, 6, 2015]   5  6   \n",
       "26511  santa fe av.       sin_data  ...              1  [29, 8, 2015]  29  8   \n",
       "\n",
       "          a  h   temp    hum  precip viento  \n",
       "11800  2016  9  14.22  85.31     0.0   5.27  \n",
       "16692  2015  9  18.76  91.44     0.0   4.76  \n",
       "26511  2015  5  14.59  96.38     0.0   5.69  \n",
       "\n",
       "[3 rows x 28 columns]"
      ]
     },
     "execution_count": 197,
     "metadata": {},
     "output_type": "execute_result"
    }
   ],
   "source": [
    "sin_df = sin_df.merge(clima_df,how='left',left_on=['d','m','a','hora'],right_on=['d','m','a','h'])\n",
    "sin_df.sample(3)"
   ]
  },
  {
   "cell_type": "code",
   "execution_count": 198,
   "id": "1097ce3b",
   "metadata": {},
   "outputs": [
    {
     "data": {
      "text/plain": [
       "<AxesSubplot:>"
      ]
     },
     "execution_count": 198,
     "metadata": {},
     "output_type": "execute_result"
    },
    {
     "data": {
      "image/png": "[encoded data removed]",
      "text/plain": [
       "<Figure size 640x480 with 1 Axes>"
      ]
     },
     "metadata": {},
     "output_type": "display_data"
    }
   ],
   "source": [
    "sns.boxplot(sin_df[['temp','hum','viento']])"
   ]
  },
  {
   "attachments": {},
   "cell_type": "markdown",
   "id": "c360c440",
   "metadata": {},
   "source": [
    "Veo que en este caso los outliers no cambiaran en gran medida la normalización."
   ]
  },
  {
   "attachments": {},
   "cell_type": "markdown",
   "id": "a82a38be",
   "metadata": {},
   "source": [
    "Voy a categorizar las columnas viento y precip para que sean utilizables por los diferentes clasificadores"
   ]
  },
  {
   "cell_type": "code",
   "execution_count": 199,
   "id": "59e9ad10",
   "metadata": {},
   "outputs": [
    {
     "data": {
      "text/plain": [
       "<AxesSubplot:ylabel='Frequency'>"
      ]
     },
     "execution_count": 199,
     "metadata": {},
     "output_type": "execute_result"
    },
    {
     "data": {
      "image/png": "[encoded data removed]",
      "text/plain": [
       "<Figure size 640x480 with 1 Axes>"
      ]
     },
     "metadata": {},
     "output_type": "display_data"
    }
   ],
   "source": [
    "sin_df.viento.plot(kind='hist')"
   ]
  },
  {
   "cell_type": "code",
   "execution_count": 200,
   "id": "5631464d",
   "metadata": {},
   "outputs": [
    {
     "data": {
      "text/plain": [
       "1    14827\n",
       "0     9046\n",
       "2     8198\n",
       "Name: viento, dtype: int64"
      ]
     },
     "execution_count": 200,
     "metadata": {},
     "output_type": "execute_result"
    }
   ],
   "source": [
    "vmod_mask = (sin_df.loc[(sin_df.viento >= 3.7) & (sin_df.viento <= 7)]).index\n",
    "vmin_mask = (sin_df.loc[(sin_df.viento < 3.7)]).index\n",
    "vmax_mask = (sin_df.loc[(sin_df.viento > 7)]).index\n",
    "\n",
    "\n",
    "sin_df.loc[vmin_mask, 'viento'] = 0\n",
    "sin_df.loc[vmod_mask, 'viento'] = 1\n",
    "sin_df.loc[vmax_mask, 'viento'] = 2\n",
    "\n",
    "sin_df.viento = sin_df.viento.astype(int)\n",
    "\n",
    "sin_df.viento.value_counts()"
   ]
  },
  {
   "cell_type": "code",
   "execution_count": 201,
   "id": "f4f7d69e",
   "metadata": {},
   "outputs": [
    {
     "data": {
      "text/plain": [
       "1    28800\n",
       "0     3271\n",
       "Name: precip, dtype: int64"
      ]
     },
     "execution_count": 201,
     "metadata": {},
     "output_type": "execute_result"
    }
   ],
   "source": [
    "p_mask = (sin_df.loc[(sin_df.precip >= 0.1)]).index\n",
    "no_p_mask = (sin_df.loc[(sin_df.precip < 0.1)]).index\n",
    "\n",
    "sin_df.loc[p_mask, 'precip'] = 0\n",
    "sin_df.loc[no_p_mask, 'precip'] = 1\n",
    "\n",
    "sin_df.precip = sin_df.precip.astype(int)\n",
    "\n",
    "sin_df.precip.value_counts()"
   ]
  },
  {
   "cell_type": "code",
   "execution_count": 202,
   "id": "0eaee5c9",
   "metadata": {},
   "outputs": [],
   "source": [
    "sin_df['dif_clima'] = sin_df['viento'] + (2*sin_df['precip'])"
   ]
  },
  {
   "cell_type": "code",
   "execution_count": 203,
   "id": "ecfe278b",
   "metadata": {},
   "outputs": [],
   "source": [
    "# SE QUE TENGO OUTLIERS EN ESTE FEATURE, HAGO UNA ELIMINACION MANUAL DE ESTOS\n",
    "\n",
    "#sin_df.precip.sort_values(ascending=False).head(30)"
   ]
  },
  {
   "cell_type": "code",
   "execution_count": 204,
   "id": "8faa7a73",
   "metadata": {},
   "outputs": [],
   "source": [
    "#ELIMINO OUTLIERS DE PRECIPITACION PARA QUE NO INTERFIERA EN LA NORMALIZACION DEL FEATURE, CONSIDERO OUTLIERS A LOS VALORES MAYORES A 12\n",
    "#sin_df = sin_df.loc[sin_df.precip < 12]\n"
   ]
  },
  {
   "cell_type": "code",
   "execution_count": 205,
   "id": "163b6ba1",
   "metadata": {},
   "outputs": [],
   "source": [
    "#ESCALO TODOS LOS VALORES DE CLIMA OBTENIDOS ENTRE 0 y 1\n",
    "#scaler = MinMaxScaler()\n",
    "#scaled_df = scaler.fit_transform(sin_df[['temp','hum','viento','precip']])\n",
    "#sin_df[['temp','hum','viento','precip']] = scaled_df\n",
    "\n",
    "# PUEDO ESCALAR LOS VALORES O PUEDO CATEGORIZARLOS "
   ]
  },
  {
   "attachments": {},
   "cell_type": "markdown",
   "id": "74bbee5b",
   "metadata": {},
   "source": [
    "EN OTRAS ENTREGAS PUDE EXTRAER INFORMACIÓN DEL SET DE DATOS QUE APUNTABA A ENCONTRAR LOS PUNTOS CLAVE EN LOS QUE SE DABA LA MAYOR CANTIDAD DE SINIESTROS DE CADA TIPO (las calles, comunas y coordenadas mas peligrosas para cada tipo de vehiculo), ESTOS DESCUBRIMIENTOS SON LOS INSIGHTS QUE ME PARECIERON IMPORTANTES EN VISTA A PROPONER MEDIDAS QUE AYUDEN A BAJAR LA CANTIDAD DE ACCIDENTES. \n",
    "\n",
    "EN ESTA ENTREGA ME CENTRARÉ EN LA PREDICCIÓN; PARA ESTO VOY A ENTRENAR UN MODELO DE MACHINE LEARNING, HABIENDO HECHO LA SELECCIÓN DE FEATURES QUE CREA NECESARIO PARA EL CASO."
   ]
  },
  {
   "attachments": {},
   "cell_type": "markdown",
   "id": "731a6b50",
   "metadata": {},
   "source": [
    "Primero voy a predecir una variable importante desde mi punto de vista, el tipo de calle en el que se produce un siniestro, dadas las columnas elegidas como variable independiente, para el caso: \n",
    "\n",
    "'causa','tipo','rol','sexo','rango_horario','comuna','tipo_colision1','d','m','a','participantes_acusados','precip','viento','rango_edad'"
   ]
  },
  {
   "cell_type": "code",
   "execution_count": 206,
   "id": "28d129bb",
   "metadata": {},
   "outputs": [
    {
     "name": "stdout",
     "output_type": "stream",
     "text": [
      "<class 'pandas.core.frame.DataFrame'>\n",
      "Int64Index: 32071 entries, 0 to 32070\n",
      "Data columns (total 11 columns):\n",
      " #   Column                  Non-Null Count  Dtype \n",
      "---  ------                  --------------  ----- \n",
      " 0   causa                   32071 non-null  int64 \n",
      " 1   tipo                    32071 non-null  object\n",
      " 2   rol                     32071 non-null  object\n",
      " 3   rango_horario           32071 non-null  int64 \n",
      " 4   comuna                  32071 non-null  int32 \n",
      " 5   tipo_colision1          32071 non-null  object\n",
      " 6   d                       32071 non-null  int64 \n",
      " 7   m                       32071 non-null  int64 \n",
      " 8   participantes_acusados  32071 non-null  object\n",
      " 9   dif_clima               32071 non-null  int32 \n",
      " 10  rango_edad              32071 non-null  int64 \n",
      "dtypes: int32(2), int64(5), object(4)\n",
      "memory usage: 3.7+ MB\n"
     ]
    }
   ],
   "source": [
    "X = sin_df[['causa','tipo','rol','rango_horario','comuna','tipo_colision1','d','m','participantes_acusados','dif_clima','rango_edad']]\n",
    "y = sin_df['tipo_calle']\n",
    "\n",
    "X.info()"
   ]
  },
  {
   "cell_type": "code",
   "execution_count": 207,
   "id": "72984be3",
   "metadata": {},
   "outputs": [
    {
     "name": "stdout",
     "output_type": "stream",
     "text": [
      "<class 'pandas.core.frame.DataFrame'>\n",
      "Int64Index: 32071 entries, 0 to 32070\n",
      "Data columns (total 11 columns):\n",
      " #   Column                  Non-Null Count  Dtype\n",
      "---  ------                  --------------  -----\n",
      " 0   causa                   32071 non-null  int64\n",
      " 1   tipo                    32071 non-null  int32\n",
      " 2   rol                     32071 non-null  int32\n",
      " 3   rango_horario           32071 non-null  int64\n",
      " 4   comuna                  32071 non-null  int32\n",
      " 5   tipo_colision1          32071 non-null  int32\n",
      " 6   d                       32071 non-null  int64\n",
      " 7   m                       32071 non-null  int64\n",
      " 8   participantes_acusados  32071 non-null  int32\n",
      " 9   dif_clima               32071 non-null  int32\n",
      " 10  rango_edad              32071 non-null  int64\n",
      "dtypes: int32(6), int64(5)\n",
      "memory usage: 3.2 MB\n"
     ]
    },
    {
     "name": "stderr",
     "output_type": "stream",
     "text": [
      "C:\\Users\\Seguridad\\AppData\\Local\\Temp\\ipykernel_12188\\3595513836.py:8: SettingWithCopyWarning: \n",
      "A value is trying to be set on a copy of a slice from a DataFrame.\n",
      "Try using .loc[row_indexer,col_indexer] = value instead\n",
      "\n",
      "See the caveats in the documentation: https://pandas.pydata.org/pandas-docs/stable/user_guide/indexing.html#returning-a-view-versus-a-copy\n",
      "  X.rol = le.transform(X.rol)\n",
      "C:\\Users\\Seguridad\\AppData\\Local\\Temp\\ipykernel_12188\\3595513836.py:11: SettingWithCopyWarning: \n",
      "A value is trying to be set on a copy of a slice from a DataFrame.\n",
      "Try using .loc[row_indexer,col_indexer] = value instead\n",
      "\n",
      "See the caveats in the documentation: https://pandas.pydata.org/pandas-docs/stable/user_guide/indexing.html#returning-a-view-versus-a-copy\n",
      "  X.tipo_colision1 = le.transform(X.tipo_colision1)\n",
      "C:\\Users\\Seguridad\\AppData\\Local\\Temp\\ipykernel_12188\\3595513836.py:14: SettingWithCopyWarning: \n",
      "A value is trying to be set on a copy of a slice from a DataFrame.\n",
      "Try using .loc[row_indexer,col_indexer] = value instead\n",
      "\n",
      "See the caveats in the documentation: https://pandas.pydata.org/pandas-docs/stable/user_guide/indexing.html#returning-a-view-versus-a-copy\n",
      "  X.participantes_acusados = le.transform(X.participantes_acusados)\n",
      "C:\\Users\\Seguridad\\AppData\\Local\\Temp\\ipykernel_12188\\3595513836.py:17: SettingWithCopyWarning: \n",
      "A value is trying to be set on a copy of a slice from a DataFrame.\n",
      "Try using .loc[row_indexer,col_indexer] = value instead\n",
      "\n",
      "See the caveats in the documentation: https://pandas.pydata.org/pandas-docs/stable/user_guide/indexing.html#returning-a-view-versus-a-copy\n",
      "  X.tipo = le.transform(X.tipo)\n"
     ]
    }
   ],
   "source": [
    "#X = pd.get_dummies(X)\n",
    "from sklearn.preprocessing import LabelEncoder\n",
    "\n",
    "sin_df['causa'] = sin_df.causa.astype(int)\n",
    "\n",
    "le = LabelEncoder()\n",
    "le.fit(X.rol)\n",
    "X.rol = le.transform(X.rol)\n",
    "\n",
    "le.fit(X.tipo_colision1)\n",
    "X.tipo_colision1 = le.transform(X.tipo_colision1)\n",
    "\n",
    "le.fit(X.participantes_acusados)\n",
    "X.participantes_acusados = le.transform(X.participantes_acusados)\n",
    "\n",
    "le.fit(X.tipo)\n",
    "X.tipo = le.transform(X.tipo)\n",
    "\n",
    "X.info()\n"
   ]
  },
  {
   "cell_type": "code",
   "execution_count": 208,
   "id": "12e9ff0b",
   "metadata": {},
   "outputs": [],
   "source": [
    "X_train, X_test, y_train, y_test = train_test_split(\n",
    "                                        X,\n",
    "                                        y.values.reshape(-1,1),\n",
    "                                        train_size   = 0.7,\n",
    "                                        random_state = 1234,\n",
    "                                        shuffle      = True\n",
    "                                    )"
   ]
  },
  {
   "cell_type": "code",
   "execution_count": 115,
   "id": "978f8b66",
   "metadata": {},
   "outputs": [
    {
     "name": "stderr",
     "output_type": "stream",
     "text": [
      "C:\\Users\\Seguridad\\AppData\\Local\\Temp\\ipykernel_12188\\1080219172.py:4: DataConversionWarning: A column-vector y was passed when a 1d array was expected. Please change the shape of y to (n_samples,), for example using ravel().\n",
      "  modelo_rf.fit(X_train, y_train)\n"
     ]
    },
    {
     "name": "stdout",
     "output_type": "stream",
     "text": [
      "% de aciertos sobre el set de entrenamiento: 69.85166377121476\n",
      "% de aciertos sobre el set de evaluación: 66.08813136562046\n"
     ]
    }
   ],
   "source": [
    "from sklearn.ensemble import RandomForestClassifier\n",
    "\n",
    "modelo_rf = RandomForestClassifier(n_estimators=1000, max_depth=10, random_state=42)\n",
    "modelo_rf.fit(X_train, y_train)\n",
    "\n",
    "y_train_pred = modelo_rf.predict(X_train)\n",
    "y_test_pred = modelo_rf.predict(X_test)\n",
    "\n",
    "train_accuracy = accuracy_score(y_train, y_train_pred)\n",
    "print('% de aciertos sobre el set de entrenamiento:',train_accuracy*100)\n",
    "\n",
    "test_accuracy = accuracy_score(y_test, y_test_pred)\n",
    "print('% de aciertos sobre el set de evaluación:',test_accuracy*100)"
   ]
  },
  {
   "attachments": {},
   "cell_type": "markdown",
   "id": "8e44e85e",
   "metadata": {},
   "source": [
    "Es un buen resultado, voy a compararlo con otro algoritmo, utilizando las mismas variables X e y "
   ]
  },
  {
   "cell_type": "code",
   "execution_count": 116,
   "id": "1d806579",
   "metadata": {},
   "outputs": [
    {
     "name": "stderr",
     "output_type": "stream",
     "text": [
      "c:\\ProgramData\\Miniconda3\\lib\\site-packages\\sklearn\\preprocessing\\_label.py:115: DataConversionWarning: A column-vector y was passed when a 1d array was expected. Please change the shape of y to (n_samples, ), for example using ravel().\n",
      "  y = column_or_1d(y, warn=True)\n"
     ]
    },
    {
     "name": "stdout",
     "output_type": "stream",
     "text": [
      "% de aciertos sobre el set de entrenamiento: 69.43739142055325\n",
      "% de aciertos sobre el set de evaluación: 65.85948867179381\n"
     ]
    }
   ],
   "source": [
    "import xgboost as xgb\n",
    "from sklearn.preprocessing import LabelEncoder\n",
    "\n",
    "le = LabelEncoder()\n",
    "\n",
    "y_train = le.fit_transform(y_train)\n",
    "y_test = le.fit_transform(y_test)\n",
    "\n",
    "modelo_xgb = xgb.XGBClassifier(learning_rate=0.1, n_estimators=100, max_depth=5, random_state=42)\n",
    "modelo_xgb.fit(X_train, y_train)\n",
    "\n",
    "y_train_pred = modelo_xgb.predict(X_train)\n",
    "y_test_pred = modelo_xgb.predict(X_test)\n",
    "\n",
    "train_accuracy = accuracy_score(y_train, y_train_pred)\n",
    "print('% de aciertos sobre el set de entrenamiento:',train_accuracy*100)\n",
    "\n",
    "test_accuracy = accuracy_score(y_test, y_test_pred)\n",
    "print('% de aciertos sobre el set de evaluación:',test_accuracy*100)"
   ]
  },
  {
   "cell_type": "code",
   "execution_count": 117,
   "id": "5298e0a7",
   "metadata": {},
   "outputs": [
    {
     "name": "stdout",
     "output_type": "stream",
     "text": [
      "Precisión: 0.3974972221079967\n",
      "Exactitud: 0.6585948867179381\n",
      "Puntuación F1: 0.32094394788298447\n"
     ]
    },
    {
     "name": "stderr",
     "output_type": "stream",
     "text": [
      "c:\\ProgramData\\Miniconda3\\lib\\site-packages\\sklearn\\metrics\\_classification.py:1334: UndefinedMetricWarning: Precision is ill-defined and being set to 0.0 in labels with no predicted samples. Use `zero_division` parameter to control this behavior.\n",
      "  _warn_prf(average, modifier, msg_start, len(result))\n"
     ]
    }
   ],
   "source": [
    "from sklearn.metrics import precision_score, accuracy_score, f1_score\n",
    "\n",
    "precision = precision_score(y_test, y_test_pred, average='macro')\n",
    "\n",
    "accuracy = accuracy_score(y_test, y_test_pred)\n",
    "\n",
    "f1 = f1_score(y_test, y_test_pred, average='macro')\n",
    "\n",
    "print(\"Precisión:\", precision)\n",
    "print(\"Exactitud:\", accuracy)\n",
    "#print(\"Puntuación F1:\", f1)  COMO LA CLASE NO ES BINARIA NI ESTA DESEQUILIBRADA, LO SACO"
   ]
  },
  {
   "attachments": {},
   "cell_type": "markdown",
   "id": "8f6c51c5",
   "metadata": {},
   "source": [
    "El resultado de la predicción es muy similar utilizando ambos algoritmos, voy a utilizar los consejos recibidos en la 2da preentrega del proyecto final para intentar mejorar estos numeros"
   ]
  },
  {
   "attachments": {},
   "cell_type": "markdown",
   "id": "eb830b53",
   "metadata": {},
   "source": [
    "EN LA CORRECCIÓN DE LA ENTREGA ANTERIOR, RECIBÍ MUY BUENOS CONSEJOS SOBRE ELEGIR MEJOR MIS FEATURES Y AJUSTAR BIEN LOS HIPERPARAMETROS, EN ESTE CASO VOY A APLICAR EL PRIMERO DE LOS CONSEJOS YA QUE EN LA SUBSIGUIENTE ENTREGA HARE EL AJUSTE DE HIPERPARAMETROS USANDO CROSSVALIDATION, EN ESTE CASO SOLO INTENTARE MEJORARLOS MANUALMENTE.\n",
    "\n",
    "Como pide la entrega N° 14, COMENZARÉ CON EL FILTRADO DE FEATURES."
   ]
  },
  {
   "cell_type": "code",
   "execution_count": 73,
   "id": "fb419522",
   "metadata": {},
   "outputs": [
    {
     "data": {
      "text/html": [
       "<div>\n",
       "<style scoped>\n",
       "    .dataframe tbody tr th:only-of-type {\n",
       "        vertical-align: middle;\n",
       "    }\n",
       "\n",
       "    .dataframe tbody tr th {\n",
       "        vertical-align: top;\n",
       "    }\n",
       "\n",
       "    .dataframe thead th {\n",
       "        text-align: right;\n",
       "    }\n",
       "</style>\n",
       "<table border=\"1\" class=\"dataframe\">\n",
       "  <thead>\n",
       "    <tr style=\"text-align: right;\">\n",
       "      <th></th>\n",
       "      <th>feature</th>\n",
       "      <th>imp</th>\n",
       "    </tr>\n",
       "  </thead>\n",
       "  <tbody>\n",
       "    <tr>\n",
       "      <th>5</th>\n",
       "      <td>comuna</td>\n",
       "      <td>0.148787</td>\n",
       "    </tr>\n",
       "    <tr>\n",
       "      <th>7</th>\n",
       "      <td>d</td>\n",
       "      <td>0.143873</td>\n",
       "    </tr>\n",
       "    <tr>\n",
       "      <th>8</th>\n",
       "      <td>m</td>\n",
       "      <td>0.112145</td>\n",
       "    </tr>\n",
       "    <tr>\n",
       "      <th>6</th>\n",
       "      <td>tipo_colision1</td>\n",
       "      <td>0.094969</td>\n",
       "    </tr>\n",
       "    <tr>\n",
       "      <th>1</th>\n",
       "      <td>tipo</td>\n",
       "      <td>0.082172</td>\n",
       "    </tr>\n",
       "    <tr>\n",
       "      <th>10</th>\n",
       "      <td>participantes_acusados</td>\n",
       "      <td>0.071273</td>\n",
       "    </tr>\n",
       "    <tr>\n",
       "      <th>12</th>\n",
       "      <td>rango_edad</td>\n",
       "      <td>0.066708</td>\n",
       "    </tr>\n",
       "    <tr>\n",
       "      <th>11</th>\n",
       "      <td>dif_clima</td>\n",
       "      <td>0.065827</td>\n",
       "    </tr>\n",
       "    <tr>\n",
       "      <th>2</th>\n",
       "      <td>rol</td>\n",
       "      <td>0.060879</td>\n",
       "    </tr>\n",
       "    <tr>\n",
       "      <th>9</th>\n",
       "      <td>a</td>\n",
       "      <td>0.058350</td>\n",
       "    </tr>\n",
       "    <tr>\n",
       "      <th>4</th>\n",
       "      <td>rango_horario</td>\n",
       "      <td>0.051049</td>\n",
       "    </tr>\n",
       "    <tr>\n",
       "      <th>3</th>\n",
       "      <td>sexo</td>\n",
       "      <td>0.031931</td>\n",
       "    </tr>\n",
       "    <tr>\n",
       "      <th>0</th>\n",
       "      <td>causa</td>\n",
       "      <td>0.012037</td>\n",
       "    </tr>\n",
       "  </tbody>\n",
       "</table>\n",
       "</div>"
      ],
      "text/plain": [
       "                   feature       imp\n",
       "5                   comuna  0.148787\n",
       "7                        d  0.143873\n",
       "8                        m  0.112145\n",
       "6           tipo_colision1  0.094969\n",
       "1                     tipo  0.082172\n",
       "10  participantes_acusados  0.071273\n",
       "12              rango_edad  0.066708\n",
       "11               dif_clima  0.065827\n",
       "2                      rol  0.060879\n",
       "9                        a  0.058350\n",
       "4            rango_horario  0.051049\n",
       "3                     sexo  0.031931\n",
       "0                    causa  0.012037"
      ]
     },
     "execution_count": 73,
     "metadata": {},
     "output_type": "execute_result"
    }
   ],
   "source": [
    "#CON VARIABLE 'dif_clima'\n",
    "\n",
    "importancia = pd.DataFrame()\n",
    "importancia['feature'] = pd.Series(X.columns)\n",
    "importancia['imp'] = modelo_rf.feature_importances_\n",
    "importancia.sort_values(by='imp', ascending=False)"
   ]
  },
  {
   "attachments": {},
   "cell_type": "markdown",
   "id": "a786e449",
   "metadata": {},
   "source": [
    "Esta es la importancia de los features para el modelo de random forest en la predicción del TIPO DE CALLE. Voy a utilizarla como una guia para mi filtrado de features."
   ]
  },
  {
   "attachments": {},
   "cell_type": "markdown",
   "id": "6a485ce8",
   "metadata": {},
   "source": [
    "UTILIZANDO COMO AYUDA EL FEATURE IMPORTANCE, PRIMERO FILTRARE LOS FEATURES QUE MENOS DATOS APORTEN."
   ]
  },
  {
   "attachments": {},
   "cell_type": "markdown",
   "id": "77118cc2",
   "metadata": {},
   "source": [
    "Agregaré una columna que indique si el accidente se produjo en un fin de semana."
   ]
  },
  {
   "cell_type": "code",
   "execution_count": 209,
   "id": "82fc39eb",
   "metadata": {},
   "outputs": [
    {
     "data": {
      "text/html": [
       "<div>\n",
       "<style scoped>\n",
       "    .dataframe tbody tr th:only-of-type {\n",
       "        vertical-align: middle;\n",
       "    }\n",
       "\n",
       "    .dataframe tbody tr th {\n",
       "        vertical-align: top;\n",
       "    }\n",
       "\n",
       "    .dataframe thead th {\n",
       "        text-align: right;\n",
       "    }\n",
       "</style>\n",
       "<table border=\"1\" class=\"dataframe\">\n",
       "  <thead>\n",
       "    <tr style=\"text-align: right;\">\n",
       "      <th></th>\n",
       "      <th>a</th>\n",
       "      <th>m</th>\n",
       "      <th>d</th>\n",
       "      <th>fecha</th>\n",
       "      <th>nom_dia</th>\n",
       "    </tr>\n",
       "  </thead>\n",
       "  <tbody>\n",
       "    <tr>\n",
       "      <th>22077</th>\n",
       "      <td>2017</td>\n",
       "      <td>8</td>\n",
       "      <td>8</td>\n",
       "      <td>2017-08-08</td>\n",
       "      <td>Tuesday</td>\n",
       "    </tr>\n",
       "    <tr>\n",
       "      <th>20881</th>\n",
       "      <td>2016</td>\n",
       "      <td>12</td>\n",
       "      <td>16</td>\n",
       "      <td>2016-12-16</td>\n",
       "      <td>Friday</td>\n",
       "    </tr>\n",
       "    <tr>\n",
       "      <th>3377</th>\n",
       "      <td>2016</td>\n",
       "      <td>5</td>\n",
       "      <td>23</td>\n",
       "      <td>2016-05-23</td>\n",
       "      <td>Monday</td>\n",
       "    </tr>\n",
       "  </tbody>\n",
       "</table>\n",
       "</div>"
      ],
      "text/plain": [
       "          a   m   d      fecha  nom_dia\n",
       "22077  2017   8   8 2017-08-08  Tuesday\n",
       "20881  2016  12  16 2016-12-16   Friday\n",
       "3377   2016   5  23 2016-05-23   Monday"
      ]
     },
     "execution_count": 209,
     "metadata": {},
     "output_type": "execute_result"
    }
   ],
   "source": [
    "from datetime import datetime\n",
    "\n",
    "sin_df['fecha_norm'] = sin_df['d'].astype(str) + '-' + sin_df['m'].astype(str) + '-' + sin_df['a'].astype(str)\n",
    "sin_df['fecha'] = pd.to_datetime(sin_df['fecha_norm'],format='%d-%m-%Y', errors='coerce')\n",
    "\n",
    "sin_df['nom_dia'] = sin_df['fecha'].dt.strftime('%A')\n",
    "\n",
    "sin_df[['a','m','d','fecha','nom_dia']].sample(3)"
   ]
  },
  {
   "cell_type": "code",
   "execution_count": 210,
   "id": "9951f40e",
   "metadata": {},
   "outputs": [
    {
     "data": {
      "text/plain": [
       "0"
      ]
     },
     "execution_count": 210,
     "metadata": {},
     "output_type": "execute_result"
    }
   ],
   "source": [
    "sin_df.nom_dia.isnull().sum()"
   ]
  },
  {
   "attachments": {},
   "cell_type": "markdown",
   "id": "4c11f918",
   "metadata": {},
   "source": [
    "Con este sample corroboré que los días esten bien agregados."
   ]
  },
  {
   "cell_type": "code",
   "execution_count": 211,
   "id": "eaea6743",
   "metadata": {},
   "outputs": [],
   "source": [
    "mask = (sin_df.loc[(sin_df.nom_dia == 'Sunday') | (sin_df.nom_dia == 'Saturday')]).index"
   ]
  },
  {
   "cell_type": "code",
   "execution_count": 212,
   "id": "5df46ec1",
   "metadata": {},
   "outputs": [
    {
     "data": {
      "text/html": [
       "<div>\n",
       "<style scoped>\n",
       "    .dataframe tbody tr th:only-of-type {\n",
       "        vertical-align: middle;\n",
       "    }\n",
       "\n",
       "    .dataframe tbody tr th {\n",
       "        vertical-align: top;\n",
       "    }\n",
       "\n",
       "    .dataframe thead th {\n",
       "        text-align: right;\n",
       "    }\n",
       "</style>\n",
       "<table border=\"1\" class=\"dataframe\">\n",
       "  <thead>\n",
       "    <tr style=\"text-align: right;\">\n",
       "      <th></th>\n",
       "      <th>fecha</th>\n",
       "      <th>nom_dia</th>\n",
       "      <th>finde</th>\n",
       "    </tr>\n",
       "  </thead>\n",
       "  <tbody>\n",
       "    <tr>\n",
       "      <th>7976</th>\n",
       "      <td>2015-01-05</td>\n",
       "      <td>Monday</td>\n",
       "      <td>0</td>\n",
       "    </tr>\n",
       "    <tr>\n",
       "      <th>11968</th>\n",
       "      <td>2016-08-29</td>\n",
       "      <td>Monday</td>\n",
       "      <td>0</td>\n",
       "    </tr>\n",
       "    <tr>\n",
       "      <th>21511</th>\n",
       "      <td>2017-08-04</td>\n",
       "      <td>Friday</td>\n",
       "      <td>0</td>\n",
       "    </tr>\n",
       "    <tr>\n",
       "      <th>28351</th>\n",
       "      <td>2016-01-10</td>\n",
       "      <td>Sunday</td>\n",
       "      <td>1</td>\n",
       "    </tr>\n",
       "    <tr>\n",
       "      <th>21736</th>\n",
       "      <td>2017-12-05</td>\n",
       "      <td>Tuesday</td>\n",
       "      <td>0</td>\n",
       "    </tr>\n",
       "    <tr>\n",
       "      <th>18950</th>\n",
       "      <td>2016-02-21</td>\n",
       "      <td>Sunday</td>\n",
       "      <td>1</td>\n",
       "    </tr>\n",
       "    <tr>\n",
       "      <th>28150</th>\n",
       "      <td>2016-08-30</td>\n",
       "      <td>Tuesday</td>\n",
       "      <td>0</td>\n",
       "    </tr>\n",
       "    <tr>\n",
       "      <th>28469</th>\n",
       "      <td>2016-10-19</td>\n",
       "      <td>Wednesday</td>\n",
       "      <td>0</td>\n",
       "    </tr>\n",
       "    <tr>\n",
       "      <th>13402</th>\n",
       "      <td>2017-04-18</td>\n",
       "      <td>Tuesday</td>\n",
       "      <td>0</td>\n",
       "    </tr>\n",
       "    <tr>\n",
       "      <th>21766</th>\n",
       "      <td>2017-05-16</td>\n",
       "      <td>Tuesday</td>\n",
       "      <td>0</td>\n",
       "    </tr>\n",
       "  </tbody>\n",
       "</table>\n",
       "</div>"
      ],
      "text/plain": [
       "           fecha    nom_dia  finde\n",
       "7976  2015-01-05     Monday      0\n",
       "11968 2016-08-29     Monday      0\n",
       "21511 2017-08-04     Friday      0\n",
       "28351 2016-01-10     Sunday      1\n",
       "21736 2017-12-05    Tuesday      0\n",
       "18950 2016-02-21     Sunday      1\n",
       "28150 2016-08-30    Tuesday      0\n",
       "28469 2016-10-19  Wednesday      0\n",
       "13402 2017-04-18    Tuesday      0\n",
       "21766 2017-05-16    Tuesday      0"
      ]
     },
     "execution_count": 212,
     "metadata": {},
     "output_type": "execute_result"
    }
   ],
   "source": [
    "sin_df.loc[mask, 'finde'] = 1\n",
    "sin_df.loc[sin_df.finde!=1, 'finde'] = 0\n",
    "sin_df.finde = sin_df.finde.astype(int)\n",
    "sin_df[['fecha','nom_dia','finde']].sample(10)"
   ]
  },
  {
   "cell_type": "code",
   "execution_count": 213,
   "id": "8d93c8d0",
   "metadata": {},
   "outputs": [],
   "source": [
    "#sin_df = sin_df.drop(columns={'nom_dia','fecha','fecha_norm','a'})"
   ]
  },
  {
   "cell_type": "code",
   "execution_count": 214,
   "id": "cf8c06c1",
   "metadata": {},
   "outputs": [
    {
     "name": "stdout",
     "output_type": "stream",
     "text": [
      "<class 'pandas.core.frame.DataFrame'>\n",
      "Int64Index: 32071 entries, 0 to 32070\n",
      "Data columns (total 31 columns):\n",
      " #   Column                  Non-Null Count  Dtype         \n",
      "---  ------                  --------------  -----         \n",
      " 0   causa                   32071 non-null  int32         \n",
      " 1   rol                     32071 non-null  object        \n",
      " 2   tipo                    32071 non-null  object        \n",
      " 3   sexo                    32071 non-null  int64         \n",
      " 4   edad                    32071 non-null  float64       \n",
      " 5   fecha                   32071 non-null  datetime64[ns]\n",
      " 6   hora                    32071 non-null  int32         \n",
      " 7   tipo_calle              32071 non-null  int64         \n",
      " 8   calle1                  32071 non-null  object        \n",
      " 9   calle2                  32071 non-null  object        \n",
      " 10  x                       32071 non-null  float64       \n",
      " 11  y                       32071 non-null  float64       \n",
      " 12  cantidad_victimas       32071 non-null  int64         \n",
      " 13  comuna                  32071 non-null  int32         \n",
      " 14  tipo_colision1          32071 non-null  object        \n",
      " 15  participantes_acusados  32071 non-null  object        \n",
      " 16  participantes_victimas  32071 non-null  object        \n",
      " 17  rango_edad              32071 non-null  int64         \n",
      " 18  rango_horario           32071 non-null  int64         \n",
      " 19  fecha_norm              32071 non-null  object        \n",
      " 20  d                       32071 non-null  int64         \n",
      " 21  m                       32071 non-null  int64         \n",
      " 22  a                       32071 non-null  int64         \n",
      " 23  h                       32071 non-null  int64         \n",
      " 24  temp                    32071 non-null  float64       \n",
      " 25  hum                     32071 non-null  float64       \n",
      " 26  precip                  32071 non-null  int32         \n",
      " 27  viento                  32071 non-null  int32         \n",
      " 28  dif_clima               32071 non-null  int32         \n",
      " 29  nom_dia                 32071 non-null  object        \n",
      " 30  finde                   32071 non-null  int32         \n",
      "dtypes: datetime64[ns](1), float64(5), int32(7), int64(9), object(9)\n",
      "memory usage: 8.0+ MB\n"
     ]
    }
   ],
   "source": [
    "sin_df.info()"
   ]
  },
  {
   "attachments": {},
   "cell_type": "markdown",
   "id": "9b8fbb2d",
   "metadata": {},
   "source": [
    "Casteo mis columnas"
   ]
  },
  {
   "cell_type": "code",
   "execution_count": 215,
   "id": "892044b9",
   "metadata": {},
   "outputs": [],
   "source": [
    "sin_df.d = sin_df.d.astype(int)\n",
    "sin_df.m = sin_df.m.astype(int)\n",
    "sin_df.rango_edad = sin_df.rango_edad.astype(int)\n",
    "sin_df.rango_horario = sin_df.rango_horario.astype(int)"
   ]
  },
  {
   "cell_type": "code",
   "execution_count": 218,
   "id": "e389f0f3",
   "metadata": {},
   "outputs": [],
   "source": [
    "X = sin_df[['dif_clima','comuna','rol','d','nom_dia','m','tipo_colision1','rango_edad','participantes_acusados','rango_horario','finde','x','y']]\n",
    "y = sin_df['tipo_calle']"
   ]
  },
  {
   "cell_type": "code",
   "execution_count": 219,
   "id": "57a529a7",
   "metadata": {},
   "outputs": [
    {
     "name": "stdout",
     "output_type": "stream",
     "text": [
      "<class 'pandas.core.frame.DataFrame'>\n",
      "Int64Index: 32071 entries, 0 to 32070\n",
      "Data columns (total 13 columns):\n",
      " #   Column                  Non-Null Count  Dtype  \n",
      "---  ------                  --------------  -----  \n",
      " 0   dif_clima               32071 non-null  int32  \n",
      " 1   comuna                  32071 non-null  int32  \n",
      " 2   rol                     32071 non-null  int32  \n",
      " 3   d                       32071 non-null  int32  \n",
      " 4   nom_dia                 32071 non-null  int32  \n",
      " 5   m                       32071 non-null  int32  \n",
      " 6   tipo_colision1          32071 non-null  int32  \n",
      " 7   rango_edad              32071 non-null  int32  \n",
      " 8   participantes_acusados  32071 non-null  int32  \n",
      " 9   rango_horario           32071 non-null  int32  \n",
      " 10  finde                   32071 non-null  int32  \n",
      " 11  x                       32071 non-null  float64\n",
      " 12  y                       32071 non-null  float64\n",
      "dtypes: float64(2), int32(11)\n",
      "memory usage: 3.1 MB\n"
     ]
    },
    {
     "name": "stderr",
     "output_type": "stream",
     "text": [
      "C:\\Users\\Seguridad\\AppData\\Local\\Temp\\ipykernel_12188\\1380505002.py:2: SettingWithCopyWarning: \n",
      "A value is trying to be set on a copy of a slice from a DataFrame.\n",
      "Try using .loc[row_indexer,col_indexer] = value instead\n",
      "\n",
      "See the caveats in the documentation: https://pandas.pydata.org/pandas-docs/stable/user_guide/indexing.html#returning-a-view-versus-a-copy\n",
      "  X.tipo_colision1 = le.transform(X.tipo_colision1)\n",
      "C:\\Users\\Seguridad\\AppData\\Local\\Temp\\ipykernel_12188\\1380505002.py:5: SettingWithCopyWarning: \n",
      "A value is trying to be set on a copy of a slice from a DataFrame.\n",
      "Try using .loc[row_indexer,col_indexer] = value instead\n",
      "\n",
      "See the caveats in the documentation: https://pandas.pydata.org/pandas-docs/stable/user_guide/indexing.html#returning-a-view-versus-a-copy\n",
      "  X.nom_dia = le.transform(X.nom_dia)\n",
      "C:\\Users\\Seguridad\\AppData\\Local\\Temp\\ipykernel_12188\\1380505002.py:8: SettingWithCopyWarning: \n",
      "A value is trying to be set on a copy of a slice from a DataFrame.\n",
      "Try using .loc[row_indexer,col_indexer] = value instead\n",
      "\n",
      "See the caveats in the documentation: https://pandas.pydata.org/pandas-docs/stable/user_guide/indexing.html#returning-a-view-versus-a-copy\n",
      "  X.rol = le.transform(X.rol)\n",
      "C:\\Users\\Seguridad\\AppData\\Local\\Temp\\ipykernel_12188\\1380505002.py:11: SettingWithCopyWarning: \n",
      "A value is trying to be set on a copy of a slice from a DataFrame.\n",
      "Try using .loc[row_indexer,col_indexer] = value instead\n",
      "\n",
      "See the caveats in the documentation: https://pandas.pydata.org/pandas-docs/stable/user_guide/indexing.html#returning-a-view-versus-a-copy\n",
      "  X.participantes_acusados = le.transform(X.participantes_acusados)\n"
     ]
    }
   ],
   "source": [
    "le.fit(X.tipo_colision1)\n",
    "X.tipo_colision1 = le.transform(X.tipo_colision1)\n",
    "\n",
    "le.fit(X.nom_dia)\n",
    "X.nom_dia = le.transform(X.nom_dia)\n",
    "\n",
    "le.fit(X.rol)\n",
    "X.rol = le.transform(X.rol)\n",
    "\n",
    "le.fit(X.participantes_acusados)\n",
    "X.participantes_acusados = le.transform(X.participantes_acusados)\n",
    "\n",
    "X.info()"
   ]
  },
  {
   "cell_type": "code",
   "execution_count": 220,
   "id": "a4a453d5",
   "metadata": {},
   "outputs": [],
   "source": [
    "X_train, X_test, y_train, y_test = train_test_split(\n",
    "                                        X,\n",
    "                                        y.values.reshape(-1,1),\n",
    "                                        train_size   = 0.7,\n",
    "                                        random_state = 1234,\n",
    "                                        shuffle      = True\n",
    "                                    )"
   ]
  },
  {
   "attachments": {},
   "cell_type": "markdown",
   "id": "02b1979f",
   "metadata": {},
   "source": [
    "Para realizar la comparación con el modelo anterior, utilizo los mismos hiperparametros"
   ]
  },
  {
   "cell_type": "code",
   "execution_count": 221,
   "id": "58f3e094",
   "metadata": {},
   "outputs": [
    {
     "name": "stderr",
     "output_type": "stream",
     "text": [
      "C:\\Users\\Seguridad\\AppData\\Local\\Temp\\ipykernel_12188\\1080219172.py:4: DataConversionWarning: A column-vector y was passed when a 1d array was expected. Please change the shape of y to (n_samples,), for example using ravel().\n",
      "  modelo_rf.fit(X_train, y_train)\n"
     ]
    },
    {
     "name": "stdout",
     "output_type": "stream",
     "text": [
      "% de aciertos sobre el set de entrenamiento: 69.99420909617355\n",
      "% de aciertos sobre el set de evaluación: 66.86759509457492\n"
     ]
    }
   ],
   "source": [
    "from sklearn.ensemble import RandomForestClassifier\n",
    "\n",
    "modelo_rf = RandomForestClassifier(n_estimators=1000, max_depth=10, random_state=42)\n",
    "modelo_rf.fit(X_train, y_train)\n",
    "\n",
    "y_train_pred = modelo_rf.predict(X_train)\n",
    "y_test_pred = modelo_rf.predict(X_test)\n",
    "\n",
    "train_accuracy = accuracy_score(y_train, y_train_pred)\n",
    "print('% de aciertos sobre el set de entrenamiento:',train_accuracy*100)\n",
    "\n",
    "test_accuracy = accuracy_score(y_test, y_test_pred)\n",
    "print('% de aciertos sobre el set de evaluación:',test_accuracy*100)"
   ]
  },
  {
   "cell_type": "code",
   "execution_count": 222,
   "id": "63ff5b61",
   "metadata": {},
   "outputs": [
    {
     "name": "stderr",
     "output_type": "stream",
     "text": [
      "c:\\ProgramData\\Miniconda3\\lib\\site-packages\\sklearn\\preprocessing\\_label.py:115: DataConversionWarning: A column-vector y was passed when a 1d array was expected. Please change the shape of y to (n_samples, ), for example using ravel().\n",
      "  y = column_or_1d(y, warn=True)\n"
     ]
    },
    {
     "name": "stdout",
     "output_type": "stream",
     "text": [
      "% de aciertos sobre el set de entrenamiento: 75.18820437435966\n",
      "% de aciertos sobre el set de evaluación: 72.9058407815423\n"
     ]
    }
   ],
   "source": [
    "import xgboost as xgb\n",
    "\n",
    "le = LabelEncoder()\n",
    "\n",
    "y_train = le.fit_transform(y_train)\n",
    "y_test = le.fit_transform(y_test)\n",
    "\n",
    "modelo_xgb = xgb.XGBClassifier(learning_rate=0.01, n_estimators=100, max_depth=3, random_state=42)\n",
    "modelo_xgb.fit(X_train, y_train)\n",
    "\n",
    "y_train_pred = modelo_xgb.predict(X_train)\n",
    "y_test_pred = modelo_xgb.predict(X_test)\n",
    "\n",
    "train_accuracy = accuracy_score(y_train, y_train_pred)\n",
    "print('% de aciertos sobre el set de entrenamiento:',train_accuracy*100)\n",
    "\n",
    "test_accuracy = accuracy_score(y_test, y_test_pred)\n",
    "print('% de aciertos sobre el set de evaluación:',test_accuracy*100)"
   ]
  },
  {
   "attachments": {},
   "cell_type": "markdown",
   "id": "8977466c",
   "metadata": {},
   "source": [
    "EN PRINCIPIO LOS RESULTADOS NO MEJORAN SIGNIFICATIVAMENTE AGREGANDO LA COLUMNA \"finde\""
   ]
  },
  {
   "cell_type": "code",
   "execution_count": 223,
   "id": "dad4b839",
   "metadata": {},
   "outputs": [
    {
     "name": "stdout",
     "output_type": "stream",
     "text": [
      "Precisión: 0.7689960542508786\n",
      "Exactitud: 0.729058407815423\n",
      "Puntuación F1: 0.598060187546174\n"
     ]
    }
   ],
   "source": [
    "from sklearn.metrics import precision_score, accuracy_score, f1_score\n",
    "\n",
    "precision = precision_score(y_test, y_test_pred, average='macro')\n",
    "\n",
    "accuracy = accuracy_score(y_test, y_test_pred)\n",
    "\n",
    "f1 = f1_score(y_test, y_test_pred, average='macro')\n",
    "\n",
    "print(\"Precisión:\", precision)\n",
    "print(\"Exactitud:\", accuracy)\n",
    "print(\"Puntuación F1:\", f1)"
   ]
  },
  {
   "attachments": {},
   "cell_type": "markdown",
   "id": "e6156349",
   "metadata": {},
   "source": [
    "ES IMPORTANTE DESTACAR, QUE EN ESTE MODELO, AL FILTRAR VARIABLES (que en principio no tenian un gran peso en el algoritmo según el feature importance) BAJA CONSIDERABLEMENTE LA PRECISIÓN, Y TAMBIÉN BAJA, EN MENOR MEDIDA, EL F1 SCORE.\n",
    "\n",
    "TENIENDO EN CUENTA QUE LA EXACTITUD ES MUY SIMILAR LUEGO DEL FILTRADO DE FEAUTRES, CONCLUYO QUE EN ESTE CASO NO MEJORO MIS RESULTADOS. "
   ]
  },
  {
   "cell_type": "code",
   "execution_count": 224,
   "id": "1a4906a6",
   "metadata": {},
   "outputs": [
    {
     "data": {
      "text/html": [
       "<div>\n",
       "<style scoped>\n",
       "    .dataframe tbody tr th:only-of-type {\n",
       "        vertical-align: middle;\n",
       "    }\n",
       "\n",
       "    .dataframe tbody tr th {\n",
       "        vertical-align: top;\n",
       "    }\n",
       "\n",
       "    .dataframe thead th {\n",
       "        text-align: right;\n",
       "    }\n",
       "</style>\n",
       "<table border=\"1\" class=\"dataframe\">\n",
       "  <thead>\n",
       "    <tr style=\"text-align: right;\">\n",
       "      <th></th>\n",
       "      <th>feature</th>\n",
       "      <th>imp</th>\n",
       "    </tr>\n",
       "  </thead>\n",
       "  <tbody>\n",
       "    <tr>\n",
       "      <th>6</th>\n",
       "      <td>tipo_colision1</td>\n",
       "      <td>0.166049</td>\n",
       "    </tr>\n",
       "    <tr>\n",
       "      <th>1</th>\n",
       "      <td>comuna</td>\n",
       "      <td>0.153083</td>\n",
       "    </tr>\n",
       "    <tr>\n",
       "      <th>11</th>\n",
       "      <td>x</td>\n",
       "      <td>0.148257</td>\n",
       "    </tr>\n",
       "    <tr>\n",
       "      <th>12</th>\n",
       "      <td>y</td>\n",
       "      <td>0.146117</td>\n",
       "    </tr>\n",
       "    <tr>\n",
       "      <th>8</th>\n",
       "      <td>participantes_acusados</td>\n",
       "      <td>0.112618</td>\n",
       "    </tr>\n",
       "    <tr>\n",
       "      <th>2</th>\n",
       "      <td>rol</td>\n",
       "      <td>0.054825</td>\n",
       "    </tr>\n",
       "    <tr>\n",
       "      <th>9</th>\n",
       "      <td>rango_horario</td>\n",
       "      <td>0.046858</td>\n",
       "    </tr>\n",
       "    <tr>\n",
       "      <th>7</th>\n",
       "      <td>rango_edad</td>\n",
       "      <td>0.045070</td>\n",
       "    </tr>\n",
       "    <tr>\n",
       "      <th>0</th>\n",
       "      <td>dif_clima</td>\n",
       "      <td>0.031649</td>\n",
       "    </tr>\n",
       "    <tr>\n",
       "      <th>4</th>\n",
       "      <td>nom_dia</td>\n",
       "      <td>0.027288</td>\n",
       "    </tr>\n",
       "    <tr>\n",
       "      <th>10</th>\n",
       "      <td>finde</td>\n",
       "      <td>0.022919</td>\n",
       "    </tr>\n",
       "    <tr>\n",
       "      <th>5</th>\n",
       "      <td>m</td>\n",
       "      <td>0.022886</td>\n",
       "    </tr>\n",
       "    <tr>\n",
       "      <th>3</th>\n",
       "      <td>d</td>\n",
       "      <td>0.022381</td>\n",
       "    </tr>\n",
       "  </tbody>\n",
       "</table>\n",
       "</div>"
      ],
      "text/plain": [
       "                   feature       imp\n",
       "6           tipo_colision1  0.166049\n",
       "1                   comuna  0.153083\n",
       "11                       x  0.148257\n",
       "12                       y  0.146117\n",
       "8   participantes_acusados  0.112618\n",
       "2                      rol  0.054825\n",
       "9            rango_horario  0.046858\n",
       "7               rango_edad  0.045070\n",
       "0                dif_clima  0.031649\n",
       "4                  nom_dia  0.027288\n",
       "10                   finde  0.022919\n",
       "5                        m  0.022886\n",
       "3                        d  0.022381"
      ]
     },
     "execution_count": 224,
     "metadata": {},
     "output_type": "execute_result"
    }
   ],
   "source": [
    "importancia = pd.DataFrame()\n",
    "importancia['feature'] = pd.Series(X.columns)\n",
    "importancia['imp'] = modelo_xgb.feature_importances_\n",
    "importancia.sort_values(by='imp', ascending=False)"
   ]
  },
  {
   "attachments": {},
   "cell_type": "markdown",
   "id": "eb18a308",
   "metadata": {},
   "source": [
    "LUEGO DE COMPROBAR QUE LA COLUMNA AGREGADA NO INFUYE CONSIDERABLEMENTE EN EL MODELO, IMPORTO UN CSV CON LOS FERIADOS DEL PERIODO DE TIEMPO ESTUDIADO, LUEGO HAGO UN MERGE CON MI SET DE DATOS (UTILIZANDO COMO CLAVE LA TRIADA [DIA,MES,AÑO]) Y AGREGO ESTOS DIAS A LA COLUMNA \"finde\", CAMBIANDO EL CONCEPTO DE ESTA COLUMNA POR EL DE \"dia no laborable\""
   ]
  },
  {
   "cell_type": "code",
   "execution_count": 225,
   "id": "3e85b3e6",
   "metadata": {},
   "outputs": [
    {
     "data": {
      "text/html": [
       "<div>\n",
       "<style scoped>\n",
       "    .dataframe tbody tr th:only-of-type {\n",
       "        vertical-align: middle;\n",
       "    }\n",
       "\n",
       "    .dataframe tbody tr th {\n",
       "        vertical-align: top;\n",
       "    }\n",
       "\n",
       "    .dataframe thead th {\n",
       "        text-align: right;\n",
       "    }\n",
       "</style>\n",
       "<table border=\"1\" class=\"dataframe\">\n",
       "  <thead>\n",
       "    <tr style=\"text-align: right;\">\n",
       "      <th></th>\n",
       "      <th>d</th>\n",
       "      <th>m</th>\n",
       "      <th>a</th>\n",
       "      <th>n</th>\n",
       "    </tr>\n",
       "  </thead>\n",
       "  <tbody>\n",
       "    <tr>\n",
       "      <th>0</th>\n",
       "      <td>1</td>\n",
       "      <td>1</td>\n",
       "      <td>2015</td>\n",
       "      <td>1</td>\n",
       "    </tr>\n",
       "    <tr>\n",
       "      <th>1</th>\n",
       "      <td>6</td>\n",
       "      <td>1</td>\n",
       "      <td>2015</td>\n",
       "      <td>1</td>\n",
       "    </tr>\n",
       "  </tbody>\n",
       "</table>\n",
       "</div>"
      ],
      "text/plain": [
       "   d  m     a  n\n",
       "0  1  1  2015  1\n",
       "1  6  1  2015  1"
      ]
     },
     "execution_count": 225,
     "metadata": {},
     "output_type": "execute_result"
    }
   ],
   "source": [
    "feriados = 'feriados.csv'\n",
    "fer_df = pd.read_csv(feriados)\n",
    "fer_df.columns = ['d','m','a','n']\n",
    "fer_df.n = 1\n",
    "fer_df.head(2)"
   ]
  },
  {
   "cell_type": "code",
   "execution_count": 226,
   "id": "106d9aa1",
   "metadata": {},
   "outputs": [],
   "source": [
    "sin_df = sin_df.merge(fer_df,how='left',left_on=['d','m','a'],right_on=['d','m','a'])"
   ]
  },
  {
   "cell_type": "code",
   "execution_count": 227,
   "id": "a0e55f49",
   "metadata": {},
   "outputs": [
    {
     "data": {
      "text/plain": [
       "0    31271\n",
       "1      800\n",
       "Name: n, dtype: int64"
      ]
     },
     "execution_count": 227,
     "metadata": {},
     "output_type": "execute_result"
    }
   ],
   "source": [
    "sin_df.n.fillna(0, inplace=True)\n",
    "sin_df.n = sin_df.n.astype(int)\n",
    "sin_df.n.value_counts()"
   ]
  },
  {
   "cell_type": "code",
   "execution_count": 228,
   "id": "19ed0bdf",
   "metadata": {},
   "outputs": [
    {
     "data": {
      "text/plain": [
       "0    24003\n",
       "1     8068\n",
       "Name: finde, dtype: int64"
      ]
     },
     "execution_count": 228,
     "metadata": {},
     "output_type": "execute_result"
    }
   ],
   "source": [
    "sin_df.finde.value_counts()"
   ]
  },
  {
   "cell_type": "code",
   "execution_count": 229,
   "id": "5c91c0f2",
   "metadata": {},
   "outputs": [],
   "source": [
    "f_mask = (sin_df.loc[(sin_df.n == 1)]).index\n",
    "\n",
    "sin_df.loc[f_mask, 'finde'] = 1"
   ]
  },
  {
   "cell_type": "code",
   "execution_count": 230,
   "id": "8532f1d4",
   "metadata": {},
   "outputs": [
    {
     "data": {
      "text/plain": [
       "0    23337\n",
       "1     8734\n",
       "Name: finde, dtype: int64"
      ]
     },
     "execution_count": 230,
     "metadata": {},
     "output_type": "execute_result"
    }
   ],
   "source": [
    "sin_df.finde.value_counts()"
   ]
  },
  {
   "attachments": {},
   "cell_type": "markdown",
   "id": "251d9d83",
   "metadata": {},
   "source": [
    "CORROBORÉ QUE SE HAYAN AGREGADO CORRECTAMENTE LOS FERIADOS. También agregare al fin de semana los dias viernes pasadas las 19hs. "
   ]
  },
  {
   "cell_type": "code",
   "execution_count": 231,
   "id": "fefb40f8",
   "metadata": {},
   "outputs": [],
   "source": [
    "v_mask = (sin_df.loc[(sin_df.nom_dia == 'Friday') & (sin_df.h > 18)]).index\n",
    "sin_df.loc[v_mask, 'finde'] = 1"
   ]
  },
  {
   "cell_type": "code",
   "execution_count": 232,
   "id": "69be98f7",
   "metadata": {},
   "outputs": [
    {
     "data": {
      "text/plain": [
       "0    22310\n",
       "1     9761\n",
       "Name: finde, dtype: int64"
      ]
     },
     "execution_count": 232,
     "metadata": {},
     "output_type": "execute_result"
    }
   ],
   "source": [
    "sin_df.finde.value_counts()"
   ]
  },
  {
   "attachments": {},
   "cell_type": "markdown",
   "id": "d3b54c0a",
   "metadata": {},
   "source": [
    "Agrego 1000 registros mas a la columna \"finde\""
   ]
  },
  {
   "cell_type": "code",
   "execution_count": 233,
   "id": "31865422",
   "metadata": {},
   "outputs": [],
   "source": [
    "X = sin_df[['viento','precip','comuna','d','m','a','tipo_colision1','rango_edad','participantes_acusados','rango_horario','finde']]\n",
    "y = sin_df['tipo_calle']"
   ]
  },
  {
   "cell_type": "code",
   "execution_count": 234,
   "id": "e9f056d7",
   "metadata": {},
   "outputs": [
    {
     "name": "stderr",
     "output_type": "stream",
     "text": [
      "C:\\Users\\Seguridad\\AppData\\Local\\Temp\\ipykernel_12188\\888047746.py:2: SettingWithCopyWarning: \n",
      "A value is trying to be set on a copy of a slice from a DataFrame.\n",
      "Try using .loc[row_indexer,col_indexer] = value instead\n",
      "\n",
      "See the caveats in the documentation: https://pandas.pydata.org/pandas-docs/stable/user_guide/indexing.html#returning-a-view-versus-a-copy\n",
      "  X.tipo_colision1 = le.transform(X.tipo_colision1)\n",
      "C:\\Users\\Seguridad\\AppData\\Local\\Temp\\ipykernel_12188\\888047746.py:5: SettingWithCopyWarning: \n",
      "A value is trying to be set on a copy of a slice from a DataFrame.\n",
      "Try using .loc[row_indexer,col_indexer] = value instead\n",
      "\n",
      "See the caveats in the documentation: https://pandas.pydata.org/pandas-docs/stable/user_guide/indexing.html#returning-a-view-versus-a-copy\n",
      "  X.participantes_acusados = le.transform(X.participantes_acusados)\n"
     ]
    }
   ],
   "source": [
    "le.fit(X.tipo_colision1)\n",
    "X.tipo_colision1 = le.transform(X.tipo_colision1)\n",
    "\n",
    "le.fit(X.participantes_acusados)\n",
    "X.participantes_acusados = le.transform(X.participantes_acusados)"
   ]
  },
  {
   "cell_type": "code",
   "execution_count": 235,
   "id": "763fe7a7",
   "metadata": {},
   "outputs": [],
   "source": [
    "X_train, X_test, y_train, y_test = train_test_split(\n",
    "                                        X,\n",
    "                                        y.values.reshape(-1,1),\n",
    "                                        train_size   = 0.7,\n",
    "                                        random_state = 1234,\n",
    "                                        shuffle      = True\n",
    "                                    )"
   ]
  },
  {
   "cell_type": "code",
   "execution_count": 236,
   "id": "ff15d6aa",
   "metadata": {},
   "outputs": [
    {
     "name": "stderr",
     "output_type": "stream",
     "text": [
      "c:\\ProgramData\\Miniconda3\\lib\\site-packages\\sklearn\\preprocessing\\_label.py:115: DataConversionWarning: A column-vector y was passed when a 1d array was expected. Please change the shape of y to (n_samples, ), for example using ravel().\n",
      "  y = column_or_1d(y, warn=True)\n"
     ]
    },
    {
     "name": "stdout",
     "output_type": "stream",
     "text": [
      "% de aciertos sobre el set de entrenamiento: 69.10775535658604\n",
      "% de aciertos sobre el set de evaluación: 65.82831012263563\n"
     ]
    }
   ],
   "source": [
    "le = LabelEncoder()\n",
    "\n",
    "y_train = le.fit_transform(y_train)\n",
    "y_test = le.fit_transform(y_test)\n",
    "\n",
    "modelo_xgb = xgb.XGBClassifier(learning_rate=0.01, n_estimators=100, max_depth=3, random_state=42)\n",
    "modelo_xgb.fit(X_train, y_train)\n",
    "\n",
    "y_train_pred = modelo_xgb.predict(X_train)\n",
    "y_test_pred = modelo_xgb.predict(X_test)\n",
    "\n",
    "train_accuracy = accuracy_score(y_train, y_train_pred)\n",
    "print('% de aciertos sobre el set de entrenamiento:',train_accuracy*100)\n",
    "\n",
    "test_accuracy = accuracy_score(y_test, y_test_pred)\n",
    "print('% de aciertos sobre el set de evaluación:',test_accuracy*100)"
   ]
  },
  {
   "cell_type": "code",
   "execution_count": 237,
   "id": "b26d0cbd",
   "metadata": {},
   "outputs": [
    {
     "data": {
      "text/html": [
       "<div>\n",
       "<style scoped>\n",
       "    .dataframe tbody tr th:only-of-type {\n",
       "        vertical-align: middle;\n",
       "    }\n",
       "\n",
       "    .dataframe tbody tr th {\n",
       "        vertical-align: top;\n",
       "    }\n",
       "\n",
       "    .dataframe thead th {\n",
       "        text-align: right;\n",
       "    }\n",
       "</style>\n",
       "<table border=\"1\" class=\"dataframe\">\n",
       "  <thead>\n",
       "    <tr style=\"text-align: right;\">\n",
       "      <th></th>\n",
       "      <th>feature</th>\n",
       "      <th>imp</th>\n",
       "    </tr>\n",
       "  </thead>\n",
       "  <tbody>\n",
       "    <tr>\n",
       "      <th>6</th>\n",
       "      <td>tipo_colision1</td>\n",
       "      <td>0.149956</td>\n",
       "    </tr>\n",
       "    <tr>\n",
       "      <th>8</th>\n",
       "      <td>participantes_acusados</td>\n",
       "      <td>0.127851</td>\n",
       "    </tr>\n",
       "    <tr>\n",
       "      <th>2</th>\n",
       "      <td>comuna</td>\n",
       "      <td>0.115066</td>\n",
       "    </tr>\n",
       "    <tr>\n",
       "      <th>7</th>\n",
       "      <td>rango_edad</td>\n",
       "      <td>0.094382</td>\n",
       "    </tr>\n",
       "    <tr>\n",
       "      <th>9</th>\n",
       "      <td>rango_horario</td>\n",
       "      <td>0.085787</td>\n",
       "    </tr>\n",
       "    <tr>\n",
       "      <th>5</th>\n",
       "      <td>a</td>\n",
       "      <td>0.076013</td>\n",
       "    </tr>\n",
       "    <tr>\n",
       "      <th>4</th>\n",
       "      <td>m</td>\n",
       "      <td>0.073873</td>\n",
       "    </tr>\n",
       "    <tr>\n",
       "      <th>0</th>\n",
       "      <td>viento</td>\n",
       "      <td>0.072915</td>\n",
       "    </tr>\n",
       "    <tr>\n",
       "      <th>1</th>\n",
       "      <td>precip</td>\n",
       "      <td>0.069787</td>\n",
       "    </tr>\n",
       "    <tr>\n",
       "      <th>3</th>\n",
       "      <td>d</td>\n",
       "      <td>0.067946</td>\n",
       "    </tr>\n",
       "    <tr>\n",
       "      <th>10</th>\n",
       "      <td>finde</td>\n",
       "      <td>0.066425</td>\n",
       "    </tr>\n",
       "  </tbody>\n",
       "</table>\n",
       "</div>"
      ],
      "text/plain": [
       "                   feature       imp\n",
       "6           tipo_colision1  0.149956\n",
       "8   participantes_acusados  0.127851\n",
       "2                   comuna  0.115066\n",
       "7               rango_edad  0.094382\n",
       "9            rango_horario  0.085787\n",
       "5                        a  0.076013\n",
       "4                        m  0.073873\n",
       "0                   viento  0.072915\n",
       "1                   precip  0.069787\n",
       "3                        d  0.067946\n",
       "10                   finde  0.066425"
      ]
     },
     "execution_count": 237,
     "metadata": {},
     "output_type": "execute_result"
    }
   ],
   "source": [
    "importancia = pd.DataFrame()\n",
    "importancia['feature'] = pd.Series(X.columns)\n",
    "importancia['imp'] = modelo_xgb.feature_importances_\n",
    "importancia.sort_values(by='imp', ascending=False)"
   ]
  },
  {
   "attachments": {},
   "cell_type": "markdown",
   "id": "8f7b6e77",
   "metadata": {},
   "source": [
    "EMPEORO LA IMPORTANCIA DE LA COLUMNA FINDE AGREGANDO LOS FERIADOS Y LOS VIERNES A LA TARDE-NOCHE."
   ]
  },
  {
   "attachments": {},
   "cell_type": "markdown",
   "id": "c16c5f16",
   "metadata": {},
   "source": [
    "EL MEJOR MODELO HASTA AHORA FUE EL CLASIFICADOR DE RANDOM FOREST (por poca diferencia) "
   ]
  },
  {
   "cell_type": "code",
   "execution_count": 238,
   "id": "833bb589",
   "metadata": {},
   "outputs": [
    {
     "name": "stdout",
     "output_type": "stream",
     "text": [
      "   Componente 1  Componente 2\n",
      "0      1.046233      0.654826\n",
      "1      0.009549     -0.305516\n",
      "2      1.007564     -0.344411\n",
      "3      1.007564     -0.344411\n",
      "4     -0.988466     -0.266622\n"
     ]
    }
   ],
   "source": [
    "from sklearn.decomposition import PCA\n",
    "\n",
    "pca = PCA(n_components=2)\n",
    "componentes_principales = pca.fit_transform(X[['finde','precip','viento']])\n",
    "\n",
    "df_componentes = pd.DataFrame(componentes_principales, columns=['Componente 1', 'Componente 2'])\n",
    "print(df_componentes.head())"
   ]
  },
  {
   "attachments": {},
   "cell_type": "markdown",
   "id": "a9d7cbff",
   "metadata": {},
   "source": [
    "PARA LA SIGUIENTE ENTREGA (CROSSVALIDATION), QUITARÉ ESTA COLUMNA QUE NO ESTA AGREGANDO INFORMACION VALIOSA AL MODELO Y BUSCARÉ LOS HIPERPARAMETROS QUE MEJOR RESULTADO DEN AL ALGORITMO. "
   ]
  },
  {
   "attachments": {},
   "cell_type": "markdown",
   "id": "d7211207",
   "metadata": {},
   "source": [
    "TAMBIÉN VOLVERÉ A AGREGAR ALGUNAS VARIABLES QUITADAS DEL MODELO, YA QUE COMO VI EN EL CALCULO DE METRICAS, ESTOY PERDIENDO INFORMACION VALIOSA AL QUITARLAS."
   ]
  },
  {
   "attachments": {},
   "cell_type": "markdown",
   "id": "53680a29",
   "metadata": {},
   "source": [
    "CONCLUIDO ESTE ESTUDIO, VOY A INTENTAR PREDECIR SI UN SINIESTRO SE DIO DE DIA O DE NOCHE, VA A SER UNA PREDICCIÓN BINARIA EN LA CUAL PODRÉ OBTENER LOS VALORES DE PRECISION, EXACTITUD Y F1 SCORE. "
   ]
  },
  {
   "cell_type": "code",
   "execution_count": 239,
   "id": "eb183820",
   "metadata": {},
   "outputs": [
    {
     "data": {
      "text/html": [
       "<div>\n",
       "<style scoped>\n",
       "    .dataframe tbody tr th:only-of-type {\n",
       "        vertical-align: middle;\n",
       "    }\n",
       "\n",
       "    .dataframe tbody tr th {\n",
       "        vertical-align: top;\n",
       "    }\n",
       "\n",
       "    .dataframe thead th {\n",
       "        text-align: right;\n",
       "    }\n",
       "</style>\n",
       "<table border=\"1\" class=\"dataframe\">\n",
       "  <thead>\n",
       "    <tr style=\"text-align: right;\">\n",
       "      <th></th>\n",
       "      <th>causa</th>\n",
       "      <th>rol</th>\n",
       "      <th>tipo</th>\n",
       "      <th>sexo</th>\n",
       "      <th>edad</th>\n",
       "      <th>fecha</th>\n",
       "      <th>hora</th>\n",
       "      <th>tipo_calle</th>\n",
       "      <th>calle1</th>\n",
       "      <th>calle2</th>\n",
       "      <th>...</th>\n",
       "      <th>h</th>\n",
       "      <th>temp</th>\n",
       "      <th>hum</th>\n",
       "      <th>precip</th>\n",
       "      <th>viento</th>\n",
       "      <th>dif_clima</th>\n",
       "      <th>nom_dia</th>\n",
       "      <th>finde</th>\n",
       "      <th>n</th>\n",
       "      <th>de_dia</th>\n",
       "    </tr>\n",
       "  </thead>\n",
       "  <tbody>\n",
       "    <tr>\n",
       "      <th>0</th>\n",
       "      <td>1</td>\n",
       "      <td>conductor</td>\n",
       "      <td>moto</td>\n",
       "      <td>0</td>\n",
       "      <td>36.480885</td>\n",
       "      <td>2015-02-14</td>\n",
       "      <td>19</td>\n",
       "      <td>3</td>\n",
       "      <td>cafayate</td>\n",
       "      <td>garcia grande de zequeira, severo</td>\n",
       "      <td>...</td>\n",
       "      <td>19</td>\n",
       "      <td>21.67</td>\n",
       "      <td>74.75</td>\n",
       "      <td>1</td>\n",
       "      <td>2</td>\n",
       "      <td>4</td>\n",
       "      <td>Saturday</td>\n",
       "      <td>1</td>\n",
       "      <td>0</td>\n",
       "      <td>1</td>\n",
       "    </tr>\n",
       "    <tr>\n",
       "      <th>1</th>\n",
       "      <td>1</td>\n",
       "      <td>sin_data</td>\n",
       "      <td>sin_data</td>\n",
       "      <td>0</td>\n",
       "      <td>36.480885</td>\n",
       "      <td>2015-02-25</td>\n",
       "      <td>3</td>\n",
       "      <td>2</td>\n",
       "      <td>lugones, leopoldo av.</td>\n",
       "      <td>udaondo, guillermo av.</td>\n",
       "      <td>...</td>\n",
       "      <td>3</td>\n",
       "      <td>24.75</td>\n",
       "      <td>81.62</td>\n",
       "      <td>1</td>\n",
       "      <td>1</td>\n",
       "      <td>3</td>\n",
       "      <td>Wednesday</td>\n",
       "      <td>0</td>\n",
       "      <td>0</td>\n",
       "      <td>0</td>\n",
       "    </tr>\n",
       "    <tr>\n",
       "      <th>2</th>\n",
       "      <td>1</td>\n",
       "      <td>peaton</td>\n",
       "      <td>peaton</td>\n",
       "      <td>2</td>\n",
       "      <td>36.480885</td>\n",
       "      <td>2015-02-27</td>\n",
       "      <td>8</td>\n",
       "      <td>2</td>\n",
       "      <td>jujuy av.</td>\n",
       "      <td>independencia av.</td>\n",
       "      <td>...</td>\n",
       "      <td>8</td>\n",
       "      <td>23.23</td>\n",
       "      <td>61.00</td>\n",
       "      <td>1</td>\n",
       "      <td>2</td>\n",
       "      <td>4</td>\n",
       "      <td>Friday</td>\n",
       "      <td>0</td>\n",
       "      <td>0</td>\n",
       "      <td>1</td>\n",
       "    </tr>\n",
       "    <tr>\n",
       "      <th>3</th>\n",
       "      <td>1</td>\n",
       "      <td>sin_data</td>\n",
       "      <td>sin_data</td>\n",
       "      <td>0</td>\n",
       "      <td>36.480885</td>\n",
       "      <td>2015-02-03</td>\n",
       "      <td>18</td>\n",
       "      <td>3</td>\n",
       "      <td>lavalle</td>\n",
       "      <td>sin_data</td>\n",
       "      <td>...</td>\n",
       "      <td>18</td>\n",
       "      <td>26.34</td>\n",
       "      <td>70.81</td>\n",
       "      <td>1</td>\n",
       "      <td>2</td>\n",
       "      <td>4</td>\n",
       "      <td>Tuesday</td>\n",
       "      <td>0</td>\n",
       "      <td>0</td>\n",
       "      <td>1</td>\n",
       "    </tr>\n",
       "    <tr>\n",
       "      <th>4</th>\n",
       "      <td>1</td>\n",
       "      <td>pasajero</td>\n",
       "      <td>camion</td>\n",
       "      <td>1</td>\n",
       "      <td>36.480885</td>\n",
       "      <td>2015-09-04</td>\n",
       "      <td>1</td>\n",
       "      <td>2</td>\n",
       "      <td>carril, salvador maria del av.</td>\n",
       "      <td>sin_data</td>\n",
       "      <td>...</td>\n",
       "      <td>1</td>\n",
       "      <td>12.23</td>\n",
       "      <td>68.62</td>\n",
       "      <td>1</td>\n",
       "      <td>0</td>\n",
       "      <td>2</td>\n",
       "      <td>Friday</td>\n",
       "      <td>0</td>\n",
       "      <td>0</td>\n",
       "      <td>0</td>\n",
       "    </tr>\n",
       "  </tbody>\n",
       "</table>\n",
       "<p>5 rows × 33 columns</p>\n",
       "</div>"
      ],
      "text/plain": [
       "   causa        rol      tipo  sexo       edad      fecha  hora  tipo_calle  \\\n",
       "0      1  conductor      moto     0  36.480885 2015-02-14    19           3   \n",
       "1      1   sin_data  sin_data     0  36.480885 2015-02-25     3           2   \n",
       "2      1     peaton    peaton     2  36.480885 2015-02-27     8           2   \n",
       "3      1   sin_data  sin_data     0  36.480885 2015-02-03    18           3   \n",
       "4      1   pasajero    camion     1  36.480885 2015-09-04     1           2   \n",
       "\n",
       "                           calle1                             calle2  ...   h  \\\n",
       "0                        cafayate  garcia grande de zequeira, severo  ...  19   \n",
       "1           lugones, leopoldo av.             udaondo, guillermo av.  ...   3   \n",
       "2                       jujuy av.                  independencia av.  ...   8   \n",
       "3                         lavalle                           sin_data  ...  18   \n",
       "4  carril, salvador maria del av.                           sin_data  ...   1   \n",
       "\n",
       "    temp    hum  precip viento dif_clima    nom_dia  finde  n de_dia  \n",
       "0  21.67  74.75       1      2         4   Saturday      1  0      1  \n",
       "1  24.75  81.62       1      1         3  Wednesday      0  0      0  \n",
       "2  23.23  61.00       1      2         4     Friday      0  0      1  \n",
       "3  26.34  70.81       1      2         4    Tuesday      0  0      1  \n",
       "4  12.23  68.62       1      0         2     Friday      0  0      0  \n",
       "\n",
       "[5 rows x 33 columns]"
      ]
     },
     "execution_count": 239,
     "metadata": {},
     "output_type": "execute_result"
    }
   ],
   "source": [
    "sin_df.loc[(sin_df.h>5) & (sin_df.h<=19), 'de_dia'] = 1\n",
    "sin_df.loc[(sin_df.de_dia != 1), 'de_dia'] = 0\n",
    "sin_df.de_dia = sin_df.de_dia.astype(int)\n",
    "sin_df.head()"
   ]
  },
  {
   "cell_type": "code",
   "execution_count": 302,
   "id": "2164e569",
   "metadata": {},
   "outputs": [
    {
     "name": "stdout",
     "output_type": "stream",
     "text": [
      "<class 'pandas.core.frame.DataFrame'>\n",
      "Int64Index: 32071 entries, 0 to 32070\n",
      "Data columns (total 8 columns):\n",
      " #   Column                  Non-Null Count  Dtype \n",
      "---  ------                  --------------  ----- \n",
      " 0   tipo_calle              32071 non-null  int64 \n",
      " 1   dif_clima               32071 non-null  int32 \n",
      " 2   comuna                  32071 non-null  int32 \n",
      " 3   tipo_colision1          32071 non-null  object\n",
      " 4   rango_edad              32071 non-null  int32 \n",
      " 5   participantes_acusados  32071 non-null  object\n",
      " 6   finde                   32071 non-null  int32 \n",
      " 7   nom_dia                 32071 non-null  object\n",
      "dtypes: int32(4), int64(1), object(3)\n",
      "memory usage: 2.7+ MB\n"
     ]
    }
   ],
   "source": [
    "X = sin_df[['tipo_calle','dif_clima','comuna','tipo_colision1','rango_edad','participantes_acusados','finde','nom_dia']]\n",
    "y = sin_df['de_dia']\n",
    "\n",
    "X.info()"
   ]
  },
  {
   "cell_type": "code",
   "execution_count": 303,
   "id": "677d783c",
   "metadata": {},
   "outputs": [
    {
     "name": "stdout",
     "output_type": "stream",
     "text": [
      "<class 'pandas.core.frame.DataFrame'>\n",
      "Int64Index: 32071 entries, 0 to 32070\n",
      "Data columns (total 8 columns):\n",
      " #   Column                  Non-Null Count  Dtype\n",
      "---  ------                  --------------  -----\n",
      " 0   tipo_calle              32071 non-null  int64\n",
      " 1   dif_clima               32071 non-null  int32\n",
      " 2   comuna                  32071 non-null  int32\n",
      " 3   tipo_colision1          32071 non-null  int32\n",
      " 4   rango_edad              32071 non-null  int32\n",
      " 5   participantes_acusados  32071 non-null  int32\n",
      " 6   finde                   32071 non-null  int32\n",
      " 7   nom_dia                 32071 non-null  int32\n",
      "dtypes: int32(7), int64(1)\n",
      "memory usage: 2.4 MB\n"
     ]
    },
    {
     "name": "stderr",
     "output_type": "stream",
     "text": [
      "C:\\Users\\Seguridad\\AppData\\Local\\Temp\\ipykernel_12188\\2566807392.py:2: SettingWithCopyWarning: \n",
      "A value is trying to be set on a copy of a slice from a DataFrame.\n",
      "Try using .loc[row_indexer,col_indexer] = value instead\n",
      "\n",
      "See the caveats in the documentation: https://pandas.pydata.org/pandas-docs/stable/user_guide/indexing.html#returning-a-view-versus-a-copy\n",
      "  X.tipo_colision1 = le.transform(X.tipo_colision1)\n",
      "C:\\Users\\Seguridad\\AppData\\Local\\Temp\\ipykernel_12188\\2566807392.py:5: SettingWithCopyWarning: \n",
      "A value is trying to be set on a copy of a slice from a DataFrame.\n",
      "Try using .loc[row_indexer,col_indexer] = value instead\n",
      "\n",
      "See the caveats in the documentation: https://pandas.pydata.org/pandas-docs/stable/user_guide/indexing.html#returning-a-view-versus-a-copy\n",
      "  X.participantes_acusados = le.transform(X.participantes_acusados)\n",
      "C:\\Users\\Seguridad\\AppData\\Local\\Temp\\ipykernel_12188\\2566807392.py:8: SettingWithCopyWarning: \n",
      "A value is trying to be set on a copy of a slice from a DataFrame.\n",
      "Try using .loc[row_indexer,col_indexer] = value instead\n",
      "\n",
      "See the caveats in the documentation: https://pandas.pydata.org/pandas-docs/stable/user_guide/indexing.html#returning-a-view-versus-a-copy\n",
      "  X.nom_dia = le.transform(X.nom_dia)\n"
     ]
    }
   ],
   "source": [
    "le.fit(X.tipo_colision1)\n",
    "X.tipo_colision1 = le.transform(X.tipo_colision1)\n",
    "\n",
    "le.fit(X.participantes_acusados)\n",
    "X.participantes_acusados = le.transform(X.participantes_acusados)\n",
    "\n",
    "le.fit(X.nom_dia)\n",
    "X.nom_dia = le.transform(X.nom_dia)\n",
    "\n",
    "X.info()"
   ]
  },
  {
   "attachments": {},
   "cell_type": "markdown",
   "id": "e117f026",
   "metadata": {},
   "source": [
    "PUEDO SACAR ESTAS COLUMNAS, YA QUE POR LO VISTO EN EL FEATURE IMPORTANCE, NO INFLUYEN EN EL MODELO DE XGBOOST"
   ]
  },
  {
   "cell_type": "code",
   "execution_count": 304,
   "id": "6d6ef289",
   "metadata": {},
   "outputs": [],
   "source": [
    "#X = X.drop(columns={'comuna','participantes_acusados','tipo_calle'})   "
   ]
  },
  {
   "cell_type": "code",
   "execution_count": 305,
   "id": "bc9b3092",
   "metadata": {},
   "outputs": [],
   "source": [
    "X_train, X_test, y_train, y_test = train_test_split(\n",
    "                                        X,\n",
    "                                        y.values.reshape(-1,1),\n",
    "                                        train_size   = 0.7,\n",
    "                                        random_state = 1234,\n",
    "                                        shuffle      = True\n",
    "                                    )"
   ]
  },
  {
   "cell_type": "code",
   "execution_count": 306,
   "id": "bd2d152c",
   "metadata": {},
   "outputs": [
    {
     "name": "stderr",
     "output_type": "stream",
     "text": [
      "c:\\ProgramData\\Miniconda3\\lib\\site-packages\\sklearn\\preprocessing\\_label.py:115: DataConversionWarning: A column-vector y was passed when a 1d array was expected. Please change the shape of y to (n_samples, ), for example using ravel().\n",
      "  y = column_or_1d(y, warn=True)\n"
     ]
    },
    {
     "name": "stdout",
     "output_type": "stream",
     "text": [
      "% de aciertos sobre el set de entrenamiento: 77.54465677758475\n",
      "% de aciertos sobre el set de evaluación: 77.02140927042194\n"
     ]
    }
   ],
   "source": [
    "le = LabelEncoder()\n",
    "\n",
    "y_train = le.fit_transform(y_train)\n",
    "y_test = le.fit_transform(y_test)\n",
    "\n",
    "modelo_xgb = xgb.XGBClassifier(learning_rate=0.01, n_estimators=100, max_depth=3, random_state=42)\n",
    "modelo_xgb.fit(X_train, y_train)\n",
    "\n",
    "y_train_pred = modelo_xgb.predict(X_train)\n",
    "y_test_pred = modelo_xgb.predict(X_test)\n",
    "\n",
    "train_accuracy = accuracy_score(y_train, y_train_pred)\n",
    "print('% de aciertos sobre el set de entrenamiento:',train_accuracy*100)\n",
    "\n",
    "test_accuracy = accuracy_score(y_test, y_test_pred)\n",
    "print('% de aciertos sobre el set de evaluación:',test_accuracy*100)"
   ]
  },
  {
   "attachments": {},
   "cell_type": "markdown",
   "id": "708f3af3",
   "metadata": {},
   "source": [
    "REVISO LAS METRICAS"
   ]
  },
  {
   "cell_type": "code",
   "execution_count": 307,
   "id": "a077ecfd",
   "metadata": {},
   "outputs": [
    {
     "name": "stdout",
     "output_type": "stream",
     "text": [
      "Precisión: 0.6828280960605495\n",
      "Exactitud: 0.7702140927042195\n",
      "Puntuación F1: 0.5175855788890195\n"
     ]
    }
   ],
   "source": [
    "from sklearn.metrics import precision_score, accuracy_score, f1_score\n",
    "\n",
    "precision = precision_score(y_test, y_test_pred, average='macro')\n",
    "\n",
    "accuracy = accuracy_score(y_test, y_test_pred)\n",
    "\n",
    "f1 = f1_score(y_test, y_test_pred, average='macro')\n",
    "\n",
    "print(\"Precisión:\", precision)\n",
    "print(\"Exactitud:\", accuracy)\n",
    "print(\"Puntuación F1:\", f1)"
   ]
  },
  {
   "attachments": {},
   "cell_type": "markdown",
   "id": "057ec150",
   "metadata": {},
   "source": [
    "HAGO CROSS VALIDATION"
   ]
  },
  {
   "cell_type": "code",
   "execution_count": 308,
   "id": "51bc9c39",
   "metadata": {},
   "outputs": [
    {
     "name": "stdout",
     "output_type": "stream",
     "text": [
      "Accuracy por fold:  [0.77394209 0.77282851 0.77928731 0.77461024 0.77656494]\n",
      "Exactitud promedio:  0.7754466175918268\n"
     ]
    }
   ],
   "source": [
    "from sklearn.model_selection import cross_val_score\n",
    "\n",
    "# Realizo la validación cruzada\n",
    "scores = cross_val_score(modelo_xgb, X_train, y_train, cv=5, scoring='accuracy')\n",
    "\n",
    "print(\"Accuracy por fold: \", scores)\n",
    "print(\"Exactitud promedio: \", scores.mean())"
   ]
  },
  {
   "attachments": {},
   "cell_type": "markdown",
   "id": "7ad35ce5",
   "metadata": {},
   "source": [
    "OBTUVE BUENAS METRICAS, AHORA INTENTARÉ MEJORAR LA EXACTITUD CON UN GRID SEARCH"
   ]
  },
  {
   "cell_type": "code",
   "execution_count": 290,
   "id": "5428ee0e",
   "metadata": {},
   "outputs": [
    {
     "name": "stdout",
     "output_type": "stream",
     "text": [
      "Exactitud en el conjunto de prueba:  0.7702140927042195\n"
     ]
    }
   ],
   "source": [
    "from sklearn.model_selection import GridSearchCV\n",
    "from sklearn.metrics import accuracy_score\n",
    "\n",
    "# Defino los hiperparámetros y los rangos a explorar\n",
    "parameters = {\n",
    "    'max_depth': [2, 3, 6],\n",
    "    'learning_rate': [0.1, 0.01, 0.001],\n",
    "    'n_estimators': [300, 500, 100, 900],\n",
    "    #'subsample': [0.8, 0.9, 1.0],\n",
    "    #'colsample_bytree': [0.8, 0.9, 1.0]\n",
    "}\n",
    "\n",
    "grid_search = GridSearchCV(estimator=modelo_xgb, param_grid=parameters, scoring='accuracy', cv=5)\n",
    "grid_search.fit(X_train, y_train)\n",
    "\n",
    "# Obtengo los mejores hiperparámetros\n",
    "best_params = grid_search.best_params_\n",
    "best_model = grid_search.best_estimator_\n",
    "\n",
    "# Evaluo el modelo con los mejores hiperparámetros en el conjunto de prueba\n",
    "y_pred = best_model.predict(X_test)\n",
    "accuracy = accuracy_score(y_test, y_pred)\n",
    "print(\"Exactitud en el conjunto de prueba: \", accuracy)"
   ]
  },
  {
   "cell_type": "code",
   "execution_count": 283,
   "id": "fcf8a36d",
   "metadata": {},
   "outputs": [
    {
     "data": {
      "text/plain": [
       "{'learning_rate': 0.01, 'max_depth': 3, 'n_estimators': 100}"
      ]
     },
     "execution_count": 283,
     "metadata": {},
     "output_type": "execute_result"
    }
   ],
   "source": [
    "best_params"
   ]
  },
  {
   "attachments": {},
   "cell_type": "markdown",
   "id": "e626ab29",
   "metadata": {},
   "source": [
    "PRUEBO LO MISMO CON RANDOM FOREST"
   ]
  },
  {
   "cell_type": "code",
   "execution_count": 309,
   "id": "fd314391",
   "metadata": {},
   "outputs": [
    {
     "name": "stdout",
     "output_type": "stream",
     "text": [
      "% de aciertos sobre el set de entrenamiento: 78.38211056171767\n",
      "% de aciertos sobre el set de evaluación: 77.12533776761587\n"
     ]
    }
   ],
   "source": [
    "modelo_rf = RandomForestClassifier(n_estimators=300, max_depth=10, random_state=42)\n",
    "modelo_rf.fit(X_train, y_train)\n",
    "\n",
    "y_train_pred = modelo_rf.predict(X_train)\n",
    "y_test_pred = modelo_rf.predict(X_test)\n",
    "\n",
    "train_accuracy = accuracy_score(y_train, y_train_pred)\n",
    "print('% de aciertos sobre el set de entrenamiento:',train_accuracy*100)\n",
    "\n",
    "test_accuracy = accuracy_score(y_test, y_test_pred)\n",
    "print('% de aciertos sobre el set de evaluación:',test_accuracy*100)"
   ]
  },
  {
   "cell_type": "code",
   "execution_count": 310,
   "id": "f8b78ee9",
   "metadata": {},
   "outputs": [
    {
     "name": "stdout",
     "output_type": "stream",
     "text": [
      "Exactitud en el conjunto de prueba:  0.7712533776761588\n"
     ]
    }
   ],
   "source": [
    "parameters = {\n",
    "    'max_depth': [2, 5, 6, 10],\n",
    "    #'learning_rate': [0.1, 0.01, 0.001],\n",
    "    'n_estimators': [300, 500, 100, 1000],\n",
    "    #'subsample': [0.8, 0.9, 1.0],\n",
    "    #'colsample_bytree': [0.8, 0.9, 1.0]\n",
    "}\n",
    "\n",
    "grid_search = GridSearchCV(estimator=modelo_rf, param_grid=parameters, scoring='accuracy', cv=5)\n",
    "grid_search.fit(X_train, y_train)\n",
    "\n",
    "# Obtengo los mejores hiperparámetros\n",
    "best_params = grid_search.best_params_\n",
    "best_model = grid_search.best_estimator_\n",
    "\n",
    "# Evaluo el modelo con los mejores hiperparámetros en el conjunto de prueba\n",
    "y_pred = best_model.predict(X_test)\n",
    "accuracy = accuracy_score(y_test, y_pred)\n",
    "print(\"Exactitud en el conjunto de prueba: \", accuracy)"
   ]
  },
  {
   "cell_type": "code",
   "execution_count": 311,
   "id": "241c81d3",
   "metadata": {},
   "outputs": [
    {
     "data": {
      "text/plain": [
       "{'max_depth': 10, 'n_estimators': 300}"
      ]
     },
     "execution_count": 311,
     "metadata": {},
     "output_type": "execute_result"
    }
   ],
   "source": [
    "best_params"
   ]
  },
  {
   "cell_type": "code",
   "execution_count": 312,
   "id": "be5858c8",
   "metadata": {},
   "outputs": [
    {
     "data": {
      "text/html": [
       "<div>\n",
       "<style scoped>\n",
       "    .dataframe tbody tr th:only-of-type {\n",
       "        vertical-align: middle;\n",
       "    }\n",
       "\n",
       "    .dataframe tbody tr th {\n",
       "        vertical-align: top;\n",
       "    }\n",
       "\n",
       "    .dataframe thead th {\n",
       "        text-align: right;\n",
       "    }\n",
       "</style>\n",
       "<table border=\"1\" class=\"dataframe\">\n",
       "  <thead>\n",
       "    <tr style=\"text-align: right;\">\n",
       "      <th></th>\n",
       "      <th>feature</th>\n",
       "      <th>imp</th>\n",
       "    </tr>\n",
       "  </thead>\n",
       "  <tbody>\n",
       "    <tr>\n",
       "      <th>6</th>\n",
       "      <td>finde</td>\n",
       "      <td>0.528987</td>\n",
       "    </tr>\n",
       "    <tr>\n",
       "      <th>7</th>\n",
       "      <td>nom_dia</td>\n",
       "      <td>0.244740</td>\n",
       "    </tr>\n",
       "    <tr>\n",
       "      <th>1</th>\n",
       "      <td>dif_clima</td>\n",
       "      <td>0.145708</td>\n",
       "    </tr>\n",
       "    <tr>\n",
       "      <th>4</th>\n",
       "      <td>rango_edad</td>\n",
       "      <td>0.064783</td>\n",
       "    </tr>\n",
       "    <tr>\n",
       "      <th>3</th>\n",
       "      <td>tipo_colision1</td>\n",
       "      <td>0.015782</td>\n",
       "    </tr>\n",
       "    <tr>\n",
       "      <th>0</th>\n",
       "      <td>tipo_calle</td>\n",
       "      <td>0.000000</td>\n",
       "    </tr>\n",
       "    <tr>\n",
       "      <th>2</th>\n",
       "      <td>comuna</td>\n",
       "      <td>0.000000</td>\n",
       "    </tr>\n",
       "    <tr>\n",
       "      <th>5</th>\n",
       "      <td>participantes_acusados</td>\n",
       "      <td>0.000000</td>\n",
       "    </tr>\n",
       "  </tbody>\n",
       "</table>\n",
       "</div>"
      ],
      "text/plain": [
       "                  feature       imp\n",
       "6                   finde  0.528987\n",
       "7                 nom_dia  0.244740\n",
       "1               dif_clima  0.145708\n",
       "4              rango_edad  0.064783\n",
       "3          tipo_colision1  0.015782\n",
       "0              tipo_calle  0.000000\n",
       "2                  comuna  0.000000\n",
       "5  participantes_acusados  0.000000"
      ]
     },
     "execution_count": 312,
     "metadata": {},
     "output_type": "execute_result"
    }
   ],
   "source": [
    "importancia = pd.DataFrame()\n",
    "importancia['feature'] = pd.Series(X.columns)\n",
    "importancia['imp'] = modelo_xgb.feature_importances_\n",
    "importancia.sort_values(by='imp', ascending=False)"
   ]
  },
  {
   "cell_type": "code",
   "execution_count": 313,
   "id": "3168df04",
   "metadata": {},
   "outputs": [
    {
     "data": {
      "text/html": [
       "<div>\n",
       "<style scoped>\n",
       "    .dataframe tbody tr th:only-of-type {\n",
       "        vertical-align: middle;\n",
       "    }\n",
       "\n",
       "    .dataframe tbody tr th {\n",
       "        vertical-align: top;\n",
       "    }\n",
       "\n",
       "    .dataframe thead th {\n",
       "        text-align: right;\n",
       "    }\n",
       "</style>\n",
       "<table border=\"1\" class=\"dataframe\">\n",
       "  <thead>\n",
       "    <tr style=\"text-align: right;\">\n",
       "      <th></th>\n",
       "      <th>feature</th>\n",
       "      <th>imp</th>\n",
       "    </tr>\n",
       "  </thead>\n",
       "  <tbody>\n",
       "    <tr>\n",
       "      <th>7</th>\n",
       "      <td>nom_dia</td>\n",
       "      <td>0.214128</td>\n",
       "    </tr>\n",
       "    <tr>\n",
       "      <th>6</th>\n",
       "      <td>finde</td>\n",
       "      <td>0.158571</td>\n",
       "    </tr>\n",
       "    <tr>\n",
       "      <th>2</th>\n",
       "      <td>comuna</td>\n",
       "      <td>0.158177</td>\n",
       "    </tr>\n",
       "    <tr>\n",
       "      <th>1</th>\n",
       "      <td>dif_clima</td>\n",
       "      <td>0.152417</td>\n",
       "    </tr>\n",
       "    <tr>\n",
       "      <th>3</th>\n",
       "      <td>tipo_colision1</td>\n",
       "      <td>0.117609</td>\n",
       "    </tr>\n",
       "    <tr>\n",
       "      <th>4</th>\n",
       "      <td>rango_edad</td>\n",
       "      <td>0.086893</td>\n",
       "    </tr>\n",
       "    <tr>\n",
       "      <th>5</th>\n",
       "      <td>participantes_acusados</td>\n",
       "      <td>0.070464</td>\n",
       "    </tr>\n",
       "    <tr>\n",
       "      <th>0</th>\n",
       "      <td>tipo_calle</td>\n",
       "      <td>0.041741</td>\n",
       "    </tr>\n",
       "  </tbody>\n",
       "</table>\n",
       "</div>"
      ],
      "text/plain": [
       "                  feature       imp\n",
       "7                 nom_dia  0.214128\n",
       "6                   finde  0.158571\n",
       "2                  comuna  0.158177\n",
       "1               dif_clima  0.152417\n",
       "3          tipo_colision1  0.117609\n",
       "4              rango_edad  0.086893\n",
       "5  participantes_acusados  0.070464\n",
       "0              tipo_calle  0.041741"
      ]
     },
     "execution_count": 313,
     "metadata": {},
     "output_type": "execute_result"
    }
   ],
   "source": [
    "importancia = pd.DataFrame()\n",
    "importancia['feature'] = pd.Series(X.columns)\n",
    "importancia['imp'] = modelo_rf.feature_importances_\n",
    "importancia.sort_values(by='imp', ascending=False)"
   ]
  },
  {
   "attachments": {},
   "cell_type": "markdown",
   "id": "31c803e6",
   "metadata": {},
   "source": [
    "CONCLUYO QUE LAS COLUMNAS 'tipo_calle', y 'participantes_acusados' NO TIENEN INFLUENCIA EN LA PREDICCION DE 'dia o noche' "
   ]
  },
  {
   "attachments": {},
   "cell_type": "markdown",
   "id": "0a7f259e",
   "metadata": {},
   "source": [
    "COMO COMENTARIO, NO QUITO ESTAS COLUMNAS EN ESTA ENTREGA PARA MOSTRAR LOS AVANCES QUE VOY HACIENDO, EN LA PROXIMA ENTREGA LOS ERRORES Y LAS COSAS QUE CONCLUÍ QUE CONVIENE QUITAR, LAS QUITARÉ"
   ]
  },
  {
   "attachments": {},
   "cell_type": "markdown",
   "id": "823bd609",
   "metadata": {},
   "source": []
  }
 ],
 "metadata": {
  "kernelspec": {
   "display_name": "Python 3",
   "language": "python",
   "name": "python3"
  },
  "language_info": {
   "codemirror_mode": {
    "name": "ipython",
    "version": 3
   },
   "file_extension": ".py",
   "mimetype": "text/x-python",
   "name": "python",
   "nbconvert_exporter": "python",
   "pygments_lexer": "ipython3",
   "version": "3.9.12"
  }
 },
 "nbformat": 4,
 "nbformat_minor": 5
}
