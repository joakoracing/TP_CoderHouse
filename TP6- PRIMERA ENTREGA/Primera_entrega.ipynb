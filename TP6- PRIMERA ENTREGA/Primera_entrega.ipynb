{
 "cells": [
  {
   "cell_type": "markdown",
   "id": "602409a2",
   "metadata": {},
   "source": [
    "PRIMER ENTREGA"
   ]
  },
  {
   "cell_type": "markdown",
   "id": "5197b40a",
   "metadata": {},
   "source": [
    "En esta primer entrega presentaré el set de datos elegido para el proyecto final, que es un registro de accidentes viales de la Ciudad de Buenos Aires (desde ahora CABA), descargado de la pagina oficial del Gobierno de la Ciudad.\n",
    "\n",
    "En este primer analisis veremos los detalles de este dataset, como por ejemplo el periodo de tiempo que abarca, los datos geograficos que nos dan, con que detalles del accidente contamos, etc. \n",
    "\n",
    "La motivación de esta elección es el estudio de casos reales y cercanos a mi en cierto punto (ya que vivo cerca de la ciudad de buenos aires y trabajo ahí) que me permitirá plantear preguntas interesantes y sacar conclusiones usando mi conocimiento de la Ciudad y sus conductores/transeuntes.\n",
    "\n",
    "La audiencia que se vería beneficiada con este analisis es el ciudadano de CABA, que está expuesto a los infractores y el peligro que estos suponen, ya que, como opinión personal, los conductores y peatones de CABA tienen una tendencia general al desinteres hacia el projimo en las circunstancias de la vialidad.\n",
    "\n",
    "Las preguntas que haré a lo largo de la entrega se basaran en el estudio del set de datos, pero como primer objetivo a tener en cuenta, quiero reducir la cantidad de siniestros en la Ciudad de Buenos Aires, con medidas que utilicen la información presente en los datos del dataset, para esto asumo que me contrata el Gobierno de la Ciudad. "
   ]
  },
  {
   "cell_type": "markdown",
   "id": "4b770b2c",
   "metadata": {},
   "source": [
    "IMPORTO LAS LIBRERIAS A UTILIZAR.\n",
    "\n",
    "LUEGO IMPORTO Y CARGO EL SET DE DATOS EN UN DATAFRAME LLAMADO \"sin_df\"."
   ]
  },
  {
   "cell_type": "code",
   "execution_count": 1,
   "id": "495a14eb",
   "metadata": {},
   "outputs": [],
   "source": [
    "import pandas as pd"
   ]
  },
  {
   "cell_type": "code",
   "execution_count": 5,
   "id": "a83a11a7",
   "metadata": {
    "scrolled": true
   },
   "outputs": [
    {
     "name": "stdout",
     "output_type": "stream",
     "text": [
      "<class 'pandas.core.frame.DataFrame'>\n",
      "RangeIndex: 33234 entries, 0 to 33233\n",
      "Data columns (total 29 columns):\n",
      " #   Column                        Non-Null Count  Dtype  \n",
      "---  ------                        --------------  -----  \n",
      " 0   causa                         33234 non-null  object \n",
      " 1   rol                           32899 non-null  object \n",
      " 2   tipo                          32134 non-null  object \n",
      " 3   sexo                          33037 non-null  object \n",
      " 4   edad                          32675 non-null  float64\n",
      " 5   mes                           33197 non-null  float64\n",
      " 6   periodo                       33234 non-null  int64  \n",
      " 7   fecha                         33173 non-null  object \n",
      " 8   hora                          33217 non-null  object \n",
      " 9   lugar_hecho                   29518 non-null  object \n",
      " 10  direccion_normalizada         32469 non-null  object \n",
      " 11  tipo_calle                    33234 non-null  object \n",
      " 12  direccion_normalizada_arcgis  32462 non-null  object \n",
      " 13  calle1                        32469 non-null  object \n",
      " 14  altura                        7111 non-null   float64\n",
      " 15  calle2                        24987 non-null  object \n",
      " 16  codigo_calle                  23944 non-null  float64\n",
      " 17  codigo_cruce                  20709 non-null  float64\n",
      " 18  geocodificacion               32139 non-null  object \n",
      " 19  semestre                      33234 non-null  int64  \n",
      " 20  x                             32139 non-null  float64\n",
      " 21  y                             32139 non-null  float64\n",
      " 22  geom                          32139 non-null  object \n",
      " 23  cantidad_victimas             33234 non-null  int64  \n",
      " 24  comuna                        32136 non-null  float64\n",
      " 25  geom_3857                     32139 non-null  object \n",
      " 26  tipo_colision1                31891 non-null  object \n",
      " 27  participantes_victimas        32103 non-null  object \n",
      " 28  participantes_acusados        32557 non-null  object \n",
      "dtypes: float64(8), int64(3), object(18)\n",
      "memory usage: 7.4+ MB\n"
     ]
    },
    {
     "name": "stderr",
     "output_type": "stream",
     "text": [
      "C:\\Users\\Seguridad\\AppData\\Local\\Temp\\ipykernel_17220\\2868349731.py:2: DtypeWarning: Columns (9) have mixed types. Specify dtype option on import or set low_memory=False.\n",
      "  sin_df = pd.read_csv(siniestros)\n"
     ]
    }
   ],
   "source": [
    "siniestros = 'victimas-siniestros.csv'\n",
    "sin_df = pd.read_csv(siniestros)\n",
    "sin_df.info()"
   ]
  },
  {
   "attachments": {},
   "cell_type": "markdown",
   "id": "d24819ad",
   "metadata": {},
   "source": [
    "Tengo 29 columnas en el dataset, en esta entrega no haré la limpieza de las columnas, pero si una exploración para entender cuales son las mas importantes y cuales son redundantes."
   ]
  },
  {
   "cell_type": "code",
   "execution_count": 11,
   "id": "d2375a1b",
   "metadata": {},
   "outputs": [],
   "source": [
    "datos_sin = sin_df[['causa','rol','tipo','cantidad_victimas','participantes_victimas','participantes_acusados','tipo_calle','tipo_colision1']]\n",
    "datos_pers = sin_df[['rol','sexo','edad']]\n",
    "datos_fecha_geo = [['mes','periodo','fecha','hora','lugar_hecho','direccion_normalizada','direccion_normalizada_arcgis','calle1','altura','calle2','codigo_calle','codigo_cruce','geocodificacion','semestre','x','y','geom','comuna','geom_3857']]"
   ]
  },
  {
   "attachments": {},
   "cell_type": "markdown",
   "id": "f9649dcd",
   "metadata": {},
   "source": [
    "El dataset me ofrece datos del siniestro, de la persona involucrada y de la fecha y ubicación del hecho. Divido estos datos en 3 dataframes para analizar estos y encontrar redundancias."
   ]
  },
  {
   "cell_type": "code",
   "execution_count": null,
   "id": "f0135f3f",
   "metadata": {},
   "outputs": [],
   "source": []
  },
  {
   "cell_type": "code",
   "execution_count": null,
   "id": "c7a4a01e",
   "metadata": {},
   "outputs": [],
   "source": []
  },
  {
   "cell_type": "code",
   "execution_count": null,
   "id": "fcaae02a",
   "metadata": {},
   "outputs": [],
   "source": []
  },
  {
   "cell_type": "code",
   "execution_count": null,
   "id": "0777e217",
   "metadata": {},
   "outputs": [],
   "source": []
  }
 ],
 "metadata": {
  "kernelspec": {
   "display_name": "Python 3",
   "language": "python",
   "name": "python3"
  },
  "language_info": {
   "codemirror_mode": {
    "name": "ipython",
    "version": 3
   },
   "file_extension": ".py",
   "mimetype": "text/x-python",
   "name": "python",
   "nbconvert_exporter": "python",
   "pygments_lexer": "ipython3",
   "version": "3.9.12"
  }
 },
 "nbformat": 4,
 "nbformat_minor": 5
}
