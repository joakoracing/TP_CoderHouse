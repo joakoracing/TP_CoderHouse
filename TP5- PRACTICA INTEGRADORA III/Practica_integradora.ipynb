{
 "cells": [
  {
   "cell_type": "markdown",
   "id": "68b3353c",
   "metadata": {},
   "source": [
    "A CONTINUACION VOY A ELEGIR LAS COLUMNAS, QUE SEGUN LAS ENTREGAS ANTERIORES, SON LAS MAS IMPORTANTES, Y ENTRENARE UN ALGORITMO DE REGRESION PARA PREDECIR LA EDAD DEL IMPLICADO (y un arbol de decision para predecir el tipo de vehiculo involucrado en el siniestro)"
   ]
  },
  {
   "cell_type": "code",
   "execution_count": 1,
   "id": "b5744024",
   "metadata": {},
   "outputs": [],
   "source": [
    "import numpy as np\n",
    "import pandas as pd\n",
    "import scipy.sparse as sp\n",
    "import matplotlib.pyplot as plt\n",
    "import matplotlib.dates as mdates\n",
    "import matplotlib as mpl\n",
    "import seaborn as sns\n",
    "from sklearn.linear_model import LinearRegression\n",
    "from sklearn.model_selection import train_test_split\n",
    "from sklearn.preprocessing import OneHotEncoder\n",
    "from sklearn.tree import DecisionTreeClassifier"
   ]
  },
  {
   "cell_type": "code",
   "execution_count": 2,
   "id": "a6c89c79",
   "metadata": {},
   "outputs": [
    {
     "name": "stderr",
     "output_type": "stream",
     "text": [
      "C:\\Users\\Seguridad\\AppData\\Local\\Temp\\ipykernel_14448\\1239150759.py:2: DtypeWarning: Columns (9) have mixed types. Specify dtype option on import or set low_memory=False.\n",
      "  sin_df = pd.read_csv(siniestros)\n"
     ]
    }
   ],
   "source": [
    "siniestros = 'victimas-siniestros.csv'\n",
    "sin_df = pd.read_csv(siniestros)"
   ]
  },
  {
   "cell_type": "markdown",
   "id": "439d6fc6",
   "metadata": {},
   "source": [
    "VEO CANTIDAD DE NULOS POR COLUMNA"
   ]
  },
  {
   "cell_type": "code",
   "execution_count": 3,
   "id": "e97fe41a",
   "metadata": {},
   "outputs": [
    {
     "data": {
      "text/plain": [
       "causa                               0\n",
       "rol                               335\n",
       "tipo                             1100\n",
       "sexo                              197\n",
       "edad                              559\n",
       "mes                                37\n",
       "periodo                             0\n",
       "fecha                              61\n",
       "hora                               17\n",
       "lugar_hecho                      3716\n",
       "direccion_normalizada             765\n",
       "tipo_calle                          0\n",
       "direccion_normalizada_arcgis      772\n",
       "calle1                            765\n",
       "altura                          26123\n",
       "calle2                           8247\n",
       "codigo_calle                     9290\n",
       "codigo_cruce                    12525\n",
       "geocodificacion                  1095\n",
       "semestre                            0\n",
       "x                                1095\n",
       "y                                1095\n",
       "geom                             1095\n",
       "cantidad_victimas                   0\n",
       "comuna                           1098\n",
       "geom_3857                        1095\n",
       "tipo_colision1                   1343\n",
       "participantes_victimas           1131\n",
       "participantes_acusados            677\n",
       "dtype: int64"
      ]
     },
     "execution_count": 3,
     "metadata": {},
     "output_type": "execute_result"
    }
   ],
   "source": [
    "sin_df.isnull().sum()"
   ]
  },
  {
   "cell_type": "markdown",
   "id": "7ed64e9a",
   "metadata": {},
   "source": [
    "PRIMERO PARA REALIZAR EL FEATURE SELECTION VOY A LIMPIAR EL DATASET"
   ]
  },
  {
   "cell_type": "code",
   "execution_count": 4,
   "id": "f3db0c8a",
   "metadata": {},
   "outputs": [
    {
     "data": {
      "text/plain": [
       "causa\n",
       "lesiones     32795\n",
       "homicidio      439\n",
       "dtype: int64"
      ]
     },
     "execution_count": 4,
     "metadata": {},
     "output_type": "execute_result"
    }
   ],
   "source": [
    "sin_df.value_counts('causa')"
   ]
  },
  {
   "cell_type": "code",
   "execution_count": 5,
   "id": "eaa8ae5e",
   "metadata": {},
   "outputs": [],
   "source": [
    "sin_df['comuna'].fillna(0,inplace=True)\n",
    "sin_df['comuna'] = sin_df['comuna'].astype(int)"
   ]
  },
  {
   "cell_type": "markdown",
   "id": "ebc7e424",
   "metadata": {},
   "source": [
    "SACO LAS 37 FILAS CON LA COLUMNA 'mes' CON UN VALOR NULO "
   ]
  },
  {
   "cell_type": "code",
   "execution_count": 6,
   "id": "a59a9f18",
   "metadata": {},
   "outputs": [],
   "source": [
    "sin_df.dropna(subset=['mes','hora'],inplace=True)"
   ]
  },
  {
   "cell_type": "markdown",
   "id": "649e060d",
   "metadata": {},
   "source": [
    "RELLENO LOS VALORES NULOS DE OTRAS COLUMNAS"
   ]
  },
  {
   "cell_type": "code",
   "execution_count": 7,
   "id": "1ee3d636",
   "metadata": {},
   "outputs": [],
   "source": [
    "sin_df['tipo_colision1'].fillna('sin_data',inplace=True)\n",
    "sin_df['tipo'].fillna('sin_data',inplace=True)\n",
    "sin_df['rol'].fillna('sin_data',inplace=True)\n",
    "sin_df['sexo'].fillna('sin_data',inplace=True)\n",
    "sin_df['calle1'].fillna('sin_data',inplace=True)\n",
    "sin_df['participantes_acusados'].fillna('sin_data',inplace=True)\n",
    "sin_df['participantes_victimas'].fillna('sin_data',inplace=True)\n",
    "sin_df['codigo_calle'].fillna(-1,inplace=True)\n",
    "sin_df['x'].fillna(-1,inplace=True)\n",
    "sin_df['y'].fillna(-1,inplace=True)\n",
    "sin_df['edad'].fillna(-1,inplace=True)\n",
    "sin_df['geom_3857'].fillna(-1,inplace=True)\n",
    "#sin_df['hora'] = sin_df['hora'].to_datetime(inplace=True)\n"
   ]
  },
  {
   "cell_type": "code",
   "execution_count": 8,
   "id": "a53be5bb",
   "metadata": {},
   "outputs": [],
   "source": [
    "#def simplificar_tipo(ser):\n",
    "#    return ser\n",
    "\n",
    "#def simplificar_tipocolision(ser):\n",
    "#    return ser"
   ]
  },
  {
   "cell_type": "code",
   "execution_count": 9,
   "id": "8505b53f",
   "metadata": {
    "scrolled": true
   },
   "outputs": [],
   "source": [
    "#sin_df['tipo_simpl'] = sin_df['tipo'].apply(simplificar_tipo)\n",
    "#sin_df['tipo_col_simpl'] = sin_df['tipo_colision1'].apply(simplificar_tipo)"
   ]
  },
  {
   "cell_type": "markdown",
   "id": "f04033cf",
   "metadata": {},
   "source": [
    "Todavia no lo hice, pero arriba tengo que simplificar estas columnas en 4 o 5 categorias"
   ]
  },
  {
   "cell_type": "code",
   "execution_count": 10,
   "id": "91b39c73",
   "metadata": {
    "scrolled": false
   },
   "outputs": [
    {
     "name": "stdout",
     "output_type": "stream",
     "text": [
      "<class 'pandas.core.frame.DataFrame'>\n",
      "Int64Index: 33181 entries, 0 to 33233\n",
      "Data columns (total 16 columns):\n",
      " #   Column                  Non-Null Count  Dtype  \n",
      "---  ------                  --------------  -----  \n",
      " 0   edad                    33181 non-null  float64\n",
      " 1   tipo_colision1          33181 non-null  object \n",
      " 2   tipo                    33181 non-null  object \n",
      " 3   causa                   33181 non-null  object \n",
      " 4   rol                     33181 non-null  object \n",
      " 5   sexo                    33181 non-null  object \n",
      " 6   codigo_calle            33181 non-null  float64\n",
      " 7   calle1                  33181 non-null  object \n",
      " 8   x                       33181 non-null  float64\n",
      " 9   y                       33181 non-null  float64\n",
      " 10  geom_3857               33181 non-null  object \n",
      " 11  mes                     33181 non-null  float64\n",
      " 12  hora                    33181 non-null  object \n",
      " 13  comuna                  33181 non-null  int32  \n",
      " 14  participantes_acusados  33181 non-null  object \n",
      " 15  participantes_victimas  33181 non-null  object \n",
      "dtypes: float64(5), int32(1), object(10)\n",
      "memory usage: 4.2+ MB\n"
     ]
    }
   ],
   "source": [
    "sin_df = sin_df[['edad','tipo_colision1','tipo','causa','rol','sexo','codigo_calle','calle1','x','y','geom_3857','mes','hora','comuna','participantes_acusados','participantes_victimas']]\n",
    "sin_df.info()"
   ]
  },
  {
   "cell_type": "markdown",
   "id": "dd505d28",
   "metadata": {},
   "source": [
    "CONSEGUI UN DATASET CON LAS COLUMNAS QUE CONSIDERO MAS IMPORTANTES, SIN VALORES NULOS"
   ]
  },
  {
   "cell_type": "markdown",
   "id": "20b898a0",
   "metadata": {},
   "source": [
    "Ahora voy a entrenar mi algoritmo para predecir la EDAD de la persona involucrada, basandose en las otras 13 columnas elegidas."
   ]
  },
  {
   "cell_type": "code",
   "execution_count": 11,
   "id": "c36051b0",
   "metadata": {},
   "outputs": [],
   "source": [
    "#sin_df = sin_df[['edad','codigo_calle','x','y','mes','comuna']]"
   ]
  },
  {
   "cell_type": "code",
   "execution_count": 12,
   "id": "ff531bcf",
   "metadata": {},
   "outputs": [],
   "source": [
    "X = sin_df.drop(\"edad\", axis=1)\n",
    "y = sin_df[\"edad\"]\n",
    "X = pd.get_dummies(X, columns=['tipo_colision1','tipo','rol','sexo','codigo_calle','calle1','x','y','geom_3857','mes','hora','comuna','participantes_acusados','participantes_victimas'])"
   ]
  },
  {
   "cell_type": "code",
   "execution_count": 13,
   "id": "5a49e647",
   "metadata": {},
   "outputs": [],
   "source": [
    "X_train, X_test, y_train, y_test = train_test_split(X, y, test_size=0.2, random_state=42)"
   ]
  },
  {
   "cell_type": "code",
   "execution_count": 14,
   "id": "a2950c9a",
   "metadata": {},
   "outputs": [],
   "source": [
    "#reg = LinearRegression().fit(X_train, y_train)"
   ]
  },
  {
   "cell_type": "code",
   "execution_count": 15,
   "id": "76887369",
   "metadata": {},
   "outputs": [],
   "source": [
    "#y_pred = reg.predict(X_test)"
   ]
  },
  {
   "cell_type": "code",
   "execution_count": 16,
   "id": "3756f369",
   "metadata": {},
   "outputs": [],
   "source": [
    "#score = reg.score(X_test, y_test)\n",
    "#print(\"Precisión del modelo: {:.2f}%\".format(score * 100))"
   ]
  },
  {
   "cell_type": "markdown",
   "id": "276f4332",
   "metadata": {},
   "source": [
    "HICE LA PRUEBA DE ENTRENAR UN MODELO SOLO CON 3 COLUMNAS NUMERICAS PARA COMPROBAR QUE EL ALGORITMO FUNCIONA; AHORA RESTARIA LIMPIAR Y CATEGORIZAR LAS VARIABLES PARA MEJORAR LA PRECISION"
   ]
  },
  {
   "cell_type": "code",
   "execution_count": 17,
   "id": "180d9237",
   "metadata": {},
   "outputs": [],
   "source": [
    "X = sin_df.drop(\"causa\", axis=1)\n",
    "y = sin_df[\"causa\"]"
   ]
  },
  {
   "cell_type": "code",
   "execution_count": 18,
   "id": "be3ea945",
   "metadata": {
    "scrolled": false
   },
   "outputs": [],
   "source": [
    "#X_train, X_test, y_train, y_test = train_test_split(X, y, test_size=0.2, random_state=42)\n",
    "#TENGO QUE HACER QUE LAS COLUMNAS SEAN CATEGORICAS O NUMERICAS"
   ]
  },
  {
   "cell_type": "code",
   "execution_count": 19,
   "id": "baeeb680",
   "metadata": {},
   "outputs": [],
   "source": [
    "#clf = DecisionTreeClassifier().fit(X_train, y_train)"
   ]
  },
  {
   "cell_type": "code",
   "execution_count": 20,
   "id": "0b7671ea",
   "metadata": {},
   "outputs": [],
   "source": [
    "#y_pred = clf.predict(X_test)"
   ]
  },
  {
   "cell_type": "code",
   "execution_count": 21,
   "id": "586d4aa5",
   "metadata": {},
   "outputs": [],
   "source": [
    "#score = clf.score(X_test, y_test)\n",
    "#print(\"Precisión del modelo: {:.2f}%\".format(score * 100))"
   ]
  },
  {
   "cell_type": "markdown",
   "id": "ab7142cb",
   "metadata": {},
   "source": [
    "NO LLEGUE A HACER LAS CATEGORIAS PARA ESTA ENTREGA POR LO CUAL NO TENGO UN ALGORITMO ENTRENADO QUE ME DE UN VALOR APRECIABLE DE SCORE "
   ]
  },
  {
   "cell_type": "code",
   "execution_count": null,
   "id": "7c1a88ec",
   "metadata": {},
   "outputs": [],
   "source": []
  },
  {
   "cell_type": "code",
   "execution_count": null,
   "id": "a194c9c8",
   "metadata": {},
   "outputs": [],
   "source": []
  },
  {
   "cell_type": "code",
   "execution_count": null,
   "id": "6ec5a636",
   "metadata": {},
   "outputs": [],
   "source": []
  },
  {
   "cell_type": "markdown",
   "id": "0dfb4388",
   "metadata": {},
   "source": [
    "COMO ALGO COMPLEMENTARIO HAGO ALGUNOS dataframes QUE ESTUDIARE LUEGO"
   ]
  },
  {
   "cell_type": "code",
   "execution_count": 173,
   "id": "f5288103",
   "metadata": {},
   "outputs": [],
   "source": [
    "bicis = sin_df.loc[(sin_df['tipo_colision1'].str.contains('bici'))|(sin_df['tipo'].str.contains('bici'))]\n",
    "motos = sin_df.loc[(sin_df['tipo_colision1'].str.contains('moto'))|(sin_df['tipo'].str.contains('moto'))]\n",
    "peaton = sin_df.loc[(sin_df['tipo_colision1'].str.contains('peaton'))|(sin_df['tipo'].str.contains('peaton'))]"
   ]
  },
  {
   "cell_type": "code",
   "execution_count": 174,
   "id": "e74b58d5",
   "metadata": {},
   "outputs": [],
   "source": [
    "calles_peligrosas = bicis.value_counts('calle1')\n",
    "calles_peligrosas2 = bicis.value_counts('calle2')"
   ]
  },
  {
   "cell_type": "code",
   "execution_count": 182,
   "id": "7e80e209",
   "metadata": {
    "scrolled": true
   },
   "outputs": [],
   "source": [
    "vacaciones = sin_df.loc[(sin_df['mes']==1) | (sin_df['mes']==2)]"
   ]
  },
  {
   "cell_type": "code",
   "execution_count": 183,
   "id": "ea8d8bc4",
   "metadata": {},
   "outputs": [],
   "source": [
    "calles_peligrosas = sin_df.value_counts('calle1')\n",
    "calles_peligrosas2 = sin_df.value_counts('calle2')"
   ]
  },
  {
   "cell_type": "code",
   "execution_count": 184,
   "id": "0e0be57c",
   "metadata": {},
   "outputs": [],
   "source": [
    "c_pel = calles_peligrosas[calles_peligrosas>5].to_frame().reset_index()\n",
    "c_pel2 = calles_peligrosas2[calles_peligrosas2>5].to_frame().reset_index()"
   ]
  },
  {
   "cell_type": "code",
   "execution_count": 185,
   "id": "35bc5598",
   "metadata": {},
   "outputs": [],
   "source": [
    "c_pel = c_pel.loc[~(c_pel['calle1'].str.contains('av.'))]"
   ]
  },
  {
   "cell_type": "code",
   "execution_count": 186,
   "id": "0bcf23e8",
   "metadata": {},
   "outputs": [],
   "source": [
    "calles_peligrosas = c_pel.merge(c_pel2,right_on='calle2',left_on='calle1',how='inner')\n",
    "calles_peligrosas['total'] = calles_peligrosas['0_x'] + calles_peligrosas['0_y']\n",
    "calles_pel = calles_peligrosas[['calle1','total']]"
   ]
  }
 ],
 "metadata": {
  "kernelspec": {
   "display_name": "Python 3",
   "language": "python",
   "name": "python3"
  },
  "language_info": {
   "codemirror_mode": {
    "name": "ipython",
    "version": 3
   },
   "file_extension": ".py",
   "mimetype": "text/x-python",
   "name": "python",
   "nbconvert_exporter": "python",
   "pygments_lexer": "ipython3",
   "version": "3.10.9"
  }
 },
 "nbformat": 4,
 "nbformat_minor": 5
}
