{
 "cells": [
  {
   "cell_type": "code",
   "execution_count": 1,
   "id": "0a5d3ee3",
   "metadata": {},
   "outputs": [],
   "source": [
    "import numpy as np\n",
    "import pandas as pd\n",
    "import scipy.sparse as sp\n",
    "import matplotlib.pyplot as plt\n",
    "import matplotlib.dates as mdates\n",
    "import matplotlib as mpl\n",
    "import seaborn as sns\n",
    "from sklearn.linear_model import LinearRegression\n",
    "from sklearn.model_selection import train_test_split\n",
    "from sklearn.preprocessing import OneHotEncoder\n",
    "from sklearn.tree import DecisionTreeClassifier"
   ]
  },
  {
   "cell_type": "code",
   "execution_count": 2,
   "id": "56a62ec3",
   "metadata": {},
   "outputs": [
    {
     "name": "stderr",
     "output_type": "stream",
     "text": [
      "C:\\Users\\Seguridad\\AppData\\Local\\Temp\\ipykernel_9564\\1239150759.py:2: DtypeWarning: Columns (9) have mixed types. Specify dtype option on import or set low_memory=False.\n",
      "  sin_df = pd.read_csv(siniestros)\n"
     ]
    }
   ],
   "source": [
    "siniestros = 'victimas-siniestros.csv'\n",
    "sin_df = pd.read_csv(siniestros)"
   ]
  },
  {
   "cell_type": "markdown",
   "id": "c6cc7c57",
   "metadata": {},
   "source": [
    "COMIENZA EL PROCESO DE LIMPIEZA DEL DATASET"
   ]
  },
  {
   "cell_type": "code",
   "execution_count": 3,
   "id": "47a39ca8",
   "metadata": {},
   "outputs": [
    {
     "data": {
      "text/html": [
       "<div>\n",
       "<style scoped>\n",
       "    .dataframe tbody tr th:only-of-type {\n",
       "        vertical-align: middle;\n",
       "    }\n",
       "\n",
       "    .dataframe tbody tr th {\n",
       "        vertical-align: top;\n",
       "    }\n",
       "\n",
       "    .dataframe thead th {\n",
       "        text-align: right;\n",
       "    }\n",
       "</style>\n",
       "<table border=\"1\" class=\"dataframe\">\n",
       "  <thead>\n",
       "    <tr style=\"text-align: right;\">\n",
       "      <th></th>\n",
       "      <th>causa</th>\n",
       "      <th>rol</th>\n",
       "      <th>tipo</th>\n",
       "      <th>sexo</th>\n",
       "      <th>edad</th>\n",
       "      <th>mes</th>\n",
       "      <th>periodo</th>\n",
       "      <th>fecha</th>\n",
       "      <th>hora</th>\n",
       "      <th>lugar_hecho</th>\n",
       "      <th>...</th>\n",
       "      <th>semestre</th>\n",
       "      <th>x</th>\n",
       "      <th>y</th>\n",
       "      <th>geom</th>\n",
       "      <th>cantidad_victimas</th>\n",
       "      <th>comuna</th>\n",
       "      <th>geom_3857</th>\n",
       "      <th>tipo_colision1</th>\n",
       "      <th>participantes_victimas</th>\n",
       "      <th>participantes_acusados</th>\n",
       "    </tr>\n",
       "  </thead>\n",
       "  <tbody>\n",
       "    <tr>\n",
       "      <th>0</th>\n",
       "      <td>homicidio</td>\n",
       "      <td>conductor</td>\n",
       "      <td>moto</td>\n",
       "      <td>NaN</td>\n",
       "      <td>NaN</td>\n",
       "      <td>2.0</td>\n",
       "      <td>2015</td>\n",
       "      <td>2/14/2015</td>\n",
       "      <td>19:00:00</td>\n",
       "      <td>cafayate y severo garcia grande de zequeira</td>\n",
       "      <td>...</td>\n",
       "      <td>1</td>\n",
       "      <td>-58.508658</td>\n",
       "      <td>-34.653489</td>\n",
       "      <td>0101000020E610000057E042B51B414DC008419885A553...</td>\n",
       "      <td>1</td>\n",
       "      <td>9.0</td>\n",
       "      <td>0101000020110F0000DE9B958180D858C1EC802966CD68...</td>\n",
       "      <td>motovehiculo - vehiculo</td>\n",
       "      <td>moto</td>\n",
       "      <td>automovil</td>\n",
       "    </tr>\n",
       "    <tr>\n",
       "      <th>1</th>\n",
       "      <td>homicidio</td>\n",
       "      <td>NaN</td>\n",
       "      <td>NaN</td>\n",
       "      <td>NaN</td>\n",
       "      <td>NaN</td>\n",
       "      <td>2.0</td>\n",
       "      <td>2015</td>\n",
       "      <td>2/25/2015</td>\n",
       "      <td>3:00:00</td>\n",
       "      <td>lugones, leopoldo av. y udaondo, guillermo av.</td>\n",
       "      <td>...</td>\n",
       "      <td>1</td>\n",
       "      <td>-58.447680</td>\n",
       "      <td>-34.543513</td>\n",
       "      <td>0101000020E6100000CC4C4C904D394DC0FAF382D99145...</td>\n",
       "      <td>1</td>\n",
       "      <td>13.0</td>\n",
       "      <td>0101000020110F0000BFBC457BDFD158C1E1DDA818C14B...</td>\n",
       "      <td>NaN</td>\n",
       "      <td>NaN</td>\n",
       "      <td>NaN</td>\n",
       "    </tr>\n",
       "    <tr>\n",
       "      <th>2</th>\n",
       "      <td>homicidio</td>\n",
       "      <td>peaton</td>\n",
       "      <td>peaton</td>\n",
       "      <td>femenino</td>\n",
       "      <td>NaN</td>\n",
       "      <td>2.0</td>\n",
       "      <td>2015</td>\n",
       "      <td>2/27/2015</td>\n",
       "      <td>8:00:00</td>\n",
       "      <td>avda jujuy y avda independencia</td>\n",
       "      <td>...</td>\n",
       "      <td>1</td>\n",
       "      <td>-58.403516</td>\n",
       "      <td>-34.618839</td>\n",
       "      <td>0101000020E6100000FBC35B67A6334DC03F854E1F364F...</td>\n",
       "      <td>1</td>\n",
       "      <td>3.0</td>\n",
       "      <td>0101000020110F0000F8067D6812CD58C189755F66A55F...</td>\n",
       "      <td>peaton - vehiculo</td>\n",
       "      <td>peaton</td>\n",
       "      <td>\"transporte publico\"</td>\n",
       "    </tr>\n",
       "  </tbody>\n",
       "</table>\n",
       "<p>3 rows × 29 columns</p>\n",
       "</div>"
      ],
      "text/plain": [
       "       causa        rol    tipo      sexo  edad  mes  periodo      fecha  \\\n",
       "0  homicidio  conductor    moto       NaN   NaN  2.0     2015  2/14/2015   \n",
       "1  homicidio        NaN     NaN       NaN   NaN  2.0     2015  2/25/2015   \n",
       "2  homicidio     peaton  peaton  femenino   NaN  2.0     2015  2/27/2015   \n",
       "\n",
       "       hora                                     lugar_hecho  ... semestre  \\\n",
       "0  19:00:00     cafayate y severo garcia grande de zequeira  ...        1   \n",
       "1   3:00:00  lugones, leopoldo av. y udaondo, guillermo av.  ...        1   \n",
       "2   8:00:00                 avda jujuy y avda independencia  ...        1   \n",
       "\n",
       "           x          y                                               geom  \\\n",
       "0 -58.508658 -34.653489  0101000020E610000057E042B51B414DC008419885A553...   \n",
       "1 -58.447680 -34.543513  0101000020E6100000CC4C4C904D394DC0FAF382D99145...   \n",
       "2 -58.403516 -34.618839  0101000020E6100000FBC35B67A6334DC03F854E1F364F...   \n",
       "\n",
       "   cantidad_victimas comuna  \\\n",
       "0                  1    9.0   \n",
       "1                  1   13.0   \n",
       "2                  1    3.0   \n",
       "\n",
       "                                           geom_3857           tipo_colision1  \\\n",
       "0  0101000020110F0000DE9B958180D858C1EC802966CD68...  motovehiculo - vehiculo   \n",
       "1  0101000020110F0000BFBC457BDFD158C1E1DDA818C14B...                      NaN   \n",
       "2  0101000020110F0000F8067D6812CD58C189755F66A55F...        peaton - vehiculo   \n",
       "\n",
       "  participantes_victimas  participantes_acusados  \n",
       "0                   moto               automovil  \n",
       "1                    NaN                     NaN  \n",
       "2                 peaton    \"transporte publico\"  \n",
       "\n",
       "[3 rows x 29 columns]"
      ]
     },
     "execution_count": 3,
     "metadata": {},
     "output_type": "execute_result"
    }
   ],
   "source": [
    "sin_df.head(3)"
   ]
  },
  {
   "cell_type": "code",
   "execution_count": 4,
   "id": "b4ddd29f",
   "metadata": {},
   "outputs": [
    {
     "name": "stdout",
     "output_type": "stream",
     "text": [
      "<class 'pandas.core.frame.DataFrame'>\n",
      "RangeIndex: 33234 entries, 0 to 33233\n",
      "Data columns (total 29 columns):\n",
      " #   Column                        Non-Null Count  Dtype  \n",
      "---  ------                        --------------  -----  \n",
      " 0   causa                         33234 non-null  object \n",
      " 1   rol                           32899 non-null  object \n",
      " 2   tipo                          32134 non-null  object \n",
      " 3   sexo                          33037 non-null  object \n",
      " 4   edad                          32675 non-null  float64\n",
      " 5   mes                           33197 non-null  float64\n",
      " 6   periodo                       33234 non-null  int64  \n",
      " 7   fecha                         33173 non-null  object \n",
      " 8   hora                          33217 non-null  object \n",
      " 9   lugar_hecho                   29518 non-null  object \n",
      " 10  direccion_normalizada         32469 non-null  object \n",
      " 11  tipo_calle                    33234 non-null  object \n",
      " 12  direccion_normalizada_arcgis  32462 non-null  object \n",
      " 13  calle1                        32469 non-null  object \n",
      " 14  altura                        7111 non-null   float64\n",
      " 15  calle2                        24987 non-null  object \n",
      " 16  codigo_calle                  23944 non-null  float64\n",
      " 17  codigo_cruce                  20709 non-null  float64\n",
      " 18  geocodificacion               32139 non-null  object \n",
      " 19  semestre                      33234 non-null  int64  \n",
      " 20  x                             32139 non-null  float64\n",
      " 21  y                             32139 non-null  float64\n",
      " 22  geom                          32139 non-null  object \n",
      " 23  cantidad_victimas             33234 non-null  int64  \n",
      " 24  comuna                        32136 non-null  float64\n",
      " 25  geom_3857                     32139 non-null  object \n",
      " 26  tipo_colision1                31891 non-null  object \n",
      " 27  participantes_victimas        32103 non-null  object \n",
      " 28  participantes_acusados        32557 non-null  object \n",
      "dtypes: float64(8), int64(3), object(18)\n",
      "memory usage: 7.4+ MB\n"
     ]
    }
   ],
   "source": [
    "sin_df.info()"
   ]
  },
  {
   "cell_type": "markdown",
   "id": "11d38026",
   "metadata": {},
   "source": [
    "EN PRIMERA INSTANCIA DE LA EXPLORACION, VOY A ESTABLECER UN OBJETIVO GENERAL:\n",
    "\n",
    "- QUIERO MINIMIZAR LA CANTIDAD DE ACCIDENTES DE AUTOS, MOTOS Y BICICLETAS (en este ejemplo me contrataría gobierno de la Ciudad de Buenos Aires). PARA ESTO HABRIA QUE TOMAR MEDIDAS DE TODO TIPO, COMO CONTROLES POLICIALES, CARTELES PREVENTIVOS, ARREGLOS DE CALLE, CAMARAS-MULTA, ETC.\n",
    "\n",
    "-------------------------------------------------------------------------------------------------------------------------------"
   ]
  },
  {
   "cell_type": "markdown",
   "id": "338edc03",
   "metadata": {},
   "source": [
    "CON ESTE OBJETIVO EN MENTE, VOY A ELEGIR QUE COLUMNAS SON LAS QUE MAS INFORMACION PUEDEN APORTAR Y CUALES SON LAS QUE TIENEN INFORMACION REDUNDANTE.\n",
    "\n",
    "EN UNA PRIMERA IMPRESION, ASUMO QUE LAS COLUMNAS MAS IMPORTANTES SON:\n",
    "\n",
    "- causa\n",
    "- rol\n",
    "- tipo\n",
    "- sexo\n",
    "- edad\n",
    "- fecha\n",
    "- hora\n",
    "- tipo_calle\n",
    "- calle1\n",
    "- calle2\n",
    "- x\n",
    "- y\n",
    "- cantidad_victimas\n",
    "- comuna\n",
    "- participantes_victimas\n",
    "- participantes_acusados\n",
    "\n",
    "EL RESTO DE COLUMAS CONTIENEN INFORMACION QUE APARECE EN ESTAS COLUMNAS SELECCIONADAS, PERO EN OTRO FORMATO.\n",
    "\n",
    "PROCEDO A QUEDARME SOLO CON LAS COLUMNAS ELEGIDAS Y REVISO LOS DATOS NULOS"
   ]
  },
  {
   "cell_type": "code",
   "execution_count": 5,
   "id": "a40136ac",
   "metadata": {},
   "outputs": [
    {
     "data": {
      "text/plain": [
       "causa                        0\n",
       "rol                        335\n",
       "tipo                      1100\n",
       "sexo                       197\n",
       "edad                       559\n",
       "fecha                       61\n",
       "hora                        17\n",
       "tipo_calle                   0\n",
       "calle1                     765\n",
       "calle2                    8247\n",
       "x                         1095\n",
       "y                         1095\n",
       "cantidad_victimas            0\n",
       "comuna                    1098\n",
       "tipo_colision1            1343\n",
       "participantes_acusados     677\n",
       "participantes_victimas    1131\n",
       "dtype: int64"
      ]
     },
     "execution_count": 5,
     "metadata": {},
     "output_type": "execute_result"
    }
   ],
   "source": [
    "sin_df = sin_df[['causa','rol','tipo','sexo','edad','fecha','hora','tipo_calle','calle1','calle2','x','y','cantidad_victimas','comuna','tipo_colision1','participantes_acusados','participantes_victimas']]\n",
    "sin_df.isnull().sum()"
   ]
  },
  {
   "cell_type": "markdown",
   "id": "349e06dd",
   "metadata": {},
   "source": [
    "BORRO LAS FILAS QUE TIENEN EL CAMPO FECHA Y HORA VACIOS, PORQUE SON MUY POCOS DATOS QUE PIERDO."
   ]
  },
  {
   "cell_type": "code",
   "execution_count": 6,
   "id": "ab2f4da8",
   "metadata": {},
   "outputs": [
    {
     "data": {
      "text/plain": [
       "fecha    0\n",
       "hora     0\n",
       "dtype: int64"
      ]
     },
     "execution_count": 6,
     "metadata": {},
     "output_type": "execute_result"
    }
   ],
   "source": [
    "sin_df.dropna(subset=['fecha','hora'],inplace=True)\n",
    "sin_df[['fecha','hora']].isnull().sum()"
   ]
  },
  {
   "cell_type": "markdown",
   "id": "532afa34",
   "metadata": {},
   "source": [
    "AHORA VOY A SIMPLIFICAR LAS COLUMNAS 'tipo' Y 'tipo_colision1' PARA QUE SEAN UTILIZABLES."
   ]
  },
  {
   "cell_type": "code",
   "execution_count": 7,
   "id": "85da58d5",
   "metadata": {},
   "outputs": [],
   "source": [
    "sin_df['tipo_colision1'].fillna('sin_data',inplace=True)\n",
    "sin_df['tipo'].fillna('sin_data',inplace=True)\n",
    "\n",
    "def simplificar_tipocol(tipo):\n",
    "\n",
    "    if '-' in tipo:\n",
    "        ac, vi = tipo.split('-')\n",
    "    else:\n",
    "        return tipo\n",
    "    \n",
    "    if tipo == 'vehiculo - motovehiculo' or tipo == 'motovehiculo - vehiculo':\n",
    "        return 'motovehiculo - vehiculo'\n",
    "    elif tipo == 'vehiculo - peaton' or tipo == 'peaton - vehiculo':\n",
    "        return 'peaton - vehiculo'\n",
    "    elif tipo == 'vehiculo - bicicleta' or tipo == 'bicicleta - vehiculo':\n",
    "        return 'bicicleta - vehiculo'\n",
    "    elif tipo == 'traccion a sangre - vehiculo' or tipo == 'motovehiculo - traccion a sangre' or tipo == 'motovehiculo - tren' or tipo == 'subte - vehiculo':\n",
    "        return 'sin_data'\n",
    "    elif 'bicicleta' in tipo:\n",
    "        return 'bicicleta'\n",
    "    elif 'peaton' in tipo:\n",
    "        return 'peaton'\n",
    "    else:\n",
    "        return tipo\n",
    "\n",
    "def simplificar_tipo(tipo):\n",
    "    \n",
    "    if tipo == 'auto pfa / movil / gendarmeria / metropolitana / moto movil' or tipo == 'vehiculo oficial':\n",
    "        st = 'fuerza seguridad'\n",
    "    elif tipo == 'transporte de cargas / grua' or tipo == 'utilitario':\n",
    "        st = 'camion'\n",
    "    elif tipo == 'transporte escolar' or tipo == 'omnibus / minibus':\n",
    "        st = 'transporte publico'\n",
    "    elif tipo == 'ambulancia':\n",
    "        st = 'camioneta'\n",
    "    elif tipo == 'traccion a sangre' or tipo == 'autobomba' or tipo == 'patineta' or tipo == 'cuatriciclo' or tipo == 'tren / subte' or tipo == 'tren / subte / tranvia' or tipo == 'vehiculo rural' or tipo == 'otros':\n",
    "        st = 'sin_data'\n",
    "    else:\n",
    "        return tipo\n",
    "    return st"
   ]
  },
  {
   "cell_type": "code",
   "execution_count": 8,
   "id": "59eac8c3",
   "metadata": {
    "scrolled": true
   },
   "outputs": [
    {
     "data": {
      "text/html": [
       "<div>\n",
       "<style scoped>\n",
       "    .dataframe tbody tr th:only-of-type {\n",
       "        vertical-align: middle;\n",
       "    }\n",
       "\n",
       "    .dataframe tbody tr th {\n",
       "        vertical-align: top;\n",
       "    }\n",
       "\n",
       "    .dataframe thead th {\n",
       "        text-align: right;\n",
       "    }\n",
       "</style>\n",
       "<table border=\"1\" class=\"dataframe\">\n",
       "  <thead>\n",
       "    <tr style=\"text-align: right;\">\n",
       "      <th></th>\n",
       "      <th>tipo</th>\n",
       "      <th>tipo_colision1</th>\n",
       "    </tr>\n",
       "  </thead>\n",
       "  <tbody>\n",
       "    <tr>\n",
       "      <th>count</th>\n",
       "      <td>33162</td>\n",
       "      <td>33162</td>\n",
       "    </tr>\n",
       "    <tr>\n",
       "      <th>unique</th>\n",
       "      <td>10</td>\n",
       "      <td>9</td>\n",
       "    </tr>\n",
       "    <tr>\n",
       "      <th>top</th>\n",
       "      <td>b'moto'</td>\n",
       "      <td>b'motovehiculo - vehiculo'</td>\n",
       "    </tr>\n",
       "    <tr>\n",
       "      <th>freq</th>\n",
       "      <td>12989</td>\n",
       "      <td>11378</td>\n",
       "    </tr>\n",
       "  </tbody>\n",
       "</table>\n",
       "</div>"
      ],
      "text/plain": [
       "           tipo              tipo_colision1\n",
       "count     33162                       33162\n",
       "unique       10                           9\n",
       "top     b'moto'  b'motovehiculo - vehiculo'\n",
       "freq      12989                       11378"
      ]
     },
     "execution_count": 8,
     "metadata": {},
     "output_type": "execute_result"
    }
   ],
   "source": [
    "sin_df['tipo'] = sin_df['tipo'].apply(simplificar_tipo).astype('|S80')\n",
    "\n",
    "sin_df['tipo_colision1'] = sin_df['tipo_colision1'].apply(simplificar_tipocol).astype('|S80')\n",
    "\n",
    "sin_df[['tipo','tipo_colision1']].describe()"
   ]
  },
  {
   "cell_type": "markdown",
   "id": "eb417d14",
   "metadata": {},
   "source": [
    "DEBERIA RELLENAR LOS NULOS DE 'tipo' CON INFORMACION DE OTRAS COLUMNAS PARA MEJORAR LA CALIDAD DE LA INFORMACION"
   ]
  },
  {
   "cell_type": "markdown",
   "id": "10e15e6a",
   "metadata": {},
   "source": [
    "AHORA VOY A RELLENAR LOS CAMPOS CON VALOR NULO"
   ]
  },
  {
   "cell_type": "code",
   "execution_count": 9,
   "id": "82a15e75",
   "metadata": {},
   "outputs": [],
   "source": [
    "sin_df['comuna'].fillna(0,inplace=True)\n",
    "sin_df['comuna'] = sin_df['comuna'].astype(int)"
   ]
  },
  {
   "cell_type": "code",
   "execution_count": 10,
   "id": "dd08aa37",
   "metadata": {},
   "outputs": [],
   "source": [
    "sin_df['rol'].fillna('sin_data',inplace=True)\n",
    "sin_df['sexo'].fillna('sin_data',inplace=True)\n",
    "sin_df['calle1'].fillna('sin_data',inplace=True)\n",
    "sin_df['calle2'].fillna('sin_data',inplace=True)\n",
    "sin_df['participantes_acusados'].fillna('sin_data',inplace=True)\n",
    "sin_df['participantes_victimas'].fillna('sin_data',inplace=True)\n",
    "sin_df['x'].fillna(-1,inplace=True)\n",
    "sin_df['y'].fillna(-1,inplace=True)\n",
    "sin_df['edad'].fillna(sin_df.edad.mean(),inplace=True)"
   ]
  },
  {
   "cell_type": "markdown",
   "id": "69d6bd05",
   "metadata": {},
   "source": [
    "EN LOS SIGUIENTES CASILLEROS VOY A LIMPIAR Y NORMALIZAR COLUMNAS"
   ]
  },
  {
   "cell_type": "code",
   "execution_count": 11,
   "id": "0e3563ac",
   "metadata": {},
   "outputs": [
    {
     "data": {
      "text/plain": [
       "sexo\n",
       "1    22322\n",
       "2    10647\n",
       "0      193\n",
       "dtype: int64"
      ]
     },
     "execution_count": 11,
     "metadata": {},
     "output_type": "execute_result"
    }
   ],
   "source": [
    "def normalizar_sexo(sexo):\n",
    "    if sexo == 'masculino':\n",
    "        return 1\n",
    "    elif sexo == 'femenino':\n",
    "        return 2\n",
    "    else:\n",
    "        return 0\n",
    "    \n",
    "sin_df['sexo'] = sin_df['sexo'].apply(normalizar_sexo)\n",
    "sin_df.value_counts('sexo')\n",
    "\n",
    "#masculino -> 1\n",
    "#femenino -> 2\n",
    "#sin data -> 0"
   ]
  },
  {
   "cell_type": "code",
   "execution_count": 12,
   "id": "997ac435",
   "metadata": {},
   "outputs": [
    {
     "data": {
      "text/plain": [
       "edad\n",
       "2    19208\n",
       "3     7427\n",
       "4     3595\n",
       "1     2932\n",
       "dtype: int64"
      ]
     },
     "execution_count": 12,
     "metadata": {},
     "output_type": "execute_result"
    }
   ],
   "source": [
    "def edades(edad):\n",
    "    rango = 0\n",
    "    \n",
    "    if (edad<20):\n",
    "        rango=1\n",
    "    elif (edad<40):\n",
    "        rango=2\n",
    "    elif (edad<60):\n",
    "        rango=3\n",
    "    else:\n",
    "        rango=4\n",
    "    return rango\n",
    "\n",
    "sin_df['edad'] = sin_df['edad'].apply(edades)\n",
    "sin_df.value_counts('edad')\n",
    "\n",
    "#menor a 20 años -> 1\n",
    "#menor a 40 años -> 2\n",
    "#menor a 60 años -> 3\n",
    "#mayor a 60 años -> 4"
   ]
  },
  {
   "cell_type": "markdown",
   "id": "f32e6f66",
   "metadata": {},
   "source": [
    "LE DOY UN FORMATO DESEADO A LA HORA Y FECHA"
   ]
  },
  {
   "cell_type": "code",
   "execution_count": 13,
   "id": "97b12590",
   "metadata": {},
   "outputs": [
    {
     "data": {
      "text/plain": [
       "hora\n",
       "18    2215\n",
       "13    2186\n",
       "14    2115\n",
       "17    2106\n",
       "12    2029\n",
       "dtype: int64"
      ]
     },
     "execution_count": 13,
     "metadata": {},
     "output_type": "execute_result"
    }
   ],
   "source": [
    "def extraer_hora(hora):\n",
    "    return hora.hour\n",
    "\n",
    "sin_df['hora'] = pd.to_datetime(sin_df['hora']).apply(extraer_hora)\n",
    "sin_df['hora'] = sin_df['hora'].astype(int)\n",
    "sin_df.value_counts('hora').head()"
   ]
  },
  {
   "cell_type": "code",
   "execution_count": 14,
   "id": "04f6c269",
   "metadata": {},
   "outputs": [],
   "source": [
    "def crear_fecha(fecha):\n",
    "\n",
    "    if \"/\" in fecha:\n",
    "        return fecha.split(\"/\")\n",
    "    elif \"-\" in fecha:\n",
    "        return fecha.split(\"-\")\n",
    "        #aux = fecha[0]\n",
    "        #fecha[0] = fecha[1]\n",
    "        #fecha[1] = aux\n",
    "        #return fecha\n",
    "\n",
    "def limpiar_fecha(fecha):\n",
    "    \n",
    "    d = int(fecha[1])\n",
    "    m = int(fecha[0])\n",
    "    a = int(fecha[2])\n",
    "    \n",
    "    if a<2000:\n",
    "        a = 2000+a\n",
    "    \n",
    "    if m>12:\n",
    "        aux = m\n",
    "        m = a\n",
    "        a = aux\n",
    "    \n",
    "    return [d,m,a]\n",
    "\n",
    "def dia(d):\n",
    "    return d[0]\n",
    "\n",
    "def mes(d):\n",
    "    return d[1]\n",
    "\n",
    "def anio(d):\n",
    "    return d[2]"
   ]
  },
  {
   "cell_type": "code",
   "execution_count": 15,
   "id": "b0743427",
   "metadata": {},
   "outputs": [
    {
     "name": "stdout",
     "output_type": "stream",
     "text": [
      "<class 'pandas.core.frame.DataFrame'>\n",
      "Int64Index: 33162 entries, 0 to 33232\n",
      "Data columns (total 19 columns):\n",
      " #   Column                  Non-Null Count  Dtype  \n",
      "---  ------                  --------------  -----  \n",
      " 0   causa                   33162 non-null  object \n",
      " 1   rol                     33162 non-null  object \n",
      " 2   tipo                    33162 non-null  |S80   \n",
      " 3   sexo                    33162 non-null  int64  \n",
      " 4   edad                    33162 non-null  int64  \n",
      " 5   hora                    33162 non-null  int32  \n",
      " 6   tipo_calle              33162 non-null  object \n",
      " 7   calle1                  33162 non-null  object \n",
      " 8   calle2                  33162 non-null  object \n",
      " 9   x                       33162 non-null  float64\n",
      " 10  y                       33162 non-null  float64\n",
      " 11  cantidad_victimas       33162 non-null  int64  \n",
      " 12  comuna                  33162 non-null  int32  \n",
      " 13  tipo_colision1          33162 non-null  |S80   \n",
      " 14  participantes_acusados  33162 non-null  object \n",
      " 15  participantes_victimas  33162 non-null  object \n",
      " 16  d                       33162 non-null  int64  \n",
      " 17  m                       33162 non-null  int64  \n",
      " 18  a                       33162 non-null  int64  \n",
      "dtypes: bytes640(2), float64(2), int32(2), int64(6), object(7)\n",
      "memory usage: 9.4+ MB\n"
     ]
    }
   ],
   "source": [
    "sin_df['fecha_norm'] = sin_df['fecha'].apply(crear_fecha)\n",
    "sin_df['fecha_norm'] = sin_df['fecha_norm'].apply(limpiar_fecha)\n",
    "\n",
    "sin_df['d'] = sin_df['fecha_norm'].apply(dia)\n",
    "sin_df['m'] = sin_df['fecha_norm'].apply(mes)\n",
    "sin_df['a'] = sin_df['fecha_norm'].apply(anio)\n",
    "\n",
    "sin_df.drop(columns='fecha_norm',inplace=True)\n",
    "sin_df.drop(columns='fecha',inplace=True)\n",
    "\n",
    "sin_df.info()"
   ]
  },
  {
   "cell_type": "code",
   "execution_count": null,
   "id": "db3ea421",
   "metadata": {},
   "outputs": [],
   "source": []
  },
  {
   "cell_type": "code",
   "execution_count": null,
   "id": "e198ca2e",
   "metadata": {},
   "outputs": [],
   "source": []
  },
  {
   "cell_type": "code",
   "execution_count": null,
   "id": "9851deb8",
   "metadata": {},
   "outputs": [],
   "source": []
  },
  {
   "cell_type": "code",
   "execution_count": null,
   "id": "cdd68000",
   "metadata": {},
   "outputs": [],
   "source": []
  }
 ],
 "metadata": {
  "kernelspec": {
   "display_name": "Python 3 (ipykernel)",
   "language": "python",
   "name": "python3"
  },
  "language_info": {
   "codemirror_mode": {
    "name": "ipython",
    "version": 3
   },
   "file_extension": ".py",
   "mimetype": "text/x-python",
   "name": "python",
   "nbconvert_exporter": "python",
   "pygments_lexer": "ipython3",
   "version": "3.9.12"
  }
 },
 "nbformat": 4,
 "nbformat_minor": 5
}
