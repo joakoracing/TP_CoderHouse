{
 "cells": [
  {
   "attachments": {},
   "cell_type": "markdown",
   "id": "4e78b6a3",
   "metadata": {},
   "source": [
    "COMIENZA CARGA DE DATOS\n",
    "\n",
    "Cargo en primer lugar las librerias que usaré, luego cargo el set de datos elegido; este contiene datos de siniestros de tránsito en la Ciudad de Buenos Aires, entre los años 2015 y 2018. "
   ]
  },
  {
   "cell_type": "code",
   "execution_count": 63,
   "id": "0a5d3ee3",
   "metadata": {},
   "outputs": [],
   "source": [
    "import numpy as np\n",
    "import pandas as pd\n",
    "import scipy.sparse as sp\n",
    "import matplotlib.pyplot as plt\n",
    "import matplotlib.dates as mdates\n",
    "import matplotlib as mpl\n",
    "import seaborn as sns\n",
    "\n",
    "from sklearn.linear_model import LinearRegression\n",
    "from sklearn.model_selection import train_test_split\n",
    "from sklearn.preprocessing import OneHotEncoder\n",
    "from sklearn.tree import DecisionTreeClassifier\n",
    "from sklearn.preprocessing import MinMaxScaler\n",
    "from sklearn.svm import SVC\n",
    "from sklearn.metrics import accuracy_score"
   ]
  },
  {
   "cell_type": "code",
   "execution_count": 64,
   "id": "56a62ec3",
   "metadata": {},
   "outputs": [
    {
     "name": "stderr",
     "output_type": "stream",
     "text": [
      "C:\\Users\\Seguridad\\AppData\\Local\\Temp\\ipykernel_2836\\1239150759.py:2: DtypeWarning: Columns (9) have mixed types. Specify dtype option on import or set low_memory=False.\n",
      "  sin_df = pd.read_csv(siniestros)\n"
     ]
    }
   ],
   "source": [
    "siniestros = 'victimas-siniestros.csv'\n",
    "sin_df = pd.read_csv(siniestros)"
   ]
  },
  {
   "attachments": {},
   "cell_type": "markdown",
   "id": "c6cc7c57",
   "metadata": {},
   "source": [
    "COMIENZA EL PROCESO DE LIMPIEZA DEL DATASET"
   ]
  },
  {
   "cell_type": "code",
   "execution_count": 65,
   "id": "47a39ca8",
   "metadata": {},
   "outputs": [
    {
     "data": {
      "text/html": [
       "<div>\n",
       "<style scoped>\n",
       "    .dataframe tbody tr th:only-of-type {\n",
       "        vertical-align: middle;\n",
       "    }\n",
       "\n",
       "    .dataframe tbody tr th {\n",
       "        vertical-align: top;\n",
       "    }\n",
       "\n",
       "    .dataframe thead th {\n",
       "        text-align: right;\n",
       "    }\n",
       "</style>\n",
       "<table border=\"1\" class=\"dataframe\">\n",
       "  <thead>\n",
       "    <tr style=\"text-align: right;\">\n",
       "      <th></th>\n",
       "      <th>causa</th>\n",
       "      <th>rol</th>\n",
       "      <th>tipo</th>\n",
       "      <th>sexo</th>\n",
       "      <th>edad</th>\n",
       "      <th>mes</th>\n",
       "      <th>periodo</th>\n",
       "      <th>fecha</th>\n",
       "      <th>hora</th>\n",
       "      <th>lugar_hecho</th>\n",
       "      <th>...</th>\n",
       "      <th>semestre</th>\n",
       "      <th>x</th>\n",
       "      <th>y</th>\n",
       "      <th>geom</th>\n",
       "      <th>cantidad_victimas</th>\n",
       "      <th>comuna</th>\n",
       "      <th>geom_3857</th>\n",
       "      <th>tipo_colision1</th>\n",
       "      <th>participantes_victimas</th>\n",
       "      <th>participantes_acusados</th>\n",
       "    </tr>\n",
       "  </thead>\n",
       "  <tbody>\n",
       "    <tr>\n",
       "      <th>23060</th>\n",
       "      <td>lesiones</td>\n",
       "      <td>peaton</td>\n",
       "      <td>peaton</td>\n",
       "      <td>femenino</td>\n",
       "      <td>28.0</td>\n",
       "      <td>7.0</td>\n",
       "      <td>2017</td>\n",
       "      <td>7/18/2017</td>\n",
       "      <td>17:00:00</td>\n",
       "      <td>avda ing huergo y avda san juan</td>\n",
       "      <td>...</td>\n",
       "      <td>2</td>\n",
       "      <td>-58.366072</td>\n",
       "      <td>-34.621507</td>\n",
       "      <td>0101000020E6100000DA7FDE6EDB2E4DC0D2C7D38E8D4F...</td>\n",
       "      <td>1</td>\n",
       "      <td>1.0</td>\n",
       "      <td>0101000020110F00006E67725700C958C140E296DF5960...</td>\n",
       "      <td>peaton - vehiculo</td>\n",
       "      <td>peaton</td>\n",
       "      <td>automovil</td>\n",
       "    </tr>\n",
       "    <tr>\n",
       "      <th>7143</th>\n",
       "      <td>lesiones</td>\n",
       "      <td>pasajero</td>\n",
       "      <td>transporte publico</td>\n",
       "      <td>femenino</td>\n",
       "      <td>63.0</td>\n",
       "      <td>11.0</td>\n",
       "      <td>2017</td>\n",
       "      <td>11-03-17</td>\n",
       "      <td>21:45:00</td>\n",
       "      <td>av pueyrredon 678</td>\n",
       "      <td>...</td>\n",
       "      <td>2</td>\n",
       "      <td>-58.404986</td>\n",
       "      <td>-34.602189</td>\n",
       "      <td>0101000020E6100000D662AF94D6334DC06E9AD486144D...</td>\n",
       "      <td>1</td>\n",
       "      <td>3.0</td>\n",
       "      <td>0101000020110F0000CBC32F533BCD58C1E60EC1613F5B...</td>\n",
       "      <td>vehiculo - vehiculo</td>\n",
       "      <td>\"transporte publico\"</td>\n",
       "      <td>\"transporte publico\"</td>\n",
       "    </tr>\n",
       "    <tr>\n",
       "      <th>4164</th>\n",
       "      <td>lesiones</td>\n",
       "      <td>conductor</td>\n",
       "      <td>automovil</td>\n",
       "      <td>masculino</td>\n",
       "      <td>61.0</td>\n",
       "      <td>8.0</td>\n",
       "      <td>2016</td>\n",
       "      <td>8/24/2016</td>\n",
       "      <td>7:40:00</td>\n",
       "      <td>avda ing huergo &amp; estados unidos</td>\n",
       "      <td>...</td>\n",
       "      <td>2</td>\n",
       "      <td>-58.366456</td>\n",
       "      <td>-34.618119</td>\n",
       "      <td>0101000020E6100000F0B64507E82E4DC01B662F851E4F...</td>\n",
       "      <td>2</td>\n",
       "      <td>1.0</td>\n",
       "      <td>0101000020110F0000B7FBEE090BC958C190A03FAF745F...</td>\n",
       "      <td>multiple</td>\n",
       "      <td>automovil,moto</td>\n",
       "      <td>automovil,moto</td>\n",
       "    </tr>\n",
       "  </tbody>\n",
       "</table>\n",
       "<p>3 rows × 29 columns</p>\n",
       "</div>"
      ],
      "text/plain": [
       "          causa        rol                tipo       sexo  edad   mes  \\\n",
       "23060  lesiones     peaton              peaton   femenino  28.0   7.0   \n",
       "7143   lesiones   pasajero  transporte publico   femenino  63.0  11.0   \n",
       "4164   lesiones  conductor           automovil  masculino  61.0   8.0   \n",
       "\n",
       "       periodo      fecha      hora                       lugar_hecho  ...  \\\n",
       "23060     2017  7/18/2017  17:00:00   avda ing huergo y avda san juan  ...   \n",
       "7143      2017   11-03-17  21:45:00                 av pueyrredon 678  ...   \n",
       "4164      2016  8/24/2016   7:40:00  avda ing huergo & estados unidos  ...   \n",
       "\n",
       "      semestre          x          y  \\\n",
       "23060        2 -58.366072 -34.621507   \n",
       "7143         2 -58.404986 -34.602189   \n",
       "4164         2 -58.366456 -34.618119   \n",
       "\n",
       "                                                    geom  cantidad_victimas  \\\n",
       "23060  0101000020E6100000DA7FDE6EDB2E4DC0D2C7D38E8D4F...                  1   \n",
       "7143   0101000020E6100000D662AF94D6334DC06E9AD486144D...                  1   \n",
       "4164   0101000020E6100000F0B64507E82E4DC01B662F851E4F...                  2   \n",
       "\n",
       "      comuna                                          geom_3857  \\\n",
       "23060    1.0  0101000020110F00006E67725700C958C140E296DF5960...   \n",
       "7143     3.0  0101000020110F0000CBC32F533BCD58C1E60EC1613F5B...   \n",
       "4164     1.0  0101000020110F0000B7FBEE090BC958C190A03FAF745F...   \n",
       "\n",
       "            tipo_colision1 participantes_victimas  participantes_acusados  \n",
       "23060    peaton - vehiculo                 peaton               automovil  \n",
       "7143   vehiculo - vehiculo   \"transporte publico\"    \"transporte publico\"  \n",
       "4164              multiple         automovil,moto          automovil,moto  \n",
       "\n",
       "[3 rows x 29 columns]"
      ]
     },
     "execution_count": 65,
     "metadata": {},
     "output_type": "execute_result"
    }
   ],
   "source": [
    "sin_df.sample(3)"
   ]
  },
  {
   "cell_type": "code",
   "execution_count": 66,
   "id": "b4ddd29f",
   "metadata": {},
   "outputs": [
    {
     "name": "stdout",
     "output_type": "stream",
     "text": [
      "<class 'pandas.core.frame.DataFrame'>\n",
      "RangeIndex: 33234 entries, 0 to 33233\n",
      "Data columns (total 29 columns):\n",
      " #   Column                        Non-Null Count  Dtype  \n",
      "---  ------                        --------------  -----  \n",
      " 0   causa                         33234 non-null  object \n",
      " 1   rol                           32899 non-null  object \n",
      " 2   tipo                          32134 non-null  object \n",
      " 3   sexo                          33037 non-null  object \n",
      " 4   edad                          32675 non-null  float64\n",
      " 5   mes                           33197 non-null  float64\n",
      " 6   periodo                       33234 non-null  int64  \n",
      " 7   fecha                         33173 non-null  object \n",
      " 8   hora                          33217 non-null  object \n",
      " 9   lugar_hecho                   29518 non-null  object \n",
      " 10  direccion_normalizada         32469 non-null  object \n",
      " 11  tipo_calle                    33234 non-null  object \n",
      " 12  direccion_normalizada_arcgis  32462 non-null  object \n",
      " 13  calle1                        32469 non-null  object \n",
      " 14  altura                        7111 non-null   float64\n",
      " 15  calle2                        24987 non-null  object \n",
      " 16  codigo_calle                  23944 non-null  float64\n",
      " 17  codigo_cruce                  20709 non-null  float64\n",
      " 18  geocodificacion               32139 non-null  object \n",
      " 19  semestre                      33234 non-null  int64  \n",
      " 20  x                             32139 non-null  float64\n",
      " 21  y                             32139 non-null  float64\n",
      " 22  geom                          32139 non-null  object \n",
      " 23  cantidad_victimas             33234 non-null  int64  \n",
      " 24  comuna                        32136 non-null  float64\n",
      " 25  geom_3857                     32139 non-null  object \n",
      " 26  tipo_colision1                31891 non-null  object \n",
      " 27  participantes_victimas        32103 non-null  object \n",
      " 28  participantes_acusados        32557 non-null  object \n",
      "dtypes: float64(8), int64(3), object(18)\n",
      "memory usage: 7.4+ MB\n"
     ]
    }
   ],
   "source": [
    "sin_df.info()"
   ]
  },
  {
   "attachments": {},
   "cell_type": "markdown",
   "id": "11d38026",
   "metadata": {},
   "source": [
    "EN PRIMERA INSTANCIA DE LA EXPLORACION, VOY A ESTABLECER UN OBJETIVO GENERAL:\n",
    "\n",
    "- QUIERO MINIMIZAR LA CANTIDAD DE ACCIDENTES DE AUTOS, MOTOS Y BICICLETAS (en este ejemplo me contrataría gobierno de la Ciudad de Buenos Aires). PARA ESTO HABRIA QUE TOMAR MEDIDAS DE TODO TIPO, COMO CONTROLES POLICIALES, CARTELES PREVENTIVOS, ARREGLOS DE CALLE, CAMARAS-MULTA, ETC.\n",
    "\n",
    "-------------------------------------------------------------------------------------------------------------------------------"
   ]
  },
  {
   "attachments": {},
   "cell_type": "markdown",
   "id": "338edc03",
   "metadata": {},
   "source": [
    "CON ESTE OBJETIVO EN MENTE, VOY A ELEGIR QUE COLUMNAS SON LAS QUE MAS INFORMACION PUEDEN APORTAR Y CUALES SON LAS QUE TIENEN INFORMACION REDUNDANTE.\n",
    "\n",
    "EN UNA PRIMERA IMPRESION, ASUMO QUE LAS COLUMNAS MAS IMPORTANTES SON:\n",
    "\n",
    "- causa\n",
    "- rol\n",
    "- tipo\n",
    "- sexo\n",
    "- edad\n",
    "- fecha\n",
    "- hora\n",
    "- tipo_calle\n",
    "- calle1\n",
    "- calle2\n",
    "- x\n",
    "- y\n",
    "- cantidad_victimas\n",
    "- comuna\n",
    "- participantes_victimas\n",
    "- participantes_acusados\n",
    "\n",
    "EL RESTO DE COLUMAS CONTIENEN INFORMACION QUE APARECE EN ESTAS COLUMNAS SELECCIONADAS, PERO EN OTRO FORMATO.\n",
    "\n",
    "PROCEDO A QUEDARME SOLO CON LAS COLUMNAS ELEGIDAS Y REVISO LOS DATOS NULOS"
   ]
  },
  {
   "cell_type": "code",
   "execution_count": 67,
   "id": "a40136ac",
   "metadata": {},
   "outputs": [
    {
     "data": {
      "text/plain": [
       "causa                        0\n",
       "rol                        335\n",
       "tipo                      1100\n",
       "sexo                       197\n",
       "edad                       559\n",
       "fecha                       61\n",
       "hora                        17\n",
       "tipo_calle                   0\n",
       "calle1                     765\n",
       "calle2                    8247\n",
       "x                         1095\n",
       "y                         1095\n",
       "cantidad_victimas            0\n",
       "comuna                    1098\n",
       "tipo_colision1            1343\n",
       "participantes_acusados     677\n",
       "participantes_victimas    1131\n",
       "dtype: int64"
      ]
     },
     "execution_count": 67,
     "metadata": {},
     "output_type": "execute_result"
    }
   ],
   "source": [
    "sin_df = sin_df[['causa','rol','tipo','sexo','edad','fecha','hora','tipo_calle','calle1','calle2','x','y','cantidad_victimas','comuna','tipo_colision1','participantes_acusados','participantes_victimas']]\n",
    "sin_df.isnull().sum()"
   ]
  },
  {
   "cell_type": "code",
   "execution_count": 68,
   "id": "45cbcfe5",
   "metadata": {},
   "outputs": [
    {
     "data": {
      "text/plain": [
       "causa                        0\n",
       "rol                          6\n",
       "tipo                        41\n",
       "sexo                         6\n",
       "edad                        29\n",
       "fecha                        6\n",
       "hora                         6\n",
       "tipo_calle                   0\n",
       "calle1                     739\n",
       "calle2                    1097\n",
       "x                         1095\n",
       "y                         1095\n",
       "cantidad_victimas            0\n",
       "comuna                    1098\n",
       "tipo_colision1              43\n",
       "participantes_acusados      17\n",
       "participantes_victimas      38\n",
       "dtype: int64"
      ]
     },
     "execution_count": 68,
     "metadata": {},
     "output_type": "execute_result"
    }
   ],
   "source": [
    "sin_df.loc[sin_df.comuna.isnull()][['causa','rol','tipo','sexo','edad','fecha','hora','tipo_calle','calle1','calle2','x','y','cantidad_victimas','comuna','tipo_colision1','participantes_acusados','participantes_victimas']].isnull().sum()"
   ]
  },
  {
   "attachments": {},
   "cell_type": "markdown",
   "id": "349e06dd",
   "metadata": {},
   "source": [
    "BORRO LAS FILAS QUE TIENEN EL CAMPO FECHA Y HORA VACIOS, PORQUE SON MUY POCOS DATOS QUE PIERDO."
   ]
  },
  {
   "cell_type": "code",
   "execution_count": 69,
   "id": "ab2f4da8",
   "metadata": {},
   "outputs": [
    {
     "data": {
      "text/plain": [
       "fecha    0\n",
       "hora     0\n",
       "dtype: int64"
      ]
     },
     "execution_count": 69,
     "metadata": {},
     "output_type": "execute_result"
    }
   ],
   "source": [
    "sin_df.dropna(subset=['fecha','hora'],inplace=True)\n",
    "sin_df[['fecha','hora']].isnull().sum()"
   ]
  },
  {
   "attachments": {},
   "cell_type": "markdown",
   "id": "532afa34",
   "metadata": {},
   "source": [
    "AHORA VOY A SIMPLIFICAR LAS COLUMNAS 'tipo' Y 'tipo_colision1' PARA QUE SEAN UTILIZABLES."
   ]
  },
  {
   "cell_type": "code",
   "execution_count": 70,
   "id": "85da58d5",
   "metadata": {},
   "outputs": [],
   "source": [
    "sin_df['tipo_colision1'].fillna('sin_data',inplace=True)\n",
    "sin_df['tipo'].fillna('sin_data',inplace=True)\n",
    "\n",
    "def simplificar_tipocol(tipo):\n",
    "\n",
    "    if '-' in tipo:\n",
    "        ac, vi = tipo.split('-')\n",
    "    else:\n",
    "        return tipo\n",
    "    \n",
    "    if tipo == 'vehiculo - motovehiculo' or tipo == 'motovehiculo - vehiculo':\n",
    "        return 'motovehiculo - vehiculo'\n",
    "    elif tipo == 'vehiculo - peaton' or tipo == 'peaton - vehiculo':\n",
    "        return 'peaton - vehiculo'\n",
    "    elif tipo == 'vehiculo - bicicleta' or tipo == 'bicicleta - vehiculo':\n",
    "        return 'bicicleta - vehiculo'\n",
    "    elif tipo == 'traccion a sangre - vehiculo' or tipo == 'motovehiculo - traccion a sangre' or tipo == 'motovehiculo - tren' or tipo == 'subte - vehiculo':\n",
    "        return 'sin_data'\n",
    "    elif 'bicicleta' in tipo:\n",
    "        return 'bicicleta'\n",
    "    elif 'peaton' in tipo:\n",
    "        return 'peaton'\n",
    "    else:\n",
    "        return tipo\n",
    "\n",
    "def simplificar_tipo(tipo):\n",
    "    \n",
    "    if tipo == 'auto pfa / movil / gendarmeria / metropolitana / moto movil' or tipo == 'vehiculo oficial':\n",
    "        st = 'fuerza seguridad'\n",
    "    elif tipo == 'transporte de cargas / grua' or tipo == 'utilitario':\n",
    "        st = 'camion'\n",
    "    elif tipo == 'transporte escolar' or tipo == 'omnibus / minibus':\n",
    "        st = 'transporte publico'\n",
    "    elif tipo == 'ambulancia':\n",
    "        st = 'camioneta'\n",
    "    elif tipo == 'traccion a sangre' or tipo == 'autobomba' or tipo == 'patineta' or tipo == 'cuatriciclo' or tipo == 'tren / subte' or tipo == 'tren / subte / tranvia' or tipo == 'vehiculo rural' or tipo == 'otros':\n",
    "        st = 'sin_data'\n",
    "    else:\n",
    "        return tipo\n",
    "    return st"
   ]
  },
  {
   "cell_type": "code",
   "execution_count": 71,
   "id": "59eac8c3",
   "metadata": {
    "scrolled": true
   },
   "outputs": [
    {
     "data": {
      "text/html": [
       "<div>\n",
       "<style scoped>\n",
       "    .dataframe tbody tr th:only-of-type {\n",
       "        vertical-align: middle;\n",
       "    }\n",
       "\n",
       "    .dataframe tbody tr th {\n",
       "        vertical-align: top;\n",
       "    }\n",
       "\n",
       "    .dataframe thead th {\n",
       "        text-align: right;\n",
       "    }\n",
       "</style>\n",
       "<table border=\"1\" class=\"dataframe\">\n",
       "  <thead>\n",
       "    <tr style=\"text-align: right;\">\n",
       "      <th></th>\n",
       "      <th>tipo</th>\n",
       "      <th>tipo_colision1</th>\n",
       "    </tr>\n",
       "  </thead>\n",
       "  <tbody>\n",
       "    <tr>\n",
       "      <th>count</th>\n",
       "      <td>33162</td>\n",
       "      <td>33162</td>\n",
       "    </tr>\n",
       "    <tr>\n",
       "      <th>unique</th>\n",
       "      <td>10</td>\n",
       "      <td>9</td>\n",
       "    </tr>\n",
       "    <tr>\n",
       "      <th>top</th>\n",
       "      <td>moto</td>\n",
       "      <td>motovehiculo - vehiculo</td>\n",
       "    </tr>\n",
       "    <tr>\n",
       "      <th>freq</th>\n",
       "      <td>12989</td>\n",
       "      <td>11378</td>\n",
       "    </tr>\n",
       "  </tbody>\n",
       "</table>\n",
       "</div>"
      ],
      "text/plain": [
       "         tipo           tipo_colision1\n",
       "count   33162                    33162\n",
       "unique     10                        9\n",
       "top      moto  motovehiculo - vehiculo\n",
       "freq    12989                    11378"
      ]
     },
     "execution_count": 71,
     "metadata": {},
     "output_type": "execute_result"
    }
   ],
   "source": [
    "sin_df['tipo'] = sin_df['tipo'].apply(simplificar_tipo)#.astype('|S80')\n",
    "\n",
    "sin_df['tipo_colision1'] = sin_df['tipo_colision1'].apply(simplificar_tipocol)#.astype('|S80')\n",
    "\n",
    "sin_df[['tipo','tipo_colision1']].describe()"
   ]
  },
  {
   "attachments": {},
   "cell_type": "markdown",
   "id": "eb417d14",
   "metadata": {},
   "source": [
    "DEBERIA RELLENAR LOS NULOS DE 'tipo' CON INFORMACION DE OTRAS COLUMNAS PARA MEJORAR LA CALIDAD DE LA INFORMACION"
   ]
  },
  {
   "attachments": {},
   "cell_type": "markdown",
   "id": "10e15e6a",
   "metadata": {},
   "source": [
    "AHORA VOY A RELLENAR LOS CAMPOS CON VALOR NULO"
   ]
  },
  {
   "cell_type": "code",
   "execution_count": 72,
   "id": "82a15e75",
   "metadata": {},
   "outputs": [],
   "source": [
    "#sin_df['comuna'].fillna(0,inplace=True)\n",
    "sin_df = sin_df.dropna(subset='comuna')\n",
    "sin_df['comuna'] = sin_df['comuna'].astype(int)"
   ]
  },
  {
   "cell_type": "code",
   "execution_count": 73,
   "id": "dd08aa37",
   "metadata": {},
   "outputs": [],
   "source": [
    "sin_df['rol'].fillna('sin_data',inplace=True)\n",
    "sin_df['sexo'].fillna('sin_data',inplace=True)\n",
    "sin_df['calle1'].fillna('sin_data',inplace=True)\n",
    "sin_df['calle2'].fillna('sin_data',inplace=True)\n",
    "sin_df['participantes_acusados'].fillna('sin_data',inplace=True)\n",
    "sin_df['participantes_victimas'].fillna('sin_data',inplace=True)\n",
    "sin_df['x'].fillna(-1,inplace=True)\n",
    "sin_df['y'].fillna(-1,inplace=True)\n",
    "sin_df['edad'].fillna(sin_df.edad.mean(),inplace=True)"
   ]
  },
  {
   "attachments": {},
   "cell_type": "markdown",
   "id": "69d6bd05",
   "metadata": {},
   "source": [
    "EN LOS SIGUIENTES CASILLEROS VOY A LIMPIAR Y NORMALIZAR COLUMNAS"
   ]
  },
  {
   "cell_type": "code",
   "execution_count": 74,
   "id": "0e3563ac",
   "metadata": {},
   "outputs": [
    {
     "data": {
      "text/plain": [
       "tipo_calle\n",
       "2    21127\n",
       "3    10838\n",
       "1      106\n",
       "dtype: int64"
      ]
     },
     "execution_count": 74,
     "metadata": {},
     "output_type": "execute_result"
    }
   ],
   "source": [
    "def normalizar_causa(causa):\n",
    "    if causa == 'lesiones':\n",
    "        return 1\n",
    "    elif causa == 'homicidio':\n",
    "        return 2\n",
    "    else:\n",
    "        return 0\n",
    "\n",
    "\n",
    "def normalizar_sexo(sexo):\n",
    "    if sexo == 'masculino':\n",
    "        return 1\n",
    "    elif sexo == 'femenino':\n",
    "        return 2\n",
    "    else:\n",
    "        return 0\n",
    "    \n",
    "def normalizar_tipo_calle(calle):\n",
    "    if calle == 'autopista':\n",
    "        return 1\n",
    "    elif calle == 'avenida':\n",
    "        return 2\n",
    "    elif calle == 'calle':\n",
    "        return 3\n",
    "    else:\n",
    "        return 0\n",
    "    \n",
    "sin_df['sexo'] = sin_df['sexo'].apply(normalizar_sexo)\n",
    "sin_df['causa'] = sin_df['causa'].apply(normalizar_causa)\n",
    "sin_df['tipo_calle'] = sin_df['tipo_calle'].apply(normalizar_tipo_calle)\n",
    "sin_df.value_counts('tipo_calle')\n",
    "\n",
    "# masculino -> 1\n",
    "# femenino -> 2\n",
    "# sin data -> 0\n",
    "\n",
    "# lesiones -> 1\n",
    "# muerte -> 2"
   ]
  },
  {
   "cell_type": "code",
   "execution_count": 75,
   "id": "997ac435",
   "metadata": {},
   "outputs": [
    {
     "data": {
      "text/plain": [
       "rango_edad\n",
       "2    9878\n",
       "3    8691\n",
       "4    4506\n",
       "1    2808\n",
       "5    2670\n",
       "6    1866\n",
       "7    1652\n",
       "dtype: int64"
      ]
     },
     "execution_count": 75,
     "metadata": {},
     "output_type": "execute_result"
    }
   ],
   "source": [
    "def edades(edad):\n",
    "    rango = 0\n",
    "    \n",
    "    if (edad<20):\n",
    "        rango=1\n",
    "    elif (edad<30):\n",
    "        rango=2\n",
    "    elif (edad<40):\n",
    "        rango=3\n",
    "    elif (edad<50):\n",
    "        rango=4\n",
    "    elif (edad<60):\n",
    "        rango=5\n",
    "    elif (edad<70):\n",
    "        rango=6\n",
    "    else:\n",
    "        rango=7\n",
    "    return rango\n",
    "\n",
    "sin_df['rango_edad'] = sin_df['edad'].apply(edades)\n",
    "sin_df.value_counts('rango_edad')"
   ]
  },
  {
   "attachments": {},
   "cell_type": "markdown",
   "id": "f32e6f66",
   "metadata": {},
   "source": [
    "LE DOY UN FORMATO DESEADO A LA HORA Y FECHA"
   ]
  },
  {
   "cell_type": "code",
   "execution_count": 76,
   "id": "97b12590",
   "metadata": {},
   "outputs": [
    {
     "data": {
      "text/plain": [
       "hora\n",
       "18    2141\n",
       "13    2129\n",
       "14    2050\n",
       "17    2022\n",
       "12    1967\n",
       "dtype: int64"
      ]
     },
     "execution_count": 76,
     "metadata": {},
     "output_type": "execute_result"
    }
   ],
   "source": [
    "def extraer_hora(hora):\n",
    "    return hora.hour\n",
    "\n",
    "sin_df['hora'] = pd.to_datetime(sin_df['hora']).apply(extraer_hora)\n",
    "sin_df['hora'] = sin_df['hora'].astype(int)\n",
    "sin_df.value_counts('hora').head()"
   ]
  },
  {
   "cell_type": "code",
   "execution_count": 77,
   "id": "04f6c269",
   "metadata": {},
   "outputs": [],
   "source": [
    "def crear_fecha(fecha):\n",
    "\n",
    "    if \"/\" in fecha:\n",
    "        fecha = fecha.split(\"/\")\n",
    "        fecha[0] = int(fecha[0])\n",
    "        fecha[1] = int(fecha[1])\n",
    "        fecha[2] = int(fecha[2])\n",
    "        aux = fecha[1]\n",
    "        fecha[1] = fecha[0]\n",
    "        fecha[0] = aux\n",
    "        return fecha\n",
    "    \n",
    "    elif \"-\" in fecha:\n",
    "        fecha = fecha.split(\"-\")\n",
    "        fecha[0] = int(fecha[0])\n",
    "        fecha[1] = int(fecha[1])\n",
    "        fecha[2] = int(fecha[2])\n",
    "        fecha[2] = 2000 + fecha[2]\n",
    "        return fecha\n",
    "\n",
    "\n",
    "def dia(d):\n",
    "    return d[0]\n",
    "\n",
    "def mes(d):\n",
    "    return d[1]\n",
    "\n",
    "def anio(d):\n",
    "    return d[2]"
   ]
  },
  {
   "cell_type": "code",
   "execution_count": 78,
   "id": "2f30f74a",
   "metadata": {},
   "outputs": [
    {
     "data": {
      "text/plain": [
       "2    13504\n",
       "1    12988\n",
       "0     5579\n",
       "Name: rango_horario, dtype: int64"
      ]
     },
     "execution_count": 78,
     "metadata": {},
     "output_type": "execute_result"
    }
   ],
   "source": [
    "sin_df['rango_horario'] = sin_df.hora.apply(lambda x: \n",
    "                                            0 if (x < 5)\n",
    "                                            else 1 if (x < 14)\n",
    "                                            else 2 if (x < 21)\n",
    "                                            else 0)\n",
    "\n",
    "sin_df.rango_horario.value_counts()\n",
    "\n",
    "# 0 -> Noche y Madrugada\n",
    "# 1 -> Mañana\n",
    "# 2 -> Tarde"
   ]
  },
  {
   "cell_type": "code",
   "execution_count": 79,
   "id": "b0743427",
   "metadata": {},
   "outputs": [
    {
     "name": "stdout",
     "output_type": "stream",
     "text": [
      "<class 'pandas.core.frame.DataFrame'>\n",
      "Int64Index: 32071 entries, 0 to 33232\n",
      "Data columns (total 23 columns):\n",
      " #   Column                  Non-Null Count  Dtype  \n",
      "---  ------                  --------------  -----  \n",
      " 0   causa                   32071 non-null  int64  \n",
      " 1   rol                     32071 non-null  object \n",
      " 2   tipo                    32071 non-null  object \n",
      " 3   sexo                    32071 non-null  int64  \n",
      " 4   edad                    32071 non-null  float64\n",
      " 5   fecha                   32071 non-null  object \n",
      " 6   hora                    32071 non-null  int32  \n",
      " 7   tipo_calle              32071 non-null  int64  \n",
      " 8   calle1                  32071 non-null  object \n",
      " 9   calle2                  32071 non-null  object \n",
      " 10  x                       32071 non-null  float64\n",
      " 11  y                       32071 non-null  float64\n",
      " 12  cantidad_victimas       32071 non-null  int64  \n",
      " 13  comuna                  32071 non-null  int32  \n",
      " 14  tipo_colision1          32071 non-null  object \n",
      " 15  participantes_acusados  32071 non-null  object \n",
      " 16  participantes_victimas  32071 non-null  object \n",
      " 17  rango_edad              32071 non-null  int64  \n",
      " 18  rango_horario           32071 non-null  int64  \n",
      " 19  fecha_norm              32071 non-null  object \n",
      " 20  d                       32071 non-null  int64  \n",
      " 21  m                       32071 non-null  int64  \n",
      " 22  a                       32071 non-null  int64  \n",
      "dtypes: float64(3), int32(2), int64(9), object(9)\n",
      "memory usage: 5.6+ MB\n"
     ]
    }
   ],
   "source": [
    "#sin_df = sin_df.dropna(subset='fecha')\n",
    "sin_df['fecha_norm'] = sin_df['fecha'].apply(crear_fecha)\n",
    "\n",
    "sin_df['d'] = sin_df['fecha_norm'].apply(dia)\n",
    "sin_df['m'] = sin_df['fecha_norm'].apply(mes)\n",
    "sin_df['a'] = sin_df['fecha_norm'].apply(anio)\n",
    "\n",
    "sin_df.info()"
   ]
  },
  {
   "cell_type": "code",
   "execution_count": 80,
   "id": "b777ec04",
   "metadata": {},
   "outputs": [
    {
     "data": {
      "text/plain": [
       "automovil                                    16212\n",
       "\"transporte publico\"                          3660\n",
       "moto                                          2543\n",
       "taxi/remis                                    2080\n",
       "camioneta                                     1400\n",
       "                                             ...  \n",
       "taxi/remis,camioneta                             1\n",
       "moto,automovil,automovil,automovil               1\n",
       "automovil,ambulancia                             1\n",
       "\"transporte de cargas / grua / volquetes\"        1\n",
       "automovil,cuatriciclo                            1\n",
       "Name: participantes_acusados, Length: 178, dtype: int64"
      ]
     },
     "execution_count": 80,
     "metadata": {},
     "output_type": "execute_result"
    }
   ],
   "source": [
    "#sin_df[['tipo_colision1','tipo','participantes_acusados','participantes_victimas']].sample(10)\n",
    "sin_df.participantes_acusados.value_counts()"
   ]
  },
  {
   "attachments": {},
   "cell_type": "markdown",
   "id": "de3a5f19",
   "metadata": {},
   "source": [
    "veo que 'participantes_victimas' contiene en casi todos los casos el mismo valor que la columna 'tipo', por lo cual no la voy a utilizar.\n",
    "en el caso de la columna 'participantes_acusados' tiene informacion diferente y tendre que limpiar la columna para poder utilizarla."
   ]
  },
  {
   "cell_type": "code",
   "execution_count": 81,
   "id": "bccc006b",
   "metadata": {},
   "outputs": [
    {
     "data": {
      "text/plain": [
       "automovil              18478\n",
       "transporte_publico      5944\n",
       "motovehiculo            3598\n",
       "camion                  2788\n",
       "otro                     739\n",
       "transporte_publico2      256\n",
       "bicicleta                200\n",
       "peaton                    68\n",
       "Name: participantes_acusados, dtype: int64"
      ]
     },
     "execution_count": 81,
     "metadata": {},
     "output_type": "execute_result"
    }
   ],
   "source": [
    "def simplificar_acusado(ac):    \n",
    "    if ('moto' in ac):\n",
    "        return 'motovehiculo'\n",
    "    elif ('auto' in ac):\n",
    "        return 'automovil'\n",
    "    elif (('rural' in ac) | ('camion' in ac) | ('utilitario' in ac)):\n",
    "        return 'camion'\n",
    "    elif ('peaton' in ac) | ('patineta' in ac):\n",
    "        return 'peaton'\n",
    "    elif ('bici' in ac):\n",
    "        return 'bicicleta'\n",
    "    elif (('taxi' in ac) | ('remis' in ac) | ('bus' in ac) | ('publico' in ac)):\n",
    "        return 'transporte_publico'\n",
    "    elif (('transporte' in ac) | ('ambulancia' in ac) | ('fuerza' in ac) | ('tren' in ac) | ('tranvia' in ac) | ('oficial' in ac)):\n",
    "        return 'transporte_publico2'\n",
    "    else:\n",
    "        return 'otro'\n",
    "\n",
    "sin_df.participantes_acusados = sin_df.participantes_acusados.apply(simplificar_acusado)\n",
    "sin_df.participantes_acusados.value_counts()"
   ]
  },
  {
   "attachments": {},
   "cell_type": "markdown",
   "id": "ce40d9ad",
   "metadata": {},
   "source": [
    "FINALIZA EL PROCESO DE LIMPIEZA"
   ]
  },
  {
   "attachments": {},
   "cell_type": "markdown",
   "id": "508f5e79",
   "metadata": {},
   "source": [
    "AGREGO DATOS DEL CLIMA DE CABA PARA SINIESTRO (utilizando como clave la fecha y hora del mismo)\n",
    "\n"
   ]
  },
  {
   "cell_type": "code",
   "execution_count": 82,
   "id": "a49014c7",
   "metadata": {},
   "outputs": [],
   "source": [
    "clima = 'clima_caba.csv'\n",
    "clima_df = pd.read_csv(clima)\n",
    "clima_df.rename(columns={'viento;;;;;;':'viento'}, inplace=True)\n",
    "\n",
    "#NO SE PORQUE AGREGA LA COLUMNA VIENTO CON ESE NOMBRE, PARA NO PERDER TIEMPO LA CORRIJO MANUALMENTE"
   ]
  },
  {
   "cell_type": "code",
   "execution_count": 83,
   "id": "baf14945",
   "metadata": {},
   "outputs": [
    {
     "data": {
      "text/html": [
       "<div>\n",
       "<style scoped>\n",
       "    .dataframe tbody tr th:only-of-type {\n",
       "        vertical-align: middle;\n",
       "    }\n",
       "\n",
       "    .dataframe tbody tr th {\n",
       "        vertical-align: top;\n",
       "    }\n",
       "\n",
       "    .dataframe thead th {\n",
       "        text-align: right;\n",
       "    }\n",
       "</style>\n",
       "<table border=\"1\" class=\"dataframe\">\n",
       "  <thead>\n",
       "    <tr style=\"text-align: right;\">\n",
       "      <th></th>\n",
       "      <th>causa</th>\n",
       "      <th>rol</th>\n",
       "      <th>tipo</th>\n",
       "      <th>sexo</th>\n",
       "      <th>edad</th>\n",
       "      <th>fecha</th>\n",
       "      <th>hora</th>\n",
       "      <th>tipo_calle</th>\n",
       "      <th>calle1</th>\n",
       "      <th>calle2</th>\n",
       "      <th>...</th>\n",
       "      <th>rango_horario</th>\n",
       "      <th>fecha_norm</th>\n",
       "      <th>d</th>\n",
       "      <th>m</th>\n",
       "      <th>a</th>\n",
       "      <th>h</th>\n",
       "      <th>temp</th>\n",
       "      <th>hum</th>\n",
       "      <th>precip</th>\n",
       "      <th>viento</th>\n",
       "    </tr>\n",
       "  </thead>\n",
       "  <tbody>\n",
       "    <tr>\n",
       "      <th>6418</th>\n",
       "      <td>1</td>\n",
       "      <td>conductor</td>\n",
       "      <td>moto</td>\n",
       "      <td>1</td>\n",
       "      <td>27.0</td>\n",
       "      <td>12/20/2017</td>\n",
       "      <td>1</td>\n",
       "      <td>3</td>\n",
       "      <td>o'higgins</td>\n",
       "      <td>sin_data</td>\n",
       "      <td>...</td>\n",
       "      <td>0</td>\n",
       "      <td>[20, 12, 2017]</td>\n",
       "      <td>20</td>\n",
       "      <td>12</td>\n",
       "      <td>2017</td>\n",
       "      <td>1</td>\n",
       "      <td>19.41</td>\n",
       "      <td>76.12</td>\n",
       "      <td>0.0</td>\n",
       "      <td>2.85</td>\n",
       "    </tr>\n",
       "    <tr>\n",
       "      <th>15725</th>\n",
       "      <td>1</td>\n",
       "      <td>ciclista</td>\n",
       "      <td>bicicleta</td>\n",
       "      <td>1</td>\n",
       "      <td>47.0</td>\n",
       "      <td>04-09-18</td>\n",
       "      <td>9</td>\n",
       "      <td>2</td>\n",
       "      <td>cordoba av.</td>\n",
       "      <td>dorrego av.</td>\n",
       "      <td>...</td>\n",
       "      <td>1</td>\n",
       "      <td>[4, 9, 2018]</td>\n",
       "      <td>4</td>\n",
       "      <td>9</td>\n",
       "      <td>2018</td>\n",
       "      <td>9</td>\n",
       "      <td>13.87</td>\n",
       "      <td>76.31</td>\n",
       "      <td>0.0</td>\n",
       "      <td>4.31</td>\n",
       "    </tr>\n",
       "    <tr>\n",
       "      <th>4325</th>\n",
       "      <td>1</td>\n",
       "      <td>peaton</td>\n",
       "      <td>peaton</td>\n",
       "      <td>2</td>\n",
       "      <td>22.0</td>\n",
       "      <td>10/14/2016</td>\n",
       "      <td>15</td>\n",
       "      <td>3</td>\n",
       "      <td>pasco</td>\n",
       "      <td>sin_data</td>\n",
       "      <td>...</td>\n",
       "      <td>2</td>\n",
       "      <td>[14, 10, 2016]</td>\n",
       "      <td>14</td>\n",
       "      <td>10</td>\n",
       "      <td>2016</td>\n",
       "      <td>15</td>\n",
       "      <td>22.26</td>\n",
       "      <td>72.31</td>\n",
       "      <td>0.0</td>\n",
       "      <td>4.59</td>\n",
       "    </tr>\n",
       "  </tbody>\n",
       "</table>\n",
       "<p>3 rows × 28 columns</p>\n",
       "</div>"
      ],
      "text/plain": [
       "       causa        rol       tipo  sexo  edad       fecha  hora  tipo_calle  \\\n",
       "6418       1  conductor       moto     1  27.0  12/20/2017     1           3   \n",
       "15725      1   ciclista  bicicleta     1  47.0    04-09-18     9           2   \n",
       "4325       1     peaton     peaton     2  22.0  10/14/2016    15           3   \n",
       "\n",
       "            calle1       calle2  ...  rango_horario      fecha_norm   d   m  \\\n",
       "6418     o'higgins     sin_data  ...              0  [20, 12, 2017]  20  12   \n",
       "15725  cordoba av.  dorrego av.  ...              1    [4, 9, 2018]   4   9   \n",
       "4325         pasco     sin_data  ...              2  [14, 10, 2016]  14  10   \n",
       "\n",
       "          a   h   temp    hum  precip viento  \n",
       "6418   2017   1  19.41  76.12     0.0   2.85  \n",
       "15725  2018   9  13.87  76.31     0.0   4.31  \n",
       "4325   2016  15  22.26  72.31     0.0   4.59  \n",
       "\n",
       "[3 rows x 28 columns]"
      ]
     },
     "execution_count": 83,
     "metadata": {},
     "output_type": "execute_result"
    }
   ],
   "source": [
    "sin_df = sin_df.merge(clima_df,how='left',left_on=['d','m','a','hora'],right_on=['d','m','a','h'])\n",
    "sin_df.sample(3)"
   ]
  },
  {
   "cell_type": "code",
   "execution_count": 84,
   "id": "1097ce3b",
   "metadata": {},
   "outputs": [
    {
     "data": {
      "text/plain": [
       "<AxesSubplot:>"
      ]
     },
     "execution_count": 84,
     "metadata": {},
     "output_type": "execute_result"
    },
    {
     "data": {
      "image/png": "[encoded data removed]",
      "text/plain": [
       "<Figure size 640x480 with 1 Axes>"
      ]
     },
     "metadata": {},
     "output_type": "display_data"
    }
   ],
   "source": [
    "sns.boxplot(sin_df[['temp','hum','viento']])"
   ]
  },
  {
   "attachments": {},
   "cell_type": "markdown",
   "id": "c360c440",
   "metadata": {},
   "source": [
    "Veo que en este caso los outliers no cambiaran en gran medida la normalización."
   ]
  },
  {
   "cell_type": "code",
   "execution_count": 85,
   "id": "ecfe278b",
   "metadata": {},
   "outputs": [
    {
     "data": {
      "text/plain": [
       "24910    40.06\n",
       "2712     30.38\n",
       "2711     30.38\n",
       "7489     26.07\n",
       "31598    26.07\n",
       "17609    24.33\n",
       "1483     24.33\n",
       "25632    24.33\n",
       "16838    21.76\n",
       "154      20.40\n",
       "16851    18.91\n",
       "6777     16.31\n",
       "30755    16.31\n",
       "6713     16.14\n",
       "30646    16.14\n",
       "10460    15.29\n",
       "10461    15.29\n",
       "10462    15.29\n",
       "10459    15.29\n",
       "30058    14.71\n",
       "17249    11.57\n",
       "9057     11.57\n",
       "2312     10.67\n",
       "14800    10.62\n",
       "14472    10.62\n",
       "4057     10.51\n",
       "11958    10.51\n",
       "14125    10.33\n",
       "20517     9.44\n",
       "28459     9.44\n",
       "Name: precip, dtype: float64"
      ]
     },
     "execution_count": 85,
     "metadata": {},
     "output_type": "execute_result"
    }
   ],
   "source": [
    "# SE QUE TENGO OUTLIERS EN ESTE FEATURE, HAGO UNA ELIMINACION MANUAL DE ESTOS\n",
    "\n",
    "sin_df.precip.sort_values(ascending=False).head(30)"
   ]
  },
  {
   "cell_type": "code",
   "execution_count": 86,
   "id": "8faa7a73",
   "metadata": {},
   "outputs": [],
   "source": [
    "#ELIMINO OUTLIERS DE PRECIPITACION PARA QUE NO INTERFIERA EN LA NORMALIZACION DEL FEATURE, CONSIDERO OUTLIERS A LOS VALORES MAYORES A 12\n",
    "sin_df = sin_df.loc[sin_df.precip < 12]\n"
   ]
  },
  {
   "cell_type": "code",
   "execution_count": 87,
   "id": "163b6ba1",
   "metadata": {},
   "outputs": [],
   "source": [
    "#ESCALO TODOS LOS VALORES DE CLIMA OBTENIDOS ENTRE 0 y 1\n",
    "scaler = MinMaxScaler()\n",
    "scaled_df = scaler.fit_transform(sin_df[['temp','hum','viento','precip']])\n",
    "sin_df[['temp','hum','viento','precip']] = scaled_df\n",
    "\n",
    "# PUEDO ESCALAR LOS VALORES O PUEDO CATEGORIZARLOS "
   ]
  },
  {
   "attachments": {},
   "cell_type": "markdown",
   "id": "74bbee5b",
   "metadata": {},
   "source": [
    "EN OTRAS ENTREGAS PUDE EXTRAER INFORMACIÓN DEL SET DE DATOS QUE APUNTABA A ENCONTRAR LOS PUNTOS CLAVE EN LOS QUE SE DABA LA MAYOR CANTIDAD DE SINIESTROS DE CADA TIPO (las calles, comunas y coordenadas mas peligrosas para cada tipo de vehiculo), ESTOS DESCUBRIMIENTOS SON LOS INSIGHTS QUE ME PARECIERON IMPORTANTES EN VISTA A PROPONER MEDIDAS QUE AYUDEN A BAJAR LA CANTIDAD DE ACCIDENTES. \n",
    "\n",
    "EN ESTA ENTREGA ME CENTRARÉ EN LA PREDICCIÓN; PARA ESTO VOY A ENTRENAR UN MODELO DE MACHINE LEARNING, HABIENDO HECHO LA SELECCIÓN DE FEATURES QUE CREA NECESARIO PARA EL CASO."
   ]
  },
  {
   "attachments": {},
   "cell_type": "markdown",
   "id": "e99c11b9",
   "metadata": {},
   "source": [
    "PARA EL PRIMER ESTUDIO, UTILIZARE COMO VARIABLE DEPENDIENTE EL HORARIO, LAS VARIABLES INDEPENDIENTES SERÁN 'tipo','sexo','tipo_calle','comuna','tipo_colision1','d','m','a','precip','rango_edad','participantes_acusados'.\n",
    "\n",
    "Comienzo con este estudio porque me parece el valor mas útil a predecir dados los features disponibles, ya que esto podría ser de utilidad para entes que regulen y prevengan accidentes de transito. "
   ]
  },
  {
   "cell_type": "code",
   "execution_count": 88,
   "id": "40e79392",
   "metadata": {},
   "outputs": [],
   "source": [
    "X = sin_df[['tipo','sexo','tipo_calle','comuna','tipo_colision1','d','m','a','participantes_acusados','precip','viento','rango_edad','rol']]\n",
    "y = sin_df['rango_horario']\n",
    "#CON DATOS DE CLIMA"
   ]
  },
  {
   "cell_type": "code",
   "execution_count": 89,
   "id": "eb5836a2",
   "metadata": {},
   "outputs": [
    {
     "name": "stderr",
     "output_type": "stream",
     "text": [
      "C:\\Users\\Seguridad\\AppData\\Local\\Temp\\ipykernel_2836\\3019221700.py:6: SettingWithCopyWarning: \n",
      "A value is trying to be set on a copy of a slice from a DataFrame.\n",
      "Try using .loc[row_indexer,col_indexer] = value instead\n",
      "\n",
      "See the caveats in the documentation: https://pandas.pydata.org/pandas-docs/stable/user_guide/indexing.html#returning-a-view-versus-a-copy\n",
      "  X.rol = le.transform(X.rol)\n",
      "C:\\Users\\Seguridad\\AppData\\Local\\Temp\\ipykernel_2836\\3019221700.py:9: SettingWithCopyWarning: \n",
      "A value is trying to be set on a copy of a slice from a DataFrame.\n",
      "Try using .loc[row_indexer,col_indexer] = value instead\n",
      "\n",
      "See the caveats in the documentation: https://pandas.pydata.org/pandas-docs/stable/user_guide/indexing.html#returning-a-view-versus-a-copy\n",
      "  X.tipo_colision1 = le.transform(X.tipo_colision1)\n",
      "C:\\Users\\Seguridad\\AppData\\Local\\Temp\\ipykernel_2836\\3019221700.py:12: SettingWithCopyWarning: \n",
      "A value is trying to be set on a copy of a slice from a DataFrame.\n",
      "Try using .loc[row_indexer,col_indexer] = value instead\n",
      "\n",
      "See the caveats in the documentation: https://pandas.pydata.org/pandas-docs/stable/user_guide/indexing.html#returning-a-view-versus-a-copy\n",
      "  X.participantes_acusados = le.transform(X.participantes_acusados)\n",
      "C:\\Users\\Seguridad\\AppData\\Local\\Temp\\ipykernel_2836\\3019221700.py:15: SettingWithCopyWarning: \n",
      "A value is trying to be set on a copy of a slice from a DataFrame.\n",
      "Try using .loc[row_indexer,col_indexer] = value instead\n",
      "\n",
      "See the caveats in the documentation: https://pandas.pydata.org/pandas-docs/stable/user_guide/indexing.html#returning-a-view-versus-a-copy\n",
      "  X.tipo = le.transform(X.tipo)\n"
     ]
    }
   ],
   "source": [
    "#X = pd.get_dummies(X)\n",
    "from sklearn.preprocessing import LabelEncoder\n",
    "\n",
    "le = LabelEncoder()\n",
    "le.fit(X.rol)\n",
    "X.rol = le.transform(X.rol)\n",
    "\n",
    "le.fit(X.tipo_colision1)\n",
    "X.tipo_colision1 = le.transform(X.tipo_colision1)\n",
    "\n",
    "le.fit(X.participantes_acusados)\n",
    "X.participantes_acusados = le.transform(X.participantes_acusados)\n",
    "\n",
    "le.fit(X.tipo)\n",
    "X.tipo = le.transform(X.tipo)\n"
   ]
  },
  {
   "cell_type": "code",
   "execution_count": 51,
   "id": "e99c2d3d",
   "metadata": {},
   "outputs": [],
   "source": [
    "X_train, X_test, y_train, y_test = train_test_split(\n",
    "                                        X,\n",
    "                                        y.values.reshape(-1,1),\n",
    "                                        train_size   = 0.7,\n",
    "                                        random_state = 1234,\n",
    "                                        shuffle      = True\n",
    "                                    )"
   ]
  },
  {
   "cell_type": "code",
   "execution_count": 52,
   "id": "e552ced3",
   "metadata": {},
   "outputs": [
    {
     "name": "stderr",
     "output_type": "stream",
     "text": [
      "C:\\Users\\Seguridad\\AppData\\Local\\Temp\\ipykernel_2836\\3027205534.py:4: DataConversionWarning: A column-vector y was passed when a 1d array was expected. Please change the shape of y to (n_samples,), for example using ravel().\n",
      "  modelo_rf.fit(X_train, y_train)\n"
     ]
    },
    {
     "name": "stdout",
     "output_type": "stream",
     "text": [
      "% de aciertos sobre el set de entrenamiento: 64.96545576108758\n",
      "% de aciertos sobre el set de evaluación: 48.39850249584027\n"
     ]
    }
   ],
   "source": [
    "from sklearn.ensemble import RandomForestClassifier\n",
    "\n",
    "modelo_rf = RandomForestClassifier(n_estimators=1000, max_depth=10, random_state=42)\n",
    "modelo_rf.fit(X_train, y_train)\n",
    "\n",
    "y_train_pred = modelo_rf.predict(X_train)\n",
    "y_test_pred = modelo_rf.predict(X_test)\n",
    "\n",
    "train_accuracy = accuracy_score(y_train, y_train_pred)\n",
    "print('% de aciertos sobre el set de entrenamiento:',train_accuracy*100)\n",
    "\n",
    "test_accuracy = accuracy_score(y_test, y_test_pred)\n",
    "print('% de aciertos sobre el set de evaluación:',test_accuracy*100)\n"
   ]
  },
  {
   "attachments": {},
   "cell_type": "markdown",
   "id": "8876126f",
   "metadata": {},
   "source": [
    "Por lo que veo en los resultados, no estoy haciendo buenas predicciones, no solo que el porcentaje es malo, sino que ademas cae en el set de evaluación, por lo que tambien puede haber overfitting, voy a probar otros algoritmos. "
   ]
  },
  {
   "cell_type": "code",
   "execution_count": 53,
   "id": "46e1c115",
   "metadata": {},
   "outputs": [
    {
     "name": "stdout",
     "output_type": "stream",
     "text": [
      "% de aciertos sobre el set de entrenamiento: 55.903721863160236\n",
      "% de aciertos sobre el set de evaluación: 49.92720465890183\n"
     ]
    }
   ],
   "source": [
    "import xgboost as xgb\n",
    "\n",
    "modelo_xgb = xgb.XGBClassifier(learning_rate=0.1, n_estimators=100, max_depth=5, random_state=42)\n",
    "modelo_xgb.fit(X_train, y_train)\n",
    "\n",
    "y_train_pred = modelo_xgb.predict(X_train)\n",
    "y_test_pred = modelo_xgb.predict(X_test)\n",
    "\n",
    "train_accuracy = accuracy_score(y_train, y_train_pred)\n",
    "print('% de aciertos sobre el set de entrenamiento:',train_accuracy*100)\n",
    "\n",
    "test_accuracy = accuracy_score(y_test, y_test_pred)\n",
    "print('% de aciertos sobre el set de evaluación:',test_accuracy*100)\n"
   ]
  },
  {
   "attachments": {},
   "cell_type": "markdown",
   "id": "ec002bac",
   "metadata": {},
   "source": [
    "No logro buenas predicciones en el campo del rango horario, voy a pasar a la siguiente predicción: tipo de calle"
   ]
  },
  {
   "cell_type": "code",
   "execution_count": 54,
   "id": "3871fbca",
   "metadata": {},
   "outputs": [
    {
     "data": {
      "text/plain": [
       "0"
      ]
     },
     "execution_count": 54,
     "metadata": {},
     "output_type": "execute_result"
    }
   ],
   "source": [
    "#sin_df = sin_df.loc[sin_df['rol']!='sin_data']\n",
    "#sum(sin_df.rol == 'sin_data')"
   ]
  },
  {
   "cell_type": "code",
   "execution_count": 55,
   "id": "28d129bb",
   "metadata": {},
   "outputs": [
    {
     "name": "stdout",
     "output_type": "stream",
     "text": [
      "<class 'pandas.core.frame.DataFrame'>\n",
      "Int64Index: 31724 entries, 0 to 32070\n",
      "Data columns (total 14 columns):\n",
      " #   Column                  Non-Null Count  Dtype  \n",
      "---  ------                  --------------  -----  \n",
      " 0   causa                   31724 non-null  int64  \n",
      " 1   tipo                    31724 non-null  object \n",
      " 2   rol                     31724 non-null  object \n",
      " 3   sexo                    31724 non-null  int64  \n",
      " 4   rango_horario           31724 non-null  int64  \n",
      " 5   comuna                  31724 non-null  int32  \n",
      " 6   tipo_colision1          31724 non-null  object \n",
      " 7   d                       31724 non-null  int64  \n",
      " 8   m                       31724 non-null  int64  \n",
      " 9   a                       31724 non-null  int64  \n",
      " 10  participantes_acusados  31724 non-null  object \n",
      " 11  precip                  31724 non-null  float64\n",
      " 12  viento                  31724 non-null  float64\n",
      " 13  rango_edad              31724 non-null  int64  \n",
      "dtypes: float64(2), int32(1), int64(7), object(4)\n",
      "memory usage: 3.5+ MB\n"
     ]
    }
   ],
   "source": [
    "X = sin_df[['causa','tipo','rol','sexo','rango_horario','comuna','tipo_colision1','d','m','a','participantes_acusados','precip','viento','rango_edad']]\n",
    "y = sin_df['tipo_calle']\n",
    "\n",
    "X.info()"
   ]
  },
  {
   "cell_type": "code",
   "execution_count": 56,
   "id": "72984be3",
   "metadata": {},
   "outputs": [
    {
     "name": "stderr",
     "output_type": "stream",
     "text": [
      "C:\\Users\\Seguridad\\AppData\\Local\\Temp\\ipykernel_2836\\3019221700.py:6: SettingWithCopyWarning: \n",
      "A value is trying to be set on a copy of a slice from a DataFrame.\n",
      "Try using .loc[row_indexer,col_indexer] = value instead\n",
      "\n",
      "See the caveats in the documentation: https://pandas.pydata.org/pandas-docs/stable/user_guide/indexing.html#returning-a-view-versus-a-copy\n",
      "  X.rol = le.transform(X.rol)\n",
      "C:\\Users\\Seguridad\\AppData\\Local\\Temp\\ipykernel_2836\\3019221700.py:9: SettingWithCopyWarning: \n",
      "A value is trying to be set on a copy of a slice from a DataFrame.\n",
      "Try using .loc[row_indexer,col_indexer] = value instead\n",
      "\n",
      "See the caveats in the documentation: https://pandas.pydata.org/pandas-docs/stable/user_guide/indexing.html#returning-a-view-versus-a-copy\n",
      "  X.tipo_colision1 = le.transform(X.tipo_colision1)\n",
      "C:\\Users\\Seguridad\\AppData\\Local\\Temp\\ipykernel_2836\\3019221700.py:12: SettingWithCopyWarning: \n",
      "A value is trying to be set on a copy of a slice from a DataFrame.\n",
      "Try using .loc[row_indexer,col_indexer] = value instead\n",
      "\n",
      "See the caveats in the documentation: https://pandas.pydata.org/pandas-docs/stable/user_guide/indexing.html#returning-a-view-versus-a-copy\n",
      "  X.participantes_acusados = le.transform(X.participantes_acusados)\n",
      "C:\\Users\\Seguridad\\AppData\\Local\\Temp\\ipykernel_2836\\3019221700.py:15: SettingWithCopyWarning: \n",
      "A value is trying to be set on a copy of a slice from a DataFrame.\n",
      "Try using .loc[row_indexer,col_indexer] = value instead\n",
      "\n",
      "See the caveats in the documentation: https://pandas.pydata.org/pandas-docs/stable/user_guide/indexing.html#returning-a-view-versus-a-copy\n",
      "  X.tipo = le.transform(X.tipo)\n"
     ]
    }
   ],
   "source": [
    "#X = pd.get_dummies(X)\n",
    "from sklearn.preprocessing import LabelEncoder\n",
    "\n",
    "le = LabelEncoder()\n",
    "le.fit(X.rol)\n",
    "X.rol = le.transform(X.rol)\n",
    "\n",
    "le.fit(X.tipo_colision1)\n",
    "X.tipo_colision1 = le.transform(X.tipo_colision1)\n",
    "\n",
    "le.fit(X.participantes_acusados)\n",
    "X.participantes_acusados = le.transform(X.participantes_acusados)\n",
    "\n",
    "le.fit(X.tipo)\n",
    "X.tipo = le.transform(X.tipo)\n"
   ]
  },
  {
   "cell_type": "code",
   "execution_count": 57,
   "id": "12e9ff0b",
   "metadata": {},
   "outputs": [],
   "source": [
    "X_train, X_test, y_train, y_test = train_test_split(\n",
    "                                        X,\n",
    "                                        y.values.reshape(-1,1),\n",
    "                                        train_size   = 0.7,\n",
    "                                        random_state = 1234,\n",
    "                                        shuffle      = True\n",
    "                                    )"
   ]
  },
  {
   "cell_type": "code",
   "execution_count": 58,
   "id": "978f8b66",
   "metadata": {},
   "outputs": [
    {
     "name": "stderr",
     "output_type": "stream",
     "text": [
      "C:\\Users\\Seguridad\\AppData\\Local\\Temp\\ipykernel_2836\\1080219172.py:4: DataConversionWarning: A column-vector y was passed when a 1d array was expected. Please change the shape of y to (n_samples,), for example using ravel().\n",
      "  modelo_rf.fit(X_train, y_train)\n"
     ]
    },
    {
     "name": "stdout",
     "output_type": "stream",
     "text": [
      "% de aciertos sobre el set de entrenamiento: 69.76492839773034\n",
      "% de aciertos sobre el set de evaluación: 66.2324017650767\n"
     ]
    }
   ],
   "source": [
    "from sklearn.ensemble import RandomForestClassifier\n",
    "\n",
    "modelo_rf = RandomForestClassifier(n_estimators=1000, max_depth=10, random_state=42)\n",
    "modelo_rf.fit(X_train, y_train)\n",
    "\n",
    "y_train_pred = modelo_rf.predict(X_train)\n",
    "y_test_pred = modelo_rf.predict(X_test)\n",
    "\n",
    "train_accuracy = accuracy_score(y_train, y_train_pred)\n",
    "print('% de aciertos sobre el set de entrenamiento:',train_accuracy*100)\n",
    "\n",
    "test_accuracy = accuracy_score(y_test, y_test_pred)\n",
    "print('% de aciertos sobre el set de evaluación:',test_accuracy*100)"
   ]
  },
  {
   "cell_type": "code",
   "execution_count": 59,
   "id": "8db8418f",
   "metadata": {},
   "outputs": [
    {
     "data": {
      "text/html": [
       "<div>\n",
       "<style scoped>\n",
       "    .dataframe tbody tr th:only-of-type {\n",
       "        vertical-align: middle;\n",
       "    }\n",
       "\n",
       "    .dataframe tbody tr th {\n",
       "        vertical-align: top;\n",
       "    }\n",
       "\n",
       "    .dataframe thead th {\n",
       "        text-align: right;\n",
       "    }\n",
       "</style>\n",
       "<table border=\"1\" class=\"dataframe\">\n",
       "  <thead>\n",
       "    <tr style=\"text-align: right;\">\n",
       "      <th></th>\n",
       "      <th>feature</th>\n",
       "      <th>imp</th>\n",
       "    </tr>\n",
       "  </thead>\n",
       "  <tbody>\n",
       "    <tr>\n",
       "      <th>0</th>\n",
       "      <td>causa</td>\n",
       "      <td>0.007883</td>\n",
       "    </tr>\n",
       "    <tr>\n",
       "      <th>1</th>\n",
       "      <td>tipo</td>\n",
       "      <td>0.077274</td>\n",
       "    </tr>\n",
       "    <tr>\n",
       "      <th>2</th>\n",
       "      <td>rol</td>\n",
       "      <td>0.045836</td>\n",
       "    </tr>\n",
       "    <tr>\n",
       "      <th>3</th>\n",
       "      <td>sexo</td>\n",
       "      <td>0.024005</td>\n",
       "    </tr>\n",
       "    <tr>\n",
       "      <th>4</th>\n",
       "      <td>rango_horario</td>\n",
       "      <td>0.042061</td>\n",
       "    </tr>\n",
       "    <tr>\n",
       "      <th>5</th>\n",
       "      <td>comuna</td>\n",
       "      <td>0.120046</td>\n",
       "    </tr>\n",
       "    <tr>\n",
       "      <th>6</th>\n",
       "      <td>tipo_colision1</td>\n",
       "      <td>0.076577</td>\n",
       "    </tr>\n",
       "    <tr>\n",
       "      <th>7</th>\n",
       "      <td>d</td>\n",
       "      <td>0.110018</td>\n",
       "    </tr>\n",
       "    <tr>\n",
       "      <th>8</th>\n",
       "      <td>m</td>\n",
       "      <td>0.086466</td>\n",
       "    </tr>\n",
       "    <tr>\n",
       "      <th>9</th>\n",
       "      <td>a</td>\n",
       "      <td>0.046717</td>\n",
       "    </tr>\n",
       "    <tr>\n",
       "      <th>10</th>\n",
       "      <td>participantes_acusados</td>\n",
       "      <td>0.064152</td>\n",
       "    </tr>\n",
       "    <tr>\n",
       "      <th>11</th>\n",
       "      <td>precip</td>\n",
       "      <td>0.070976</td>\n",
       "    </tr>\n",
       "    <tr>\n",
       "      <th>12</th>\n",
       "      <td>viento</td>\n",
       "      <td>0.159751</td>\n",
       "    </tr>\n",
       "    <tr>\n",
       "      <th>13</th>\n",
       "      <td>rango_edad</td>\n",
       "      <td>0.068239</td>\n",
       "    </tr>\n",
       "  </tbody>\n",
       "</table>\n",
       "</div>"
      ],
      "text/plain": [
       "                   feature       imp\n",
       "0                    causa  0.007883\n",
       "1                     tipo  0.077274\n",
       "2                      rol  0.045836\n",
       "3                     sexo  0.024005\n",
       "4            rango_horario  0.042061\n",
       "5                   comuna  0.120046\n",
       "6           tipo_colision1  0.076577\n",
       "7                        d  0.110018\n",
       "8                        m  0.086466\n",
       "9                        a  0.046717\n",
       "10  participantes_acusados  0.064152\n",
       "11                  precip  0.070976\n",
       "12                  viento  0.159751\n",
       "13              rango_edad  0.068239"
      ]
     },
     "execution_count": 59,
     "metadata": {},
     "output_type": "execute_result"
    }
   ],
   "source": [
    "importancia = pd.DataFrame()\n",
    "importancia['feature'] = pd.Series(X.columns)\n",
    "importancia['imp'] = modelo_rf.feature_importances_\n",
    "importancia"
   ]
  },
  {
   "cell_type": "code",
   "execution_count": 60,
   "id": "1d806579",
   "metadata": {},
   "outputs": [
    {
     "name": "stderr",
     "output_type": "stream",
     "text": [
      "c:\\ProgramData\\Miniconda3\\lib\\site-packages\\sklearn\\preprocessing\\_label.py:115: DataConversionWarning: A column-vector y was passed when a 1d array was expected. Please change the shape of y to (n_samples, ), for example using ravel().\n",
      "  y = column_or_1d(y, warn=True)\n"
     ]
    },
    {
     "name": "stdout",
     "output_type": "stream",
     "text": [
      "% de aciertos sobre el set de entrenamiento: 69.51274430334144\n",
      "% de aciertos sobre el set de evaluación: 66.43202353435595\n"
     ]
    }
   ],
   "source": [
    "import xgboost as xgb\n",
    "from sklearn.preprocessing import LabelEncoder\n",
    "\n",
    "le = LabelEncoder()\n",
    "\n",
    "y_train = le.fit_transform(y_train)\n",
    "y_test = le.fit_transform(y_test)\n",
    "\n",
    "modelo_xgb = xgb.XGBClassifier(learning_rate=0.1, n_estimators=100, max_depth=5, random_state=42)\n",
    "modelo_xgb.fit(X_train, y_train)\n",
    "\n",
    "y_train_pred = modelo_xgb.predict(X_train)\n",
    "y_test_pred = modelo_xgb.predict(X_test)\n",
    "\n",
    "train_accuracy = accuracy_score(y_train, y_train_pred)\n",
    "print('% de aciertos sobre el set de entrenamiento:',train_accuracy*100)\n",
    "\n",
    "test_accuracy = accuracy_score(y_test, y_test_pred)\n",
    "print('% de aciertos sobre el set de evaluación:',test_accuracy*100)"
   ]
  },
  {
   "attachments": {},
   "cell_type": "markdown",
   "id": "34b6b527",
   "metadata": {},
   "source": [
    "Esta predicciones son un poco mas acertadas que las del rango horario, pero todavía falta mejorar el algoritmo."
   ]
  },
  {
   "cell_type": "code",
   "execution_count": null,
   "id": "5298e0a7",
   "metadata": {},
   "outputs": [],
   "source": []
  },
  {
   "cell_type": "code",
   "execution_count": null,
   "id": "a786e449",
   "metadata": {},
   "outputs": [],
   "source": []
  },
  {
   "cell_type": "code",
   "execution_count": null,
   "id": "3c18c0fd",
   "metadata": {},
   "outputs": [],
   "source": []
  },
  {
   "cell_type": "code",
   "execution_count": null,
   "id": "82fc39eb",
   "metadata": {},
   "outputs": [],
   "source": []
  }
 ],
 "metadata": {
  "kernelspec": {
   "display_name": "Python 3",
   "language": "python",
   "name": "python3"
  },
  "language_info": {
   "codemirror_mode": {
    "name": "ipython",
    "version": 3
   },
   "file_extension": ".py",
   "mimetype": "text/x-python",
   "name": "python",
   "nbconvert_exporter": "python",
   "pygments_lexer": "ipython3",
   "version": "3.9.12"
  }
 },
 "nbformat": 4,
 "nbformat_minor": 5
}
