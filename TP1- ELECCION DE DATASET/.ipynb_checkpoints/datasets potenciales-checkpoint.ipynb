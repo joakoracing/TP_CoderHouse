{
 "cells": [
  {
   "cell_type": "code",
   "execution_count": 31,
   "id": "6f0f73a6",
   "metadata": {},
   "outputs": [],
   "source": [
    "import numpy as np\n",
    "import pandas as pd\n",
    "import scipy.sparse as sp\n",
    "import matplotlib.pyplot as plt\n",
    "import matplotlib.dates as mdates"
   ]
  },
  {
   "cell_type": "code",
   "execution_count": 32,
   "id": "3ef50426",
   "metadata": {},
   "outputs": [],
   "source": [
    "fitdata = 'fitbit.csv'\n",
    "fit_df = pd.read_csv(fitdata)"
   ]
  },
  {
   "cell_type": "code",
   "execution_count": 33,
   "id": "79a5e467",
   "metadata": {},
   "outputs": [
    {
     "name": "stdout",
     "output_type": "stream",
     "text": [
      "<class 'pandas.core.frame.DataFrame'>\n",
      "RangeIndex: 940 entries, 0 to 939\n",
      "Data columns (total 15 columns):\n",
      " #   Column                    Non-Null Count  Dtype  \n",
      "---  ------                    --------------  -----  \n",
      " 0   Id                        940 non-null    int64  \n",
      " 1   ActivityDate              940 non-null    object \n",
      " 2   TotalSteps                940 non-null    int64  \n",
      " 3   TotalDistance             940 non-null    float64\n",
      " 4   TrackerDistance           940 non-null    float64\n",
      " 5   LoggedActivitiesDistance  940 non-null    float64\n",
      " 6   VeryActiveDistance        940 non-null    float64\n",
      " 7   ModeratelyActiveDistance  940 non-null    float64\n",
      " 8   LightActiveDistance       940 non-null    float64\n",
      " 9   SedentaryActiveDistance   940 non-null    float64\n",
      " 10  VeryActiveMinutes         940 non-null    int64  \n",
      " 11  FairlyActiveMinutes       940 non-null    int64  \n",
      " 12  LightlyActiveMinutes      940 non-null    int64  \n",
      " 13  SedentaryMinutes          940 non-null    int64  \n",
      " 14  Calories                  940 non-null    int64  \n",
      "dtypes: float64(7), int64(7), object(1)\n",
      "memory usage: 110.3+ KB\n"
     ]
    }
   ],
   "source": [
    "fit_df.info()"
   ]
  },
  {
   "cell_type": "markdown",
   "id": "2942aea0",
   "metadata": {},
   "source": [
    "Este dataframe no me sirve, pues tiene < 2000 filas"
   ]
  },
  {
   "cell_type": "code",
   "execution_count": 34,
   "id": "c30dbe28",
   "metadata": {},
   "outputs": [],
   "source": [
    "propdata = 'properati.csv'\n",
    "prop_df = pd.read_csv(propdata)"
   ]
  },
  {
   "cell_type": "code",
   "execution_count": 35,
   "id": "44b83027",
   "metadata": {},
   "outputs": [
    {
     "name": "stdout",
     "output_type": "stream",
     "text": [
      "<class 'pandas.core.frame.DataFrame'>\n",
      "RangeIndex: 14942 entries, 0 to 14941\n",
      "Data columns (total 27 columns):\n",
      " #   Column                      Non-Null Count  Dtype  \n",
      "---  ------                      --------------  -----  \n",
      " 0   id                          14942 non-null  object \n",
      " 1   created_on                  14942 non-null  object \n",
      " 2   operation                   14942 non-null  object \n",
      " 3   property_type               14942 non-null  object \n",
      " 4   place_name                  14941 non-null  object \n",
      " 5   place_with_parent_names     14942 non-null  object \n",
      " 6   country_name                14942 non-null  object \n",
      " 7   state_name                  14942 non-null  object \n",
      " 8   geonames_id                 12623 non-null  float64\n",
      " 9   lat-lon                     11966 non-null  object \n",
      " 10  lat                         11966 non-null  float64\n",
      " 11  lon                         11966 non-null  float64\n",
      " 12  price                       13402 non-null  float64\n",
      " 13  currency                    13402 non-null  object \n",
      " 14  price_aprox_local_currency  13402 non-null  float64\n",
      " 15  price_aprox_usd             13402 non-null  float64\n",
      " 16  surface_total_in_m2         9751 non-null   float64\n",
      " 17  surface_covered_in_m2       11698 non-null  float64\n",
      " 18  price_usd_per_m2            8242 non-null   float64\n",
      " 19  price_per_m2                10530 non-null  float64\n",
      " 20  floor                       1355 non-null   float64\n",
      " 21  rooms                       7591 non-null   float64\n",
      " 22  expenses                    2107 non-null   float64\n",
      " 23  properati_url               14942 non-null  object \n",
      " 24  description                 14941 non-null  object \n",
      " 25  title                       14942 non-null  object \n",
      " 26  image_thumbnail             14751 non-null  object \n",
      "dtypes: float64(13), object(14)\n",
      "memory usage: 3.1+ MB\n"
     ]
    }
   ],
   "source": [
    "prop_df.info()"
   ]
  },
  {
   "cell_type": "markdown",
   "id": "af295c13",
   "metadata": {},
   "source": [
    "Este dataframe cumple los requisitos de la entrega de la 7ma clase"
   ]
  },
  {
   "cell_type": "code",
   "execution_count": 36,
   "id": "ea5e0fd1",
   "metadata": {
    "scrolled": false
   },
   "outputs": [
    {
     "data": {
      "text/html": [
       "<div>\n",
       "<style scoped>\n",
       "    .dataframe tbody tr th:only-of-type {\n",
       "        vertical-align: middle;\n",
       "    }\n",
       "\n",
       "    .dataframe tbody tr th {\n",
       "        vertical-align: top;\n",
       "    }\n",
       "\n",
       "    .dataframe thead th {\n",
       "        text-align: right;\n",
       "    }\n",
       "</style>\n",
       "<table border=\"1\" class=\"dataframe\">\n",
       "  <thead>\n",
       "    <tr style=\"text-align: right;\">\n",
       "      <th></th>\n",
       "      <th>id</th>\n",
       "      <th>created_on</th>\n",
       "      <th>operation</th>\n",
       "      <th>property_type</th>\n",
       "      <th>place_name</th>\n",
       "      <th>place_with_parent_names</th>\n",
       "      <th>country_name</th>\n",
       "      <th>state_name</th>\n",
       "      <th>geonames_id</th>\n",
       "      <th>lat-lon</th>\n",
       "      <th>...</th>\n",
       "      <th>surface_covered_in_m2</th>\n",
       "      <th>price_usd_per_m2</th>\n",
       "      <th>price_per_m2</th>\n",
       "      <th>floor</th>\n",
       "      <th>rooms</th>\n",
       "      <th>expenses</th>\n",
       "      <th>properati_url</th>\n",
       "      <th>description</th>\n",
       "      <th>title</th>\n",
       "      <th>image_thumbnail</th>\n",
       "    </tr>\n",
       "  </thead>\n",
       "  <tbody>\n",
       "    <tr>\n",
       "      <th>0</th>\n",
       "      <td>dffaf4b5bba246af564311bc8e581f46224fed90</td>\n",
       "      <td>2017-01-01</td>\n",
       "      <td>rent</td>\n",
       "      <td>apartment</td>\n",
       "      <td>Mar del Plata</td>\n",
       "      <td>|Argentina|Buenos Aires Costa Atlántica|Mar de...</td>\n",
       "      <td>Argentina</td>\n",
       "      <td>Buenos Aires Costa Atlántica</td>\n",
       "      <td>3430863.0</td>\n",
       "      <td>-38.0054771,-57.5426106</td>\n",
       "      <td>...</td>\n",
       "      <td>NaN</td>\n",
       "      <td>NaN</td>\n",
       "      <td>NaN</td>\n",
       "      <td>NaN</td>\n",
       "      <td>2.0</td>\n",
       "      <td>NaN</td>\n",
       "      <td>http://www.properati.com.ar/14mlf_alquiler_dep...</td>\n",
       "      <td>IMPECABLE DPTO DE DOS AMBIENTES MUY BI8EN UBIC...</td>\n",
       "      <td>Departamento en Alq x Temp. Ambientes. Dormitorio</td>\n",
       "      <td>https://thumbs4.properati.com/0/WqpavvtP_gtEOK...</td>\n",
       "    </tr>\n",
       "    <tr>\n",
       "      <th>1</th>\n",
       "      <td>d3a5f126c11e1cbf1534216ed25d45098799f018</td>\n",
       "      <td>2017-01-01</td>\n",
       "      <td>rent</td>\n",
       "      <td>apartment</td>\n",
       "      <td>Mar del Plata</td>\n",
       "      <td>|Argentina|Buenos Aires Costa Atlántica|Mar de...</td>\n",
       "      <td>Argentina</td>\n",
       "      <td>Buenos Aires Costa Atlántica</td>\n",
       "      <td>3430863.0</td>\n",
       "      <td>-37.9963209,-57.5558638</td>\n",
       "      <td>...</td>\n",
       "      <td>NaN</td>\n",
       "      <td>NaN</td>\n",
       "      <td>NaN</td>\n",
       "      <td>NaN</td>\n",
       "      <td>3.0</td>\n",
       "      <td>NaN</td>\n",
       "      <td>http://www.properati.com.ar/14mlg_alquiler_dep...</td>\n",
       "      <td>LINDO DPTO DE TRES AMBIENTESCONSTA DE UN DORMI...</td>\n",
       "      <td>DPTO 3 AMBIENTES</td>\n",
       "      <td>https://thumbs4.properati.com/7/SDQAe2f69Ihyjp...</td>\n",
       "    </tr>\n",
       "    <tr>\n",
       "      <th>2</th>\n",
       "      <td>cf6dd05434caa0b5503d5df9e0380bfc589f955c</td>\n",
       "      <td>2017-01-01</td>\n",
       "      <td>rent</td>\n",
       "      <td>apartment</td>\n",
       "      <td>Mar del Plata</td>\n",
       "      <td>|Argentina|Buenos Aires Costa Atlántica|Mar de...</td>\n",
       "      <td>Argentina</td>\n",
       "      <td>Buenos Aires Costa Atlántica</td>\n",
       "      <td>3430863.0</td>\n",
       "      <td>-37.9986983,-57.5460176</td>\n",
       "      <td>...</td>\n",
       "      <td>NaN</td>\n",
       "      <td>NaN</td>\n",
       "      <td>NaN</td>\n",
       "      <td>NaN</td>\n",
       "      <td>2.0</td>\n",
       "      <td>NaN</td>\n",
       "      <td>http://www.properati.com.ar/14mlh_alquiler_dep...</td>\n",
       "      <td>DEPARTAMENTO DE DOS AMBIENTES EN ZONA CENTRICA...</td>\n",
       "      <td>Departamento en Alq x Temp. Ambientes. Dormitorio</td>\n",
       "      <td>https://thumbs4.properati.com/4/rHhuqZTQmZ1d_P...</td>\n",
       "    </tr>\n",
       "    <tr>\n",
       "      <th>3</th>\n",
       "      <td>e05c010cf14539bbdd9596a53968a17b8db221e9</td>\n",
       "      <td>2017-01-01</td>\n",
       "      <td>rent</td>\n",
       "      <td>apartment</td>\n",
       "      <td>Mar del Plata</td>\n",
       "      <td>|Argentina|Buenos Aires Costa Atlántica|Mar de...</td>\n",
       "      <td>Argentina</td>\n",
       "      <td>Buenos Aires Costa Atlántica</td>\n",
       "      <td>3430863.0</td>\n",
       "      <td>-38.0059269,-57.5452554</td>\n",
       "      <td>...</td>\n",
       "      <td>NaN</td>\n",
       "      <td>NaN</td>\n",
       "      <td>NaN</td>\n",
       "      <td>NaN</td>\n",
       "      <td>2.0</td>\n",
       "      <td>NaN</td>\n",
       "      <td>http://www.properati.com.ar/14mlj_alquiler_dep...</td>\n",
       "      <td>DPTO DE DOS AMBIENTES CON DEPENDENCIACONSTA DE...</td>\n",
       "      <td>DPTO DOS AMB CON DEP</td>\n",
       "      <td>https://thumbs4.properati.com/8/-uxD57rdvO8ACl...</td>\n",
       "    </tr>\n",
       "    <tr>\n",
       "      <th>4</th>\n",
       "      <td>8d26cae995243aa7495daea5efcb5a6aa0212414</td>\n",
       "      <td>2017-01-01</td>\n",
       "      <td>rent</td>\n",
       "      <td>apartment</td>\n",
       "      <td>Mar del Plata</td>\n",
       "      <td>|Argentina|Buenos Aires Costa Atlántica|Mar de...</td>\n",
       "      <td>Argentina</td>\n",
       "      <td>Buenos Aires Costa Atlántica</td>\n",
       "      <td>3430863.0</td>\n",
       "      <td>-38.0132211,-57.5354778</td>\n",
       "      <td>...</td>\n",
       "      <td>NaN</td>\n",
       "      <td>NaN</td>\n",
       "      <td>NaN</td>\n",
       "      <td>NaN</td>\n",
       "      <td>1.0</td>\n",
       "      <td>NaN</td>\n",
       "      <td>http://www.properati.com.ar/14mlk_alquiler_dep...</td>\n",
       "      <td>HERMOSO DPTO DE UN AMBIENTE MUY AMPLIO , CONST...</td>\n",
       "      <td>DPTO UN AMB CON COCHERA</td>\n",
       "      <td>https://thumbs4.properati.com/2/bA4TmL-UGZWVcl...</td>\n",
       "    </tr>\n",
       "  </tbody>\n",
       "</table>\n",
       "<p>5 rows × 27 columns</p>\n",
       "</div>"
      ],
      "text/plain": [
       "                                         id  created_on operation  \\\n",
       "0  dffaf4b5bba246af564311bc8e581f46224fed90  2017-01-01      rent   \n",
       "1  d3a5f126c11e1cbf1534216ed25d45098799f018  2017-01-01      rent   \n",
       "2  cf6dd05434caa0b5503d5df9e0380bfc589f955c  2017-01-01      rent   \n",
       "3  e05c010cf14539bbdd9596a53968a17b8db221e9  2017-01-01      rent   \n",
       "4  8d26cae995243aa7495daea5efcb5a6aa0212414  2017-01-01      rent   \n",
       "\n",
       "  property_type     place_name  \\\n",
       "0     apartment  Mar del Plata   \n",
       "1     apartment  Mar del Plata   \n",
       "2     apartment  Mar del Plata   \n",
       "3     apartment  Mar del Plata   \n",
       "4     apartment  Mar del Plata   \n",
       "\n",
       "                             place_with_parent_names country_name  \\\n",
       "0  |Argentina|Buenos Aires Costa Atlántica|Mar de...    Argentina   \n",
       "1  |Argentina|Buenos Aires Costa Atlántica|Mar de...    Argentina   \n",
       "2  |Argentina|Buenos Aires Costa Atlántica|Mar de...    Argentina   \n",
       "3  |Argentina|Buenos Aires Costa Atlántica|Mar de...    Argentina   \n",
       "4  |Argentina|Buenos Aires Costa Atlántica|Mar de...    Argentina   \n",
       "\n",
       "                     state_name  geonames_id                  lat-lon  ...  \\\n",
       "0  Buenos Aires Costa Atlántica    3430863.0  -38.0054771,-57.5426106  ...   \n",
       "1  Buenos Aires Costa Atlántica    3430863.0  -37.9963209,-57.5558638  ...   \n",
       "2  Buenos Aires Costa Atlántica    3430863.0  -37.9986983,-57.5460176  ...   \n",
       "3  Buenos Aires Costa Atlántica    3430863.0  -38.0059269,-57.5452554  ...   \n",
       "4  Buenos Aires Costa Atlántica    3430863.0  -38.0132211,-57.5354778  ...   \n",
       "\n",
       "   surface_covered_in_m2  price_usd_per_m2  price_per_m2 floor  rooms  \\\n",
       "0                    NaN               NaN           NaN   NaN    2.0   \n",
       "1                    NaN               NaN           NaN   NaN    3.0   \n",
       "2                    NaN               NaN           NaN   NaN    2.0   \n",
       "3                    NaN               NaN           NaN   NaN    2.0   \n",
       "4                    NaN               NaN           NaN   NaN    1.0   \n",
       "\n",
       "   expenses                                      properati_url  \\\n",
       "0       NaN  http://www.properati.com.ar/14mlf_alquiler_dep...   \n",
       "1       NaN  http://www.properati.com.ar/14mlg_alquiler_dep...   \n",
       "2       NaN  http://www.properati.com.ar/14mlh_alquiler_dep...   \n",
       "3       NaN  http://www.properati.com.ar/14mlj_alquiler_dep...   \n",
       "4       NaN  http://www.properati.com.ar/14mlk_alquiler_dep...   \n",
       "\n",
       "                                         description  \\\n",
       "0  IMPECABLE DPTO DE DOS AMBIENTES MUY BI8EN UBIC...   \n",
       "1  LINDO DPTO DE TRES AMBIENTESCONSTA DE UN DORMI...   \n",
       "2  DEPARTAMENTO DE DOS AMBIENTES EN ZONA CENTRICA...   \n",
       "3  DPTO DE DOS AMBIENTES CON DEPENDENCIACONSTA DE...   \n",
       "4  HERMOSO DPTO DE UN AMBIENTE MUY AMPLIO , CONST...   \n",
       "\n",
       "                                               title  \\\n",
       "0  Departamento en Alq x Temp. Ambientes. Dormitorio   \n",
       "1                                   DPTO 3 AMBIENTES   \n",
       "2  Departamento en Alq x Temp. Ambientes. Dormitorio   \n",
       "3                               DPTO DOS AMB CON DEP   \n",
       "4                            DPTO UN AMB CON COCHERA   \n",
       "\n",
       "                                     image_thumbnail  \n",
       "0  https://thumbs4.properati.com/0/WqpavvtP_gtEOK...  \n",
       "1  https://thumbs4.properati.com/7/SDQAe2f69Ihyjp...  \n",
       "2  https://thumbs4.properati.com/4/rHhuqZTQmZ1d_P...  \n",
       "3  https://thumbs4.properati.com/8/-uxD57rdvO8ACl...  \n",
       "4  https://thumbs4.properati.com/2/bA4TmL-UGZWVcl...  \n",
       "\n",
       "[5 rows x 27 columns]"
      ]
     },
     "execution_count": 36,
     "metadata": {},
     "output_type": "execute_result"
    }
   ],
   "source": [
    "prop_df.head()"
   ]
  },
  {
   "cell_type": "code",
   "execution_count": 61,
   "id": "bb439b2b",
   "metadata": {
    "scrolled": true
   },
   "outputs": [
    {
     "data": {
      "text/plain": [
       "rooms\n",
       "1.0      8659.818117\n",
       "2.0      8588.984564\n",
       "3.0     13466.296189\n",
       "4.0     19575.583232\n",
       "5.0     23273.170029\n",
       "6.0     22976.356589\n",
       "7.0     29254.320988\n",
       "8.0     25489.361702\n",
       "9.0     29500.000000\n",
       "10.0    38500.000000\n",
       "11.0    23000.000000\n",
       "12.0    28000.000000\n",
       "Name: price, dtype: float64"
      ]
     },
     "execution_count": 61,
     "metadata": {},
     "output_type": "execute_result"
    }
   ],
   "source": [
    "prop_df.loc[prop_df['rooms'] < 13].groupby('rooms')['price'].mean()"
   ]
  },
  {
   "cell_type": "markdown",
   "id": "c5cf3bf1",
   "metadata": {},
   "source": [
    "VEMOS UNA RELACION CASI LINEAL ASCENDENTE ENTRE LA CANTIDAD DE HABITACIONES Y EL PRECIO\n",
    "\n",
    "\n",
    "CON EL LOC QUITO LOS OUTLIERS\n",
    "\n",
    "\n",
    "UN DATO IMPORTANTE A TENER EN CUENTA ES QUE EL VALOR DE LOS MONOAMBIENTES EN PROMEDIO ES MUY SIMILAR AL DE LOS DOS AMBIENTES"
   ]
  },
  {
   "cell_type": "code",
   "execution_count": 63,
   "id": "49ecd035",
   "metadata": {},
   "outputs": [
    {
     "data": {
      "text/plain": [
       "state_name\n",
       "Bs.As. G.B.A. Zona Norte        20427.441309\n",
       "Capital Federal                 18419.213695\n",
       "Neuquén                         16237.500000\n",
       "Bs.As. G.B.A. Zona Sur          14218.202358\n",
       "Tierra Del Fuego                13385.294118\n",
       "Buenos Aires Costa Atlántica    12985.541394\n",
       "Río Negro                       12378.461538\n",
       "Name: price, dtype: float64"
      ]
     },
     "execution_count": 63,
     "metadata": {},
     "output_type": "execute_result"
    }
   ],
   "source": [
    "prop_df.groupby('state_name')['price'].mean().sort_values(ascending=False).head(7)"
   ]
  },
  {
   "cell_type": "markdown",
   "id": "0a35a498",
   "metadata": {},
   "source": [
    "TAMBIEN PODEMOS VER CUALES SON LAS ZONAS MAS CARAS EN PROMEDIO, LA ZONA NORTE DE BS.AS ES LA MAS CARA DEL DATAFRAME\n",
    "\n",
    "\n",
    "IGUALMENTE HABRIA QUE DIVIDIR ESTOS DATOS POR LOS METROS CUADRADOS Y TENER EN CUENTA OTROS DATOS COMO LA CANTIDAD DE HABITACIONES PARA QUE ESTE DATO SEA MAS EXACTO"
   ]
  },
  {
   "cell_type": "markdown",
   "id": "d3b9bfe2",
   "metadata": {},
   "source": [
    "ES UN DATAFRAME INTERESANTE Y VEMOS QUE TIENE MUCHOS DATOS, IGUALMENTE HAY UN TEMA QUE TAMBIEN ME INTERESA QUE SON LOS SINIESTROS VIALES EN LA CIUDAD DE BUENOS AIRES, VEAMOS SI ESE DATAFRAME RESULTA MAS IMPORTANTE"
   ]
  },
  {
   "cell_type": "code",
   "execution_count": 64,
   "id": "47f7a1c4",
   "metadata": {},
   "outputs": [
    {
     "name": "stderr",
     "output_type": "stream",
     "text": [
      "C:\\Users\\Sistemas\\AppData\\Local\\Temp\\ipykernel_20196\\1239150759.py:2: DtypeWarning: Columns (9) have mixed types. Specify dtype option on import or set low_memory=False.\n",
      "  sin_df = pd.read_csv(siniestros)\n"
     ]
    }
   ],
   "source": [
    "siniestros = 'victimas-siniestros.csv'\n",
    "sin_df = pd.read_csv(siniestros)"
   ]
  },
  {
   "cell_type": "code",
   "execution_count": 65,
   "id": "e3b8816b",
   "metadata": {},
   "outputs": [
    {
     "name": "stdout",
     "output_type": "stream",
     "text": [
      "<class 'pandas.core.frame.DataFrame'>\n",
      "RangeIndex: 33234 entries, 0 to 33233\n",
      "Data columns (total 29 columns):\n",
      " #   Column                        Non-Null Count  Dtype  \n",
      "---  ------                        --------------  -----  \n",
      " 0   causa                         33234 non-null  object \n",
      " 1   rol                           32899 non-null  object \n",
      " 2   tipo                          32134 non-null  object \n",
      " 3   sexo                          33037 non-null  object \n",
      " 4   edad                          32675 non-null  float64\n",
      " 5   mes                           33197 non-null  float64\n",
      " 6   periodo                       33234 non-null  int64  \n",
      " 7   fecha                         33173 non-null  object \n",
      " 8   hora                          33217 non-null  object \n",
      " 9   lugar_hecho                   29518 non-null  object \n",
      " 10  direccion_normalizada         32469 non-null  object \n",
      " 11  tipo_calle                    33234 non-null  object \n",
      " 12  direccion_normalizada_arcgis  32462 non-null  object \n",
      " 13  calle1                        32469 non-null  object \n",
      " 14  altura                        7111 non-null   float64\n",
      " 15  calle2                        24987 non-null  object \n",
      " 16  codigo_calle                  23944 non-null  float64\n",
      " 17  codigo_cruce                  20709 non-null  float64\n",
      " 18  geocodificacion               32139 non-null  object \n",
      " 19  semestre                      33234 non-null  int64  \n",
      " 20  x                             32139 non-null  float64\n",
      " 21  y                             32139 non-null  float64\n",
      " 22  geom                          32139 non-null  object \n",
      " 23  cantidad_victimas             33234 non-null  int64  \n",
      " 24  comuna                        32136 non-null  float64\n",
      " 25  geom_3857                     32139 non-null  object \n",
      " 26  tipo_colision1                31891 non-null  object \n",
      " 27  participantes_victimas        32103 non-null  object \n",
      " 28  participantes_acusados        32557 non-null  object \n",
      "dtypes: float64(8), int64(3), object(18)\n",
      "memory usage: 7.4+ MB\n"
     ]
    }
   ],
   "source": [
    "sin_df.info()"
   ]
  },
  {
   "cell_type": "markdown",
   "id": "52958aba",
   "metadata": {},
   "source": [
    "Este dataframe cumple los requisitos y parece tener información importante para sacar conjeturas sobre los siniestros viales en CABA"
   ]
  },
  {
   "cell_type": "code",
   "execution_count": 66,
   "id": "484b8c1b",
   "metadata": {},
   "outputs": [
    {
     "data": {
      "text/plain": [
       "periodo\n",
       "2015    9903\n",
       "2016    9880\n",
       "2017    9742\n",
       "2018    3709\n",
       "dtype: int64"
      ]
     },
     "execution_count": 66,
     "metadata": {},
     "output_type": "execute_result"
    }
   ],
   "source": [
    "sin_df.value_counts('periodo')"
   ]
  },
  {
   "cell_type": "markdown",
   "id": "93583cb3",
   "metadata": {},
   "source": [
    "Veo que tengo data del 2015 al 2018, este ultimo año se ve que tiene solo unos meses cargados"
   ]
  },
  {
   "cell_type": "code",
   "execution_count": 67,
   "id": "4991371c",
   "metadata": {},
   "outputs": [
    {
     "data": {
      "text/plain": [
       "cantidad_victimas\n",
       "1     28436\n",
       "2      3476\n",
       "3       674\n",
       "4       368\n",
       "6       100\n",
       "5        67\n",
       "7        40\n",
       "8        31\n",
       "9        18\n",
       "12       12\n",
       "17        6\n",
       "18        6\n",
       "dtype: int64"
      ]
     },
     "execution_count": 67,
     "metadata": {},
     "output_type": "execute_result"
    }
   ],
   "source": [
    "sin_df.value_counts('cantidad_victimas')"
   ]
  },
  {
   "cell_type": "code",
   "execution_count": 68,
   "id": "5296a6a5",
   "metadata": {},
   "outputs": [
    {
     "data": {
      "text/plain": [
       "mes\n",
       "1.0     2744\n",
       "2.0     2899\n",
       "3.0     3403\n",
       "4.0     3057\n",
       "5.0     3565\n",
       "6.0     2442\n",
       "7.0     2417\n",
       "8.0     2523\n",
       "9.0     2476\n",
       "10.0    2550\n",
       "11.0    2623\n",
       "12.0    2498\n",
       "Name: cant, dtype: int64"
      ]
     },
     "execution_count": 68,
     "metadata": {},
     "output_type": "execute_result"
    }
   ],
   "source": [
    "sin_df['cant'] = 1\n",
    "sin_df.groupby('mes')['cant'].sum()"
   ]
  },
  {
   "cell_type": "markdown",
   "id": "4cfd9be7",
   "metadata": {},
   "source": [
    "VEO QUE EL MES CON MAS SINIESTROS ES ABRIL, SEGUIDO POR MARZO"
   ]
  },
  {
   "cell_type": "code",
   "execution_count": 69,
   "id": "454463b8",
   "metadata": {},
   "outputs": [
    {
     "data": {
      "text/plain": [
       "comuna\n",
       "1.0     4468\n",
       "2.0     1263\n",
       "3.0     3032\n",
       "4.0     2382\n",
       "5.0     1665\n",
       "6.0     1272\n",
       "7.0     2039\n",
       "8.0     1402\n",
       "9.0     2367\n",
       "10.0    1681\n",
       "11.0    2031\n",
       "12.0    1784\n",
       "13.0    1846\n",
       "14.0    2383\n",
       "15.0    2521\n",
       "Name: cant, dtype: int64"
      ]
     },
     "execution_count": 69,
     "metadata": {},
     "output_type": "execute_result"
    }
   ],
   "source": [
    "sin_df.groupby('comuna')['cant'].sum()"
   ]
  },
  {
   "cell_type": "markdown",
   "id": "355e1027",
   "metadata": {},
   "source": [
    "ESTE ES UN FEATURE IMPORTANTE YA QUE PUEDO NOTAR QUE LA COMUNA MAS PELIGROSA EN ESTE SENTIDO ES LA COMUNA 1 \n",
    "UN 50% MAS PELIGROSA QUE LA COMUNA 3, QUE ES LA QUE LE SIGUE EN PELIGROSIDAD"
   ]
  },
  {
   "cell_type": "code",
   "execution_count": 70,
   "id": "2d7870d1",
   "metadata": {},
   "outputs": [
    {
     "data": {
      "text/plain": [
       "avenida      21395\n",
       "calle        11687\n",
       "autopista      152\n",
       "Name: tipo_calle, dtype: int64"
      ]
     },
     "execution_count": 70,
     "metadata": {},
     "output_type": "execute_result"
    }
   ],
   "source": [
    "sin_df['tipo_calle'].value_counts()"
   ]
  },
  {
   "cell_type": "code",
   "execution_count": 71,
   "id": "3ee54384",
   "metadata": {
    "scrolled": true
   },
   "outputs": [
    {
     "data": {
      "text/plain": [
       "tipo_calle  causa    \n",
       "autopista   homicidio       39\n",
       "            lesiones       113\n",
       "avenida     homicidio      295\n",
       "            lesiones     21100\n",
       "calle       homicidio      105\n",
       "            lesiones     11582\n",
       "Name: cant, dtype: int64"
      ]
     },
     "execution_count": 71,
     "metadata": {},
     "output_type": "execute_result"
    }
   ],
   "source": [
    "sin_df.groupby(['tipo_calle','causa'])['cant'].sum()"
   ]
  },
  {
   "cell_type": "markdown",
   "id": "5bbce5a1",
   "metadata": {},
   "source": [
    "ACA ENCUENTRO QUE 'CAUSA' TAMBIEN ES UN FEATURE IMPORTANTE \n",
    "YA QUE EN CALLE Y AVENIDA TENEMOS UN 1% DE ACCIDENTES FATALES\n",
    "PERO EN AUTOPISTA HAY UN 30% DE ACCIDENTES FATALES"
   ]
  },
  {
   "cell_type": "code",
   "execution_count": 72,
   "id": "d81ecb65",
   "metadata": {},
   "outputs": [
    {
     "data": {
      "text/plain": [
       "tipo_colision1\n",
       "bicicleta - bicicleta                 19\n",
       "bicicleta - motovehiculo             193\n",
       "bicicleta - peaton                   116\n",
       "bicicleta - vehiculo                1384\n",
       "motovehiculo - motovehiculo          622\n",
       "motovehiculo - peaton               1429\n",
       "motovehiculo - traccion a sangre       1\n",
       "motovehiculo - tren                    1\n",
       "motovehiculo - vehiculo             8400\n",
       "multiple                            4285\n",
       "peaton - peaton                       10\n",
       "peaton - vehiculo                   4464\n",
       "subte - vehiculo                       1\n",
       "traccion a sangre - vehiculo           2\n",
       "vehiculo - bicicleta                 394\n",
       "vehiculo - motovehiculo             2995\n",
       "vehiculo - peaton                   1191\n",
       "vehiculo - vehiculo                 6384\n",
       "Name: cant, dtype: int64"
      ]
     },
     "execution_count": 72,
     "metadata": {},
     "output_type": "execute_result"
    }
   ],
   "source": [
    "sin_df.groupby('tipo_colision1')['cant'].sum()"
   ]
  },
  {
   "cell_type": "markdown",
   "id": "13900677",
   "metadata": {},
   "source": [
    "VEO QUE TIPO COLISION PUEDE SER UN FEATURE IMPORTANTE LUEGO DE UNA LIMPIEZA DE LA COLUMNA (O UNA SIMPLIFICACION), CASO SIMILAR AL DE LA HORA DEL SINIESTRO"
   ]
  },
  {
   "cell_type": "code",
   "execution_count": 73,
   "id": "84bb1136",
   "metadata": {},
   "outputs": [],
   "source": [
    "#def simplificar_hora(serie):\n",
    "#    solo_hora = []\n",
    "#    for i in serie:\n",
    "#\n",
    "#       HACER\n",
    "#\n",
    "#       return solo_hora\n",
    "#         "
   ]
  },
  {
   "cell_type": "code",
   "execution_count": 74,
   "id": "1a143dcf",
   "metadata": {},
   "outputs": [],
   "source": [
    "#sin_df['solo_hora'] = sin_df['hora'].apply(simplificar_hora)\n",
    "#sin_df.groupby(['tipo_calle','solo_hora'])['cant'].sum()"
   ]
  },
  {
   "cell_type": "markdown",
   "id": "dc4618ad",
   "metadata": {},
   "source": [
    "EN RESUMEN LOS FEATURES MAS IMPORTANTES DESDE MI PUNTO DE VISTA EN UN ANALISIS BASICO DEL DATAFRAME SON 'COMUNA', 'CAUSA' Y 'TIPO_CALLE'\n",
    "\n",
    "HAY COLUMNAS QUE PODRIAN SER IMPORTANTES LUEGO DE UNA SIMPLIFICACION O LIMPIEZA PARA UN MAYOR ENTENDIMIENTO COMO 'HORA' Y 'TIPO_COLISION1'"
   ]
  },
  {
   "cell_type": "code",
   "execution_count": null,
   "id": "268ae5ac",
   "metadata": {},
   "outputs": [],
   "source": []
  },
  {
   "cell_type": "code",
   "execution_count": null,
   "id": "6acbab8c",
   "metadata": {},
   "outputs": [],
   "source": []
  }
 ],
 "metadata": {
  "kernelspec": {
   "display_name": "Python 3",
   "language": "python",
   "name": "python3"
  },
  "language_info": {
   "codemirror_mode": {
    "name": "ipython",
    "version": 3
   },
   "file_extension": ".py",
   "mimetype": "text/x-python",
   "name": "python",
   "nbconvert_exporter": "python",
   "pygments_lexer": "ipython3",
   "version": "3.10.9"
  }
 },
 "nbformat": 4,
 "nbformat_minor": 5
}
