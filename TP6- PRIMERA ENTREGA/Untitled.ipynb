{
 "cells": [
  {
   "cell_type": "markdown",
   "id": "602409a2",
   "metadata": {},
   "source": [
    "PRIMER ENTREGA"
   ]
  },
  {
   "cell_type": "markdown",
   "id": "5197b40a",
   "metadata": {},
   "source": [
    "En esta primer entrega presentaré el set de datos elegido para el proyecto final, que es un registro de accidentes viales de la Ciudad de Buenos Aires (desde ahora CABA), descargado de la pagina oficial del Gobierno de la Ciudad.\n",
    "\n",
    "En este primer analisis veremos los detalles de este dataset, como por ejemplo el periodo de tiempo que abarca, los datos geograficos que nos dan, con que detalles del accidente contamos, etc. \n",
    "\n",
    "La motivación de esta elección es el estudio de casos reales y cercanos a mi en cierto punto (ya que vivo cerca de la ciudad de buenos aires y trabajo ahí) que me permitirá plantear preguntas interesantes y sacar conclusiones usando mi conocimiento de la Ciudad y sus conductores/transeuntes.\n",
    "\n",
    "La audiencia que se vería beneficiada con este analisis es el ciudadano de CABA, que está expuesto a los infractores y el peligro que estos suponen, ya que, como opinión personal, los conductores y peatones de CABA tienen una tendencia general al desinteres hacia el projimo en las circunstancias de la vialidad.\n",
    "\n",
    "Las preguntas que haré a lo largo de la entrega se basaran en el estudio del set de datos, pero como primer objetivo a tener en cuenta, quiero reducir la cantidad de siniestros en la Ciudad de Buenos Aires, con medidas que utilicen la información presente en los datos del dataset, para esto asumo que me contrata el Gobierno de la Ciudad. "
   ]
  },
  {
   "cell_type": "markdown",
   "id": "4b770b2c",
   "metadata": {},
   "source": [
    "IMPORTO LAS LIBRERIAS A UTILIZAR.\n",
    "\n",
    "LUEGO IMPORTO Y CARGO EL SET DE DATOS EN UN DATAFRAME LLAMADO \"sin_df\"."
   ]
  },
  {
   "cell_type": "code",
   "execution_count": 6,
   "id": "495a14eb",
   "metadata": {},
   "outputs": [],
   "source": [
    "import pandas as pd"
   ]
  },
  {
   "cell_type": "code",
   "execution_count": 7,
   "id": "a83a11a7",
   "metadata": {
    "scrolled": true
   },
   "outputs": [
    {
     "name": "stderr",
     "output_type": "stream",
     "text": [
      "C:\\Users\\Sistemas\\AppData\\Local\\Temp\\ipykernel_8624\\2822166099.py:2: DtypeWarning: Columns (9) have mixed types. Specify dtype option on import or set low_memory=False.\n",
      "  sin_df = pd.read_csv(siniestros)\n"
     ]
    },
    {
     "data": {
      "text/html": [
       "<div>\n",
       "<style scoped>\n",
       "    .dataframe tbody tr th:only-of-type {\n",
       "        vertical-align: middle;\n",
       "    }\n",
       "\n",
       "    .dataframe tbody tr th {\n",
       "        vertical-align: top;\n",
       "    }\n",
       "\n",
       "    .dataframe thead th {\n",
       "        text-align: right;\n",
       "    }\n",
       "</style>\n",
       "<table border=\"1\" class=\"dataframe\">\n",
       "  <thead>\n",
       "    <tr style=\"text-align: right;\">\n",
       "      <th></th>\n",
       "      <th>causa</th>\n",
       "      <th>rol</th>\n",
       "      <th>tipo</th>\n",
       "      <th>sexo</th>\n",
       "      <th>edad</th>\n",
       "      <th>mes</th>\n",
       "      <th>periodo</th>\n",
       "      <th>fecha</th>\n",
       "      <th>hora</th>\n",
       "      <th>lugar_hecho</th>\n",
       "      <th>...</th>\n",
       "      <th>semestre</th>\n",
       "      <th>x</th>\n",
       "      <th>y</th>\n",
       "      <th>geom</th>\n",
       "      <th>cantidad_victimas</th>\n",
       "      <th>comuna</th>\n",
       "      <th>geom_3857</th>\n",
       "      <th>tipo_colision1</th>\n",
       "      <th>participantes_victimas</th>\n",
       "      <th>participantes_acusados</th>\n",
       "    </tr>\n",
       "  </thead>\n",
       "  <tbody>\n",
       "    <tr>\n",
       "      <th>0</th>\n",
       "      <td>homicidio</td>\n",
       "      <td>conductor</td>\n",
       "      <td>moto</td>\n",
       "      <td>NaN</td>\n",
       "      <td>NaN</td>\n",
       "      <td>2.0</td>\n",
       "      <td>2015</td>\n",
       "      <td>2/14/2015</td>\n",
       "      <td>19:00:00</td>\n",
       "      <td>cafayate y severo garcia grande de zequeira</td>\n",
       "      <td>...</td>\n",
       "      <td>1</td>\n",
       "      <td>-58.508658</td>\n",
       "      <td>-34.653489</td>\n",
       "      <td>0101000020E610000057E042B51B414DC008419885A553...</td>\n",
       "      <td>1</td>\n",
       "      <td>9.0</td>\n",
       "      <td>0101000020110F0000DE9B958180D858C1EC802966CD68...</td>\n",
       "      <td>motovehiculo - vehiculo</td>\n",
       "      <td>moto</td>\n",
       "      <td>automovil</td>\n",
       "    </tr>\n",
       "    <tr>\n",
       "      <th>1</th>\n",
       "      <td>homicidio</td>\n",
       "      <td>NaN</td>\n",
       "      <td>NaN</td>\n",
       "      <td>NaN</td>\n",
       "      <td>NaN</td>\n",
       "      <td>2.0</td>\n",
       "      <td>2015</td>\n",
       "      <td>2/25/2015</td>\n",
       "      <td>3:00:00</td>\n",
       "      <td>lugones, leopoldo av. y udaondo, guillermo av.</td>\n",
       "      <td>...</td>\n",
       "      <td>1</td>\n",
       "      <td>-58.447680</td>\n",
       "      <td>-34.543513</td>\n",
       "      <td>0101000020E6100000CC4C4C904D394DC0FAF382D99145...</td>\n",
       "      <td>1</td>\n",
       "      <td>13.0</td>\n",
       "      <td>0101000020110F0000BFBC457BDFD158C1E1DDA818C14B...</td>\n",
       "      <td>NaN</td>\n",
       "      <td>NaN</td>\n",
       "      <td>NaN</td>\n",
       "    </tr>\n",
       "    <tr>\n",
       "      <th>2</th>\n",
       "      <td>homicidio</td>\n",
       "      <td>peaton</td>\n",
       "      <td>peaton</td>\n",
       "      <td>femenino</td>\n",
       "      <td>NaN</td>\n",
       "      <td>2.0</td>\n",
       "      <td>2015</td>\n",
       "      <td>2/27/2015</td>\n",
       "      <td>8:00:00</td>\n",
       "      <td>avda jujuy y avda independencia</td>\n",
       "      <td>...</td>\n",
       "      <td>1</td>\n",
       "      <td>-58.403516</td>\n",
       "      <td>-34.618839</td>\n",
       "      <td>0101000020E6100000FBC35B67A6334DC03F854E1F364F...</td>\n",
       "      <td>1</td>\n",
       "      <td>3.0</td>\n",
       "      <td>0101000020110F0000F8067D6812CD58C189755F66A55F...</td>\n",
       "      <td>peaton - vehiculo</td>\n",
       "      <td>peaton</td>\n",
       "      <td>\"transporte publico\"</td>\n",
       "    </tr>\n",
       "  </tbody>\n",
       "</table>\n",
       "<p>3 rows × 29 columns</p>\n",
       "</div>"
      ],
      "text/plain": [
       "       causa        rol    tipo      sexo  edad  mes  periodo      fecha  \\\n",
       "0  homicidio  conductor    moto       NaN   NaN  2.0     2015  2/14/2015   \n",
       "1  homicidio        NaN     NaN       NaN   NaN  2.0     2015  2/25/2015   \n",
       "2  homicidio     peaton  peaton  femenino   NaN  2.0     2015  2/27/2015   \n",
       "\n",
       "       hora                                     lugar_hecho  ... semestre  \\\n",
       "0  19:00:00     cafayate y severo garcia grande de zequeira  ...        1   \n",
       "1   3:00:00  lugones, leopoldo av. y udaondo, guillermo av.  ...        1   \n",
       "2   8:00:00                 avda jujuy y avda independencia  ...        1   \n",
       "\n",
       "           x          y                                               geom  \\\n",
       "0 -58.508658 -34.653489  0101000020E610000057E042B51B414DC008419885A553...   \n",
       "1 -58.447680 -34.543513  0101000020E6100000CC4C4C904D394DC0FAF382D99145...   \n",
       "2 -58.403516 -34.618839  0101000020E6100000FBC35B67A6334DC03F854E1F364F...   \n",
       "\n",
       "   cantidad_victimas comuna  \\\n",
       "0                  1    9.0   \n",
       "1                  1   13.0   \n",
       "2                  1    3.0   \n",
       "\n",
       "                                           geom_3857           tipo_colision1  \\\n",
       "0  0101000020110F0000DE9B958180D858C1EC802966CD68...  motovehiculo - vehiculo   \n",
       "1  0101000020110F0000BFBC457BDFD158C1E1DDA818C14B...                      NaN   \n",
       "2  0101000020110F0000F8067D6812CD58C189755F66A55F...        peaton - vehiculo   \n",
       "\n",
       "  participantes_victimas  participantes_acusados  \n",
       "0                   moto               automovil  \n",
       "1                    NaN                     NaN  \n",
       "2                 peaton    \"transporte publico\"  \n",
       "\n",
       "[3 rows x 29 columns]"
      ]
     },
     "execution_count": 7,
     "metadata": {},
     "output_type": "execute_result"
    }
   ],
   "source": [
    "siniestros = 'victimas-siniestros.csv'\n",
    "sin_df = pd.read_csv(siniestros)\n",
    "sin_df.head(3)"
   ]
  },
  {
   "cell_type": "code",
   "execution_count": null,
   "id": "d24819ad",
   "metadata": {},
   "outputs": [],
   "source": []
  },
  {
   "cell_type": "code",
   "execution_count": null,
   "id": "d2375a1b",
   "metadata": {},
   "outputs": [],
   "source": []
  },
  {
   "cell_type": "code",
   "execution_count": null,
   "id": "f9649dcd",
   "metadata": {},
   "outputs": [],
   "source": []
  }
 ],
 "metadata": {
  "kernelspec": {
   "display_name": "Python 3",
   "language": "python",
   "name": "python3"
  },
  "language_info": {
   "codemirror_mode": {
    "name": "ipython",
    "version": 3
   },
   "file_extension": ".py",
   "mimetype": "text/x-python",
   "name": "python",
   "nbconvert_exporter": "python",
   "pygments_lexer": "ipython3",
   "version": "3.10.9"
  }
 },
 "nbformat": 4,
 "nbformat_minor": 5
}
