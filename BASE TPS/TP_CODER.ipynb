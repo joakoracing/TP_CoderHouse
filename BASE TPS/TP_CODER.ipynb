{
 "cells": [
  {
   "cell_type": "markdown",
   "id": "4e78b6a3",
   "metadata": {},
   "source": [
    "COMIENZA CARGA DE DATOS\n",
    "\n",
    "Cargo en primer lugar las librerias que usaré, luego cargo el set de datos elegido; este contiene datos de siniestros de tránsito en la Ciudad de Buenos Aires, entre los años 2015 y 2018. "
   ]
  },
  {
   "cell_type": "code",
   "execution_count": 2,
   "id": "0a5d3ee3",
   "metadata": {},
   "outputs": [],
   "source": [
    "import numpy as np\n",
    "import pandas as pd\n",
    "import scipy.sparse as sp\n",
    "import matplotlib.pyplot as plt\n",
    "import matplotlib.dates as mdates\n",
    "import matplotlib as mpl\n",
    "import seaborn as sns\n",
    "from sklearn.linear_model import LinearRegression\n",
    "from sklearn.model_selection import train_test_split\n",
    "from sklearn.preprocessing import OneHotEncoder\n",
    "from sklearn.tree import DecisionTreeClassifier"
   ]
  },
  {
   "cell_type": "code",
   "execution_count": 3,
   "id": "56a62ec3",
   "metadata": {},
   "outputs": [
    {
     "name": "stderr",
     "output_type": "stream",
     "text": [
      "C:\\Users\\Seguridad\\AppData\\Local\\Temp\\ipykernel_12924\\1239150759.py:2: DtypeWarning: Columns (9) have mixed types. Specify dtype option on import or set low_memory=False.\n",
      "  sin_df = pd.read_csv(siniestros)\n"
     ]
    }
   ],
   "source": [
    "siniestros = 'victimas-siniestros.csv'\n",
    "sin_df = pd.read_csv(siniestros)"
   ]
  },
  {
   "cell_type": "markdown",
   "id": "c6cc7c57",
   "metadata": {},
   "source": [
    "COMIENZA EL PROCESO DE LIMPIEZA DEL DATASET"
   ]
  },
  {
   "cell_type": "code",
   "execution_count": 4,
   "id": "47a39ca8",
   "metadata": {},
   "outputs": [
    {
     "data": {
      "text/html": [
       "<div>\n",
       "<style scoped>\n",
       "    .dataframe tbody tr th:only-of-type {\n",
       "        vertical-align: middle;\n",
       "    }\n",
       "\n",
       "    .dataframe tbody tr th {\n",
       "        vertical-align: top;\n",
       "    }\n",
       "\n",
       "    .dataframe thead th {\n",
       "        text-align: right;\n",
       "    }\n",
       "</style>\n",
       "<table border=\"1\" class=\"dataframe\">\n",
       "  <thead>\n",
       "    <tr style=\"text-align: right;\">\n",
       "      <th></th>\n",
       "      <th>causa</th>\n",
       "      <th>rol</th>\n",
       "      <th>tipo</th>\n",
       "      <th>sexo</th>\n",
       "      <th>edad</th>\n",
       "      <th>mes</th>\n",
       "      <th>periodo</th>\n",
       "      <th>fecha</th>\n",
       "      <th>hora</th>\n",
       "      <th>lugar_hecho</th>\n",
       "      <th>...</th>\n",
       "      <th>semestre</th>\n",
       "      <th>x</th>\n",
       "      <th>y</th>\n",
       "      <th>geom</th>\n",
       "      <th>cantidad_victimas</th>\n",
       "      <th>comuna</th>\n",
       "      <th>geom_3857</th>\n",
       "      <th>tipo_colision1</th>\n",
       "      <th>participantes_victimas</th>\n",
       "      <th>participantes_acusados</th>\n",
       "    </tr>\n",
       "  </thead>\n",
       "  <tbody>\n",
       "    <tr>\n",
       "      <th>0</th>\n",
       "      <td>homicidio</td>\n",
       "      <td>conductor</td>\n",
       "      <td>moto</td>\n",
       "      <td>NaN</td>\n",
       "      <td>NaN</td>\n",
       "      <td>2.0</td>\n",
       "      <td>2015</td>\n",
       "      <td>2/14/2015</td>\n",
       "      <td>19:00:00</td>\n",
       "      <td>cafayate y severo garcia grande de zequeira</td>\n",
       "      <td>...</td>\n",
       "      <td>1</td>\n",
       "      <td>-58.508658</td>\n",
       "      <td>-34.653489</td>\n",
       "      <td>0101000020E610000057E042B51B414DC008419885A553...</td>\n",
       "      <td>1</td>\n",
       "      <td>9.0</td>\n",
       "      <td>0101000020110F0000DE9B958180D858C1EC802966CD68...</td>\n",
       "      <td>motovehiculo - vehiculo</td>\n",
       "      <td>moto</td>\n",
       "      <td>automovil</td>\n",
       "    </tr>\n",
       "    <tr>\n",
       "      <th>1</th>\n",
       "      <td>homicidio</td>\n",
       "      <td>NaN</td>\n",
       "      <td>NaN</td>\n",
       "      <td>NaN</td>\n",
       "      <td>NaN</td>\n",
       "      <td>2.0</td>\n",
       "      <td>2015</td>\n",
       "      <td>2/25/2015</td>\n",
       "      <td>3:00:00</td>\n",
       "      <td>lugones, leopoldo av. y udaondo, guillermo av.</td>\n",
       "      <td>...</td>\n",
       "      <td>1</td>\n",
       "      <td>-58.447680</td>\n",
       "      <td>-34.543513</td>\n",
       "      <td>0101000020E6100000CC4C4C904D394DC0FAF382D99145...</td>\n",
       "      <td>1</td>\n",
       "      <td>13.0</td>\n",
       "      <td>0101000020110F0000BFBC457BDFD158C1E1DDA818C14B...</td>\n",
       "      <td>NaN</td>\n",
       "      <td>NaN</td>\n",
       "      <td>NaN</td>\n",
       "    </tr>\n",
       "    <tr>\n",
       "      <th>2</th>\n",
       "      <td>homicidio</td>\n",
       "      <td>peaton</td>\n",
       "      <td>peaton</td>\n",
       "      <td>femenino</td>\n",
       "      <td>NaN</td>\n",
       "      <td>2.0</td>\n",
       "      <td>2015</td>\n",
       "      <td>2/27/2015</td>\n",
       "      <td>8:00:00</td>\n",
       "      <td>avda jujuy y avda independencia</td>\n",
       "      <td>...</td>\n",
       "      <td>1</td>\n",
       "      <td>-58.403516</td>\n",
       "      <td>-34.618839</td>\n",
       "      <td>0101000020E6100000FBC35B67A6334DC03F854E1F364F...</td>\n",
       "      <td>1</td>\n",
       "      <td>3.0</td>\n",
       "      <td>0101000020110F0000F8067D6812CD58C189755F66A55F...</td>\n",
       "      <td>peaton - vehiculo</td>\n",
       "      <td>peaton</td>\n",
       "      <td>\"transporte publico\"</td>\n",
       "    </tr>\n",
       "  </tbody>\n",
       "</table>\n",
       "<p>3 rows × 29 columns</p>\n",
       "</div>"
      ],
      "text/plain": [
       "       causa        rol    tipo      sexo  edad  mes  periodo      fecha  \\\n",
       "0  homicidio  conductor    moto       NaN   NaN  2.0     2015  2/14/2015   \n",
       "1  homicidio        NaN     NaN       NaN   NaN  2.0     2015  2/25/2015   \n",
       "2  homicidio     peaton  peaton  femenino   NaN  2.0     2015  2/27/2015   \n",
       "\n",
       "       hora                                     lugar_hecho  ... semestre  \\\n",
       "0  19:00:00     cafayate y severo garcia grande de zequeira  ...        1   \n",
       "1   3:00:00  lugones, leopoldo av. y udaondo, guillermo av.  ...        1   \n",
       "2   8:00:00                 avda jujuy y avda independencia  ...        1   \n",
       "\n",
       "           x          y                                               geom  \\\n",
       "0 -58.508658 -34.653489  0101000020E610000057E042B51B414DC008419885A553...   \n",
       "1 -58.447680 -34.543513  0101000020E6100000CC4C4C904D394DC0FAF382D99145...   \n",
       "2 -58.403516 -34.618839  0101000020E6100000FBC35B67A6334DC03F854E1F364F...   \n",
       "\n",
       "   cantidad_victimas comuna  \\\n",
       "0                  1    9.0   \n",
       "1                  1   13.0   \n",
       "2                  1    3.0   \n",
       "\n",
       "                                           geom_3857           tipo_colision1  \\\n",
       "0  0101000020110F0000DE9B958180D858C1EC802966CD68...  motovehiculo - vehiculo   \n",
       "1  0101000020110F0000BFBC457BDFD158C1E1DDA818C14B...                      NaN   \n",
       "2  0101000020110F0000F8067D6812CD58C189755F66A55F...        peaton - vehiculo   \n",
       "\n",
       "  participantes_victimas  participantes_acusados  \n",
       "0                   moto               automovil  \n",
       "1                    NaN                     NaN  \n",
       "2                 peaton    \"transporte publico\"  \n",
       "\n",
       "[3 rows x 29 columns]"
      ]
     },
     "execution_count": 4,
     "metadata": {},
     "output_type": "execute_result"
    }
   ],
   "source": [
    "sin_df.head(3)"
   ]
  },
  {
   "cell_type": "code",
   "execution_count": 5,
   "id": "b4ddd29f",
   "metadata": {},
   "outputs": [
    {
     "name": "stdout",
     "output_type": "stream",
     "text": [
      "<class 'pandas.core.frame.DataFrame'>\n",
      "RangeIndex: 33234 entries, 0 to 33233\n",
      "Data columns (total 29 columns):\n",
      " #   Column                        Non-Null Count  Dtype  \n",
      "---  ------                        --------------  -----  \n",
      " 0   causa                         33234 non-null  object \n",
      " 1   rol                           32899 non-null  object \n",
      " 2   tipo                          32134 non-null  object \n",
      " 3   sexo                          33037 non-null  object \n",
      " 4   edad                          32675 non-null  float64\n",
      " 5   mes                           33197 non-null  float64\n",
      " 6   periodo                       33234 non-null  int64  \n",
      " 7   fecha                         33173 non-null  object \n",
      " 8   hora                          33217 non-null  object \n",
      " 9   lugar_hecho                   29518 non-null  object \n",
      " 10  direccion_normalizada         32469 non-null  object \n",
      " 11  tipo_calle                    33234 non-null  object \n",
      " 12  direccion_normalizada_arcgis  32462 non-null  object \n",
      " 13  calle1                        32469 non-null  object \n",
      " 14  altura                        7111 non-null   float64\n",
      " 15  calle2                        24987 non-null  object \n",
      " 16  codigo_calle                  23944 non-null  float64\n",
      " 17  codigo_cruce                  20709 non-null  float64\n",
      " 18  geocodificacion               32139 non-null  object \n",
      " 19  semestre                      33234 non-null  int64  \n",
      " 20  x                             32139 non-null  float64\n",
      " 21  y                             32139 non-null  float64\n",
      " 22  geom                          32139 non-null  object \n",
      " 23  cantidad_victimas             33234 non-null  int64  \n",
      " 24  comuna                        32136 non-null  float64\n",
      " 25  geom_3857                     32139 non-null  object \n",
      " 26  tipo_colision1                31891 non-null  object \n",
      " 27  participantes_victimas        32103 non-null  object \n",
      " 28  participantes_acusados        32557 non-null  object \n",
      "dtypes: float64(8), int64(3), object(18)\n",
      "memory usage: 7.4+ MB\n"
     ]
    }
   ],
   "source": [
    "sin_df.info()"
   ]
  },
  {
   "cell_type": "markdown",
   "id": "11d38026",
   "metadata": {},
   "source": [
    "EN PRIMERA INSTANCIA DE LA EXPLORACION, VOY A ESTABLECER UN OBJETIVO GENERAL:\n",
    "\n",
    "- QUIERO MINIMIZAR LA CANTIDAD DE ACCIDENTES DE AUTOS, MOTOS Y BICICLETAS (en este ejemplo me contrataría gobierno de la Ciudad de Buenos Aires). PARA ESTO HABRIA QUE TOMAR MEDIDAS DE TODO TIPO, COMO CONTROLES POLICIALES, CARTELES PREVENTIVOS, ARREGLOS DE CALLE, CAMARAS-MULTA, ETC.\n",
    "\n",
    "-------------------------------------------------------------------------------------------------------------------------------"
   ]
  },
  {
   "cell_type": "markdown",
   "id": "338edc03",
   "metadata": {},
   "source": [
    "CON ESTE OBJETIVO EN MENTE, VOY A ELEGIR QUE COLUMNAS SON LAS QUE MAS INFORMACION PUEDEN APORTAR Y CUALES SON LAS QUE TIENEN INFORMACION REDUNDANTE.\n",
    "\n",
    "EN UNA PRIMERA IMPRESION, ASUMO QUE LAS COLUMNAS MAS IMPORTANTES SON:\n",
    "\n",
    "- causa\n",
    "- rol\n",
    "- tipo\n",
    "- sexo\n",
    "- edad\n",
    "- fecha\n",
    "- hora\n",
    "- tipo_calle\n",
    "- calle1\n",
    "- calle2\n",
    "- x\n",
    "- y\n",
    "- cantidad_victimas\n",
    "- comuna\n",
    "- participantes_victimas\n",
    "- participantes_acusados\n",
    "\n",
    "EL RESTO DE COLUMAS CONTIENEN INFORMACION QUE APARECE EN ESTAS COLUMNAS SELECCIONADAS, PERO EN OTRO FORMATO.\n",
    "\n",
    "PROCEDO A QUEDARME SOLO CON LAS COLUMNAS ELEGIDAS Y REVISO LOS DATOS NULOS"
   ]
  },
  {
   "cell_type": "code",
   "execution_count": 6,
   "id": "a40136ac",
   "metadata": {},
   "outputs": [
    {
     "data": {
      "text/plain": [
       "causa                        0\n",
       "rol                        335\n",
       "tipo                      1100\n",
       "sexo                       197\n",
       "edad                       559\n",
       "fecha                       61\n",
       "hora                        17\n",
       "tipo_calle                   0\n",
       "calle1                     765\n",
       "calle2                    8247\n",
       "x                         1095\n",
       "y                         1095\n",
       "cantidad_victimas            0\n",
       "comuna                    1098\n",
       "tipo_colision1            1343\n",
       "participantes_acusados     677\n",
       "participantes_victimas    1131\n",
       "dtype: int64"
      ]
     },
     "execution_count": 6,
     "metadata": {},
     "output_type": "execute_result"
    }
   ],
   "source": [
    "sin_df = sin_df[['causa','rol','tipo','sexo','edad','fecha','hora','tipo_calle','calle1','calle2','x','y','cantidad_victimas','comuna','tipo_colision1','participantes_acusados','participantes_victimas']]\n",
    "sin_df.isnull().sum()"
   ]
  },
  {
   "cell_type": "markdown",
   "id": "349e06dd",
   "metadata": {},
   "source": [
    "BORRO LAS FILAS QUE TIENEN EL CAMPO FECHA Y HORA VACIOS, PORQUE SON MUY POCOS DATOS QUE PIERDO."
   ]
  },
  {
   "cell_type": "code",
   "execution_count": 7,
   "id": "ab2f4da8",
   "metadata": {},
   "outputs": [
    {
     "data": {
      "text/plain": [
       "fecha    0\n",
       "hora     0\n",
       "dtype: int64"
      ]
     },
     "execution_count": 7,
     "metadata": {},
     "output_type": "execute_result"
    }
   ],
   "source": [
    "sin_df.dropna(subset=['fecha','hora'],inplace=True)\n",
    "sin_df[['fecha','hora']].isnull().sum()"
   ]
  },
  {
   "cell_type": "markdown",
   "id": "532afa34",
   "metadata": {},
   "source": [
    "AHORA VOY A SIMPLIFICAR LAS COLUMNAS 'tipo' Y 'tipo_colision1' PARA QUE SEAN UTILIZABLES."
   ]
  },
  {
   "cell_type": "code",
   "execution_count": 8,
   "id": "85da58d5",
   "metadata": {},
   "outputs": [],
   "source": [
    "sin_df['tipo_colision1'].fillna('sin_data',inplace=True)\n",
    "sin_df['tipo'].fillna('sin_data',inplace=True)\n",
    "\n",
    "def simplificar_tipocol(tipo):\n",
    "\n",
    "    if '-' in tipo:\n",
    "        ac, vi = tipo.split('-')\n",
    "    else:\n",
    "        return tipo\n",
    "    \n",
    "    if tipo == 'vehiculo - motovehiculo' or tipo == 'motovehiculo - vehiculo':\n",
    "        return 'motovehiculo - vehiculo'\n",
    "    elif tipo == 'vehiculo - peaton' or tipo == 'peaton - vehiculo':\n",
    "        return 'peaton - vehiculo'\n",
    "    elif tipo == 'vehiculo - bicicleta' or tipo == 'bicicleta - vehiculo':\n",
    "        return 'bicicleta - vehiculo'\n",
    "    elif tipo == 'traccion a sangre - vehiculo' or tipo == 'motovehiculo - traccion a sangre' or tipo == 'motovehiculo - tren' or tipo == 'subte - vehiculo':\n",
    "        return 'sin_data'\n",
    "    elif 'bicicleta' in tipo:\n",
    "        return 'bicicleta'\n",
    "    elif 'peaton' in tipo:\n",
    "        return 'peaton'\n",
    "    else:\n",
    "        return tipo\n",
    "\n",
    "def simplificar_tipo(tipo):\n",
    "    \n",
    "    if tipo == 'auto pfa / movil / gendarmeria / metropolitana / moto movil' or tipo == 'vehiculo oficial':\n",
    "        st = 'fuerza seguridad'\n",
    "    elif tipo == 'transporte de cargas / grua' or tipo == 'utilitario':\n",
    "        st = 'camion'\n",
    "    elif tipo == 'transporte escolar' or tipo == 'omnibus / minibus':\n",
    "        st = 'transporte publico'\n",
    "    elif tipo == 'ambulancia':\n",
    "        st = 'camioneta'\n",
    "    elif tipo == 'traccion a sangre' or tipo == 'autobomba' or tipo == 'patineta' or tipo == 'cuatriciclo' or tipo == 'tren / subte' or tipo == 'tren / subte / tranvia' or tipo == 'vehiculo rural' or tipo == 'otros':\n",
    "        st = 'sin_data'\n",
    "    else:\n",
    "        return tipo\n",
    "    return st"
   ]
  },
  {
   "cell_type": "code",
   "execution_count": 9,
   "id": "59eac8c3",
   "metadata": {
    "scrolled": true
   },
   "outputs": [
    {
     "data": {
      "text/html": [
       "<div>\n",
       "<style scoped>\n",
       "    .dataframe tbody tr th:only-of-type {\n",
       "        vertical-align: middle;\n",
       "    }\n",
       "\n",
       "    .dataframe tbody tr th {\n",
       "        vertical-align: top;\n",
       "    }\n",
       "\n",
       "    .dataframe thead th {\n",
       "        text-align: right;\n",
       "    }\n",
       "</style>\n",
       "<table border=\"1\" class=\"dataframe\">\n",
       "  <thead>\n",
       "    <tr style=\"text-align: right;\">\n",
       "      <th></th>\n",
       "      <th>tipo</th>\n",
       "      <th>tipo_colision1</th>\n",
       "    </tr>\n",
       "  </thead>\n",
       "  <tbody>\n",
       "    <tr>\n",
       "      <th>count</th>\n",
       "      <td>33162</td>\n",
       "      <td>33162</td>\n",
       "    </tr>\n",
       "    <tr>\n",
       "      <th>unique</th>\n",
       "      <td>10</td>\n",
       "      <td>9</td>\n",
       "    </tr>\n",
       "    <tr>\n",
       "      <th>top</th>\n",
       "      <td>moto</td>\n",
       "      <td>motovehiculo - vehiculo</td>\n",
       "    </tr>\n",
       "    <tr>\n",
       "      <th>freq</th>\n",
       "      <td>12989</td>\n",
       "      <td>11378</td>\n",
       "    </tr>\n",
       "  </tbody>\n",
       "</table>\n",
       "</div>"
      ],
      "text/plain": [
       "         tipo           tipo_colision1\n",
       "count   33162                    33162\n",
       "unique     10                        9\n",
       "top      moto  motovehiculo - vehiculo\n",
       "freq    12989                    11378"
      ]
     },
     "execution_count": 9,
     "metadata": {},
     "output_type": "execute_result"
    }
   ],
   "source": [
    "sin_df['tipo'] = sin_df['tipo'].apply(simplificar_tipo)#.astype('|S80')\n",
    "\n",
    "sin_df['tipo_colision1'] = sin_df['tipo_colision1'].apply(simplificar_tipocol)#.astype('|S80')\n",
    "\n",
    "sin_df[['tipo','tipo_colision1']].describe()"
   ]
  },
  {
   "cell_type": "markdown",
   "id": "eb417d14",
   "metadata": {},
   "source": [
    "DEBERIA RELLENAR LOS NULOS DE 'tipo' CON INFORMACION DE OTRAS COLUMNAS PARA MEJORAR LA CALIDAD DE LA INFORMACION"
   ]
  },
  {
   "cell_type": "markdown",
   "id": "10e15e6a",
   "metadata": {},
   "source": [
    "AHORA VOY A RELLENAR LOS CAMPOS CON VALOR NULO"
   ]
  },
  {
   "cell_type": "code",
   "execution_count": 10,
   "id": "82a15e75",
   "metadata": {},
   "outputs": [],
   "source": [
    "sin_df['comuna'].fillna(0,inplace=True)\n",
    "sin_df['comuna'] = sin_df['comuna'].astype(int)"
   ]
  },
  {
   "cell_type": "code",
   "execution_count": 11,
   "id": "dd08aa37",
   "metadata": {},
   "outputs": [],
   "source": [
    "sin_df['rol'].fillna('sin_data',inplace=True)\n",
    "sin_df['sexo'].fillna('sin_data',inplace=True)\n",
    "sin_df['calle1'].fillna('sin_data',inplace=True)\n",
    "sin_df['calle2'].fillna('sin_data',inplace=True)\n",
    "sin_df['participantes_acusados'].fillna('sin_data',inplace=True)\n",
    "sin_df['participantes_victimas'].fillna('sin_data',inplace=True)\n",
    "sin_df['x'].fillna(-1,inplace=True)\n",
    "sin_df['y'].fillna(-1,inplace=True)\n",
    "sin_df['edad'].fillna(sin_df.edad.mean(),inplace=True)"
   ]
  },
  {
   "cell_type": "markdown",
   "id": "69d6bd05",
   "metadata": {},
   "source": [
    "EN LOS SIGUIENTES CASILLEROS VOY A LIMPIAR Y NORMALIZAR COLUMNAS"
   ]
  },
  {
   "cell_type": "code",
   "execution_count": 12,
   "id": "0e3563ac",
   "metadata": {},
   "outputs": [
    {
     "data": {
      "text/plain": [
       "sexo\n",
       "1    22322\n",
       "2    10647\n",
       "0      193\n",
       "dtype: int64"
      ]
     },
     "execution_count": 12,
     "metadata": {},
     "output_type": "execute_result"
    }
   ],
   "source": [
    "def normalizar_sexo(sexo):\n",
    "    if sexo == 'masculino':\n",
    "        return 1\n",
    "    elif sexo == 'femenino':\n",
    "        return 2\n",
    "    else:\n",
    "        return 0\n",
    "    \n",
    "sin_df['sexo'] = sin_df['sexo'].apply(normalizar_sexo)\n",
    "sin_df.value_counts('sexo')\n",
    "\n",
    "#masculino -> 1\n",
    "#femenino -> 2\n",
    "#sin data -> 0"
   ]
  },
  {
   "cell_type": "code",
   "execution_count": 13,
   "id": "997ac435",
   "metadata": {},
   "outputs": [
    {
     "data": {
      "text/plain": [
       "rango_edad\n",
       "2    19208\n",
       "3     7427\n",
       "4     3595\n",
       "1     2932\n",
       "dtype: int64"
      ]
     },
     "execution_count": 13,
     "metadata": {},
     "output_type": "execute_result"
    }
   ],
   "source": [
    "def edades(edad):\n",
    "    rango = 0\n",
    "    \n",
    "    if (edad<20):\n",
    "        rango=1\n",
    "    elif (edad<40):\n",
    "        rango=2\n",
    "    elif (edad<60):\n",
    "        rango=3\n",
    "    else:\n",
    "        rango=4\n",
    "    return rango\n",
    "\n",
    "sin_df['rango_edad'] = sin_df['edad'].apply(edades)\n",
    "sin_df.value_counts('rango_edad')\n",
    "\n",
    "#menor a 20 años -> 1\n",
    "#menor a 40 años -> 2\n",
    "#menor a 60 años -> 3\n",
    "#mayor a 60 años -> 4"
   ]
  },
  {
   "cell_type": "markdown",
   "id": "f32e6f66",
   "metadata": {},
   "source": [
    "LE DOY UN FORMATO DESEADO A LA HORA Y FECHA"
   ]
  },
  {
   "cell_type": "code",
   "execution_count": 14,
   "id": "97b12590",
   "metadata": {},
   "outputs": [
    {
     "data": {
      "text/plain": [
       "hora\n",
       "18    2215\n",
       "13    2186\n",
       "14    2115\n",
       "17    2106\n",
       "12    2029\n",
       "dtype: int64"
      ]
     },
     "execution_count": 14,
     "metadata": {},
     "output_type": "execute_result"
    }
   ],
   "source": [
    "def extraer_hora(hora):\n",
    "    return hora.hour\n",
    "\n",
    "sin_df['hora'] = pd.to_datetime(sin_df['hora']).apply(extraer_hora)\n",
    "sin_df['hora'] = sin_df['hora'].astype(int)\n",
    "sin_df.value_counts('hora').head()"
   ]
  },
  {
   "cell_type": "code",
   "execution_count": 15,
   "id": "04f6c269",
   "metadata": {},
   "outputs": [],
   "source": [
    "def crear_fecha(fecha):\n",
    "\n",
    "    if \"/\" in fecha:\n",
    "        return fecha.split(\"/\")\n",
    "    elif \"-\" in fecha:\n",
    "        return fecha.split(\"-\")\n",
    "        #aux = fecha[0]\n",
    "        #fecha[0] = fecha[1]\n",
    "        #fecha[1] = aux\n",
    "        #return fecha\n",
    "\n",
    "def limpiar_fecha(fecha):\n",
    "    \n",
    "    d = int(fecha[1])\n",
    "    m = int(fecha[0])\n",
    "    a = int(fecha[2])\n",
    "    \n",
    "    if a<2000:\n",
    "        a = 2000+a\n",
    "    \n",
    "    if m>12:\n",
    "        aux = m\n",
    "        m = a\n",
    "        a = aux\n",
    "    \n",
    "    return [d,m,a]\n",
    "\n",
    "def dia(d):\n",
    "    return d[0]\n",
    "\n",
    "def mes(d):\n",
    "    return d[1]\n",
    "\n",
    "def anio(d):\n",
    "    return d[2]"
   ]
  },
  {
   "cell_type": "code",
   "execution_count": 16,
   "id": "b0743427",
   "metadata": {},
   "outputs": [
    {
     "name": "stdout",
     "output_type": "stream",
     "text": [
      "<class 'pandas.core.frame.DataFrame'>\n",
      "Int64Index: 33162 entries, 0 to 33232\n",
      "Data columns (total 20 columns):\n",
      " #   Column                  Non-Null Count  Dtype  \n",
      "---  ------                  --------------  -----  \n",
      " 0   causa                   33162 non-null  object \n",
      " 1   rol                     33162 non-null  object \n",
      " 2   tipo                    33162 non-null  object \n",
      " 3   sexo                    33162 non-null  int64  \n",
      " 4   edad                    33162 non-null  float64\n",
      " 5   hora                    33162 non-null  int32  \n",
      " 6   tipo_calle              33162 non-null  object \n",
      " 7   calle1                  33162 non-null  object \n",
      " 8   calle2                  33162 non-null  object \n",
      " 9   x                       33162 non-null  float64\n",
      " 10  y                       33162 non-null  float64\n",
      " 11  cantidad_victimas       33162 non-null  int64  \n",
      " 12  comuna                  33162 non-null  int32  \n",
      " 13  tipo_colision1          33162 non-null  object \n",
      " 14  participantes_acusados  33162 non-null  object \n",
      " 15  participantes_victimas  33162 non-null  object \n",
      " 16  rango_edad              33162 non-null  int64  \n",
      " 17  d                       33162 non-null  int64  \n",
      " 18  m                       33162 non-null  int64  \n",
      " 19  a                       33162 non-null  int64  \n",
      "dtypes: float64(3), int32(2), int64(6), object(9)\n",
      "memory usage: 5.1+ MB\n"
     ]
    }
   ],
   "source": [
    "sin_df['fecha_norm'] = sin_df['fecha'].apply(crear_fecha)\n",
    "sin_df['fecha_norm'] = sin_df['fecha_norm'].apply(limpiar_fecha)\n",
    "\n",
    "sin_df['d'] = sin_df['fecha_norm'].apply(dia)\n",
    "sin_df['m'] = sin_df['fecha_norm'].apply(mes)\n",
    "sin_df['a'] = sin_df['fecha_norm'].apply(anio)\n",
    "\n",
    "sin_df.drop(columns='fecha_norm',inplace=True)\n",
    "sin_df.drop(columns='fecha',inplace=True)\n",
    "\n",
    "sin_df.info()"
   ]
  },
  {
   "cell_type": "markdown",
   "id": "ce40d9ad",
   "metadata": {},
   "source": [
    "FINALIZA EL PROCESO DE LIMPIEZA\n",
    "\n",
    "A CONTINUACION, PARA LA ENTREGA DE LA CLASE 36, \"Obtención de insights\", PRESENTARE LAS HIPOTESIS, SEGUIDO DE LAS VISUALIZACIONES QUE ME PARECIERON INTERESANTES, SIN PERDER DE VISTA EL OBJETIVO PLENTEADO MAS ARRIBA."
   ]
  },
  {
   "cell_type": "markdown",
   "id": "786f87bd",
   "metadata": {},
   "source": [
    "Como mi objetivo es minimizar la cantidad de accidentes, tengo que saber que medidas tomar, en que zonas tomar estas medidas, y por ultimo, a que publico apuntarlas.\n",
    "\n",
    "Las posibilidades son muchas, pero asumiendo que mi cliente es el Gobierno de la Ciudad de Buenos Aires, las medidas a tomar serán 5: \n",
    "\n",
    "1. controles policiales.\n",
    "2. camaras multa.\n",
    "3. bicisendas.\n",
    "4. señales de transito.\n",
    "5. campañas de prevencion (uso de casco, uso de cinturon, alcohol cero al volante, etc).\n",
    "\n",
    "Para el primer punto, tendre que determinar la fecha y la zona, ya que al poner un control policial, no sera lo mismo que sea un dia de semana o un sabado, y a su vez tiene que ser un lugar clave para evitar siniestros.\n",
    "\n",
    "Para los puntos 2, 3 y 4, es clave la zona y el tipo de vehiculo al que apuntare las medidas a tomar, sin darle importancia a la fecha. \n",
    "\n",
    "Para el último punto, las campañas de prevención, es importante saber el publico al que apuntarlas (y puede tener cierta influencia la fecha). \n",
    "\n"
   ]
  },
  {
   "cell_type": "markdown",
   "id": "f0d814df",
   "metadata": {},
   "source": [
    "COMENZARE ESTABLECIENDO ZONAS CLAVE PARA LOS CONTROLES POLICIALES. \n",
    "\n",
    "Para esto hare lo siguiente: \n",
    "\n",
    "- filtro el tipo de vehiculo involucrado (solo quiero motos y autos)\n",
    "\n",
    "- divido el dataset en avenidas y calles, ya que si no hago esto, obtendria solo avenidas peligrosas (ya que en estas hay muchos mas siniestros que en las calles) \n",
    "\n",
    "- habiendo obtenido la calle o avenida peligrosa, busco el tramo de esta en el que mas siniestros registro (para establecer en que zona esta calle es peligrosa)\n",
    "\n",
    "- uso los limites obtenidos para poner un control policial\n"
   ]
  },
  {
   "cell_type": "code",
   "execution_count": 17,
   "id": "081218ce",
   "metadata": {},
   "outputs": [],
   "source": [
    "control = sin_df.loc[(sin_df['tipo'].str.contains('moto'))|(sin_df['tipo'].str.contains('auto'))]"
   ]
  },
  {
   "cell_type": "code",
   "execution_count": 18,
   "id": "64f311ab",
   "metadata": {},
   "outputs": [],
   "source": [
    "control_av = control.loc[control.tipo_calle=='avenida'][['calle1','calle2','comuna']]\n",
    "control_calle = control.loc[control.tipo_calle=='calle'][['calle1','calle2','comuna']]\n",
    "control_av['cant'] = 1\n",
    "control_calle['cant'] = 1"
   ]
  },
  {
   "cell_type": "code",
   "execution_count": 19,
   "id": "a8ccb8c9",
   "metadata": {},
   "outputs": [
    {
     "data": {
      "text/plain": [
       "calle1              comuna\n",
       "paz, gral. av.      12        294\n",
       "                    9         259\n",
       "9 de julio av.      1         242\n",
       "del libertador av.  14        226\n",
       "san martin av.      15        164\n",
       "Name: cant, dtype: int64"
      ]
     },
     "execution_count": 19,
     "metadata": {},
     "output_type": "execute_result"
    }
   ],
   "source": [
    "control_av.groupby(['calle1','comuna'])['cant'].sum().sort_values(ascending=False).head(5)"
   ]
  },
  {
   "cell_type": "code",
   "execution_count": 20,
   "id": "236ab38d",
   "metadata": {},
   "outputs": [
    {
     "data": {
      "text/plain": [
       "calle1            comuna\n",
       "sin_data          0         443\n",
       "nogoya            11         35\n",
       "irigoyen          10         32\n",
       "cabrera, jose a.  14         29\n",
       "pavon             3          28\n",
       "Name: cant, dtype: int64"
      ]
     },
     "execution_count": 20,
     "metadata": {},
     "output_type": "execute_result"
    }
   ],
   "source": [
    "control_calle.groupby(['calle1','comuna'])['cant'].sum().sort_values(ascending=False).head(5)"
   ]
  },
  {
   "cell_type": "markdown",
   "id": "b3332000",
   "metadata": {},
   "source": [
    "CON ESTOS RESULTADOS, PUEDO INFERIR QUE LOS CONTROLES POLICIALES SERAN ESTABLECIDOS EN: \n",
    "\n",
    "- Avenida San Martin, dentro de los limites de la comuna 15.\n",
    "\n",
    "- Calle Nogolla, dentro de los limites de la comuna 11. \n",
    "\n",
    "PARA TENER UNA MEJOR IDEA DE DONDE PONER LOS CONTROLES, PODRÍA FILTRAR EL DATASET POR LA CALLE EN CUESTION Y HACER UN SCATTER PLOT DE LAS COORDENADAS EN X e Y. \n",
    "\n",
    "PARA TENER UNA MEJOR IDEA DE LA FECHA, DEBERIA FILTRAR ESTAS CALLES PELIGROSAS Y HACER UN GRAFICO DE DISTRIBUCION TOMANDO EN CUENTA LAS COLUMNAS dia y mes (la hora tambien puede ser útil)"
   ]
  },
  {
   "cell_type": "markdown",
   "id": "e0179a2c",
   "metadata": {},
   "source": [
    "\n",
    "\n",
    "\n"
   ]
  },
  {
   "cell_type": "markdown",
   "id": "4b76a935",
   "metadata": {},
   "source": [
    "CONTINUARÉ ESTABLECIENDO ZONAS CLAVE PARA BICISENDAS, PARA ESTO HARÉ LO SIGUIENTE:\n",
    "\n",
    "    - Quedarme solo con los siniestros de bicicletas.\n",
    "    - Solo tendré en cuenta las calles (quitando las autopistas y avenidas)\n",
    "    - Utilizare la cantidad de siniestros y las coordenadas x e y para establecer las zonas.\n",
    "    "
   ]
  },
  {
   "cell_type": "code",
   "execution_count": 21,
   "id": "9ad9e072",
   "metadata": {},
   "outputs": [],
   "source": [
    "bicis = sin_df.loc[(sin_df['tipo'].str.contains('bici'))|(sin_df['tipo'].str.contains('bici'))][['comuna','calle1','x','y']]\n",
    "bicis = bicis.loc[~(bicis.calle1.str.contains('av.'))]\n"
   ]
  },
  {
   "cell_type": "code",
   "execution_count": 22,
   "id": "c4197383",
   "metadata": {},
   "outputs": [],
   "source": [
    "bicis['cant']=1\n",
    "g_bicis = bicis.groupby(['comuna','calle1'])['cant'].sum().reset_index().sort_values(by='cant',ascending=False)"
   ]
  },
  {
   "cell_type": "code",
   "execution_count": 23,
   "id": "1dbd2238",
   "metadata": {},
   "outputs": [
    {
     "data": {
      "text/html": [
       "<div>\n",
       "<style scoped>\n",
       "    .dataframe tbody tr th:only-of-type {\n",
       "        vertical-align: middle;\n",
       "    }\n",
       "\n",
       "    .dataframe tbody tr th {\n",
       "        vertical-align: top;\n",
       "    }\n",
       "\n",
       "    .dataframe thead th {\n",
       "        text-align: right;\n",
       "    }\n",
       "</style>\n",
       "<table border=\"1\" class=\"dataframe\">\n",
       "  <thead>\n",
       "    <tr style=\"text-align: right;\">\n",
       "      <th></th>\n",
       "      <th>comuna</th>\n",
       "      <th>calle1</th>\n",
       "      <th>cant</th>\n",
       "    </tr>\n",
       "  </thead>\n",
       "  <tbody>\n",
       "    <tr>\n",
       "      <th>4</th>\n",
       "      <td>0</td>\n",
       "      <td>sin_data</td>\n",
       "      <td>38</td>\n",
       "    </tr>\n",
       "    <tr>\n",
       "      <th>183</th>\n",
       "      <td>5</td>\n",
       "      <td>liniers virrey</td>\n",
       "      <td>24</td>\n",
       "    </tr>\n",
       "    <tr>\n",
       "      <th>463</th>\n",
       "      <td>14</td>\n",
       "      <td>gorriti</td>\n",
       "      <td>13</td>\n",
       "    </tr>\n",
       "    <tr>\n",
       "      <th>90</th>\n",
       "      <td>3</td>\n",
       "      <td>calvo, carlos</td>\n",
       "      <td>13</td>\n",
       "    </tr>\n",
       "    <tr>\n",
       "      <th>164</th>\n",
       "      <td>5</td>\n",
       "      <td>billinghurst</td>\n",
       "      <td>12</td>\n",
       "    </tr>\n",
       "    <tr>\n",
       "      <th>443</th>\n",
       "      <td>14</td>\n",
       "      <td>alvarez, julian</td>\n",
       "      <td>10</td>\n",
       "    </tr>\n",
       "    <tr>\n",
       "      <th>38</th>\n",
       "      <td>1</td>\n",
       "      <td>pellegrini, carlos</td>\n",
       "      <td>9</td>\n",
       "    </tr>\n",
       "    <tr>\n",
       "      <th>487</th>\n",
       "      <td>15</td>\n",
       "      <td>alvarez, julian</td>\n",
       "      <td>8</td>\n",
       "    </tr>\n",
       "    <tr>\n",
       "      <th>27</th>\n",
       "      <td>1</td>\n",
       "      <td>irigoyen, bernardo de</td>\n",
       "      <td>8</td>\n",
       "    </tr>\n",
       "    <tr>\n",
       "      <th>14</th>\n",
       "      <td>1</td>\n",
       "      <td>cevallos, virrey</td>\n",
       "      <td>8</td>\n",
       "    </tr>\n",
       "  </tbody>\n",
       "</table>\n",
       "</div>"
      ],
      "text/plain": [
       "     comuna                 calle1  cant\n",
       "4         0               sin_data    38\n",
       "183       5         liniers virrey    24\n",
       "463      14                gorriti    13\n",
       "90        3          calvo, carlos    13\n",
       "164       5           billinghurst    12\n",
       "443      14        alvarez, julian    10\n",
       "38        1     pellegrini, carlos     9\n",
       "487      15        alvarez, julian     8\n",
       "27        1  irigoyen, bernardo de     8\n",
       "14        1       cevallos, virrey     8"
      ]
     },
     "execution_count": 23,
     "metadata": {},
     "output_type": "execute_result"
    }
   ],
   "source": [
    "g_bicis.head(10)"
   ]
  },
  {
   "cell_type": "markdown",
   "id": "627c4771",
   "metadata": {},
   "source": [
    "POR LO ESTUDIADO, COLOCARIA UNA BICISENDA EN VIRREY LINIERS, PRINCIPALENTE EN EL TRAMO QUE ABARCA LA COMUNA 5."
   ]
  },
  {
   "cell_type": "markdown",
   "id": "150692de",
   "metadata": {},
   "source": [
    "PARA ESTABLECER LAS UBICACIONES DE LAS CAMARAS MULTA VOY A CONTEMPLAR LAS ESQUINAS CON MAS SINIESTROS.\n",
    "\n",
    "VOY A PROPONER 6 CAMARAS; 2 en avenidas, 2 en calles y 2 en autopista."
   ]
  },
  {
   "cell_type": "markdown",
   "id": "7db1bc56",
   "metadata": {},
   "source": []
  },
  {
   "cell_type": "code",
   "execution_count": 24,
   "id": "01269f58",
   "metadata": {},
   "outputs": [
    {
     "data": {
      "text/html": [
       "<div>\n",
       "<style scoped>\n",
       "    .dataframe tbody tr th:only-of-type {\n",
       "        vertical-align: middle;\n",
       "    }\n",
       "\n",
       "    .dataframe tbody tr th {\n",
       "        vertical-align: top;\n",
       "    }\n",
       "\n",
       "    .dataframe thead th {\n",
       "        text-align: right;\n",
       "    }\n",
       "</style>\n",
       "<table border=\"1\" class=\"dataframe\">\n",
       "  <thead>\n",
       "    <tr style=\"text-align: right;\">\n",
       "      <th></th>\n",
       "      <th>calle1</th>\n",
       "      <th>calle2</th>\n",
       "      <th>cant</th>\n",
       "    </tr>\n",
       "  </thead>\n",
       "  <tbody>\n",
       "    <tr>\n",
       "      <th>14</th>\n",
       "      <td>autopista buenos aires - la plata</td>\n",
       "      <td>sin_data</td>\n",
       "      <td>23</td>\n",
       "    </tr>\n",
       "    <tr>\n",
       "      <th>8</th>\n",
       "      <td>autopista 25 de mayo</td>\n",
       "      <td>sin_data</td>\n",
       "      <td>13</td>\n",
       "    </tr>\n",
       "    <tr>\n",
       "      <th>0</th>\n",
       "      <td>27 de febrero av.</td>\n",
       "      <td>autopista presidente héctor j. cámpora</td>\n",
       "      <td>12</td>\n",
       "    </tr>\n",
       "    <tr>\n",
       "      <th>34</th>\n",
       "      <td>huergo, ing. av.</td>\n",
       "      <td>autopista 25 de mayo</td>\n",
       "      <td>7</td>\n",
       "    </tr>\n",
       "    <tr>\n",
       "      <th>25</th>\n",
       "      <td>autopista perito moreno</td>\n",
       "      <td>sin_data</td>\n",
       "      <td>6</td>\n",
       "    </tr>\n",
       "    <tr>\n",
       "      <th>38</th>\n",
       "      <td>paz, gral. av.</td>\n",
       "      <td>autopista dellepiane luis tte. gral.</td>\n",
       "      <td>6</td>\n",
       "    </tr>\n",
       "    <tr>\n",
       "      <th>1</th>\n",
       "      <td>27 de febrero av.</td>\n",
       "      <td>autopista presidente hictor j. cħmpora</td>\n",
       "      <td>5</td>\n",
       "    </tr>\n",
       "  </tbody>\n",
       "</table>\n",
       "</div>"
      ],
      "text/plain": [
       "                               calle1  \\\n",
       "14  autopista buenos aires - la plata   \n",
       "8                autopista 25 de mayo   \n",
       "0                   27 de febrero av.   \n",
       "34                   huergo, ing. av.   \n",
       "25            autopista perito moreno   \n",
       "38                     paz, gral. av.   \n",
       "1                   27 de febrero av.   \n",
       "\n",
       "                                      calle2  cant  \n",
       "14                                  sin_data    23  \n",
       "8                                   sin_data    13  \n",
       "0     autopista presidente héctor j. cámpora    12  \n",
       "34                      autopista 25 de mayo     7  \n",
       "25                                  sin_data     6  \n",
       "38      autopista dellepiane luis tte. gral.     6  \n",
       "1   autopista presidente hictor j. cħmpora     5  "
      ]
     },
     "execution_count": 24,
     "metadata": {},
     "output_type": "execute_result"
    }
   ],
   "source": [
    "autop = sin_df.loc[sin_df.tipo_calle=='autopista'].loc[sin_df.calle1 != 'sin_data']\n",
    "autop['cant'] = 1\n",
    "autop.groupby(['calle1','calle2'])['cant'].sum().reset_index().sort_values(by='cant', ascending=False).head(7)"
   ]
  },
  {
   "cell_type": "markdown",
   "id": "78bd8c55",
   "metadata": {},
   "source": [
    "CON ESTOS RESULTADOS, PUEDO INFERIR QUE EN LOS CRUCES DE LAS AUTOPISTAS CON LA AVENIDA '27 de Febrero' HAY UNA GRAN CANTIDAD DE SINIESTROS. \n",
    "\n",
    "OLVIDANDO UN MOMENTO EL OBJETIVO DE LAS CAMARAS MULTA, ME DOY CUENTA QUE EN LA Av 27 de Febrero HACEN FALTA SEÑALES DE PREVENCION 2 CUADRAS ANTES Y DESPUES DE LOS CRUCES CON LAS AUTOPISTAS. \n",
    "\n",
    "VOLVIENDO AL PUNTO, PONDRIA UNA CAMARA EN LA ESQUINA DE:\n",
    " - '25 de Mayo' y 'av Huergo'\n",
    " - 'Hector J Campora' y 'av 27 de Febrero'\n",
    " "
   ]
  },
  {
   "cell_type": "code",
   "execution_count": 25,
   "id": "7e0d29d6",
   "metadata": {},
   "outputs": [
    {
     "data": {
      "text/html": [
       "<div>\n",
       "<style scoped>\n",
       "    .dataframe tbody tr th:only-of-type {\n",
       "        vertical-align: middle;\n",
       "    }\n",
       "\n",
       "    .dataframe tbody tr th {\n",
       "        vertical-align: top;\n",
       "    }\n",
       "\n",
       "    .dataframe thead th {\n",
       "        text-align: right;\n",
       "    }\n",
       "</style>\n",
       "<table border=\"1\" class=\"dataframe\">\n",
       "  <thead>\n",
       "    <tr style=\"text-align: right;\">\n",
       "      <th></th>\n",
       "      <th>calle1</th>\n",
       "      <th>calle2</th>\n",
       "      <th>cant</th>\n",
       "    </tr>\n",
       "  </thead>\n",
       "  <tbody>\n",
       "    <tr>\n",
       "      <th>722</th>\n",
       "      <td>brasil</td>\n",
       "      <td>lima</td>\n",
       "      <td>39</td>\n",
       "    </tr>\n",
       "    <tr>\n",
       "      <th>1269</th>\n",
       "      <td>cramer</td>\n",
       "      <td>nuñez</td>\n",
       "      <td>15</td>\n",
       "    </tr>\n",
       "    <tr>\n",
       "      <th>3924</th>\n",
       "      <td>serrano</td>\n",
       "      <td>muñecas</td>\n",
       "      <td>14</td>\n",
       "    </tr>\n",
       "    <tr>\n",
       "      <th>1125</th>\n",
       "      <td>ciudadela</td>\n",
       "      <td>lima</td>\n",
       "      <td>13</td>\n",
       "    </tr>\n",
       "    <tr>\n",
       "      <th>2361</th>\n",
       "      <td>lavalle</td>\n",
       "      <td>aguero</td>\n",
       "      <td>13</td>\n",
       "    </tr>\n",
       "    <tr>\n",
       "      <th>3288</th>\n",
       "      <td>pepiri</td>\n",
       "      <td>santo domingo</td>\n",
       "      <td>12</td>\n",
       "    </tr>\n",
       "    <tr>\n",
       "      <th>1571</th>\n",
       "      <td>estados unidos</td>\n",
       "      <td>sarandi</td>\n",
       "      <td>12</td>\n",
       "    </tr>\n",
       "  </tbody>\n",
       "</table>\n",
       "</div>"
      ],
      "text/plain": [
       "              calle1         calle2  cant\n",
       "722           brasil           lima    39\n",
       "1269          cramer          nuñez    15\n",
       "3924         serrano        muñecas    14\n",
       "1125       ciudadela           lima    13\n",
       "2361         lavalle         aguero    13\n",
       "3288          pepiri  santo domingo    12\n",
       "1571  estados unidos        sarandi    12"
      ]
     },
     "execution_count": 25,
     "metadata": {},
     "output_type": "execute_result"
    }
   ],
   "source": [
    "calle = sin_df.loc[sin_df.tipo_calle=='calle'].loc[(sin_df.calle1 != 'sin_data')&(sin_df.calle2 != 'sin_data')]\n",
    "calle['cant'] = 1\n",
    "calle.groupby(['calle1','calle2'])['cant'].sum().reset_index().sort_values(by='cant', ascending=False).head(7)"
   ]
  },
  {
   "cell_type": "markdown",
   "id": "de760f14",
   "metadata": {},
   "source": [
    "TENIENDO EN CUENTA QUE EN LA CALLE BRASIL Y LIMA YA HAY CAMARAS MULTA, PONRIA LAS CAMARAS EN LAS ESQUINAS DE: \n",
    "\n",
    "- Cramer y Nuñez\n",
    "- Serrano y Muñecas"
   ]
  },
  {
   "cell_type": "code",
   "execution_count": 26,
   "id": "db0105a2",
   "metadata": {},
   "outputs": [
    {
     "data": {
      "text/html": [
       "<div>\n",
       "<style scoped>\n",
       "    .dataframe tbody tr th:only-of-type {\n",
       "        vertical-align: middle;\n",
       "    }\n",
       "\n",
       "    .dataframe tbody tr th {\n",
       "        vertical-align: top;\n",
       "    }\n",
       "\n",
       "    .dataframe thead th {\n",
       "        text-align: right;\n",
       "    }\n",
       "</style>\n",
       "<table border=\"1\" class=\"dataframe\">\n",
       "  <thead>\n",
       "    <tr style=\"text-align: right;\">\n",
       "      <th></th>\n",
       "      <th>calle1</th>\n",
       "      <th>calle2</th>\n",
       "      <th>cant</th>\n",
       "    </tr>\n",
       "  </thead>\n",
       "  <tbody>\n",
       "    <tr>\n",
       "      <th>3350</th>\n",
       "      <td>paz, gral. av.</td>\n",
       "      <td>balbin, ricardo, dr. av.</td>\n",
       "      <td>87</td>\n",
       "    </tr>\n",
       "    <tr>\n",
       "      <th>3298</th>\n",
       "      <td>paseo colon av.</td>\n",
       "      <td>belgrano av.</td>\n",
       "      <td>44</td>\n",
       "    </tr>\n",
       "    <tr>\n",
       "      <th>3433</th>\n",
       "      <td>paz, gral. av.</td>\n",
       "      <td>san martin av.</td>\n",
       "      <td>41</td>\n",
       "    </tr>\n",
       "    <tr>\n",
       "      <th>3366</th>\n",
       "      <td>paz, gral. av.</td>\n",
       "      <td>castro, emilio av.</td>\n",
       "      <td>39</td>\n",
       "    </tr>\n",
       "    <tr>\n",
       "      <th>3359</th>\n",
       "      <td>paz, gral. av.</td>\n",
       "      <td>cabildo av.</td>\n",
       "      <td>35</td>\n",
       "    </tr>\n",
       "    <tr>\n",
       "      <th>3378</th>\n",
       "      <td>paz, gral. av.</td>\n",
       "      <td>de los constituyentes av.</td>\n",
       "      <td>35</td>\n",
       "    </tr>\n",
       "    <tr>\n",
       "      <th>4097</th>\n",
       "      <td>san juan av.</td>\n",
       "      <td>9 de julio av.</td>\n",
       "      <td>32</td>\n",
       "    </tr>\n",
       "  </tbody>\n",
       "</table>\n",
       "</div>"
      ],
      "text/plain": [
       "               calle1                     calle2  cant\n",
       "3350   paz, gral. av.   balbin, ricardo, dr. av.    87\n",
       "3298  paseo colon av.               belgrano av.    44\n",
       "3433   paz, gral. av.             san martin av.    41\n",
       "3366   paz, gral. av.         castro, emilio av.    39\n",
       "3359   paz, gral. av.                cabildo av.    35\n",
       "3378   paz, gral. av.  de los constituyentes av.    35\n",
       "4097     san juan av.             9 de julio av.    32"
      ]
     },
     "execution_count": 26,
     "metadata": {},
     "output_type": "execute_result"
    }
   ],
   "source": [
    "av = sin_df.loc[sin_df.tipo_calle=='avenida'].loc[(sin_df.calle1 != 'sin_data')&(sin_df.calle2 != 'sin_data')]\n",
    "av['cant'] = 1\n",
    "av.groupby(['calle1','calle2'])['cant'].sum().reset_index().sort_values(by='cant', ascending=False).head(7)"
   ]
  },
  {
   "cell_type": "markdown",
   "id": "733200c2",
   "metadata": {},
   "source": [
    "VEO QUE LA MAYOR CANTIDAD DE SINIESTROS SE DA EN CRUCES DE AVENIDAS, EN ESTE CASO PONDRIA LAS CAMARAS EN:\n",
    "\n",
    "- Paseo Colon y Av. Belgrano\n",
    "- Gral. Paz y Av. San Martin"
   ]
  },
  {
   "cell_type": "markdown",
   "id": "a71624ea",
   "metadata": {},
   "source": []
  },
  {
   "cell_type": "markdown",
   "id": "7ecdff83",
   "metadata": {},
   "source": [
    "EN CUANTO A LA CAMPAÑA DE PREVENCIÓN, AL SER UN CONCEPTO TAN AMPLIO PRIMERO VOY A EMPEZAR CON UNA CAMPAÑA QUE ABARQUE LA MAYORIA DE LOS SINIESTROS, PARA ESO VOY A CHEQUEAR QUE TIPO DE VEHICULO ES EL QUE REGISTRA MAS ACCIDENTES"
   ]
  },
  {
   "cell_type": "markdown",
   "id": "a1e1a65b",
   "metadata": {},
   "source": [
    "CORROBORO QUE LA MOTO ES EL VEHICULO CON MAS ACCIDENTES"
   ]
  },
  {
   "cell_type": "code",
   "execution_count": 27,
   "id": "36e63c5b",
   "metadata": {},
   "outputs": [
    {
     "data": {
      "text/plain": [
       "Text(0.5, 0, 'tipo vehiculo')"
      ]
     },
     "execution_count": 27,
     "metadata": {},
     "output_type": "execute_result"
    },
    {
     "data": {
      "image/png": "[encoded data removed]",
      "text/plain": [
       "<Figure size 640x480 with 1 Axes>"
      ]
     },
     "metadata": {},
     "output_type": "display_data"
    }
   ],
   "source": [
    "tipo_sin = sin_df.tipo.value_counts().to_frame().reset_index()\n",
    "\n",
    "sns.barplot(data=tipo_sin, x=tipo_sin['index'], y=tipo_sin['tipo'])\n",
    "plt.xticks(rotation=45)\n",
    "plt.xlabel('tipo vehiculo')"
   ]
  },
  {
   "cell_type": "markdown",
   "id": "25be6729",
   "metadata": {},
   "source": [
    "AHORA TENGO QUE DETERMINAR QUE TIPO DE CAMPAÑA DE PREVENCIÓN VOY A HACER:\n",
    "Me voy a centrar en dos campañas, una sobre el uso de casco y otra sobre el cumplimiento de la velocidad maxima\n",
    "\n",
    "Para la primer campaña voy a revisar las edades de los involucrados en accidentes, para saber si tengo que apuntar la propaganda a cierto grupo etareo (para esto voy a usar la MEDIANA), también revisare a que hora es mas conveniente que esta propaganda aparezca. \n",
    "\n",
    "Para la segunda campaña voy a elegir una comuna (o una zona) y revisaré si hay un momento del año en el que haya un incremento significante de accidentes, para colocar carteles en esa zona en visperas a la fecha determinada. \n",
    "\n"
   ]
  },
  {
   "cell_type": "code",
   "execution_count": 28,
   "id": "bcb24d57",
   "metadata": {},
   "outputs": [],
   "source": [
    "motos = sin_df.loc[(sin_df['tipo_colision1'].str.contains('moto'))|(sin_df['tipo'].str.contains('moto'))]"
   ]
  },
  {
   "cell_type": "code",
   "execution_count": 29,
   "id": "5a86c827",
   "metadata": {},
   "outputs": [
    {
     "data": {
      "text/plain": [
       "30.0"
      ]
     },
     "execution_count": 29,
     "metadata": {},
     "output_type": "execute_result"
    }
   ],
   "source": [
    "motos.edad.median()"
   ]
  },
  {
   "cell_type": "code",
   "execution_count": 30,
   "id": "be5a8fee",
   "metadata": {},
   "outputs": [
    {
     "data": {
      "text/plain": [
       "14    884\n",
       "18    882\n",
       "13    874\n",
       "15    870\n",
       "17    868\n",
       "16    848\n",
       "Name: hora, dtype: int64"
      ]
     },
     "execution_count": 30,
     "metadata": {},
     "output_type": "execute_result"
    }
   ],
   "source": [
    "motos.hora.value_counts().head(6)"
   ]
  },
  {
   "cell_type": "markdown",
   "id": "96314135",
   "metadata": {},
   "source": [
    "LA PRIMER CAMPAÑA SERA APUNTADA A EL GRUPO ETAREO DE 25 A 35 AÑOS, Y SE MOSTRARA (en caso de tener limite horario) ENTRE LAS 13hs Y LAS 18hs"
   ]
  },
  {
   "cell_type": "markdown",
   "id": "8264818b",
   "metadata": {},
   "source": [
    "PARA LA SEGUNDA CAMPAÑA, BUSCO EN QUE COMUNA HAY (PORCENTUALMENTE) MAS SINIESTROS EN VERANO QUE EN INVIERNO. LUEGO DE OBTENER ESTA COMUNA, ESTUDIO EN QUE CALLE PONER LAS SEÑALES DE PREVENCIÓN"
   ]
  },
  {
   "cell_type": "code",
   "execution_count": 31,
   "id": "f9b4e0c2",
   "metadata": {
    "scrolled": true
   },
   "outputs": [
    {
     "name": "stderr",
     "output_type": "stream",
     "text": [
      "C:\\Users\\Seguridad\\AppData\\Local\\Temp\\ipykernel_12924\\2594668242.py:1: SettingWithCopyWarning: \n",
      "A value is trying to be set on a copy of a slice from a DataFrame.\n",
      "Try using .loc[row_indexer,col_indexer] = value instead\n",
      "\n",
      "See the caveats in the documentation: https://pandas.pydata.org/pandas-docs/stable/user_guide/indexing.html#returning-a-view-versus-a-copy\n",
      "  motos['cant'] = 1\n",
      "C:\\Users\\Seguridad\\AppData\\Local\\Temp\\ipykernel_12924\\2594668242.py:2: SettingWithCopyWarning: \n",
      "A value is trying to be set on a copy of a slice from a DataFrame.\n",
      "Try using .loc[row_indexer,col_indexer] = value instead\n",
      "\n",
      "See the caveats in the documentation: https://pandas.pydata.org/pandas-docs/stable/user_guide/indexing.html#returning-a-view-versus-a-copy\n",
      "  motos['verano'] = 0\n"
     ]
    }
   ],
   "source": [
    "motos['cant'] = 1\n",
    "motos['verano'] = 0\n",
    "motos.loc[motos.m<4, 'verano']=1"
   ]
  },
  {
   "cell_type": "code",
   "execution_count": 32,
   "id": "861322ef",
   "metadata": {},
   "outputs": [
    {
     "data": {
      "text/plain": [
       "0    9657\n",
       "1    3648\n",
       "Name: verano, dtype: int64"
      ]
     },
     "execution_count": 32,
     "metadata": {},
     "output_type": "execute_result"
    }
   ],
   "source": [
    "motos['verano'].value_counts()"
   ]
  },
  {
   "cell_type": "code",
   "execution_count": 75,
   "id": "eb96fd25",
   "metadata": {},
   "outputs": [
    {
     "data": {
      "text/html": [
       "<div>\n",
       "<style scoped>\n",
       "    .dataframe tbody tr th:only-of-type {\n",
       "        vertical-align: middle;\n",
       "    }\n",
       "\n",
       "    .dataframe tbody tr th {\n",
       "        vertical-align: top;\n",
       "    }\n",
       "\n",
       "    .dataframe thead th {\n",
       "        text-align: right;\n",
       "    }\n",
       "</style>\n",
       "<table border=\"1\" class=\"dataframe\">\n",
       "  <thead>\n",
       "    <tr style=\"text-align: right;\">\n",
       "      <th></th>\n",
       "      <th>comuna</th>\n",
       "      <th>verano</th>\n",
       "      <th>cant</th>\n",
       "    </tr>\n",
       "  </thead>\n",
       "  <tbody>\n",
       "    <tr>\n",
       "      <th>0</th>\n",
       "      <td>0</td>\n",
       "      <td>0</td>\n",
       "      <td>111.666667</td>\n",
       "    </tr>\n",
       "    <tr>\n",
       "      <th>1</th>\n",
       "      <td>0</td>\n",
       "      <td>1</td>\n",
       "      <td>126.000000</td>\n",
       "    </tr>\n",
       "    <tr>\n",
       "      <th>2</th>\n",
       "      <td>1</td>\n",
       "      <td>0</td>\n",
       "      <td>402.333333</td>\n",
       "    </tr>\n",
       "    <tr>\n",
       "      <th>3</th>\n",
       "      <td>1</td>\n",
       "      <td>1</td>\n",
       "      <td>461.000000</td>\n",
       "    </tr>\n",
       "  </tbody>\n",
       "</table>\n",
       "</div>"
      ],
      "text/plain": [
       "   comuna  verano        cant\n",
       "0       0       0  111.666667\n",
       "1       0       1  126.000000\n",
       "2       1       0  402.333333\n",
       "3       1       1  461.000000"
      ]
     },
     "execution_count": 75,
     "metadata": {},
     "output_type": "execute_result"
    }
   ],
   "source": [
    "motos_comuna = motos.groupby(['comuna','verano'])['cant'].sum().reset_index()\n",
    "motos_comuna.loc[motos_comuna.verano==0, 'cant'] = motos_comuna.cant/3\n",
    "motos_comuna.head(4)"
   ]
  },
  {
   "cell_type": "code",
   "execution_count": 76,
   "id": "8e071b1c",
   "metadata": {
    "scrolled": false
   },
   "outputs": [
    {
     "data": {
      "text/plain": [
       "<AxesSubplot:xlabel='comuna', ylabel='porcentaje_aumento_verano'>"
      ]
     },
     "execution_count": 76,
     "metadata": {},
     "output_type": "execute_result"
    },
    {
     "data": {
      "image/png": "[encoded data removed]",
      "text/plain": [
       "<Figure size 640x480 with 1 Axes>"
      ]
     },
     "metadata": {},
     "output_type": "display_data"
    }
   ],
   "source": [
    "def porcentajes_verano (numeros):\n",
    "    \n",
    "    return int(((numeros.iloc[1,1]) / (numeros.iloc[0,1]))*100 - 100)\n",
    "\n",
    "\n",
    "#voy a sacar cuanto sube el porcentaje de la cantidad de siniestros en verano, en comparación con \"no verano\"\n",
    "porcent_verano = motos_comuna.groupby('comuna')[['verano','cant']].apply(porcentajes_verano).reset_index()\n",
    "porcent_verano.columns = ['comuna','porcentaje_aumento_verano']\n",
    "porcent_verano = porcent_verano.sort_values(by='porcentaje_aumento_verano',ascending=False)\n",
    "sns.barplot(data=porcent_verano,x='comuna',y='porcentaje_aumento_verano')\n"
   ]
  },
  {
   "cell_type": "markdown",
   "id": "1b9e1eb1",
   "metadata": {},
   "source": [
    "VEO QUE EN LAS COMUNAS 3 y 8 AUMENTA SIGNIFICATIVAMENTE EL PORCENTAJE DE SINIESTROS EN LOS MESES 1, 2 y 3. POR ULTIMO VERE EN QUE CALLES DE ESTAS COMUNAS HAY MAS SINIESTROS EN ESTA EPOCA."
   ]
  },
  {
   "cell_type": "code",
   "execution_count": 85,
   "id": "9b7e19de",
   "metadata": {},
   "outputs": [
    {
     "data": {
      "text/plain": [
       "alberti               20\n",
       "sarmiento             18\n",
       "yrigoyen, hipolito    17\n",
       "pavon                 16\n",
       "mexico                14\n",
       "Name: calle1, dtype: int64"
      ]
     },
     "execution_count": 85,
     "metadata": {},
     "output_type": "execute_result"
    }
   ],
   "source": [
    "#SACO LAS AVENIDAS DEL ESTUDIO PORQUE APUNTO A PONER CARTELES EN CALLES, NO AVENIDAS\n",
    "comuna3 = motos.loc[(motos.tipo_calle=='calle') & (motos.comuna == 3)]\n",
    "comuna3.calle1.value_counts().head(5)"
   ]
  },
  {
   "cell_type": "markdown",
   "id": "63465c8c",
   "metadata": {},
   "source": [
    "CON ESTE RESULTADO, EN LA COMUNA 3, en las calles Alberti y Sarmiento, COLOCARIA CARTELES DE PREVENCIÓN EN EL MES DE DICIEMBRE Y LOS DEJARÍA POR 3 MESES. "
   ]
  },
  {
   "cell_type": "markdown",
   "id": "d9011a6f",
   "metadata": {},
   "source": [
    "FIN DE LA ENTREGA"
   ]
  }
 ],
 "metadata": {
  "kernelspec": {
   "display_name": "Python 3",
   "language": "python",
   "name": "python3"
  },
  "language_info": {
   "codemirror_mode": {
    "name": "ipython",
    "version": 3
   },
   "file_extension": ".py",
   "mimetype": "text/x-python",
   "name": "python",
   "nbconvert_exporter": "python",
   "pygments_lexer": "ipython3",
   "version": "3.10.9"
  }
 },
 "nbformat": 4,
 "nbformat_minor": 5
}
